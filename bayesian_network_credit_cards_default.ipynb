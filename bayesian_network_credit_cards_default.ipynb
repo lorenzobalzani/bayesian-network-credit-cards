{
  "nbformat": 4,
  "nbformat_minor": 0,
  "metadata": {
    "colab": {
      "provenance": [],
      "collapsed_sections": [
        "b6PmZJjzS4kN",
        "HJqvuPrNS9o7",
        "iu2JrRDkmSly",
        "rfxyLfwJD4NF",
        "u_NZMq0IFLLN",
        "VKu1kz41iFsJ",
        "UCWtVvwGiCWU",
        "9TLoUVx9Tf11"
      ],
      "toc_visible": true,
      "include_colab_link": true
    },
    "kernelspec": {
      "name": "python3",
      "display_name": "Python 3"
    },
    "language_info": {
      "name": "python"
    },
    "widgets": {
      "application/vnd.jupyter.widget-state+json": {
        "8c6e91a025574becaffaa5571e9e4d92": {
          "model_module": "@jupyter-widgets/controls",
          "model_name": "HBoxModel",
          "model_module_version": "1.5.0",
          "state": {
            "_dom_classes": [],
            "_model_module": "@jupyter-widgets/controls",
            "_model_module_version": "1.5.0",
            "_model_name": "HBoxModel",
            "_view_count": null,
            "_view_module": "@jupyter-widgets/controls",
            "_view_module_version": "1.5.0",
            "_view_name": "HBoxView",
            "box_style": "",
            "children": [
              "IPY_MODEL_49f48cb763c24207ac4e040f5ebe5e14",
              "IPY_MODEL_1a94b8fd791d4b7fa702f4503544b431",
              "IPY_MODEL_961a2a13b5dc4af9908dff0d9d1fb696"
            ],
            "layout": "IPY_MODEL_799a59d80f264de6a3b4ca407f253064"
          }
        },
        "49f48cb763c24207ac4e040f5ebe5e14": {
          "model_module": "@jupyter-widgets/controls",
          "model_name": "HTMLModel",
          "model_module_version": "1.5.0",
          "state": {
            "_dom_classes": [],
            "_model_module": "@jupyter-widgets/controls",
            "_model_module_version": "1.5.0",
            "_model_name": "HTMLModel",
            "_view_count": null,
            "_view_module": "@jupyter-widgets/controls",
            "_view_module_version": "1.5.0",
            "_view_name": "HTMLView",
            "description": "",
            "description_tooltip": null,
            "layout": "IPY_MODEL_fd599db887b9422696b96669cb552139",
            "placeholder": "​",
            "style": "IPY_MODEL_ad95d0c732f242b199dad295359f8d9c",
            "value": "Building tree: 100%"
          }
        },
        "1a94b8fd791d4b7fa702f4503544b431": {
          "model_module": "@jupyter-widgets/controls",
          "model_name": "FloatProgressModel",
          "model_module_version": "1.5.0",
          "state": {
            "_dom_classes": [],
            "_model_module": "@jupyter-widgets/controls",
            "_model_module_version": "1.5.0",
            "_model_name": "FloatProgressModel",
            "_view_count": null,
            "_view_module": "@jupyter-widgets/controls",
            "_view_module_version": "1.5.0",
            "_view_name": "ProgressView",
            "bar_style": "success",
            "description": "",
            "description_tooltip": null,
            "layout": "IPY_MODEL_8f5d941e6de14c59ba644c240e3f35ab",
            "max": 21,
            "min": 0,
            "orientation": "horizontal",
            "style": "IPY_MODEL_9fb3e1b220fa4a2283eddad4eacb231d",
            "value": 21
          }
        },
        "961a2a13b5dc4af9908dff0d9d1fb696": {
          "model_module": "@jupyter-widgets/controls",
          "model_name": "HTMLModel",
          "model_module_version": "1.5.0",
          "state": {
            "_dom_classes": [],
            "_model_module": "@jupyter-widgets/controls",
            "_model_module_version": "1.5.0",
            "_model_name": "HTMLModel",
            "_view_count": null,
            "_view_module": "@jupyter-widgets/controls",
            "_view_module_version": "1.5.0",
            "_view_name": "HTMLView",
            "description": "",
            "description_tooltip": null,
            "layout": "IPY_MODEL_5a8b0f0382aa4118a34a6f551ea6580a",
            "placeholder": "​",
            "style": "IPY_MODEL_2609bcf4031a410ea70260b1df62b338",
            "value": " 21/21.0 [00:01&lt;00:00, 14.30it/s]"
          }
        },
        "799a59d80f264de6a3b4ca407f253064": {
          "model_module": "@jupyter-widgets/base",
          "model_name": "LayoutModel",
          "model_module_version": "1.2.0",
          "state": {
            "_model_module": "@jupyter-widgets/base",
            "_model_module_version": "1.2.0",
            "_model_name": "LayoutModel",
            "_view_count": null,
            "_view_module": "@jupyter-widgets/base",
            "_view_module_version": "1.2.0",
            "_view_name": "LayoutView",
            "align_content": null,
            "align_items": null,
            "align_self": null,
            "border": null,
            "bottom": null,
            "display": null,
            "flex": null,
            "flex_flow": null,
            "grid_area": null,
            "grid_auto_columns": null,
            "grid_auto_flow": null,
            "grid_auto_rows": null,
            "grid_column": null,
            "grid_gap": null,
            "grid_row": null,
            "grid_template_areas": null,
            "grid_template_columns": null,
            "grid_template_rows": null,
            "height": null,
            "justify_content": null,
            "justify_items": null,
            "left": null,
            "margin": null,
            "max_height": null,
            "max_width": null,
            "min_height": null,
            "min_width": null,
            "object_fit": null,
            "object_position": null,
            "order": null,
            "overflow": null,
            "overflow_x": null,
            "overflow_y": null,
            "padding": null,
            "right": null,
            "top": null,
            "visibility": null,
            "width": null
          }
        },
        "fd599db887b9422696b96669cb552139": {
          "model_module": "@jupyter-widgets/base",
          "model_name": "LayoutModel",
          "model_module_version": "1.2.0",
          "state": {
            "_model_module": "@jupyter-widgets/base",
            "_model_module_version": "1.2.0",
            "_model_name": "LayoutModel",
            "_view_count": null,
            "_view_module": "@jupyter-widgets/base",
            "_view_module_version": "1.2.0",
            "_view_name": "LayoutView",
            "align_content": null,
            "align_items": null,
            "align_self": null,
            "border": null,
            "bottom": null,
            "display": null,
            "flex": null,
            "flex_flow": null,
            "grid_area": null,
            "grid_auto_columns": null,
            "grid_auto_flow": null,
            "grid_auto_rows": null,
            "grid_column": null,
            "grid_gap": null,
            "grid_row": null,
            "grid_template_areas": null,
            "grid_template_columns": null,
            "grid_template_rows": null,
            "height": null,
            "justify_content": null,
            "justify_items": null,
            "left": null,
            "margin": null,
            "max_height": null,
            "max_width": null,
            "min_height": null,
            "min_width": null,
            "object_fit": null,
            "object_position": null,
            "order": null,
            "overflow": null,
            "overflow_x": null,
            "overflow_y": null,
            "padding": null,
            "right": null,
            "top": null,
            "visibility": null,
            "width": null
          }
        },
        "ad95d0c732f242b199dad295359f8d9c": {
          "model_module": "@jupyter-widgets/controls",
          "model_name": "DescriptionStyleModel",
          "model_module_version": "1.5.0",
          "state": {
            "_model_module": "@jupyter-widgets/controls",
            "_model_module_version": "1.5.0",
            "_model_name": "DescriptionStyleModel",
            "_view_count": null,
            "_view_module": "@jupyter-widgets/base",
            "_view_module_version": "1.2.0",
            "_view_name": "StyleView",
            "description_width": ""
          }
        },
        "8f5d941e6de14c59ba644c240e3f35ab": {
          "model_module": "@jupyter-widgets/base",
          "model_name": "LayoutModel",
          "model_module_version": "1.2.0",
          "state": {
            "_model_module": "@jupyter-widgets/base",
            "_model_module_version": "1.2.0",
            "_model_name": "LayoutModel",
            "_view_count": null,
            "_view_module": "@jupyter-widgets/base",
            "_view_module_version": "1.2.0",
            "_view_name": "LayoutView",
            "align_content": null,
            "align_items": null,
            "align_self": null,
            "border": null,
            "bottom": null,
            "display": null,
            "flex": null,
            "flex_flow": null,
            "grid_area": null,
            "grid_auto_columns": null,
            "grid_auto_flow": null,
            "grid_auto_rows": null,
            "grid_column": null,
            "grid_gap": null,
            "grid_row": null,
            "grid_template_areas": null,
            "grid_template_columns": null,
            "grid_template_rows": null,
            "height": null,
            "justify_content": null,
            "justify_items": null,
            "left": null,
            "margin": null,
            "max_height": null,
            "max_width": null,
            "min_height": null,
            "min_width": null,
            "object_fit": null,
            "object_position": null,
            "order": null,
            "overflow": null,
            "overflow_x": null,
            "overflow_y": null,
            "padding": null,
            "right": null,
            "top": null,
            "visibility": null,
            "width": null
          }
        },
        "9fb3e1b220fa4a2283eddad4eacb231d": {
          "model_module": "@jupyter-widgets/controls",
          "model_name": "ProgressStyleModel",
          "model_module_version": "1.5.0",
          "state": {
            "_model_module": "@jupyter-widgets/controls",
            "_model_module_version": "1.5.0",
            "_model_name": "ProgressStyleModel",
            "_view_count": null,
            "_view_module": "@jupyter-widgets/base",
            "_view_module_version": "1.2.0",
            "_view_name": "StyleView",
            "bar_color": null,
            "description_width": ""
          }
        },
        "5a8b0f0382aa4118a34a6f551ea6580a": {
          "model_module": "@jupyter-widgets/base",
          "model_name": "LayoutModel",
          "model_module_version": "1.2.0",
          "state": {
            "_model_module": "@jupyter-widgets/base",
            "_model_module_version": "1.2.0",
            "_model_name": "LayoutModel",
            "_view_count": null,
            "_view_module": "@jupyter-widgets/base",
            "_view_module_version": "1.2.0",
            "_view_name": "LayoutView",
            "align_content": null,
            "align_items": null,
            "align_self": null,
            "border": null,
            "bottom": null,
            "display": null,
            "flex": null,
            "flex_flow": null,
            "grid_area": null,
            "grid_auto_columns": null,
            "grid_auto_flow": null,
            "grid_auto_rows": null,
            "grid_column": null,
            "grid_gap": null,
            "grid_row": null,
            "grid_template_areas": null,
            "grid_template_columns": null,
            "grid_template_rows": null,
            "height": null,
            "justify_content": null,
            "justify_items": null,
            "left": null,
            "margin": null,
            "max_height": null,
            "max_width": null,
            "min_height": null,
            "min_width": null,
            "object_fit": null,
            "object_position": null,
            "order": null,
            "overflow": null,
            "overflow_x": null,
            "overflow_y": null,
            "padding": null,
            "right": null,
            "top": null,
            "visibility": null,
            "width": null
          }
        },
        "2609bcf4031a410ea70260b1df62b338": {
          "model_module": "@jupyter-widgets/controls",
          "model_name": "DescriptionStyleModel",
          "model_module_version": "1.5.0",
          "state": {
            "_model_module": "@jupyter-widgets/controls",
            "_model_module_version": "1.5.0",
            "_model_name": "DescriptionStyleModel",
            "_view_count": null,
            "_view_module": "@jupyter-widgets/base",
            "_view_module_version": "1.2.0",
            "_view_name": "StyleView",
            "description_width": ""
          }
        },
        "88c017ec4ff94f2190a027bb28cc3ba2": {
          "model_module": "@jupyter-widgets/controls",
          "model_name": "HBoxModel",
          "model_module_version": "1.5.0",
          "state": {
            "_dom_classes": [],
            "_model_module": "@jupyter-widgets/controls",
            "_model_module_version": "1.5.0",
            "_model_name": "HBoxModel",
            "_view_count": null,
            "_view_module": "@jupyter-widgets/controls",
            "_view_module_version": "1.5.0",
            "_view_name": "HBoxView",
            "box_style": "",
            "children": [
              "IPY_MODEL_8e517a1cb5a341b6a0569bea96966c43",
              "IPY_MODEL_4dba4c5acd9c4d24bbefd71c218906ef",
              "IPY_MODEL_c14f54edd53a4f31a902a491b37db809"
            ],
            "layout": "IPY_MODEL_2e34b9bf6d6e4d429a3199c597bde99d"
          }
        },
        "8e517a1cb5a341b6a0569bea96966c43": {
          "model_module": "@jupyter-widgets/controls",
          "model_name": "HTMLModel",
          "model_module_version": "1.5.0",
          "state": {
            "_dom_classes": [],
            "_model_module": "@jupyter-widgets/controls",
            "_model_module_version": "1.5.0",
            "_model_name": "HTMLModel",
            "_view_count": null,
            "_view_module": "@jupyter-widgets/controls",
            "_view_module_version": "1.5.0",
            "_view_name": "HTMLView",
            "description": "",
            "description_tooltip": null,
            "layout": "IPY_MODEL_37dd985e5b694d40bbc7b85365854519",
            "placeholder": "​",
            "style": "IPY_MODEL_1d370ac21c1042cbb756eb26a99064e3",
            "value": "  0%"
          }
        },
        "4dba4c5acd9c4d24bbefd71c218906ef": {
          "model_module": "@jupyter-widgets/controls",
          "model_name": "FloatProgressModel",
          "model_module_version": "1.5.0",
          "state": {
            "_dom_classes": [],
            "_model_module": "@jupyter-widgets/controls",
            "_model_module_version": "1.5.0",
            "_model_name": "FloatProgressModel",
            "_view_count": null,
            "_view_module": "@jupyter-widgets/controls",
            "_view_module_version": "1.5.0",
            "_view_name": "ProgressView",
            "bar_style": "danger",
            "description": "",
            "description_tooltip": null,
            "layout": "IPY_MODEL_3791c2d1ef2844f6a95b3c25f862b2c0",
            "max": 1000000,
            "min": 0,
            "orientation": "horizontal",
            "style": "IPY_MODEL_68a5544ac8a94ce0af81ca6d37da806b",
            "value": 13
          }
        },
        "c14f54edd53a4f31a902a491b37db809": {
          "model_module": "@jupyter-widgets/controls",
          "model_name": "HTMLModel",
          "model_module_version": "1.5.0",
          "state": {
            "_dom_classes": [],
            "_model_module": "@jupyter-widgets/controls",
            "_model_module_version": "1.5.0",
            "_model_name": "HTMLModel",
            "_view_count": null,
            "_view_module": "@jupyter-widgets/controls",
            "_view_module_version": "1.5.0",
            "_view_name": "HTMLView",
            "description": "",
            "description_tooltip": null,
            "layout": "IPY_MODEL_83426cb278824d2f9600cadf7195e9e7",
            "placeholder": "​",
            "style": "IPY_MODEL_73c5ccc60f9b46aab38ca2525c8f9f1d",
            "value": " 13/1000000 [00:03&lt;50:13:32,  5.53it/s]"
          }
        },
        "2e34b9bf6d6e4d429a3199c597bde99d": {
          "model_module": "@jupyter-widgets/base",
          "model_name": "LayoutModel",
          "model_module_version": "1.2.0",
          "state": {
            "_model_module": "@jupyter-widgets/base",
            "_model_module_version": "1.2.0",
            "_model_name": "LayoutModel",
            "_view_count": null,
            "_view_module": "@jupyter-widgets/base",
            "_view_module_version": "1.2.0",
            "_view_name": "LayoutView",
            "align_content": null,
            "align_items": null,
            "align_self": null,
            "border": null,
            "bottom": null,
            "display": null,
            "flex": null,
            "flex_flow": null,
            "grid_area": null,
            "grid_auto_columns": null,
            "grid_auto_flow": null,
            "grid_auto_rows": null,
            "grid_column": null,
            "grid_gap": null,
            "grid_row": null,
            "grid_template_areas": null,
            "grid_template_columns": null,
            "grid_template_rows": null,
            "height": null,
            "justify_content": null,
            "justify_items": null,
            "left": null,
            "margin": null,
            "max_height": null,
            "max_width": null,
            "min_height": null,
            "min_width": null,
            "object_fit": null,
            "object_position": null,
            "order": null,
            "overflow": null,
            "overflow_x": null,
            "overflow_y": null,
            "padding": null,
            "right": null,
            "top": null,
            "visibility": null,
            "width": null
          }
        },
        "37dd985e5b694d40bbc7b85365854519": {
          "model_module": "@jupyter-widgets/base",
          "model_name": "LayoutModel",
          "model_module_version": "1.2.0",
          "state": {
            "_model_module": "@jupyter-widgets/base",
            "_model_module_version": "1.2.0",
            "_model_name": "LayoutModel",
            "_view_count": null,
            "_view_module": "@jupyter-widgets/base",
            "_view_module_version": "1.2.0",
            "_view_name": "LayoutView",
            "align_content": null,
            "align_items": null,
            "align_self": null,
            "border": null,
            "bottom": null,
            "display": null,
            "flex": null,
            "flex_flow": null,
            "grid_area": null,
            "grid_auto_columns": null,
            "grid_auto_flow": null,
            "grid_auto_rows": null,
            "grid_column": null,
            "grid_gap": null,
            "grid_row": null,
            "grid_template_areas": null,
            "grid_template_columns": null,
            "grid_template_rows": null,
            "height": null,
            "justify_content": null,
            "justify_items": null,
            "left": null,
            "margin": null,
            "max_height": null,
            "max_width": null,
            "min_height": null,
            "min_width": null,
            "object_fit": null,
            "object_position": null,
            "order": null,
            "overflow": null,
            "overflow_x": null,
            "overflow_y": null,
            "padding": null,
            "right": null,
            "top": null,
            "visibility": null,
            "width": null
          }
        },
        "1d370ac21c1042cbb756eb26a99064e3": {
          "model_module": "@jupyter-widgets/controls",
          "model_name": "DescriptionStyleModel",
          "model_module_version": "1.5.0",
          "state": {
            "_model_module": "@jupyter-widgets/controls",
            "_model_module_version": "1.5.0",
            "_model_name": "DescriptionStyleModel",
            "_view_count": null,
            "_view_module": "@jupyter-widgets/base",
            "_view_module_version": "1.2.0",
            "_view_name": "StyleView",
            "description_width": ""
          }
        },
        "3791c2d1ef2844f6a95b3c25f862b2c0": {
          "model_module": "@jupyter-widgets/base",
          "model_name": "LayoutModel",
          "model_module_version": "1.2.0",
          "state": {
            "_model_module": "@jupyter-widgets/base",
            "_model_module_version": "1.2.0",
            "_model_name": "LayoutModel",
            "_view_count": null,
            "_view_module": "@jupyter-widgets/base",
            "_view_module_version": "1.2.0",
            "_view_name": "LayoutView",
            "align_content": null,
            "align_items": null,
            "align_self": null,
            "border": null,
            "bottom": null,
            "display": null,
            "flex": null,
            "flex_flow": null,
            "grid_area": null,
            "grid_auto_columns": null,
            "grid_auto_flow": null,
            "grid_auto_rows": null,
            "grid_column": null,
            "grid_gap": null,
            "grid_row": null,
            "grid_template_areas": null,
            "grid_template_columns": null,
            "grid_template_rows": null,
            "height": null,
            "justify_content": null,
            "justify_items": null,
            "left": null,
            "margin": null,
            "max_height": null,
            "max_width": null,
            "min_height": null,
            "min_width": null,
            "object_fit": null,
            "object_position": null,
            "order": null,
            "overflow": null,
            "overflow_x": null,
            "overflow_y": null,
            "padding": null,
            "right": null,
            "top": null,
            "visibility": null,
            "width": null
          }
        },
        "68a5544ac8a94ce0af81ca6d37da806b": {
          "model_module": "@jupyter-widgets/controls",
          "model_name": "ProgressStyleModel",
          "model_module_version": "1.5.0",
          "state": {
            "_model_module": "@jupyter-widgets/controls",
            "_model_module_version": "1.5.0",
            "_model_name": "ProgressStyleModel",
            "_view_count": null,
            "_view_module": "@jupyter-widgets/base",
            "_view_module_version": "1.2.0",
            "_view_name": "StyleView",
            "bar_color": null,
            "description_width": ""
          }
        },
        "83426cb278824d2f9600cadf7195e9e7": {
          "model_module": "@jupyter-widgets/base",
          "model_name": "LayoutModel",
          "model_module_version": "1.2.0",
          "state": {
            "_model_module": "@jupyter-widgets/base",
            "_model_module_version": "1.2.0",
            "_model_name": "LayoutModel",
            "_view_count": null,
            "_view_module": "@jupyter-widgets/base",
            "_view_module_version": "1.2.0",
            "_view_name": "LayoutView",
            "align_content": null,
            "align_items": null,
            "align_self": null,
            "border": null,
            "bottom": null,
            "display": null,
            "flex": null,
            "flex_flow": null,
            "grid_area": null,
            "grid_auto_columns": null,
            "grid_auto_flow": null,
            "grid_auto_rows": null,
            "grid_column": null,
            "grid_gap": null,
            "grid_row": null,
            "grid_template_areas": null,
            "grid_template_columns": null,
            "grid_template_rows": null,
            "height": null,
            "justify_content": null,
            "justify_items": null,
            "left": null,
            "margin": null,
            "max_height": null,
            "max_width": null,
            "min_height": null,
            "min_width": null,
            "object_fit": null,
            "object_position": null,
            "order": null,
            "overflow": null,
            "overflow_x": null,
            "overflow_y": null,
            "padding": null,
            "right": null,
            "top": null,
            "visibility": null,
            "width": null
          }
        },
        "73c5ccc60f9b46aab38ca2525c8f9f1d": {
          "model_module": "@jupyter-widgets/controls",
          "model_name": "DescriptionStyleModel",
          "model_module_version": "1.5.0",
          "state": {
            "_model_module": "@jupyter-widgets/controls",
            "_model_module_version": "1.5.0",
            "_model_name": "DescriptionStyleModel",
            "_view_count": null,
            "_view_module": "@jupyter-widgets/base",
            "_view_module_version": "1.2.0",
            "_view_name": "StyleView",
            "description_width": ""
          }
        },
        "fc1481055abd42a3b7b0da97e35db488": {
          "model_module": "@jupyter-widgets/controls",
          "model_name": "HBoxModel",
          "model_module_version": "1.5.0",
          "state": {
            "_dom_classes": [],
            "_model_module": "@jupyter-widgets/controls",
            "_model_module_version": "1.5.0",
            "_model_name": "HBoxModel",
            "_view_count": null,
            "_view_module": "@jupyter-widgets/controls",
            "_view_module_version": "1.5.0",
            "_view_name": "HBoxView",
            "box_style": "",
            "children": [
              "IPY_MODEL_472ca8bd3930477089ac164b93675082",
              "IPY_MODEL_8b017d92951b42519afbac35c185fabe",
              "IPY_MODEL_af909a97882b4b23bd29ddb69314a60e"
            ],
            "layout": "IPY_MODEL_53d1aefcd3b04ab69913f6726bc4ca08"
          }
        },
        "472ca8bd3930477089ac164b93675082": {
          "model_module": "@jupyter-widgets/controls",
          "model_name": "HTMLModel",
          "model_module_version": "1.5.0",
          "state": {
            "_dom_classes": [],
            "_model_module": "@jupyter-widgets/controls",
            "_model_module_version": "1.5.0",
            "_model_name": "HTMLModel",
            "_view_count": null,
            "_view_module": "@jupyter-widgets/controls",
            "_view_module_version": "1.5.0",
            "_view_name": "HTMLView",
            "description": "",
            "description_tooltip": null,
            "layout": "IPY_MODEL_6894642e00f44c5baceb007269def9f2",
            "placeholder": "​",
            "style": "IPY_MODEL_cf943733b6504c8fb2c07cb25132cbe1",
            "value": "  0%"
          }
        },
        "8b017d92951b42519afbac35c185fabe": {
          "model_module": "@jupyter-widgets/controls",
          "model_name": "FloatProgressModel",
          "model_module_version": "1.5.0",
          "state": {
            "_dom_classes": [],
            "_model_module": "@jupyter-widgets/controls",
            "_model_module_version": "1.5.0",
            "_model_name": "FloatProgressModel",
            "_view_count": null,
            "_view_module": "@jupyter-widgets/controls",
            "_view_module_version": "1.5.0",
            "_view_name": "ProgressView",
            "bar_style": "danger",
            "description": "",
            "description_tooltip": null,
            "layout": "IPY_MODEL_b217be54196b433a97c19af40e90842b",
            "max": 1000000,
            "min": 0,
            "orientation": "horizontal",
            "style": "IPY_MODEL_75395e04640244f0906fd163b39a49c5",
            "value": 9
          }
        },
        "af909a97882b4b23bd29ddb69314a60e": {
          "model_module": "@jupyter-widgets/controls",
          "model_name": "HTMLModel",
          "model_module_version": "1.5.0",
          "state": {
            "_dom_classes": [],
            "_model_module": "@jupyter-widgets/controls",
            "_model_module_version": "1.5.0",
            "_model_name": "HTMLModel",
            "_view_count": null,
            "_view_module": "@jupyter-widgets/controls",
            "_view_module_version": "1.5.0",
            "_view_name": "HTMLView",
            "description": "",
            "description_tooltip": null,
            "layout": "IPY_MODEL_b21303934d2c463f9af991d468b046f3",
            "placeholder": "​",
            "style": "IPY_MODEL_30c8fc2404864c2e9728b44e8902ef3d",
            "value": " 9/1000000 [00:02&lt;43:28:26,  6.39it/s]"
          }
        },
        "53d1aefcd3b04ab69913f6726bc4ca08": {
          "model_module": "@jupyter-widgets/base",
          "model_name": "LayoutModel",
          "model_module_version": "1.2.0",
          "state": {
            "_model_module": "@jupyter-widgets/base",
            "_model_module_version": "1.2.0",
            "_model_name": "LayoutModel",
            "_view_count": null,
            "_view_module": "@jupyter-widgets/base",
            "_view_module_version": "1.2.0",
            "_view_name": "LayoutView",
            "align_content": null,
            "align_items": null,
            "align_self": null,
            "border": null,
            "bottom": null,
            "display": null,
            "flex": null,
            "flex_flow": null,
            "grid_area": null,
            "grid_auto_columns": null,
            "grid_auto_flow": null,
            "grid_auto_rows": null,
            "grid_column": null,
            "grid_gap": null,
            "grid_row": null,
            "grid_template_areas": null,
            "grid_template_columns": null,
            "grid_template_rows": null,
            "height": null,
            "justify_content": null,
            "justify_items": null,
            "left": null,
            "margin": null,
            "max_height": null,
            "max_width": null,
            "min_height": null,
            "min_width": null,
            "object_fit": null,
            "object_position": null,
            "order": null,
            "overflow": null,
            "overflow_x": null,
            "overflow_y": null,
            "padding": null,
            "right": null,
            "top": null,
            "visibility": null,
            "width": null
          }
        },
        "6894642e00f44c5baceb007269def9f2": {
          "model_module": "@jupyter-widgets/base",
          "model_name": "LayoutModel",
          "model_module_version": "1.2.0",
          "state": {
            "_model_module": "@jupyter-widgets/base",
            "_model_module_version": "1.2.0",
            "_model_name": "LayoutModel",
            "_view_count": null,
            "_view_module": "@jupyter-widgets/base",
            "_view_module_version": "1.2.0",
            "_view_name": "LayoutView",
            "align_content": null,
            "align_items": null,
            "align_self": null,
            "border": null,
            "bottom": null,
            "display": null,
            "flex": null,
            "flex_flow": null,
            "grid_area": null,
            "grid_auto_columns": null,
            "grid_auto_flow": null,
            "grid_auto_rows": null,
            "grid_column": null,
            "grid_gap": null,
            "grid_row": null,
            "grid_template_areas": null,
            "grid_template_columns": null,
            "grid_template_rows": null,
            "height": null,
            "justify_content": null,
            "justify_items": null,
            "left": null,
            "margin": null,
            "max_height": null,
            "max_width": null,
            "min_height": null,
            "min_width": null,
            "object_fit": null,
            "object_position": null,
            "order": null,
            "overflow": null,
            "overflow_x": null,
            "overflow_y": null,
            "padding": null,
            "right": null,
            "top": null,
            "visibility": null,
            "width": null
          }
        },
        "cf943733b6504c8fb2c07cb25132cbe1": {
          "model_module": "@jupyter-widgets/controls",
          "model_name": "DescriptionStyleModel",
          "model_module_version": "1.5.0",
          "state": {
            "_model_module": "@jupyter-widgets/controls",
            "_model_module_version": "1.5.0",
            "_model_name": "DescriptionStyleModel",
            "_view_count": null,
            "_view_module": "@jupyter-widgets/base",
            "_view_module_version": "1.2.0",
            "_view_name": "StyleView",
            "description_width": ""
          }
        },
        "b217be54196b433a97c19af40e90842b": {
          "model_module": "@jupyter-widgets/base",
          "model_name": "LayoutModel",
          "model_module_version": "1.2.0",
          "state": {
            "_model_module": "@jupyter-widgets/base",
            "_model_module_version": "1.2.0",
            "_model_name": "LayoutModel",
            "_view_count": null,
            "_view_module": "@jupyter-widgets/base",
            "_view_module_version": "1.2.0",
            "_view_name": "LayoutView",
            "align_content": null,
            "align_items": null,
            "align_self": null,
            "border": null,
            "bottom": null,
            "display": null,
            "flex": null,
            "flex_flow": null,
            "grid_area": null,
            "grid_auto_columns": null,
            "grid_auto_flow": null,
            "grid_auto_rows": null,
            "grid_column": null,
            "grid_gap": null,
            "grid_row": null,
            "grid_template_areas": null,
            "grid_template_columns": null,
            "grid_template_rows": null,
            "height": null,
            "justify_content": null,
            "justify_items": null,
            "left": null,
            "margin": null,
            "max_height": null,
            "max_width": null,
            "min_height": null,
            "min_width": null,
            "object_fit": null,
            "object_position": null,
            "order": null,
            "overflow": null,
            "overflow_x": null,
            "overflow_y": null,
            "padding": null,
            "right": null,
            "top": null,
            "visibility": null,
            "width": null
          }
        },
        "75395e04640244f0906fd163b39a49c5": {
          "model_module": "@jupyter-widgets/controls",
          "model_name": "ProgressStyleModel",
          "model_module_version": "1.5.0",
          "state": {
            "_model_module": "@jupyter-widgets/controls",
            "_model_module_version": "1.5.0",
            "_model_name": "ProgressStyleModel",
            "_view_count": null,
            "_view_module": "@jupyter-widgets/base",
            "_view_module_version": "1.2.0",
            "_view_name": "StyleView",
            "bar_color": null,
            "description_width": ""
          }
        },
        "b21303934d2c463f9af991d468b046f3": {
          "model_module": "@jupyter-widgets/base",
          "model_name": "LayoutModel",
          "model_module_version": "1.2.0",
          "state": {
            "_model_module": "@jupyter-widgets/base",
            "_model_module_version": "1.2.0",
            "_model_name": "LayoutModel",
            "_view_count": null,
            "_view_module": "@jupyter-widgets/base",
            "_view_module_version": "1.2.0",
            "_view_name": "LayoutView",
            "align_content": null,
            "align_items": null,
            "align_self": null,
            "border": null,
            "bottom": null,
            "display": null,
            "flex": null,
            "flex_flow": null,
            "grid_area": null,
            "grid_auto_columns": null,
            "grid_auto_flow": null,
            "grid_auto_rows": null,
            "grid_column": null,
            "grid_gap": null,
            "grid_row": null,
            "grid_template_areas": null,
            "grid_template_columns": null,
            "grid_template_rows": null,
            "height": null,
            "justify_content": null,
            "justify_items": null,
            "left": null,
            "margin": null,
            "max_height": null,
            "max_width": null,
            "min_height": null,
            "min_width": null,
            "object_fit": null,
            "object_position": null,
            "order": null,
            "overflow": null,
            "overflow_x": null,
            "overflow_y": null,
            "padding": null,
            "right": null,
            "top": null,
            "visibility": null,
            "width": null
          }
        },
        "30c8fc2404864c2e9728b44e8902ef3d": {
          "model_module": "@jupyter-widgets/controls",
          "model_name": "DescriptionStyleModel",
          "model_module_version": "1.5.0",
          "state": {
            "_model_module": "@jupyter-widgets/controls",
            "_model_module_version": "1.5.0",
            "_model_name": "DescriptionStyleModel",
            "_view_count": null,
            "_view_module": "@jupyter-widgets/base",
            "_view_module_version": "1.2.0",
            "_view_name": "StyleView",
            "description_width": ""
          }
        }
      }
    }
  },
  "cells": [
    {
      "cell_type": "markdown",
      "metadata": {
        "id": "view-in-github",
        "colab_type": "text"
      },
      "source": [
        "<a href=\"https://colab.research.google.com/github/lorenzobalzani/bayesian-network-credit-cards/blob/master/bayesian_network_credit_cards_default.ipynb\" target=\"_parent\"><img src=\"https://colab.research.google.com/assets/colab-badge.svg\" alt=\"Open In Colab\"/></a>"
      ]
    },
    {
      "cell_type": "markdown",
      "source": [
        "# Bayesian Networks for probabilistic reasoning over credit cards' default\n",
        "## Project report for the Fundamentals of AI and KR course - module 3\n",
        "### Authors: [**Lorenzo Balzani**](mailto:lorenzo.balzani@studio.unibo.it) and [**Thomas Guizzetti**](mailto:thomas.guizzetti@studio.unibo.it)\n",
        "\n",
        "# Abstract\n",
        "TODO"
      ],
      "metadata": {
        "id": "wutYO5JzDEID"
      }
    },
    {
      "cell_type": "markdown",
      "source": [
        "# Setup"
      ],
      "metadata": {
        "id": "DiZNkPEHDbXz"
      }
    },
    {
      "cell_type": "markdown",
      "source": [
        "## Requirements"
      ],
      "metadata": {
        "id": "b6PmZJjzS4kN"
      }
    },
    {
      "cell_type": "code",
      "source": [
        "!pip install -q pandas numpy pgmpy"
      ],
      "metadata": {
        "id": "csUwu-Tt3M4g",
        "colab": {
          "base_uri": "https://localhost:8080/"
        },
        "outputId": "7677db13-e8eb-4d69-b595-b45b71dbbe8d"
      },
      "execution_count": 2,
      "outputs": [
        {
          "output_type": "stream",
          "name": "stdout",
          "text": [
            "\u001b[?25l\r\u001b[K     |▏                               | 10 kB 23.9 MB/s eta 0:00:01\r\u001b[K     |▍                               | 20 kB 6.5 MB/s eta 0:00:01\r\u001b[K     |▌                               | 30 kB 9.1 MB/s eta 0:00:01\r\u001b[K     |▊                               | 40 kB 4.5 MB/s eta 0:00:01\r\u001b[K     |▉                               | 51 kB 4.3 MB/s eta 0:00:01\r\u001b[K     |█                               | 61 kB 5.0 MB/s eta 0:00:01\r\u001b[K     |█▏                              | 71 kB 5.7 MB/s eta 0:00:01\r\u001b[K     |█▍                              | 81 kB 6.4 MB/s eta 0:00:01\r\u001b[K     |█▌                              | 92 kB 6.5 MB/s eta 0:00:01\r\u001b[K     |█▊                              | 102 kB 4.8 MB/s eta 0:00:01\r\u001b[K     |█▉                              | 112 kB 4.8 MB/s eta 0:00:01\r\u001b[K     |██                              | 122 kB 4.8 MB/s eta 0:00:01\r\u001b[K     |██▏                             | 133 kB 4.8 MB/s eta 0:00:01\r\u001b[K     |██▍                             | 143 kB 4.8 MB/s eta 0:00:01\r\u001b[K     |██▌                             | 153 kB 4.8 MB/s eta 0:00:01\r\u001b[K     |██▊                             | 163 kB 4.8 MB/s eta 0:00:01\r\u001b[K     |███                             | 174 kB 4.8 MB/s eta 0:00:01\r\u001b[K     |███                             | 184 kB 4.8 MB/s eta 0:00:01\r\u001b[K     |███▎                            | 194 kB 4.8 MB/s eta 0:00:01\r\u001b[K     |███▍                            | 204 kB 4.8 MB/s eta 0:00:01\r\u001b[K     |███▋                            | 215 kB 4.8 MB/s eta 0:00:01\r\u001b[K     |███▊                            | 225 kB 4.8 MB/s eta 0:00:01\r\u001b[K     |████                            | 235 kB 4.8 MB/s eta 0:00:01\r\u001b[K     |████                            | 245 kB 4.8 MB/s eta 0:00:01\r\u001b[K     |████▎                           | 256 kB 4.8 MB/s eta 0:00:01\r\u001b[K     |████▍                           | 266 kB 4.8 MB/s eta 0:00:01\r\u001b[K     |████▋                           | 276 kB 4.8 MB/s eta 0:00:01\r\u001b[K     |████▊                           | 286 kB 4.8 MB/s eta 0:00:01\r\u001b[K     |█████                           | 296 kB 4.8 MB/s eta 0:00:01\r\u001b[K     |█████                           | 307 kB 4.8 MB/s eta 0:00:01\r\u001b[K     |█████▎                          | 317 kB 4.8 MB/s eta 0:00:01\r\u001b[K     |█████▌                          | 327 kB 4.8 MB/s eta 0:00:01\r\u001b[K     |█████▋                          | 337 kB 4.8 MB/s eta 0:00:01\r\u001b[K     |█████▉                          | 348 kB 4.8 MB/s eta 0:00:01\r\u001b[K     |██████                          | 358 kB 4.8 MB/s eta 0:00:01\r\u001b[K     |██████▏                         | 368 kB 4.8 MB/s eta 0:00:01\r\u001b[K     |██████▎                         | 378 kB 4.8 MB/s eta 0:00:01\r\u001b[K     |██████▌                         | 389 kB 4.8 MB/s eta 0:00:01\r\u001b[K     |██████▋                         | 399 kB 4.8 MB/s eta 0:00:01\r\u001b[K     |██████▉                         | 409 kB 4.8 MB/s eta 0:00:01\r\u001b[K     |███████                         | 419 kB 4.8 MB/s eta 0:00:01\r\u001b[K     |███████▏                        | 430 kB 4.8 MB/s eta 0:00:01\r\u001b[K     |███████▎                        | 440 kB 4.8 MB/s eta 0:00:01\r\u001b[K     |███████▌                        | 450 kB 4.8 MB/s eta 0:00:01\r\u001b[K     |███████▋                        | 460 kB 4.8 MB/s eta 0:00:01\r\u001b[K     |███████▉                        | 471 kB 4.8 MB/s eta 0:00:01\r\u001b[K     |████████                        | 481 kB 4.8 MB/s eta 0:00:01\r\u001b[K     |████████▏                       | 491 kB 4.8 MB/s eta 0:00:01\r\u001b[K     |████████▍                       | 501 kB 4.8 MB/s eta 0:00:01\r\u001b[K     |████████▌                       | 512 kB 4.8 MB/s eta 0:00:01\r\u001b[K     |████████▊                       | 522 kB 4.8 MB/s eta 0:00:01\r\u001b[K     |████████▉                       | 532 kB 4.8 MB/s eta 0:00:01\r\u001b[K     |█████████                       | 542 kB 4.8 MB/s eta 0:00:01\r\u001b[K     |█████████▏                      | 552 kB 4.8 MB/s eta 0:00:01\r\u001b[K     |█████████▍                      | 563 kB 4.8 MB/s eta 0:00:01\r\u001b[K     |█████████▌                      | 573 kB 4.8 MB/s eta 0:00:01\r\u001b[K     |█████████▊                      | 583 kB 4.8 MB/s eta 0:00:01\r\u001b[K     |█████████▉                      | 593 kB 4.8 MB/s eta 0:00:01\r\u001b[K     |██████████                      | 604 kB 4.8 MB/s eta 0:00:01\r\u001b[K     |██████████▏                     | 614 kB 4.8 MB/s eta 0:00:01\r\u001b[K     |██████████▍                     | 624 kB 4.8 MB/s eta 0:00:01\r\u001b[K     |██████████▋                     | 634 kB 4.8 MB/s eta 0:00:01\r\u001b[K     |██████████▊                     | 645 kB 4.8 MB/s eta 0:00:01\r\u001b[K     |███████████                     | 655 kB 4.8 MB/s eta 0:00:01\r\u001b[K     |███████████                     | 665 kB 4.8 MB/s eta 0:00:01\r\u001b[K     |███████████▎                    | 675 kB 4.8 MB/s eta 0:00:01\r\u001b[K     |███████████▍                    | 686 kB 4.8 MB/s eta 0:00:01\r\u001b[K     |███████████▋                    | 696 kB 4.8 MB/s eta 0:00:01\r\u001b[K     |███████████▊                    | 706 kB 4.8 MB/s eta 0:00:01\r\u001b[K     |████████████                    | 716 kB 4.8 MB/s eta 0:00:01\r\u001b[K     |████████████                    | 727 kB 4.8 MB/s eta 0:00:01\r\u001b[K     |████████████▎                   | 737 kB 4.8 MB/s eta 0:00:01\r\u001b[K     |████████████▍                   | 747 kB 4.8 MB/s eta 0:00:01\r\u001b[K     |████████████▋                   | 757 kB 4.8 MB/s eta 0:00:01\r\u001b[K     |████████████▊                   | 768 kB 4.8 MB/s eta 0:00:01\r\u001b[K     |█████████████                   | 778 kB 4.8 MB/s eta 0:00:01\r\u001b[K     |█████████████▏                  | 788 kB 4.8 MB/s eta 0:00:01\r\u001b[K     |█████████████▎                  | 798 kB 4.8 MB/s eta 0:00:01\r\u001b[K     |█████████████▌                  | 808 kB 4.8 MB/s eta 0:00:01\r\u001b[K     |█████████████▋                  | 819 kB 4.8 MB/s eta 0:00:01\r\u001b[K     |█████████████▉                  | 829 kB 4.8 MB/s eta 0:00:01\r\u001b[K     |██████████████                  | 839 kB 4.8 MB/s eta 0:00:01\r\u001b[K     |██████████████▏                 | 849 kB 4.8 MB/s eta 0:00:01\r\u001b[K     |██████████████▎                 | 860 kB 4.8 MB/s eta 0:00:01\r\u001b[K     |██████████████▌                 | 870 kB 4.8 MB/s eta 0:00:01\r\u001b[K     |██████████████▋                 | 880 kB 4.8 MB/s eta 0:00:01\r\u001b[K     |██████████████▉                 | 890 kB 4.8 MB/s eta 0:00:01\r\u001b[K     |███████████████                 | 901 kB 4.8 MB/s eta 0:00:01\r\u001b[K     |███████████████▏                | 911 kB 4.8 MB/s eta 0:00:01\r\u001b[K     |███████████████▎                | 921 kB 4.8 MB/s eta 0:00:01\r\u001b[K     |███████████████▌                | 931 kB 4.8 MB/s eta 0:00:01\r\u001b[K     |███████████████▊                | 942 kB 4.8 MB/s eta 0:00:01\r\u001b[K     |███████████████▉                | 952 kB 4.8 MB/s eta 0:00:01\r\u001b[K     |████████████████                | 962 kB 4.8 MB/s eta 0:00:01\r\u001b[K     |████████████████▏               | 972 kB 4.8 MB/s eta 0:00:01\r\u001b[K     |████████████████▍               | 983 kB 4.8 MB/s eta 0:00:01\r\u001b[K     |████████████████▌               | 993 kB 4.8 MB/s eta 0:00:01\r\u001b[K     |████████████████▊               | 1.0 MB 4.8 MB/s eta 0:00:01\r\u001b[K     |████████████████▉               | 1.0 MB 4.8 MB/s eta 0:00:01\r\u001b[K     |█████████████████               | 1.0 MB 4.8 MB/s eta 0:00:01\r\u001b[K     |█████████████████▏              | 1.0 MB 4.8 MB/s eta 0:00:01\r\u001b[K     |█████████████████▍              | 1.0 MB 4.8 MB/s eta 0:00:01\r\u001b[K     |█████████████████▌              | 1.1 MB 4.8 MB/s eta 0:00:01\r\u001b[K     |█████████████████▊              | 1.1 MB 4.8 MB/s eta 0:00:01\r\u001b[K     |█████████████████▉              | 1.1 MB 4.8 MB/s eta 0:00:01\r\u001b[K     |██████████████████              | 1.1 MB 4.8 MB/s eta 0:00:01\r\u001b[K     |██████████████████▎             | 1.1 MB 4.8 MB/s eta 0:00:01\r\u001b[K     |██████████████████▍             | 1.1 MB 4.8 MB/s eta 0:00:01\r\u001b[K     |██████████████████▋             | 1.1 MB 4.8 MB/s eta 0:00:01\r\u001b[K     |██████████████████▊             | 1.1 MB 4.8 MB/s eta 0:00:01\r\u001b[K     |███████████████████             | 1.1 MB 4.8 MB/s eta 0:00:01\r\u001b[K     |███████████████████             | 1.1 MB 4.8 MB/s eta 0:00:01\r\u001b[K     |███████████████████▎            | 1.2 MB 4.8 MB/s eta 0:00:01\r\u001b[K     |███████████████████▍            | 1.2 MB 4.8 MB/s eta 0:00:01\r\u001b[K     |███████████████████▋            | 1.2 MB 4.8 MB/s eta 0:00:01\r\u001b[K     |███████████████████▊            | 1.2 MB 4.8 MB/s eta 0:00:01\r\u001b[K     |████████████████████            | 1.2 MB 4.8 MB/s eta 0:00:01\r\u001b[K     |████████████████████            | 1.2 MB 4.8 MB/s eta 0:00:01\r\u001b[K     |████████████████████▎           | 1.2 MB 4.8 MB/s eta 0:00:01\r\u001b[K     |████████████████████▍           | 1.2 MB 4.8 MB/s eta 0:00:01\r\u001b[K     |████████████████████▋           | 1.2 MB 4.8 MB/s eta 0:00:01\r\u001b[K     |████████████████████▉           | 1.2 MB 4.8 MB/s eta 0:00:01\r\u001b[K     |█████████████████████           | 1.3 MB 4.8 MB/s eta 0:00:01\r\u001b[K     |█████████████████████▏          | 1.3 MB 4.8 MB/s eta 0:00:01\r\u001b[K     |█████████████████████▎          | 1.3 MB 4.8 MB/s eta 0:00:01\r\u001b[K     |█████████████████████▌          | 1.3 MB 4.8 MB/s eta 0:00:01\r\u001b[K     |█████████████████████▋          | 1.3 MB 4.8 MB/s eta 0:00:01\r\u001b[K     |█████████████████████▉          | 1.3 MB 4.8 MB/s eta 0:00:01\r\u001b[K     |██████████████████████          | 1.3 MB 4.8 MB/s eta 0:00:01\r\u001b[K     |██████████████████████▏         | 1.3 MB 4.8 MB/s eta 0:00:01\r\u001b[K     |██████████████████████▎         | 1.3 MB 4.8 MB/s eta 0:00:01\r\u001b[K     |██████████████████████▌         | 1.4 MB 4.8 MB/s eta 0:00:01\r\u001b[K     |██████████████████████▋         | 1.4 MB 4.8 MB/s eta 0:00:01\r\u001b[K     |██████████████████████▉         | 1.4 MB 4.8 MB/s eta 0:00:01\r\u001b[K     |███████████████████████         | 1.4 MB 4.8 MB/s eta 0:00:01\r\u001b[K     |███████████████████████▏        | 1.4 MB 4.8 MB/s eta 0:00:01\r\u001b[K     |███████████████████████▎        | 1.4 MB 4.8 MB/s eta 0:00:01\r\u001b[K     |███████████████████████▌        | 1.4 MB 4.8 MB/s eta 0:00:01\r\u001b[K     |███████████████████████▊        | 1.4 MB 4.8 MB/s eta 0:00:01\r\u001b[K     |███████████████████████▉        | 1.4 MB 4.8 MB/s eta 0:00:01\r\u001b[K     |████████████████████████        | 1.4 MB 4.8 MB/s eta 0:00:01\r\u001b[K     |████████████████████████▏       | 1.5 MB 4.8 MB/s eta 0:00:01\r\u001b[K     |████████████████████████▍       | 1.5 MB 4.8 MB/s eta 0:00:01\r\u001b[K     |████████████████████████▌       | 1.5 MB 4.8 MB/s eta 0:00:01\r\u001b[K     |████████████████████████▊       | 1.5 MB 4.8 MB/s eta 0:00:01\r\u001b[K     |████████████████████████▉       | 1.5 MB 4.8 MB/s eta 0:00:01\r\u001b[K     |█████████████████████████       | 1.5 MB 4.8 MB/s eta 0:00:01\r\u001b[K     |█████████████████████████▏      | 1.5 MB 4.8 MB/s eta 0:00:01\r\u001b[K     |█████████████████████████▍      | 1.5 MB 4.8 MB/s eta 0:00:01\r\u001b[K     |█████████████████████████▌      | 1.5 MB 4.8 MB/s eta 0:00:01\r\u001b[K     |█████████████████████████▊      | 1.5 MB 4.8 MB/s eta 0:00:01\r\u001b[K     |█████████████████████████▉      | 1.6 MB 4.8 MB/s eta 0:00:01\r\u001b[K     |██████████████████████████      | 1.6 MB 4.8 MB/s eta 0:00:01\r\u001b[K     |██████████████████████████▎     | 1.6 MB 4.8 MB/s eta 0:00:01\r\u001b[K     |██████████████████████████▍     | 1.6 MB 4.8 MB/s eta 0:00:01\r\u001b[K     |██████████████████████████▋     | 1.6 MB 4.8 MB/s eta 0:00:01\r\u001b[K     |██████████████████████████▊     | 1.6 MB 4.8 MB/s eta 0:00:01\r\u001b[K     |███████████████████████████     | 1.6 MB 4.8 MB/s eta 0:00:01\r\u001b[K     |███████████████████████████     | 1.6 MB 4.8 MB/s eta 0:00:01\r\u001b[K     |███████████████████████████▎    | 1.6 MB 4.8 MB/s eta 0:00:01\r\u001b[K     |███████████████████████████▍    | 1.6 MB 4.8 MB/s eta 0:00:01\r\u001b[K     |███████████████████████████▋    | 1.7 MB 4.8 MB/s eta 0:00:01\r\u001b[K     |███████████████████████████▊    | 1.7 MB 4.8 MB/s eta 0:00:01\r\u001b[K     |████████████████████████████    | 1.7 MB 4.8 MB/s eta 0:00:01\r\u001b[K     |████████████████████████████    | 1.7 MB 4.8 MB/s eta 0:00:01\r\u001b[K     |████████████████████████████▎   | 1.7 MB 4.8 MB/s eta 0:00:01\r\u001b[K     |████████████████████████████▍   | 1.7 MB 4.8 MB/s eta 0:00:01\r\u001b[K     |████████████████████████████▋   | 1.7 MB 4.8 MB/s eta 0:00:01\r\u001b[K     |████████████████████████████▉   | 1.7 MB 4.8 MB/s eta 0:00:01\r\u001b[K     |█████████████████████████████   | 1.7 MB 4.8 MB/s eta 0:00:01\r\u001b[K     |█████████████████████████████▏  | 1.8 MB 4.8 MB/s eta 0:00:01\r\u001b[K     |█████████████████████████████▎  | 1.8 MB 4.8 MB/s eta 0:00:01\r\u001b[K     |█████████████████████████████▌  | 1.8 MB 4.8 MB/s eta 0:00:01\r\u001b[K     |█████████████████████████████▋  | 1.8 MB 4.8 MB/s eta 0:00:01\r\u001b[K     |█████████████████████████████▉  | 1.8 MB 4.8 MB/s eta 0:00:01\r\u001b[K     |██████████████████████████████  | 1.8 MB 4.8 MB/s eta 0:00:01\r\u001b[K     |██████████████████████████████▏ | 1.8 MB 4.8 MB/s eta 0:00:01\r\u001b[K     |██████████████████████████████▎ | 1.8 MB 4.8 MB/s eta 0:00:01\r\u001b[K     |██████████████████████████████▌ | 1.8 MB 4.8 MB/s eta 0:00:01\r\u001b[K     |██████████████████████████████▋ | 1.8 MB 4.8 MB/s eta 0:00:01\r\u001b[K     |██████████████████████████████▉ | 1.9 MB 4.8 MB/s eta 0:00:01\r\u001b[K     |███████████████████████████████ | 1.9 MB 4.8 MB/s eta 0:00:01\r\u001b[K     |███████████████████████████████▏| 1.9 MB 4.8 MB/s eta 0:00:01\r\u001b[K     |███████████████████████████████▍| 1.9 MB 4.8 MB/s eta 0:00:01\r\u001b[K     |███████████████████████████████▌| 1.9 MB 4.8 MB/s eta 0:00:01\r\u001b[K     |███████████████████████████████▊| 1.9 MB 4.8 MB/s eta 0:00:01\r\u001b[K     |███████████████████████████████▉| 1.9 MB 4.8 MB/s eta 0:00:01\r\u001b[K     |████████████████████████████████| 1.9 MB 4.8 MB/s \n",
            "\u001b[?25h"
          ]
        }
      ]
    },
    {
      "cell_type": "markdown",
      "source": [
        "## Imports"
      ],
      "metadata": {
        "id": "usLiB0OMS6Ou"
      }
    },
    {
      "cell_type": "code",
      "source": [
        "from __future__ import annotations # for type annotations\n",
        "import os, logging\n",
        "import pandas as pd\n",
        "import numpy as np\n",
        "from pgmpy.base import DAG\n",
        "from pgmpy.models import BayesianNetwork, NaiveBayes\n",
        "from pgmpy.factors.discrete.CPD import TabularCPD\n",
        "from pgmpy.inference import VariableElimination\n",
        "from pgmpy.estimators import ParameterEstimator, MaximumLikelihoodEstimator, BayesianEstimator, ExhaustiveSearch, TreeSearch, HillClimbSearch, MmhcEstimator, BDeuScore, BicScore\n",
        "from sklearn.model_selection import train_test_split\n",
        "from sklearn.metrics import recall_score, f1_score, accuracy_score\n",
        "\n",
        "# Viz\n",
        "import matplotlib.pyplot as plt\n",
        "import networkx as nx\n",
        "import seaborn as sns"
      ],
      "metadata": {
        "id": "CYV8-E163KzW"
      },
      "execution_count": 3,
      "outputs": []
    },
    {
      "cell_type": "markdown",
      "source": [
        "## Declarations"
      ],
      "metadata": {
        "id": "HJqvuPrNS9o7"
      }
    },
    {
      "cell_type": "code",
      "source": [
        "logger = logging.getLogger()\n",
        "dataset_url = 'https://raw.githubusercontent.com/lorenzobalzani/bayesian-network-credit-cards/master/dataset.csv'\n",
        "test_ratio = 0.2\n",
        "random_seed = 42"
      ],
      "metadata": {
        "id": "76Fyk7MjOyzo"
      },
      "execution_count": 4,
      "outputs": []
    },
    {
      "cell_type": "markdown",
      "source": [
        "# Dataset"
      ],
      "metadata": {
        "id": "j7NoIN1QDk1q"
      }
    },
    {
      "cell_type": "code",
      "source": [
        "def read_dataset(url: str) -> pd.DataFrame:\n",
        "  dataset = pd.read_csv(url, delimiter=';').set_index('ID') \\\n",
        "            .rename(columns={'default payment next month': 'default'})\n",
        "  return dataset.drop(columns=[column for column in dataset.columns if 'AMT' in column]) \\\n",
        "         .rename(columns={column: column.lower() for column in dataset.columns})\n",
        "\n",
        "dataset = read_dataset(dataset_url)"
      ],
      "metadata": {
        "id": "3cp03GKsFVFL"
      },
      "execution_count": 5,
      "outputs": []
    },
    {
      "cell_type": "markdown",
      "source": [
        "## Check for missing values\n",
        "No drops are needed here because the dataset is complete."
      ],
      "metadata": {
        "id": "iu2JrRDkmSly"
      }
    },
    {
      "cell_type": "code",
      "source": [
        "np.sum(pd.isnull(dataset), axis=0) # sum over the columns"
      ],
      "metadata": {
        "colab": {
          "base_uri": "https://localhost:8080/"
        },
        "id": "SnRC3h6FmRHW",
        "outputId": "4ecad223-2172-462c-ce05-b3e170b4e69d"
      },
      "execution_count": 6,
      "outputs": [
        {
          "output_type": "execute_result",
          "data": {
            "text/plain": [
              "limit_bal    0\n",
              "sex          0\n",
              "education    0\n",
              "marriage     0\n",
              "age          0\n",
              "pay_1        0\n",
              "pay_2        0\n",
              "pay_3        0\n",
              "pay_4        0\n",
              "pay_5        0\n",
              "pay_6        0\n",
              "default      0\n",
              "dtype: int64"
            ]
          },
          "metadata": {},
          "execution_count": 6
        }
      ]
    },
    {
      "cell_type": "markdown",
      "source": [
        "## Distribution of `limit_bal` \n",
        "First, we print out the histogram related to the distribution of `limit_bal`, which is the only continuous variable used."
      ],
      "metadata": {
        "id": "rfxyLfwJD4NF"
      }
    },
    {
      "cell_type": "code",
      "source": [
        "ax = dataset['limit_bal'].plot.hist(bins=5, alpha=0.5)"
      ],
      "metadata": {
        "colab": {
          "base_uri": "https://localhost:8080/",
          "height": 278
        },
        "id": "tPOZ_CEpCuIr",
        "outputId": "30f2fdcb-be1c-4bbe-e649-ea1ce289c235"
      },
      "execution_count": 7,
      "outputs": [
        {
          "output_type": "display_data",
          "data": {
            "text/plain": [
              "<Figure size 432x288 with 1 Axes>"
            ],
            "image/png": "[encoded data removed]"
          },
          "metadata": {
            "needs_background": "light"
          }
        }
      ]
    },
    {
      "cell_type": "markdown",
      "source": [
        "Next, we describe the distribution. To discretize it, we would like to create four beams (i.e., corresponding to the four percentiles)."
      ],
      "metadata": {
        "id": "RLT0UNoOEfsD"
      }
    },
    {
      "cell_type": "code",
      "source": [
        "dataset['limit_bal'].describe()"
      ],
      "metadata": {
        "colab": {
          "base_uri": "https://localhost:8080/"
        },
        "id": "H9Ok3wXWCSHz",
        "outputId": "3b177b1c-3110-42d3-fa9e-617c97f3b91c"
      },
      "execution_count": 8,
      "outputs": [
        {
          "output_type": "execute_result",
          "data": {
            "text/plain": [
              "count      30000.000000\n",
              "mean      167484.322667\n",
              "std       129747.661567\n",
              "min        10000.000000\n",
              "25%        50000.000000\n",
              "50%       140000.000000\n",
              "75%       240000.000000\n",
              "max      1000000.000000\n",
              "Name: limit_bal, dtype: float64"
            ]
          },
          "metadata": {},
          "execution_count": 8
        }
      ]
    },
    {
      "cell_type": "markdown",
      "source": [
        "## Manipulation\n",
        "The *artificial column* `misspayments_prev_6_months` can hold either positive, negative numbers or 0. In particular, this means: \n",
        "1. $ n = -2 $ corresponds to there was no credit to pay;\n",
        "2. $ n = -1 $ corresponds to payed successfully;\n",
        "3. $ n = 0 $ corresponds to a payment that was made on time but not totally to clear the balance (i.e., the minimum payment was met);\n",
        "4. $ n > 0 $ corresponds to the number of delayed months.\n",
        "\n",
        "All computations - but `misspayments_prev_6_months` - are performed in a vectorized fashion using NumPy. The less efficient alternative would have used the `apply` method over Pandas DataFrame, which internally leverages a for loop."
      ],
      "metadata": {
        "id": "u_NZMq0IFLLN"
      }
    },
    {
      "cell_type": "code",
      "source": [
        "%%time\n",
        "\n",
        "def manipulate_dataset(df: pd.DataFrame) -> pd.DataFrame:\n",
        "  compute_misspayments = lambda payments_status: sum([payment_status > 0 for payment_status in payments_status])\n",
        "  df['sex'] = np.where(df['sex'] == 1, 'male', 'female')\n",
        "  df['marriage'] = np.where(df['marriage'] == 1, 'married', 'not_married')\n",
        "  df['age'] = np.select([\n",
        "              (df['age'] < 35), \n",
        "              (df['age'] >= 35) & (df['age'] < 60)],\n",
        "              ['young', 'mid_aged'], default = 'senior')\n",
        "  df['limit_bal'] = np.select([\n",
        "                    (df['limit_bal'] < 50_000), \n",
        "                    (df['limit_bal'] >= 50_000) & (df['limit_bal'] < 140_000),\n",
        "                    (df['limit_bal'] >= 140_000) & (df['limit_bal'] < 240_000)],\n",
        "                    ['low', 'medium', 'medium_high'], default = 'high')\n",
        "  df['education'] = np.select([\n",
        "                    (df['education'] == 1), \n",
        "                    (df['education'] == 2), \n",
        "                    (df['education'] == 3)], \n",
        "                    ['graduate', 'university', 'high_school'], default = 'others') \n",
        "  df['misspayments_prev_6_months'] = df.apply(lambda row: \\\n",
        "                                              compute_misspayments([row[column] for column in df.columns if 'pay_' in column]), \n",
        "                                              axis=1) #axis = 1 means row by row\n",
        "  return df.drop(columns=[column for column in df.columns if 'pay_' in column])\n",
        "\n",
        "dataset = manipulate_dataset(read_dataset(dataset_url))"
      ],
      "metadata": {
        "colab": {
          "base_uri": "https://localhost:8080/"
        },
        "id": "EZm6-KOqYe6r",
        "outputId": "8ea3d0a6-a639-4335-c5c7-82b07247f0a5"
      },
      "execution_count": 9,
      "outputs": [
        {
          "output_type": "stream",
          "name": "stdout",
          "text": [
            "CPU times: user 1.21 s, sys: 19.7 ms, total: 1.23 s\n",
            "Wall time: 1.36 s\n"
          ]
        }
      ]
    },
    {
      "cell_type": "code",
      "source": [
        "print(f'The dataset contains {dataset.shape[0]} rows, {dataset.shape[1]} columns and it weighs {(dataset.memory_usage(index=True, deep=True).sum() / 10**6):.2f}MB')\n",
        "dataset.head()"
      ],
      "metadata": {
        "colab": {
          "base_uri": "https://localhost:8080/",
          "height": 255
        },
        "id": "XKClX88UF2IA",
        "outputId": "eb7a8ebc-5845-4f74-f669-a396d07d7555"
      },
      "execution_count": 10,
      "outputs": [
        {
          "output_type": "stream",
          "name": "stdout",
          "text": [
            "The dataset contains 30000 rows, 7 columns and it weighs 10.37MB\n"
          ]
        },
        {
          "output_type": "execute_result",
          "data": {
            "text/plain": [
              "   limit_bal     sex   education     marriage       age  default  \\\n",
              "ID                                                                 \n",
              "1        low  female  university      married     young        1   \n",
              "2     medium  female  university  not_married     young        1   \n",
              "3     medium  female  university  not_married     young        0   \n",
              "4     medium  female  university      married  mid_aged        0   \n",
              "5     medium    male  university      married  mid_aged        0   \n",
              "\n",
              "    misspayments_prev_6_months  \n",
              "ID                              \n",
              "1                            2  \n",
              "2                            2  \n",
              "3                            0  \n",
              "4                            0  \n",
              "5                            0  "
            ],
            "text/html": [
              "\n",
              "  <div id=\"df-c6b93848-348a-4b1f-b725-beff98ed323a\">\n",
              "    <div class=\"colab-df-container\">\n",
              "      <div>\n",
              "<style scoped>\n",
              "    .dataframe tbody tr th:only-of-type {\n",
              "        vertical-align: middle;\n",
              "    }\n",
              "\n",
              "    .dataframe tbody tr th {\n",
              "        vertical-align: top;\n",
              "    }\n",
              "\n",
              "    .dataframe thead th {\n",
              "        text-align: right;\n",
              "    }\n",
              "</style>\n",
              "<table border=\"1\" class=\"dataframe\">\n",
              "  <thead>\n",
              "    <tr style=\"text-align: right;\">\n",
              "      <th></th>\n",
              "      <th>limit_bal</th>\n",
              "      <th>sex</th>\n",
              "      <th>education</th>\n",
              "      <th>marriage</th>\n",
              "      <th>age</th>\n",
              "      <th>default</th>\n",
              "      <th>misspayments_prev_6_months</th>\n",
              "    </tr>\n",
              "    <tr>\n",
              "      <th>ID</th>\n",
              "      <th></th>\n",
              "      <th></th>\n",
              "      <th></th>\n",
              "      <th></th>\n",
              "      <th></th>\n",
              "      <th></th>\n",
              "      <th></th>\n",
              "    </tr>\n",
              "  </thead>\n",
              "  <tbody>\n",
              "    <tr>\n",
              "      <th>1</th>\n",
              "      <td>low</td>\n",
              "      <td>female</td>\n",
              "      <td>university</td>\n",
              "      <td>married</td>\n",
              "      <td>young</td>\n",
              "      <td>1</td>\n",
              "      <td>2</td>\n",
              "    </tr>\n",
              "    <tr>\n",
              "      <th>2</th>\n",
              "      <td>medium</td>\n",
              "      <td>female</td>\n",
              "      <td>university</td>\n",
              "      <td>not_married</td>\n",
              "      <td>young</td>\n",
              "      <td>1</td>\n",
              "      <td>2</td>\n",
              "    </tr>\n",
              "    <tr>\n",
              "      <th>3</th>\n",
              "      <td>medium</td>\n",
              "      <td>female</td>\n",
              "      <td>university</td>\n",
              "      <td>not_married</td>\n",
              "      <td>young</td>\n",
              "      <td>0</td>\n",
              "      <td>0</td>\n",
              "    </tr>\n",
              "    <tr>\n",
              "      <th>4</th>\n",
              "      <td>medium</td>\n",
              "      <td>female</td>\n",
              "      <td>university</td>\n",
              "      <td>married</td>\n",
              "      <td>mid_aged</td>\n",
              "      <td>0</td>\n",
              "      <td>0</td>\n",
              "    </tr>\n",
              "    <tr>\n",
              "      <th>5</th>\n",
              "      <td>medium</td>\n",
              "      <td>male</td>\n",
              "      <td>university</td>\n",
              "      <td>married</td>\n",
              "      <td>mid_aged</td>\n",
              "      <td>0</td>\n",
              "      <td>0</td>\n",
              "    </tr>\n",
              "  </tbody>\n",
              "</table>\n",
              "</div>\n",
              "      <button class=\"colab-df-convert\" onclick=\"convertToInteractive('df-c6b93848-348a-4b1f-b725-beff98ed323a')\"\n",
              "              title=\"Convert this dataframe to an interactive table.\"\n",
              "              style=\"display:none;\">\n",
              "        \n",
              "  <svg xmlns=\"http://www.w3.org/2000/svg\" height=\"24px\"viewBox=\"0 0 24 24\"\n",
              "       width=\"24px\">\n",
              "    <path d=\"M0 0h24v24H0V0z\" fill=\"none\"/>\n",
              "    <path d=\"M18.56 5.44l.94 2.06.94-2.06 2.06-.94-2.06-.94-.94-2.06-.94 2.06-2.06.94zm-11 1L8.5 8.5l.94-2.06 2.06-.94-2.06-.94L8.5 2.5l-.94 2.06-2.06.94zm10 10l.94 2.06.94-2.06 2.06-.94-2.06-.94-.94-2.06-.94 2.06-2.06.94z\"/><path d=\"M17.41 7.96l-1.37-1.37c-.4-.4-.92-.59-1.43-.59-.52 0-1.04.2-1.43.59L10.3 9.45l-7.72 7.72c-.78.78-.78 2.05 0 2.83L4 21.41c.39.39.9.59 1.41.59.51 0 1.02-.2 1.41-.59l7.78-7.78 2.81-2.81c.8-.78.8-2.07 0-2.86zM5.41 20L4 18.59l7.72-7.72 1.47 1.35L5.41 20z\"/>\n",
              "  </svg>\n",
              "      </button>\n",
              "      \n",
              "  <style>\n",
              "    .colab-df-container {\n",
              "      display:flex;\n",
              "      flex-wrap:wrap;\n",
              "      gap: 12px;\n",
              "    }\n",
              "\n",
              "    .colab-df-convert {\n",
              "      background-color: #E8F0FE;\n",
              "      border: none;\n",
              "      border-radius: 50%;\n",
              "      cursor: pointer;\n",
              "      display: none;\n",
              "      fill: #1967D2;\n",
              "      height: 32px;\n",
              "      padding: 0 0 0 0;\n",
              "      width: 32px;\n",
              "    }\n",
              "\n",
              "    .colab-df-convert:hover {\n",
              "      background-color: #E2EBFA;\n",
              "      box-shadow: 0px 1px 2px rgba(60, 64, 67, 0.3), 0px 1px 3px 1px rgba(60, 64, 67, 0.15);\n",
              "      fill: #174EA6;\n",
              "    }\n",
              "\n",
              "    [theme=dark] .colab-df-convert {\n",
              "      background-color: #3B4455;\n",
              "      fill: #D2E3FC;\n",
              "    }\n",
              "\n",
              "    [theme=dark] .colab-df-convert:hover {\n",
              "      background-color: #434B5C;\n",
              "      box-shadow: 0px 1px 3px 1px rgba(0, 0, 0, 0.15);\n",
              "      filter: drop-shadow(0px 1px 2px rgba(0, 0, 0, 0.3));\n",
              "      fill: #FFFFFF;\n",
              "    }\n",
              "  </style>\n",
              "\n",
              "      <script>\n",
              "        const buttonEl =\n",
              "          document.querySelector('#df-c6b93848-348a-4b1f-b725-beff98ed323a button.colab-df-convert');\n",
              "        buttonEl.style.display =\n",
              "          google.colab.kernel.accessAllowed ? 'block' : 'none';\n",
              "\n",
              "        async function convertToInteractive(key) {\n",
              "          const element = document.querySelector('#df-c6b93848-348a-4b1f-b725-beff98ed323a');\n",
              "          const dataTable =\n",
              "            await google.colab.kernel.invokeFunction('convertToInteractive',\n",
              "                                                     [key], {});\n",
              "          if (!dataTable) return;\n",
              "\n",
              "          const docLinkHtml = 'Like what you see? Visit the ' +\n",
              "            '<a target=\"_blank\" href=https://colab.research.google.com/notebooks/data_table.ipynb>data table notebook</a>'\n",
              "            + ' to learn more about interactive tables.';\n",
              "          element.innerHTML = '';\n",
              "          dataTable['output_type'] = 'display_data';\n",
              "          await google.colab.output.renderOutput(dataTable, element);\n",
              "          const docLink = document.createElement('div');\n",
              "          docLink.innerHTML = docLinkHtml;\n",
              "          element.appendChild(docLink);\n",
              "        }\n",
              "      </script>\n",
              "    </div>\n",
              "  </div>\n",
              "  "
            ]
          },
          "metadata": {},
          "execution_count": 10
        }
      ]
    },
    {
      "cell_type": "markdown",
      "source": [
        "## States\n",
        "TBC: Description of final dataset and its values\n",
        "List - for each variable - the associated states, i.e. every possibile unique value in the domain $D$ of a random variable."
      ],
      "metadata": {
        "id": "Z3u2NRfk8mhE"
      }
    },
    {
      "cell_type": "code",
      "source": [
        "{col_name: column.unique() for col_name, column in dataset.iteritems()}"
      ],
      "metadata": {
        "colab": {
          "base_uri": "https://localhost:8080/"
        },
        "id": "O5WkHilneu26",
        "outputId": "ad047d1e-8349-4f4b-e9fd-9a57a5f96c41"
      },
      "execution_count": 11,
      "outputs": [
        {
          "output_type": "execute_result",
          "data": {
            "text/plain": [
              "{'limit_bal': array(['low', 'medium', 'high', 'medium_high'], dtype=object),\n",
              " 'sex': array(['female', 'male'], dtype=object),\n",
              " 'education': array(['university', 'graduate', 'high_school', 'others'], dtype=object),\n",
              " 'marriage': array(['married', 'not_married'], dtype=object),\n",
              " 'age': array(['young', 'mid_aged', 'senior'], dtype=object),\n",
              " 'default': array([1, 0]),\n",
              " 'misspayments_prev_6_months': array([2, 0, 1, 4, 5, 6, 3])}"
            ]
          },
          "metadata": {},
          "execution_count": 11
        }
      ]
    },
    {
      "cell_type": "markdown",
      "source": [
        "## Train/test splitting"
      ],
      "metadata": {
        "id": "lEC3R1T65J99"
      }
    },
    {
      "cell_type": "code",
      "source": [
        "X_train, X_test, y_train, y_test = train_test_split(dataset.drop('default', axis=1), dataset['default'], \\\n",
        "                                                    test_size=test_ratio, random_state=random_seed, \\\n",
        "                                                    stratify=dataset['default'])\n",
        "train = pd.concat([X_train, y_train], axis=1)\n",
        "test = pd.concat([X_test, y_test], axis=1)\n",
        "print(\"Training set size: \" + str(train.shape[0]))\n",
        "print(\"Test set size: \" + str(test.shape[0]))\n",
        "print(\"Total size: \" + str(train.shape[0] + test.shape[0]))"
      ],
      "metadata": {
        "colab": {
          "base_uri": "https://localhost:8080/"
        },
        "id": "ovyfpjEzsGl9",
        "outputId": "f558d7a7-eeba-4d26-bdd8-89fbcd062c03"
      },
      "execution_count": 12,
      "outputs": [
        {
          "output_type": "stream",
          "name": "stdout",
          "text": [
            "Training set size: 24000\n",
            "Test set size: 6000\n",
            "Total size: 30000\n"
          ]
        }
      ]
    },
    {
      "cell_type": "markdown",
      "source": [
        "# Utility functions"
      ],
      "metadata": {
        "id": "MnSOLJKphvyI"
      }
    },
    {
      "cell_type": "markdown",
      "source": [
        "## Plotting networks"
      ],
      "metadata": {
        "id": "VKu1kz41iFsJ"
      }
    },
    {
      "cell_type": "code",
      "source": [
        "def plot_network(network: 'DAG', name: str = 'Network', save_image: bool = False):\n",
        "  fig, ax = plt.subplots(1, 1, figsize=(12, 12))\n",
        "  nx.draw_networkx(network, pos=nx.drawing.layout.circular_layout(network), ax=ax, node_size=5000)\n",
        "  ax.set_title(name)\n",
        "  if save_image:\n",
        "    fig.savefig(name)"
      ],
      "metadata": {
        "id": "R2ufY3e2TlqM"
      },
      "execution_count": 13,
      "outputs": []
    },
    {
      "cell_type": "markdown",
      "source": [
        "## Parameter learning (CDPs)\n",
        "Parameter are estimated given an already-defined $DAG = \\{V, E\\}$. The estimation is related to every random variable's *CPT*."
      ],
      "metadata": {
        "id": "UCWtVvwGiCWU"
      }
    },
    {
      "cell_type": "code",
      "source": [
        "def fit_bayesian_network(bayesian_network: BayesianNetwork, prior_type: str = 'BDeu', print_cpd: bool = False) -> Tuple[BayesianNetwork, list]:\n",
        "  bayesian_network.fit(train, estimator=BayesianEstimator, prior_type = prior_type)\n",
        "  print('The CPDs contain', 'no' if bayesian_network.check_model() else 'some', 'errors.')\n",
        "  bn_cpds = bayesian_network.get_cpds()\n",
        "  if print_cpd:\n",
        "    TabularCPD._truncate_strtable = lambda self, x: x\n",
        "    for cpd in bn_cpds:\n",
        "      print(cpd)\n",
        "  return bayesian_network, bn_cpds"
      ],
      "metadata": {
        "id": "waaEVmpBcPVZ"
      },
      "execution_count": 14,
      "outputs": []
    },
    {
      "cell_type": "markdown",
      "source": [
        "# Hard-coded networks"
      ],
      "metadata": {
        "id": "vwiKvcYamCqs"
      }
    },
    {
      "cell_type": "markdown",
      "source": [
        "## Easy"
      ],
      "metadata": {
        "id": "X7VuShgwTPKn"
      }
    },
    {
      "cell_type": "code",
      "source": [
        "model_easy = BayesianNetwork([('education', 'limit_bal'), ('age', 'limit_bal'), \\\n",
        "                       ('marriage', 'limit_bal'), ('sex', 'limit_bal'), \\\n",
        "                       ('limit_bal', 'default'), ('misspayments_prev_6_months', 'default')])\n",
        "plot_network(model_easy, 'Easy model')\n",
        "model_easy, model_easy_cpds = fit_bayesian_network(model_easy, prior_type = 'BDeu', print_cpd = False)"
      ],
      "metadata": {
        "id": "7AUSDFAp6byr",
        "colab": {
          "base_uri": "https://localhost:8080/",
          "height": 717
        },
        "outputId": "adcd0e98-c78a-44a1-a403-7d6cbdc5ac69"
      },
      "execution_count": 15,
      "outputs": [
        {
          "output_type": "stream",
          "name": "stdout",
          "text": [
            "The CPDs contain no errors.\n"
          ]
        },
        {
          "output_type": "display_data",
          "data": {
            "text/plain": [
              "<Figure size 864x864 with 1 Axes>"
            ],
            "image/png": "[encoded data removed]"
          },
          "metadata": {}
        }
      ]
    },
    {
      "cell_type": "markdown",
      "source": [
        "## Medium"
      ],
      "metadata": {
        "id": "9TLoUVx9Tf11"
      }
    },
    {
      "cell_type": "code",
      "source": [
        "model_medium = BayesianNetwork([(\"age\", \"marriage\"), (\"age\", \"education\"), \\\n",
        "                       (\"age\", \"education\"),(\"age\", \"default\"), \\\n",
        "                       (\"education\", \"limit_bal\"), (\"marriage\", \"limit_bal\"), \\\n",
        "                       (\"limit_bal\", \"default\"), (\"sex\", \"limit_bal\"), \\\n",
        "                       (\"misspayments_prev_6_months\", \"default\")])\n",
        "plot_network(model_medium, 'Medium model')\n",
        "model_medium, model_medium_cpds = fit_bayesian_network(model_medium, prior_type = 'BDeu', print_cpd = False)"
      ],
      "metadata": {
        "colab": {
          "base_uri": "https://localhost:8080/",
          "height": 717
        },
        "id": "3Wd8lrnRThli",
        "outputId": "26dd336b-10e9-4171-d2bb-fb470bcd03cb"
      },
      "execution_count": 16,
      "outputs": [
        {
          "output_type": "stream",
          "name": "stdout",
          "text": [
            "The CPDs contain no errors.\n"
          ]
        },
        {
          "output_type": "display_data",
          "data": {
            "text/plain": [
              "<Figure size 864x864 with 1 Axes>"
            ],
            "image/png": "[encoded data removed]"
          },
          "metadata": {}
        }
      ]
    },
    {
      "cell_type": "markdown",
      "source": [
        "## Hard"
      ],
      "metadata": {
        "id": "N85YmhGiUbUW"
      }
    },
    {
      "cell_type": "code",
      "source": [
        "model_hard = BayesianNetwork([(\"age\", \"marriage\"), (\"age\", \"education\"), \\\n",
        "                       (\"age\", \"education\"),(\"age\", \"default\"), \\\n",
        "                       (\"education\", \"limit_bal\"), (\"marriage\", \"limit_bal\"), \\\n",
        "                       (\"limit_bal\", \"default\"), (\"sex\", \"limit_bal\"), \\\n",
        "                       (\"misspayments_prev_6_months\", \"default\"), (\"education\", \"default\"), \\\n",
        "                       (\"marriage\", \"default\")])\n",
        "plot_network(model_hard, 'Hard model')\n",
        "model_hard, model_hard_cpds = fit_bayesian_network(model_hard, prior_type = 'BDeu', print_cpd = False)"
      ],
      "metadata": {
        "colab": {
          "base_uri": "https://localhost:8080/",
          "height": 717
        },
        "id": "oGUDmuoUUc4p",
        "outputId": "8f50f383-63eb-4602-a793-3b89c0451204"
      },
      "execution_count": 17,
      "outputs": [
        {
          "output_type": "stream",
          "name": "stdout",
          "text": [
            "The CPDs contain no errors.\n"
          ]
        },
        {
          "output_type": "display_data",
          "data": {
            "text/plain": [
              "<Figure size 864x864 with 1 Axes>"
            ],
            "image/png": "[encoded data removed]"
          },
          "metadata": {}
        }
      ]
    },
    {
      "cell_type": "markdown",
      "source": [
        "# Structural-learned models\n",
        "Since query results are poor when comparing the three different models, there is likely no difference betwee the three represetations and thus, we should seek a different model structure."
      ],
      "metadata": {
        "id": "Fft2zheucHit"
      }
    },
    {
      "cell_type": "markdown",
      "source": [
        "## Exhaustive Search\n",
        "Since the ES algorithm cost is super-exponential, it's suited only for small BN, i.e. for networks having less than 5 nodes. In our case, this method is computationally inadequate so will not be included in the networks. "
      ],
      "metadata": {
        "id": "_q7e4jWeiGck"
      }
    },
    {
      "cell_type": "code",
      "source": [
        "ex_search = ExhaustiveSearch(data=train, scoring_method=BicScore(data=train))\n",
        "ex_search_model = ex_search.estimate()\n",
        "plot_network(ex_search_model, 'Structural Learning - Exhaustive search')\n",
        "ex_search_model = BayesianNetwork(ex_search_model.edges())\n",
        "ex_search_model, ex_search_model_cpds = fit_bayesian_network(ex_search_model, prior_type = 'BDeu', print_cpd = False)"
      ],
      "metadata": {
        "id": "S0OW-sDSiMNH",
        "colab": {
          "base_uri": "https://localhost:8080/",
          "height": 392
        },
        "outputId": "c7a7a937-27e5-497a-d6a8-1668a007a6d6"
      },
      "execution_count": 18,
      "outputs": [
        {
          "output_type": "error",
          "ename": "KeyboardInterrupt",
          "evalue": "ignored",
          "traceback": [
            "\u001b[0;31m---------------------------------------------------------------------------\u001b[0m",
            "\u001b[0;31mKeyboardInterrupt\u001b[0m                         Traceback (most recent call last)",
            "\u001b[0;32m<ipython-input-18-77406ad7310e>\u001b[0m in \u001b[0;36m<module>\u001b[0;34m\u001b[0m\n\u001b[1;32m      1\u001b[0m \u001b[0mex_search\u001b[0m \u001b[0;34m=\u001b[0m \u001b[0mExhaustiveSearch\u001b[0m\u001b[0;34m(\u001b[0m\u001b[0mdata\u001b[0m\u001b[0;34m=\u001b[0m\u001b[0mtrain\u001b[0m\u001b[0;34m,\u001b[0m \u001b[0mscoring_method\u001b[0m\u001b[0;34m=\u001b[0m\u001b[0mBicScore\u001b[0m\u001b[0;34m(\u001b[0m\u001b[0mdata\u001b[0m\u001b[0;34m=\u001b[0m\u001b[0mtrain\u001b[0m\u001b[0;34m)\u001b[0m\u001b[0;34m)\u001b[0m\u001b[0;34m\u001b[0m\u001b[0;34m\u001b[0m\u001b[0m\n\u001b[0;32m----> 2\u001b[0;31m \u001b[0mex_search_model\u001b[0m \u001b[0;34m=\u001b[0m \u001b[0mex_search\u001b[0m\u001b[0;34m.\u001b[0m\u001b[0mestimate\u001b[0m\u001b[0;34m(\u001b[0m\u001b[0;34m)\u001b[0m\u001b[0;34m\u001b[0m\u001b[0;34m\u001b[0m\u001b[0m\n\u001b[0m\u001b[1;32m      3\u001b[0m \u001b[0mplot_network\u001b[0m\u001b[0;34m(\u001b[0m\u001b[0mex_search_model\u001b[0m\u001b[0;34m,\u001b[0m \u001b[0;34m'Structural Learning - Exhaustive search'\u001b[0m\u001b[0;34m)\u001b[0m\u001b[0;34m\u001b[0m\u001b[0;34m\u001b[0m\u001b[0m\n\u001b[1;32m      4\u001b[0m \u001b[0mex_search_model\u001b[0m \u001b[0;34m=\u001b[0m \u001b[0mBayesianNetwork\u001b[0m\u001b[0;34m(\u001b[0m\u001b[0mex_search_model\u001b[0m\u001b[0;34m.\u001b[0m\u001b[0medges\u001b[0m\u001b[0;34m(\u001b[0m\u001b[0;34m)\u001b[0m\u001b[0;34m)\u001b[0m\u001b[0;34m\u001b[0m\u001b[0;34m\u001b[0m\u001b[0m\n\u001b[1;32m      5\u001b[0m \u001b[0mex_search_model\u001b[0m\u001b[0;34m,\u001b[0m \u001b[0mex_search_model_cpds\u001b[0m \u001b[0;34m=\u001b[0m \u001b[0mfit_bayesian_network\u001b[0m\u001b[0;34m(\u001b[0m\u001b[0mex_search_model\u001b[0m\u001b[0;34m,\u001b[0m \u001b[0mprior_type\u001b[0m \u001b[0;34m=\u001b[0m \u001b[0;34m'BDeu'\u001b[0m\u001b[0;34m,\u001b[0m \u001b[0mprint_cpd\u001b[0m \u001b[0;34m=\u001b[0m \u001b[0;32mFalse\u001b[0m\u001b[0;34m)\u001b[0m\u001b[0;34m\u001b[0m\u001b[0;34m\u001b[0m\u001b[0m\n",
            "\u001b[0;32m/usr/local/lib/python3.7/dist-packages/pgmpy/estimators/ExhaustiveSearch.py\u001b[0m in \u001b[0;36mestimate\u001b[0;34m(self)\u001b[0m\n\u001b[1;32m    191\u001b[0m         \"\"\"\n\u001b[1;32m    192\u001b[0m \u001b[0;34m\u001b[0m\u001b[0m\n\u001b[0;32m--> 193\u001b[0;31m         \u001b[0mbest_dag\u001b[0m \u001b[0;34m=\u001b[0m \u001b[0mmax\u001b[0m\u001b[0;34m(\u001b[0m\u001b[0mself\u001b[0m\u001b[0;34m.\u001b[0m\u001b[0mall_dags\u001b[0m\u001b[0;34m(\u001b[0m\u001b[0;34m)\u001b[0m\u001b[0;34m,\u001b[0m \u001b[0mkey\u001b[0m\u001b[0;34m=\u001b[0m\u001b[0mself\u001b[0m\u001b[0;34m.\u001b[0m\u001b[0mscoring_method\u001b[0m\u001b[0;34m.\u001b[0m\u001b[0mscore\u001b[0m\u001b[0;34m)\u001b[0m\u001b[0;34m\u001b[0m\u001b[0;34m\u001b[0m\u001b[0m\n\u001b[0m\u001b[1;32m    194\u001b[0m \u001b[0;34m\u001b[0m\u001b[0m\n\u001b[1;32m    195\u001b[0m         \u001b[0mbest_model\u001b[0m \u001b[0;34m=\u001b[0m \u001b[0mDAG\u001b[0m\u001b[0;34m(\u001b[0m\u001b[0;34m)\u001b[0m\u001b[0;34m\u001b[0m\u001b[0;34m\u001b[0m\u001b[0m\n",
            "\u001b[0;32m/usr/local/lib/python3.7/dist-packages/pgmpy/estimators/ExhaustiveSearch.py\u001b[0m in \u001b[0;36mall_dags\u001b[0;34m(self, nodes)\u001b[0m\n\u001b[1;32m    105\u001b[0m \u001b[0;34m\u001b[0m\u001b[0m\n\u001b[1;32m    106\u001b[0m         \u001b[0;32mfor\u001b[0m \u001b[0mgraph_edges\u001b[0m \u001b[0;32min\u001b[0m \u001b[0mall_graphs\u001b[0m\u001b[0;34m:\u001b[0m\u001b[0;34m\u001b[0m\u001b[0;34m\u001b[0m\u001b[0m\n\u001b[0;32m--> 107\u001b[0;31m             \u001b[0mgraph\u001b[0m \u001b[0;34m=\u001b[0m \u001b[0mnx\u001b[0m\u001b[0;34m.\u001b[0m\u001b[0mDiGraph\u001b[0m\u001b[0;34m(\u001b[0m\u001b[0mgraph_edges\u001b[0m\u001b[0;34m)\u001b[0m\u001b[0;34m\u001b[0m\u001b[0;34m\u001b[0m\u001b[0m\n\u001b[0m\u001b[1;32m    108\u001b[0m             \u001b[0mgraph\u001b[0m\u001b[0;34m.\u001b[0m\u001b[0madd_nodes_from\u001b[0m\u001b[0;34m(\u001b[0m\u001b[0mnodes\u001b[0m\u001b[0;34m)\u001b[0m\u001b[0;34m\u001b[0m\u001b[0;34m\u001b[0m\u001b[0m\n\u001b[1;32m    109\u001b[0m             \u001b[0;32mif\u001b[0m \u001b[0mnx\u001b[0m\u001b[0;34m.\u001b[0m\u001b[0mis_directed_acyclic_graph\u001b[0m\u001b[0;34m(\u001b[0m\u001b[0mgraph\u001b[0m\u001b[0;34m)\u001b[0m\u001b[0;34m:\u001b[0m\u001b[0;34m\u001b[0m\u001b[0;34m\u001b[0m\u001b[0m\n",
            "\u001b[0;32m/usr/local/lib/python3.7/dist-packages/networkx/classes/digraph.py\u001b[0m in \u001b[0;36m__init__\u001b[0;34m(self, incoming_graph_data, **attr)\u001b[0m\n\u001b[1;32m    317\u001b[0m         \u001b[0;31m# attempt to load graph with data\u001b[0m\u001b[0;34m\u001b[0m\u001b[0;34m\u001b[0m\u001b[0;34m\u001b[0m\u001b[0m\n\u001b[1;32m    318\u001b[0m         \u001b[0;32mif\u001b[0m \u001b[0mincoming_graph_data\u001b[0m \u001b[0;32mis\u001b[0m \u001b[0;32mnot\u001b[0m \u001b[0;32mNone\u001b[0m\u001b[0;34m:\u001b[0m\u001b[0;34m\u001b[0m\u001b[0;34m\u001b[0m\u001b[0m\n\u001b[0;32m--> 319\u001b[0;31m             \u001b[0mconvert\u001b[0m\u001b[0;34m.\u001b[0m\u001b[0mto_networkx_graph\u001b[0m\u001b[0;34m(\u001b[0m\u001b[0mincoming_graph_data\u001b[0m\u001b[0;34m,\u001b[0m \u001b[0mcreate_using\u001b[0m\u001b[0;34m=\u001b[0m\u001b[0mself\u001b[0m\u001b[0;34m)\u001b[0m\u001b[0;34m\u001b[0m\u001b[0;34m\u001b[0m\u001b[0m\n\u001b[0m\u001b[1;32m    320\u001b[0m         \u001b[0;31m# load graph attributes (must be after convert)\u001b[0m\u001b[0;34m\u001b[0m\u001b[0;34m\u001b[0m\u001b[0;34m\u001b[0m\u001b[0m\n\u001b[1;32m    321\u001b[0m         \u001b[0mself\u001b[0m\u001b[0;34m.\u001b[0m\u001b[0mgraph\u001b[0m\u001b[0;34m.\u001b[0m\u001b[0mupdate\u001b[0m\u001b[0;34m(\u001b[0m\u001b[0mattr\u001b[0m\u001b[0;34m)\u001b[0m\u001b[0;34m\u001b[0m\u001b[0;34m\u001b[0m\u001b[0m\n",
            "\u001b[0;32m/usr/local/lib/python3.7/dist-packages/networkx/convert.py\u001b[0m in \u001b[0;36mto_networkx_graph\u001b[0;34m(data, create_using, multigraph_input)\u001b[0m\n\u001b[1;32m    170\u001b[0m     \u001b[0;32mif\u001b[0m \u001b[0misinstance\u001b[0m\u001b[0;34m(\u001b[0m\u001b[0mdata\u001b[0m\u001b[0;34m,\u001b[0m \u001b[0;34m(\u001b[0m\u001b[0mCollection\u001b[0m\u001b[0;34m,\u001b[0m \u001b[0mGenerator\u001b[0m\u001b[0;34m,\u001b[0m \u001b[0mIterator\u001b[0m\u001b[0;34m)\u001b[0m\u001b[0;34m)\u001b[0m\u001b[0;34m:\u001b[0m\u001b[0;34m\u001b[0m\u001b[0;34m\u001b[0m\u001b[0m\n\u001b[1;32m    171\u001b[0m         \u001b[0;32mtry\u001b[0m\u001b[0;34m:\u001b[0m\u001b[0;34m\u001b[0m\u001b[0;34m\u001b[0m\u001b[0m\n\u001b[0;32m--> 172\u001b[0;31m             \u001b[0;32mreturn\u001b[0m \u001b[0mfrom_edgelist\u001b[0m\u001b[0;34m(\u001b[0m\u001b[0mdata\u001b[0m\u001b[0;34m,\u001b[0m \u001b[0mcreate_using\u001b[0m\u001b[0;34m=\u001b[0m\u001b[0mcreate_using\u001b[0m\u001b[0;34m)\u001b[0m\u001b[0;34m\u001b[0m\u001b[0;34m\u001b[0m\u001b[0m\n\u001b[0m\u001b[1;32m    173\u001b[0m         \u001b[0;32mexcept\u001b[0m \u001b[0mException\u001b[0m \u001b[0;32mas\u001b[0m \u001b[0me\u001b[0m\u001b[0;34m:\u001b[0m\u001b[0;34m\u001b[0m\u001b[0;34m\u001b[0m\u001b[0m\n\u001b[1;32m    174\u001b[0m             \u001b[0;32mraise\u001b[0m \u001b[0mnx\u001b[0m\u001b[0;34m.\u001b[0m\u001b[0mNetworkXError\u001b[0m\u001b[0;34m(\u001b[0m\u001b[0;34m\"Input is not a valid edge list\"\u001b[0m\u001b[0;34m)\u001b[0m \u001b[0;32mfrom\u001b[0m \u001b[0me\u001b[0m\u001b[0;34m\u001b[0m\u001b[0;34m\u001b[0m\u001b[0m\n",
            "\u001b[0;32m/usr/local/lib/python3.7/dist-packages/networkx/convert.py\u001b[0m in \u001b[0;36mfrom_edgelist\u001b[0;34m(edgelist, create_using)\u001b[0m\n\u001b[1;32m    488\u001b[0m     \"\"\"\n\u001b[1;32m    489\u001b[0m     \u001b[0mG\u001b[0m \u001b[0;34m=\u001b[0m \u001b[0mnx\u001b[0m\u001b[0;34m.\u001b[0m\u001b[0mempty_graph\u001b[0m\u001b[0;34m(\u001b[0m\u001b[0;36m0\u001b[0m\u001b[0;34m,\u001b[0m \u001b[0mcreate_using\u001b[0m\u001b[0;34m)\u001b[0m\u001b[0;34m\u001b[0m\u001b[0;34m\u001b[0m\u001b[0m\n\u001b[0;32m--> 490\u001b[0;31m     \u001b[0mG\u001b[0m\u001b[0;34m.\u001b[0m\u001b[0madd_edges_from\u001b[0m\u001b[0;34m(\u001b[0m\u001b[0medgelist\u001b[0m\u001b[0;34m)\u001b[0m\u001b[0;34m\u001b[0m\u001b[0;34m\u001b[0m\u001b[0m\n\u001b[0m\u001b[1;32m    491\u001b[0m     \u001b[0;32mreturn\u001b[0m \u001b[0mG\u001b[0m\u001b[0;34m\u001b[0m\u001b[0;34m\u001b[0m\u001b[0m\n",
            "\u001b[0;32m/usr/local/lib/python3.7/dist-packages/networkx/classes/digraph.py\u001b[0m in \u001b[0;36madd_edges_from\u001b[0;34m(self, ebunch_to_add, **attr)\u001b[0m\n\u001b[1;32m    674\u001b[0m         \u001b[0;34m>>\u001b[0m\u001b[0;34m>\u001b[0m \u001b[0mG\u001b[0m\u001b[0;34m.\u001b[0m\u001b[0madd_edges_from\u001b[0m\u001b[0;34m(\u001b[0m\u001b[0;34m[\u001b[0m\u001b[0;34m(\u001b[0m\u001b[0;36m3\u001b[0m\u001b[0;34m,\u001b[0m \u001b[0;36m4\u001b[0m\u001b[0;34m)\u001b[0m\u001b[0;34m,\u001b[0m \u001b[0;34m(\u001b[0m\u001b[0;36m1\u001b[0m\u001b[0;34m,\u001b[0m \u001b[0;36m4\u001b[0m\u001b[0;34m)\u001b[0m\u001b[0;34m]\u001b[0m\u001b[0;34m,\u001b[0m \u001b[0mlabel\u001b[0m\u001b[0;34m=\u001b[0m\u001b[0;34m\"WN2898\"\u001b[0m\u001b[0;34m)\u001b[0m\u001b[0;34m\u001b[0m\u001b[0;34m\u001b[0m\u001b[0m\n\u001b[1;32m    675\u001b[0m         \"\"\"\n\u001b[0;32m--> 676\u001b[0;31m         \u001b[0;32mfor\u001b[0m \u001b[0me\u001b[0m \u001b[0;32min\u001b[0m \u001b[0mebunch_to_add\u001b[0m\u001b[0;34m:\u001b[0m\u001b[0;34m\u001b[0m\u001b[0;34m\u001b[0m\u001b[0m\n\u001b[0m\u001b[1;32m    677\u001b[0m             \u001b[0mne\u001b[0m \u001b[0;34m=\u001b[0m \u001b[0mlen\u001b[0m\u001b[0;34m(\u001b[0m\u001b[0me\u001b[0m\u001b[0;34m)\u001b[0m\u001b[0;34m\u001b[0m\u001b[0;34m\u001b[0m\u001b[0m\n\u001b[1;32m    678\u001b[0m             \u001b[0;32mif\u001b[0m \u001b[0mne\u001b[0m \u001b[0;34m==\u001b[0m \u001b[0;36m3\u001b[0m\u001b[0;34m:\u001b[0m\u001b[0;34m\u001b[0m\u001b[0;34m\u001b[0m\u001b[0m\n",
            "\u001b[0;31mKeyboardInterrupt\u001b[0m: "
          ]
        }
      ]
    },
    {
      "cell_type": "markdown",
      "source": [
        "## Tree Search"
      ],
      "metadata": {
        "id": "F1L7aZiXatnj"
      }
    },
    {
      "cell_type": "code",
      "source": [
        "ts = TreeSearch(data=train, root_node='age')\n",
        "tree_search_model = ts.estimate(show_progress=True)\n",
        "plot_network(tree_search_model, 'Structural Learning - Tree Search')\n",
        "tree_search_model = BayesianNetwork(tree_search_model.edges())\n",
        "tree_search_model, tree_search_cpds = fit_bayesian_network(tree_search_model, prior_type = 'BDeu', print_cpd = False)"
      ],
      "metadata": {
        "colab": {
          "base_uri": "https://localhost:8080/",
          "height": 749,
          "referenced_widgets": [
            "8c6e91a025574becaffaa5571e9e4d92",
            "49f48cb763c24207ac4e040f5ebe5e14",
            "1a94b8fd791d4b7fa702f4503544b431",
            "961a2a13b5dc4af9908dff0d9d1fb696",
            "799a59d80f264de6a3b4ca407f253064",
            "fd599db887b9422696b96669cb552139",
            "ad95d0c732f242b199dad295359f8d9c",
            "8f5d941e6de14c59ba644c240e3f35ab",
            "9fb3e1b220fa4a2283eddad4eacb231d",
            "5a8b0f0382aa4118a34a6f551ea6580a",
            "2609bcf4031a410ea70260b1df62b338"
          ]
        },
        "id": "SbOibh7fckkw",
        "outputId": "527cdb87-f232-4533-ff70-360c1d886798"
      },
      "execution_count": 19,
      "outputs": [
        {
          "output_type": "display_data",
          "data": {
            "text/plain": [
              "Building tree:   0%|          | 0/21.0 [00:00<?, ?it/s]"
            ],
            "application/vnd.jupyter.widget-view+json": {
              "version_major": 2,
              "version_minor": 0,
              "model_id": "8c6e91a025574becaffaa5571e9e4d92"
            }
          },
          "metadata": {}
        },
        {
          "output_type": "stream",
          "name": "stdout",
          "text": [
            "The CPDs contain no errors.\n"
          ]
        },
        {
          "output_type": "display_data",
          "data": {
            "text/plain": [
              "<Figure size 864x864 with 1 Axes>"
            ],
            "image/png": "[encoded data removed]"
          },
          "metadata": {}
        }
      ]
    },
    {
      "cell_type": "markdown",
      "source": [
        "## Hill Climb"
      ],
      "metadata": {
        "id": "_LZV7liEaxIA"
      }
    },
    {
      "cell_type": "code",
      "source": [
        "hill_climb = HillClimbSearch(data=train)\n",
        "hill_climb_base_model = hill_climb.estimate(scoring_method=BDeuScore(data=train), show_progress=True)\n",
        "plot_network(hill_climb_base_model, 'Structural Learning - Hill Climb')\n",
        "hill_climb_base_model = BayesianNetwork(hill_climb_base_model.edges())\n",
        "hill_climb_base_model, hill_climb_base_cpds = fit_bayesian_network(hill_climb_base_model, prior_type = 'BDeu', print_cpd = False)"
      ],
      "metadata": {
        "id": "4yn0JlThnbbO",
        "colab": {
          "base_uri": "https://localhost:8080/",
          "height": 749,
          "referenced_widgets": [
            "88c017ec4ff94f2190a027bb28cc3ba2",
            "8e517a1cb5a341b6a0569bea96966c43",
            "4dba4c5acd9c4d24bbefd71c218906ef",
            "c14f54edd53a4f31a902a491b37db809",
            "2e34b9bf6d6e4d429a3199c597bde99d",
            "37dd985e5b694d40bbc7b85365854519",
            "1d370ac21c1042cbb756eb26a99064e3",
            "3791c2d1ef2844f6a95b3c25f862b2c0",
            "68a5544ac8a94ce0af81ca6d37da806b",
            "83426cb278824d2f9600cadf7195e9e7",
            "73c5ccc60f9b46aab38ca2525c8f9f1d"
          ]
        },
        "outputId": "d0055ecb-945d-4c03-bbca-306e6df4f27e"
      },
      "execution_count": 20,
      "outputs": [
        {
          "output_type": "display_data",
          "data": {
            "text/plain": [
              "  0%|          | 0/1000000 [00:00<?, ?it/s]"
            ],
            "application/vnd.jupyter.widget-view+json": {
              "version_major": 2,
              "version_minor": 0,
              "model_id": "88c017ec4ff94f2190a027bb28cc3ba2"
            }
          },
          "metadata": {}
        },
        {
          "output_type": "stream",
          "name": "stdout",
          "text": [
            "The CPDs contain no errors.\n"
          ]
        },
        {
          "output_type": "display_data",
          "data": {
            "text/plain": [
              "<Figure size 864x864 with 1 Axes>"
            ],
            "image/png": "[encoded data removed]"
          },
          "metadata": {}
        }
      ]
    },
    {
      "cell_type": "markdown",
      "source": [
        "## Constrained Hill Climb"
      ],
      "metadata": {
        "id": "o0-eOFTwvzH-"
      }
    },
    {
      "cell_type": "code",
      "source": [
        "edges_white_list = [('misspayments_prev_6_months', 'default'), ('age','limit_bal')]\n",
        "edges_black_list = [('limit_bal', 'sex'), ('education', 'sex'), ('age', 'sex')]\n",
        "\n",
        "hill_climb = HillClimbSearch(data=train)\n",
        "constr_hill_climb_model = hill_climb.estimate(scoring_method=BDeuScore(data=train), fixed_edges=edges_white_list, \\\n",
        "                                              black_list=edges_black_list, show_progress=True)\n",
        "constr_hill_climb_model = BayesianNetwork(constr_hill_climb_model.edges())\n",
        "plot_network(constr_hill_climb_model, 'Structural Learning - Constrained Hill Climb')\n",
        "constr_hill_climb_model, hill_climb_constr_cpds = fit_bayesian_network(constr_hill_climb_model, prior_type = 'BDeu', print_cpd = False)"
      ],
      "metadata": {
        "colab": {
          "base_uri": "https://localhost:8080/",
          "height": 749,
          "referenced_widgets": [
            "fc1481055abd42a3b7b0da97e35db488",
            "472ca8bd3930477089ac164b93675082",
            "8b017d92951b42519afbac35c185fabe",
            "af909a97882b4b23bd29ddb69314a60e",
            "53d1aefcd3b04ab69913f6726bc4ca08",
            "6894642e00f44c5baceb007269def9f2",
            "cf943733b6504c8fb2c07cb25132cbe1",
            "b217be54196b433a97c19af40e90842b",
            "75395e04640244f0906fd163b39a49c5",
            "b21303934d2c463f9af991d468b046f3",
            "30c8fc2404864c2e9728b44e8902ef3d"
          ]
        },
        "id": "-YNRZhCeoOjZ",
        "outputId": "b36c9bb3-053b-41df-f5e5-2b81b53ac950"
      },
      "execution_count": 21,
      "outputs": [
        {
          "output_type": "display_data",
          "data": {
            "text/plain": [
              "  0%|          | 0/1000000 [00:00<?, ?it/s]"
            ],
            "application/vnd.jupyter.widget-view+json": {
              "version_major": 2,
              "version_minor": 0,
              "model_id": "fc1481055abd42a3b7b0da97e35db488"
            }
          },
          "metadata": {}
        },
        {
          "output_type": "stream",
          "name": "stdout",
          "text": [
            "The CPDs contain no errors.\n"
          ]
        },
        {
          "output_type": "display_data",
          "data": {
            "text/plain": [
              "<Figure size 864x864 with 1 Axes>"
            ],
            "image/png": "[encoded data removed]"
          },
          "metadata": {}
        }
      ]
    },
    {
      "cell_type": "markdown",
      "source": [
        "# Network analysis"
      ],
      "metadata": {
        "id": "Dd3Yk8IoaYvj"
      }
    },
    {
      "cell_type": "markdown",
      "source": [
        "We now have six differently designed Bayesian Networks with CPDs. Let's use the Pgmpy library to explore the local semantics or the networks and their Markov Blankets."
      ],
      "metadata": {
        "id": "L9Nh6xbIuovx"
      }
    },
    {
      "cell_type": "code",
      "source": [
        "models = [[\"EASY\", model_easy], [\"MEDIUM\", model_medium], [\"HARD\", model_hard] \\\n",
        "          ,[\"TREE SEARCH\", tree_search_model], [\"HILL CLIMB\", hill_climb_base_model], [\"CONSTRAINED HILL CLIMB\", constr_hill_climb_model]]\n",
        "nodes = [col_name for col_name, column in dataset.iteritems()]\n",
        "\n",
        "for model in models:\n",
        "  print(\"\")\n",
        "  print('\\033[1m' + model[0] + '\\033[0m')\n",
        "  print(\"\")\n",
        "  print('\\033[1m' + \"Local semantics: \\n\" + '\\033[0m' + str(model[1].local_independencies(nodes)))\n",
        "  print('\\033[1m' + \"Markov Blankets:\" + '\\033[0m')\n",
        "  for node in nodes:\n",
        "    print(f\"Markov blanket of node {node}: \" + str(model[1].get_markov_blanket(node)))\n",
        "\n",
        "\n"
      ],
      "metadata": {
        "id": "Q2npc9fWabXu",
        "colab": {
          "base_uri": "https://localhost:8080/"
        },
        "outputId": "b2d51b57-2edc-4b53-92a4-44734af9fe2d"
      },
      "execution_count": 56,
      "outputs": [
        {
          "output_type": "stream",
          "name": "stdout",
          "text": [
            "\n",
            "\u001b[1mEASY\u001b[0m\n",
            "\n",
            "\u001b[1mLocal semantics: \n",
            "\u001b[0m(limit_bal ⟂ misspayments_prev_6_months | marriage, sex, age, education)\n",
            "(sex ⟂ marriage, misspayments_prev_6_months, age, education)\n",
            "(education ⟂ misspayments_prev_6_months, sex, marriage, age)\n",
            "(marriage ⟂ misspayments_prev_6_months, sex, age, education)\n",
            "(age ⟂ misspayments_prev_6_months, sex, marriage, education)\n",
            "(default ⟂ education, marriage, age, sex | limit_bal, misspayments_prev_6_months)\n",
            "(misspayments_prev_6_months ⟂ sex, age, education, limit_bal, marriage)\n",
            "\u001b[1mMarkov Blankets:\u001b[0m\n",
            "Markov blanket of node limit_bal: ['sex', 'age', 'education', 'default', 'misspayments_prev_6_months', 'marriage']\n",
            "Markov blanket of node sex: ['age', 'education', 'limit_bal', 'marriage']\n",
            "Markov blanket of node education: ['sex', 'age', 'limit_bal', 'marriage']\n",
            "Markov blanket of node marriage: ['sex', 'age', 'education', 'limit_bal']\n",
            "Markov blanket of node age: ['sex', 'education', 'limit_bal', 'marriage']\n",
            "Markov blanket of node default: ['limit_bal', 'misspayments_prev_6_months']\n",
            "Markov blanket of node misspayments_prev_6_months: ['default', 'limit_bal']\n",
            "\n",
            "\u001b[1mMEDIUM\u001b[0m\n",
            "\n",
            "\u001b[1mLocal semantics: \n",
            "\u001b[0m(limit_bal ⟂ misspayments_prev_6_months, age | sex, marriage, education)\n",
            "(sex ⟂ education, misspayments_prev_6_months, marriage, age)\n",
            "(education ⟂ sex, marriage, misspayments_prev_6_months | age)\n",
            "(marriage ⟂ misspayments_prev_6_months, sex, education | age)\n",
            "(age ⟂ sex, misspayments_prev_6_months)\n",
            "(default ⟂ sex, marriage, education | misspayments_prev_6_months, limit_bal, age)\n",
            "(misspayments_prev_6_months ⟂ education, age, sex, limit_bal, marriage)\n",
            "\u001b[1mMarkov Blankets:\u001b[0m\n",
            "Markov blanket of node limit_bal: ['sex', 'age', 'education', 'default', 'misspayments_prev_6_months', 'marriage']\n",
            "Markov blanket of node sex: ['limit_bal', 'marriage', 'education']\n",
            "Markov blanket of node education: ['sex', 'age', 'limit_bal', 'marriage']\n",
            "Markov blanket of node marriage: ['education', 'sex', 'age', 'limit_bal']\n",
            "Markov blanket of node age: ['education', 'default', 'misspayments_prev_6_months', 'limit_bal', 'marriage']\n",
            "Markov blanket of node default: ['misspayments_prev_6_months', 'limit_bal', 'age']\n",
            "Markov blanket of node misspayments_prev_6_months: ['default', 'limit_bal', 'age']\n",
            "\n",
            "\u001b[1mHARD\u001b[0m\n",
            "\n",
            "\u001b[1mLocal semantics: \n",
            "\u001b[0m(limit_bal ⟂ misspayments_prev_6_months, age | sex, marriage, education)\n",
            "(sex ⟂ education, misspayments_prev_6_months, marriage, age)\n",
            "(education ⟂ sex, marriage, misspayments_prev_6_months | age)\n",
            "(marriage ⟂ misspayments_prev_6_months, sex, education | age)\n",
            "(age ⟂ sex, misspayments_prev_6_months)\n",
            "(default ⟂ sex | education, age, misspayments_prev_6_months, limit_bal, marriage)\n",
            "(misspayments_prev_6_months ⟂ education, age, sex, limit_bal, marriage)\n",
            "\u001b[1mMarkov Blankets:\u001b[0m\n",
            "Markov blanket of node limit_bal: ['sex', 'age', 'education', 'default', 'misspayments_prev_6_months', 'marriage']\n",
            "Markov blanket of node sex: ['limit_bal', 'marriage', 'education']\n",
            "Markov blanket of node education: ['age', 'sex', 'default', 'misspayments_prev_6_months', 'limit_bal', 'marriage']\n",
            "Markov blanket of node marriage: ['education', 'age', 'sex', 'default', 'misspayments_prev_6_months', 'limit_bal']\n",
            "Markov blanket of node age: ['education', 'default', 'misspayments_prev_6_months', 'limit_bal', 'marriage']\n",
            "Markov blanket of node default: ['education', 'age', 'misspayments_prev_6_months', 'limit_bal', 'marriage']\n",
            "Markov blanket of node misspayments_prev_6_months: ['education', 'age', 'default', 'limit_bal', 'marriage']\n",
            "\n",
            "\u001b[1mTREE SEARCH\u001b[0m\n",
            "\n",
            "\u001b[1mLocal semantics: \n",
            "\u001b[0m(limit_bal ⟂ marriage, age | education)\n",
            "(sex ⟂ age, education, misspayments_prev_6_months, default, marriage | limit_bal)\n",
            "(education ⟂ marriage | age)\n",
            "(marriage ⟂ sex, education, misspayments_prev_6_months, default, limit_bal | age)\n",
            "(default ⟂ sex, age, education, limit_bal, marriage | misspayments_prev_6_months)\n",
            "(misspayments_prev_6_months ⟂ marriage, sex, age, education | limit_bal)\n",
            "\u001b[1mMarkov Blankets:\u001b[0m\n",
            "Markov blanket of node limit_bal: ['education', 'sex', 'misspayments_prev_6_months']\n",
            "Markov blanket of node sex: ['limit_bal']\n",
            "Markov blanket of node education: ['limit_bal', 'age']\n",
            "Markov blanket of node marriage: ['age']\n",
            "Markov blanket of node age: ['marriage', 'education']\n",
            "Markov blanket of node default: ['misspayments_prev_6_months']\n",
            "Markov blanket of node misspayments_prev_6_months: ['default', 'limit_bal']\n",
            "\n",
            "\u001b[1mHILL CLIMB\u001b[0m\n",
            "\n",
            "\u001b[1mLocal semantics: \n",
            "\u001b[0m(sex ⟂ misspayments_prev_6_months | limit_bal, default)\n",
            "(education ⟂ misspayments_prev_6_months, default, sex | limit_bal, marriage, age)\n",
            "(marriage ⟂ default, misspayments_prev_6_months | limit_bal, sex)\n",
            "(age ⟂ default, misspayments_prev_6_months | limit_bal, marriage, sex)\n",
            "\u001b[1mMarkov Blankets:\u001b[0m\n",
            "Markov blanket of node limit_bal: ['age', 'sex', 'education', 'default', 'misspayments_prev_6_months', 'marriage']\n",
            "Markov blanket of node sex: ['age', 'default', 'limit_bal', 'marriage']\n",
            "Markov blanket of node education: ['limit_bal', 'marriage', 'age']\n",
            "Markov blanket of node marriage: ['education', 'sex', 'age', 'limit_bal']\n",
            "Markov blanket of node age: ['sex', 'education', 'limit_bal', 'marriage']\n",
            "Markov blanket of node default: ['sex', 'limit_bal', 'misspayments_prev_6_months']\n",
            "Markov blanket of node misspayments_prev_6_months: ['limit_bal', 'default']\n",
            "\n",
            "\u001b[1mCONSTRAINED HILL CLIMB\u001b[0m\n",
            "\n",
            "\u001b[1mLocal semantics: \n",
            "\u001b[0m(limit_bal ⟂ sex | age, marriage, education)\n",
            "(education ⟂ sex | marriage, age)\n",
            "(default ⟂ education, marriage, age, sex | limit_bal, misspayments_prev_6_months)\n",
            "(misspayments_prev_6_months ⟂ education, marriage, age, sex | limit_bal)\n",
            "\u001b[1mMarkov Blankets:\u001b[0m\n",
            "Markov blanket of node limit_bal: ['education', 'age', 'default', 'misspayments_prev_6_months', 'marriage']\n",
            "Markov blanket of node sex: ['marriage', 'age']\n",
            "Markov blanket of node education: ['limit_bal', 'marriage', 'age']\n",
            "Markov blanket of node marriage: ['education', 'sex', 'age', 'limit_bal']\n",
            "Markov blanket of node age: ['sex', 'education', 'limit_bal', 'marriage']\n",
            "Markov blanket of node default: ['limit_bal', 'misspayments_prev_6_months']\n",
            "Markov blanket of node misspayments_prev_6_months: ['default', 'limit_bal']\n"
          ]
        }
      ]
    },
    {
      "cell_type": "markdown",
      "source": [
        "Let's see how the three characterising types of a Bayesian Network (common parent, cascade and V-structure) impact indipendencies within the networks."
      ],
      "metadata": {
        "id": "qf6fenWv7J1d"
      }
    },
    {
      "cell_type": "markdown",
      "source": [
        "__Common parent__:\n",
        "\n",
        "In TREE SEARCH,we have that _marriage_ <- _age_ -> _education_. Hence we say that _age_ is a common parent to _marriage_ and _education_. Let's visualise the independencies that it generates:"
      ],
      "metadata": {
        "id": "jc-nUt967liL"
      }
    },
    {
      "cell_type": "code",
      "source": [
        "print(tree_search_model.local_independencies(['age', 'marriage', 'education']))"
      ],
      "metadata": {
        "colab": {
          "base_uri": "https://localhost:8080/"
        },
        "id": "3yA1u1j17oys",
        "outputId": "ed686413-e6da-4007-9fec-39814ce35741"
      },
      "execution_count": 65,
      "outputs": [
        {
          "output_type": "stream",
          "name": "stdout",
          "text": [
            "(marriage ⟂ sex, education, misspayments_prev_6_months, default, limit_bal | age)\n",
            "(education ⟂ marriage | age)\n"
          ]
        }
      ]
    },
    {
      "cell_type": "markdown",
      "source": [
        "This shows how education and marriage are indipendent given age, which is indeed a result given by their structure in the network. Moreover, we can see that since _age_ is the only node in the Markov Blanket of _marriage_, the latter is indeed indipendent to the rest of the network given _age_."
      ],
      "metadata": {
        "id": "bgMisfZGAgDW"
      }
    },
    {
      "cell_type": "markdown",
      "source": [
        "__Cascade__:"
      ],
      "metadata": {
        "id": "MdxW3uEpCx2D"
      }
    },
    {
      "cell_type": "markdown",
      "source": [
        "In TREE SEARCH, we have that _age_ -> _education_ -> _limit-bal_ is a cascade. Let's visualise the independencies that it generates:"
      ],
      "metadata": {
        "id": "pIQV4JF4C93M"
      }
    },
    {
      "cell_type": "code",
      "source": [
        "print(tree_search_model.local_independencies(['age', 'education', 'limit_bal']))"
      ],
      "metadata": {
        "colab": {
          "base_uri": "https://localhost:8080/"
        },
        "id": "AYxWV4IZC9Fi",
        "outputId": "961119e5-605c-4ecd-c610-ff02ab6f4714"
      },
      "execution_count": 67,
      "outputs": [
        {
          "output_type": "stream",
          "name": "stdout",
          "text": [
            "(education ⟂ marriage | age)\n",
            "(limit_bal ⟂ marriage, age | education)\n"
          ]
        }
      ]
    },
    {
      "cell_type": "markdown",
      "source": [
        "This shows that given _education_, _age_ and _limit-bal_ are independent, which is again a given in a cascade structure. "
      ],
      "metadata": {
        "id": "Hz342GL_DiaL"
      }
    },
    {
      "cell_type": "markdown",
      "source": [
        "__V-structure__:\n",
        "\n",
        "In EASY, we can see that _limit-bal_ -> _default_ <- _misspayment-prev-6-months_. We call this a V-structure. Let's visualise once again the independencies generated: "
      ],
      "metadata": {
        "id": "qthbGrQzEbe5"
      }
    },
    {
      "cell_type": "code",
      "source": [
        "print(model_easy.local_independencies(['limit_bal', 'default', 'misspayments_prev_6_months']))"
      ],
      "metadata": {
        "colab": {
          "base_uri": "https://localhost:8080/"
        },
        "id": "qpwpIT2KE95l",
        "outputId": "2e5abf14-b90e-453e-952b-b3f2c68e5254"
      },
      "execution_count": 69,
      "outputs": [
        {
          "output_type": "stream",
          "name": "stdout",
          "text": [
            "(limit_bal ⟂ misspayments_prev_6_months | marriage, sex, age, education)\n",
            "(default ⟂ education, marriage, age, sex | limit_bal, misspayments_prev_6_months)\n",
            "(misspayments_prev_6_months ⟂ sex, age, education, limit_bal, marriage)\n"
          ]
        }
      ]
    },
    {
      "cell_type": "markdown",
      "source": [
        "We can see already that _limit-bal_ is independent to _misspayment-prev-6-months_ when default is not observed. Let's now formalise this a little by proving the below independence relationship:\n",
        "\n",
        "* P(_limit-bal_ AND _misspayments-prev-6-months_) = P(_limit-bal_) * P(_misspayments_prev_6_months_)\n",
        "\n",
        "* P(_limit-bal_ AND _misspayments-prev-6-months_ | _default_) != P(_limit-bal_ | _default_) * P(_misspayments-prev-6-months_ | _default_)\n"
      ],
      "metadata": {
        "id": "-FOT_pZcKrT6"
      }
    },
    {
      "cell_type": "code",
      "source": [
        "\n",
        "print(\"P(limit-bal AND misspayments-prev-6-months) = P(limit-bal) * P(misspayments_prev_6_months) is \" + \\\n",
        "      str(VariableElimination(model_easy).query([\"misspayments_prev_6_months\", \"limit_bal\"]) == \\\n",
        "      VariableElimination(model_easy).query([\"limit_bal\"]) * VariableElimination(model_easy).query([\"misspayments_prev_6_months\"])))\n",
        "\n",
        "print(\"P(limit-bal AND misspayments-prev-6-months | default) = P(limit-bal | default) * P(misspayments_prev_6_months | default) is \" + \\\n",
        "      str(VariableElimination(model_easy).query([\"misspayments_prev_6_months\", \"limit_bal\"], {\"default\":0}) == \\\n",
        "      VariableElimination(model_easy).query([\"limit_bal\"], {\"default\":0}) * VariableElimination(model_easy).query([\"misspayments_prev_6_months\"], {\"default\":0})))"
      ],
      "metadata": {
        "colab": {
          "base_uri": "https://localhost:8080/"
        },
        "id": "9knaHbYJIBCh",
        "outputId": "8b6f90b1-80c1-4871-8393-057e163628ca"
      },
      "execution_count": 97,
      "outputs": [
        {
          "output_type": "stream",
          "name": "stdout",
          "text": [
            "P(limit-bal AND misspayments-prev-6-months) = P(limit-bal) * P(misspayments_prev_6_months) is True\n",
            "P(limit-bal AND misspayments-prev-6-months | default) = P(limit-bal | default) * P(misspayments_prev_6_months | default) is False\n"
          ]
        }
      ]
    },
    {
      "cell_type": "markdown",
      "source": [
        "Indeed we have that limit_bal is independent to misspayments_prev_6_months when default is not observed, while limit_bal is conditionally dependent to misspayments_prev_6_months when default is observed."
      ],
      "metadata": {
        "id": "B4Pg1SXkKTRL"
      }
    },
    {
      "cell_type": "markdown",
      "source": [
        "# Queries\n",
        "* P(Default | age) \n",
        "* P(Default | age, marriage)\n",
        "* P(Default | age, marriage, education)\n",
        "* P(Education = graduate | default)\n",
        "* P(Default | Education = graduate, Misspayment = 5)\n",
        "* P(Default | Education = High school, Misspayment = 5)"
      ],
      "metadata": {
        "id": "xxgEaysEeF1P"
      }
    },
    {
      "cell_type": "markdown",
      "source": [
        "*TBC: Explain why we're using variable elimination (Optional, construct algorigthm instead of using class)*"
      ],
      "metadata": {
        "id": "GMicQTs6Zrge"
      }
    },
    {
      "cell_type": "code",
      "source": [
        "data_infer_easy = VariableElimination(model_easy)\n",
        "data_infer_medium = VariableElimination(model_medium)\n",
        "data_infer_hard = VariableElimination(model_hard)\n",
        "data_infer_tree_search = VariableElimination(tree_search_model)\n",
        "data_infer_hill_climb = VariableElimination(hill_climb_base_model)\n",
        "data_infer_constr_hill_climb = VariableElimination(constr_hill_climb_model)\n",
        "\n",
        "def display_inference_results(query_desc: str, query: list, evidence: dict):\n",
        "  print(query_desc)\n",
        "  print('EASY')\n",
        "  print(data_infer_easy.query(query, evidence))\n",
        "  print('MEDIUM')\n",
        "  print(data_infer_medium.query(query, evidence))\n",
        "  print('HARD')\n",
        "  print(data_infer_hard.query(query, evidence))\n",
        "  print('TREE SEARCH')\n",
        "  print(data_infer_tree_search.query(query, evidence))\n",
        "  print('HILL CLIMB')\n",
        "  print(data_infer_hill_climb.query(query, evidence))\n",
        "  print('CONSTRAINED HILL CLIMB')\n",
        "  print(data_infer_constr_hill_climb.query(query, evidence))"
      ],
      "metadata": {
        "id": "sdTXt6N65YzN"
      },
      "execution_count": null,
      "outputs": []
    },
    {
      "cell_type": "code",
      "source": [
        "query, evidence = [\"default\"], {\"age\": \"young\"}\n",
        "display_inference_results('Probability of default being young', query, evidence)"
      ],
      "metadata": {
        "colab": {
          "base_uri": "https://localhost:8080/"
        },
        "id": "BLa10v-HZfh1",
        "outputId": "8bef289c-2e8a-4880-c4f0-ae0db98c01ce"
      },
      "execution_count": null,
      "outputs": [
        {
          "output_type": "stream",
          "name": "stdout",
          "text": [
            "Probability of default being young\n",
            "EASY\n",
            "+------------+----------------+\n",
            "| default    |   phi(default) |\n",
            "+============+================+\n",
            "| default(0) |         0.7757 |\n",
            "+------------+----------------+\n",
            "| default(1) |         0.2243 |\n",
            "+------------+----------------+\n",
            "MEDIUM\n",
            "+------------+----------------+\n",
            "| default    |   phi(default) |\n",
            "+============+================+\n",
            "| default(0) |         0.7898 |\n",
            "+------------+----------------+\n",
            "| default(1) |         0.2102 |\n",
            "+------------+----------------+\n",
            "HARD\n",
            "+------------+----------------+\n",
            "| default    |   phi(default) |\n",
            "+============+================+\n",
            "| default(0) |         0.7894 |\n",
            "+------------+----------------+\n",
            "| default(1) |         0.2106 |\n",
            "+------------+----------------+\n",
            "TREE SEARCH\n",
            "+------------+----------------+\n",
            "| default    |   phi(default) |\n",
            "+============+================+\n",
            "| default(0) |         0.7804 |\n",
            "+------------+----------------+\n",
            "| default(1) |         0.2196 |\n",
            "+------------+----------------+\n",
            "HILL CLIMB\n",
            "+------------+----------------+\n",
            "| default    |   phi(default) |\n",
            "+============+================+\n",
            "| default(0) |         0.7788 |\n",
            "+------------+----------------+\n",
            "| default(1) |         0.2212 |\n",
            "+------------+----------------+\n",
            "CONSTRAINED HILL CLIMB\n",
            "+------------+----------------+\n",
            "| default    |   phi(default) |\n",
            "+============+================+\n",
            "| default(0) |         0.7711 |\n",
            "+------------+----------------+\n",
            "| default(1) |         0.2289 |\n",
            "+------------+----------------+\n"
          ]
        }
      ]
    },
    {
      "cell_type": "code",
      "source": [
        "query, evidence = [\"default\"], {\"age\": \"mid_aged\"}\n",
        "display_inference_results('Probability of default being mid aged', query, evidence)"
      ],
      "metadata": {
        "colab": {
          "base_uri": "https://localhost:8080/"
        },
        "id": "mxh2n8QbZdnf",
        "outputId": "7b1b1863-fd1a-4f29-eb4b-606beef18671"
      },
      "execution_count": null,
      "outputs": [
        {
          "output_type": "stream",
          "name": "stdout",
          "text": [
            "Probability of default being mid aged\n",
            "EASY\n",
            "+------------+----------------+\n",
            "| default    |   phi(default) |\n",
            "+============+================+\n",
            "| default(0) |         0.7818 |\n",
            "+------------+----------------+\n",
            "| default(1) |         0.2182 |\n",
            "+------------+----------------+\n",
            "MEDIUM\n",
            "+------------+----------------+\n",
            "| default    |   phi(default) |\n",
            "+============+================+\n",
            "| default(0) |         0.7650 |\n",
            "+------------+----------------+\n",
            "| default(1) |         0.2350 |\n",
            "+------------+----------------+\n",
            "HARD\n",
            "+------------+----------------+\n",
            "| default    |   phi(default) |\n",
            "+============+================+\n",
            "| default(0) |         0.7665 |\n",
            "+------------+----------------+\n",
            "| default(1) |         0.2335 |\n",
            "+------------+----------------+\n",
            "TREE SEARCH\n",
            "+------------+----------------+\n",
            "| default    |   phi(default) |\n",
            "+============+================+\n",
            "| default(0) |         0.7770 |\n",
            "+------------+----------------+\n",
            "| default(1) |         0.2230 |\n",
            "+------------+----------------+\n",
            "HILL CLIMB\n",
            "+------------+----------------+\n",
            "| default    |   phi(default) |\n",
            "+============+================+\n",
            "| default(0) |         0.7862 |\n",
            "+------------+----------------+\n",
            "| default(1) |         0.2138 |\n",
            "+------------+----------------+\n",
            "CONSTRAINED HILL CLIMB\n",
            "+------------+----------------+\n",
            "| default    |   phi(default) |\n",
            "+============+================+\n",
            "| default(0) |         0.7830 |\n",
            "+------------+----------------+\n",
            "| default(1) |         0.2170 |\n",
            "+------------+----------------+\n"
          ]
        }
      ]
    },
    {
      "cell_type": "code",
      "source": [
        "query, evidence = [\"default\"], {\"age\": \"senior\"}\n",
        "display_inference_results('Probability of default being mid senior', query, evidence)"
      ],
      "metadata": {
        "colab": {
          "base_uri": "https://localhost:8080/"
        },
        "id": "u2JqHMtJZb6N",
        "outputId": "0bbe407d-5ace-41fd-c11f-b42385938c40"
      },
      "execution_count": null,
      "outputs": [
        {
          "output_type": "stream",
          "name": "stdout",
          "text": [
            "Probability of default being mid senior\n",
            "EASY\n",
            "+------------+----------------+\n",
            "| default    |   phi(default) |\n",
            "+============+================+\n",
            "| default(0) |         0.7810 |\n",
            "+------------+----------------+\n",
            "| default(1) |         0.2190 |\n",
            "+------------+----------------+\n",
            "MEDIUM\n",
            "+------------+----------------+\n",
            "| default    |   phi(default) |\n",
            "+============+================+\n",
            "| default(0) |         0.7512 |\n",
            "+------------+----------------+\n",
            "| default(1) |         0.2488 |\n",
            "+------------+----------------+\n",
            "HARD\n",
            "+------------+----------------+\n",
            "| default    |   phi(default) |\n",
            "+============+================+\n",
            "| default(0) |         0.7370 |\n",
            "+------------+----------------+\n",
            "| default(1) |         0.2630 |\n",
            "+------------+----------------+\n",
            "TREE SEARCH\n",
            "+------------+----------------+\n",
            "| default    |   phi(default) |\n",
            "+============+================+\n",
            "| default(0) |         0.7750 |\n",
            "+------------+----------------+\n",
            "| default(1) |         0.2250 |\n",
            "+------------+----------------+\n",
            "HILL CLIMB\n",
            "+------------+----------------+\n",
            "| default    |   phi(default) |\n",
            "+============+================+\n",
            "| default(0) |         0.7847 |\n",
            "+------------+----------------+\n",
            "| default(1) |         0.2153 |\n",
            "+------------+----------------+\n",
            "CONSTRAINED HILL CLIMB\n",
            "+------------+----------------+\n",
            "| default    |   phi(default) |\n",
            "+============+================+\n",
            "| default(0) |         0.7800 |\n",
            "+------------+----------------+\n",
            "| default(1) |         0.2200 |\n",
            "+------------+----------------+\n"
          ]
        }
      ]
    },
    {
      "cell_type": "code",
      "source": [
        "query, evidence = [\"default\"], {\"age\": \"mid_aged\", \"marriage\": \"not_married\"}\n",
        "display_inference_results('Probability of default being mid aged and married', query, evidence)"
      ],
      "metadata": {
        "colab": {
          "base_uri": "https://localhost:8080/"
        },
        "id": "OTYZxd1EZaTo",
        "outputId": "ac6d084f-d98b-4495-ed43-219f51f48b69"
      },
      "execution_count": null,
      "outputs": [
        {
          "output_type": "stream",
          "name": "stdout",
          "text": [
            "Probability of default being mid aged and married\n",
            "EASY\n",
            "+------------+----------------+\n",
            "| default    |   phi(default) |\n",
            "+============+================+\n",
            "| default(0) |         0.7796 |\n",
            "+------------+----------------+\n",
            "| default(1) |         0.2204 |\n",
            "+------------+----------------+\n",
            "MEDIUM\n",
            "+------------+----------------+\n",
            "| default    |   phi(default) |\n",
            "+============+================+\n",
            "| default(0) |         0.7579 |\n",
            "+------------+----------------+\n",
            "| default(1) |         0.2421 |\n",
            "+------------+----------------+\n",
            "HARD\n",
            "+------------+----------------+\n",
            "| default    |   phi(default) |\n",
            "+============+================+\n",
            "| default(0) |         0.7680 |\n",
            "+------------+----------------+\n",
            "| default(1) |         0.2320 |\n",
            "+------------+----------------+\n",
            "TREE SEARCH\n",
            "+------------+----------------+\n",
            "| default    |   phi(default) |\n",
            "+============+================+\n",
            "| default(0) |         0.7770 |\n",
            "+------------+----------------+\n",
            "| default(1) |         0.2230 |\n",
            "+------------+----------------+\n",
            "HILL CLIMB\n",
            "+------------+----------------+\n",
            "| default    |   phi(default) |\n",
            "+============+================+\n",
            "| default(0) |         0.7780 |\n",
            "+------------+----------------+\n",
            "| default(1) |         0.2220 |\n",
            "+------------+----------------+\n",
            "CONSTRAINED HILL CLIMB\n",
            "+------------+----------------+\n",
            "| default    |   phi(default) |\n",
            "+============+================+\n",
            "| default(0) |         0.7778 |\n",
            "+------------+----------------+\n",
            "| default(1) |         0.2222 |\n",
            "+------------+----------------+\n"
          ]
        }
      ]
    },
    {
      "cell_type": "code",
      "source": [
        "query, evidence = [\"default\"], {\"age\": \"mid_aged\", \"marriage\": \"married\", \"education\": \"graduate\"}\n",
        "display_inference_results('Probability of default being mid aged and married and holding a graduate degree', query, evidence)"
      ],
      "metadata": {
        "colab": {
          "base_uri": "https://localhost:8080/"
        },
        "id": "qEaQVqlNZXzu",
        "outputId": "8b2b0175-856c-4e2b-e0ec-8ca03c7a10b5"
      },
      "execution_count": null,
      "outputs": [
        {
          "output_type": "stream",
          "name": "stdout",
          "text": [
            "Probability of default being mid aged and married and holding a graduate degree\n",
            "EASY\n",
            "+------------+----------------+\n",
            "| default    |   phi(default) |\n",
            "+============+================+\n",
            "| default(0) |         0.7970 |\n",
            "+------------+----------------+\n",
            "| default(1) |         0.2030 |\n",
            "+------------+----------------+\n",
            "MEDIUM\n",
            "+------------+----------------+\n",
            "| default    |   phi(default) |\n",
            "+============+================+\n",
            "| default(0) |         0.7847 |\n",
            "+------------+----------------+\n",
            "| default(1) |         0.2153 |\n",
            "+------------+----------------+\n",
            "HARD\n",
            "+------------+----------------+\n",
            "| default    |   phi(default) |\n",
            "+============+================+\n",
            "| default(0) |         0.7794 |\n",
            "+------------+----------------+\n",
            "| default(1) |         0.2206 |\n",
            "+------------+----------------+\n",
            "TREE SEARCH\n",
            "+------------+----------------+\n",
            "| default    |   phi(default) |\n",
            "+============+================+\n",
            "| default(0) |         0.7948 |\n",
            "+------------+----------------+\n",
            "| default(1) |         0.2052 |\n",
            "+------------+----------------+\n",
            "HILL CLIMB\n",
            "+------------+----------------+\n",
            "| default    |   phi(default) |\n",
            "+============+================+\n",
            "| default(0) |         0.8254 |\n",
            "+------------+----------------+\n",
            "| default(1) |         0.1746 |\n",
            "+------------+----------------+\n",
            "CONSTRAINED HILL CLIMB\n",
            "+------------+----------------+\n",
            "| default    |   phi(default) |\n",
            "+============+================+\n",
            "| default(0) |         0.8079 |\n",
            "+------------+----------------+\n",
            "| default(1) |         0.1921 |\n",
            "+------------+----------------+\n"
          ]
        }
      ]
    },
    {
      "cell_type": "code",
      "source": [
        "query, evidence = [\"education\"], {\"default\": 1}\n",
        "display_inference_results('Probabilities of holding education titles having had the default', query, evidence)"
      ],
      "metadata": {
        "colab": {
          "base_uri": "https://localhost:8080/"
        },
        "id": "FYPGZ5IkZXK5",
        "outputId": "704780b1-9a19-4ec3-ebca-96542eebe233"
      },
      "execution_count": null,
      "outputs": [
        {
          "output_type": "stream",
          "name": "stdout",
          "text": [
            "Probabilities of holding education titles having had the default\n",
            "EASY\n",
            "+------------------------+------------------+\n",
            "| education              |   phi(education) |\n",
            "+========================+==================+\n",
            "| education(graduate)    |           0.3334 |\n",
            "+------------------------+------------------+\n",
            "| education(high_school) |           0.1712 |\n",
            "+------------------------+------------------+\n",
            "| education(others)      |           0.0158 |\n",
            "+------------------------+------------------+\n",
            "| education(university)  |           0.4796 |\n",
            "+------------------------+------------------+\n",
            "MEDIUM\n",
            "+------------------------+------------------+\n",
            "| education              |   phi(education) |\n",
            "+========================+==================+\n",
            "| education(graduate)    |           0.3308 |\n",
            "+------------------------+------------------+\n",
            "| education(high_school) |           0.1745 |\n",
            "+------------------------+------------------+\n",
            "| education(others)      |           0.0158 |\n",
            "+------------------------+------------------+\n",
            "| education(university)  |           0.4789 |\n",
            "+------------------------+------------------+\n",
            "HARD\n",
            "+------------------------+------------------+\n",
            "| education              |   phi(education) |\n",
            "+========================+==================+\n",
            "| education(graduate)    |           0.3339 |\n",
            "+------------------------+------------------+\n",
            "| education(high_school) |           0.1659 |\n",
            "+------------------------+------------------+\n",
            "| education(others)      |           0.0104 |\n",
            "+------------------------+------------------+\n",
            "| education(university)  |           0.4898 |\n",
            "+------------------------+------------------+\n",
            "TREE SEARCH\n",
            "+------------------------+------------------+\n",
            "| education              |   phi(education) |\n",
            "+========================+==================+\n",
            "| education(graduate)    |           0.3267 |\n",
            "+------------------------+------------------+\n",
            "| education(high_school) |           0.1743 |\n",
            "+------------------------+------------------+\n",
            "| education(others)      |           0.0155 |\n",
            "+------------------------+------------------+\n",
            "| education(university)  |           0.4835 |\n",
            "+------------------------+------------------+\n",
            "HILL CLIMB\n",
            "+------------------------+------------------+\n",
            "| education              |   phi(education) |\n",
            "+========================+==================+\n",
            "| education(graduate)    |           0.3122 |\n",
            "+------------------------+------------------+\n",
            "| education(high_school) |           0.1812 |\n",
            "+------------------------+------------------+\n",
            "| education(others)      |           0.0152 |\n",
            "+------------------------+------------------+\n",
            "| education(university)  |           0.4915 |\n",
            "+------------------------+------------------+\n",
            "CONSTRAINED HILL CLIMB\n",
            "+------------------------+------------------+\n",
            "| education              |   phi(education) |\n",
            "+========================+==================+\n",
            "| education(graduate)    |           0.3264 |\n",
            "+------------------------+------------------+\n",
            "| education(high_school) |           0.1747 |\n",
            "+------------------------+------------------+\n",
            "| education(others)      |           0.0155 |\n",
            "+------------------------+------------------+\n",
            "| education(university)  |           0.4834 |\n",
            "+------------------------+------------------+\n"
          ]
        }
      ]
    },
    {
      "cell_type": "code",
      "source": [
        "query, evidence = [\"default\"], {\"education\": \"graduate\", \"misspayments_prev_6_months\": 5}\n",
        "display_inference_results('Probability of default holding a graduate degree and having 5 misspayments in the previous 6 months', query, evidence)"
      ],
      "metadata": {
        "colab": {
          "base_uri": "https://localhost:8080/"
        },
        "id": "pAZCw-W-ZTOd",
        "outputId": "c73656ed-d387-477b-f226-d6349214f980"
      },
      "execution_count": null,
      "outputs": [
        {
          "output_type": "stream",
          "name": "stdout",
          "text": [
            "Probability of default holding a graduate degree and having 5 misspayments in the previous 6 months\n",
            "EASY\n",
            "+------------+----------------+\n",
            "| default    |   phi(default) |\n",
            "+============+================+\n",
            "| default(0) |         0.4177 |\n",
            "+------------+----------------+\n",
            "| default(1) |         0.5823 |\n",
            "+------------+----------------+\n",
            "MEDIUM\n",
            "+------------+----------------+\n",
            "| default    |   phi(default) |\n",
            "+============+================+\n",
            "| default(0) |         0.4228 |\n",
            "+------------+----------------+\n",
            "| default(1) |         0.5772 |\n",
            "+------------+----------------+\n",
            "HARD\n",
            "+------------+----------------+\n",
            "| default    |   phi(default) |\n",
            "+============+================+\n",
            "| default(0) |         0.5804 |\n",
            "+------------+----------------+\n",
            "| default(1) |         0.4196 |\n",
            "+------------+----------------+\n",
            "TREE SEARCH\n",
            "+------------+----------------+\n",
            "| default    |   phi(default) |\n",
            "+============+================+\n",
            "| default(0) |         0.4011 |\n",
            "+------------+----------------+\n",
            "| default(1) |         0.5989 |\n",
            "+------------+----------------+\n",
            "HILL CLIMB\n",
            "+------------+----------------+\n",
            "| default    |   phi(default) |\n",
            "+============+================+\n",
            "| default(0) |         0.4116 |\n",
            "+------------+----------------+\n",
            "| default(1) |         0.5884 |\n",
            "+------------+----------------+\n",
            "CONSTRAINED HILL CLIMB\n",
            "+------------+----------------+\n",
            "| default    |   phi(default) |\n",
            "+============+================+\n",
            "| default(0) |         0.4025 |\n",
            "+------------+----------------+\n",
            "| default(1) |         0.5975 |\n",
            "+------------+----------------+\n"
          ]
        }
      ]
    },
    {
      "cell_type": "code",
      "source": [
        "query, evidence = [\"default\"], {\"education\": \"high_school\", \"misspayments_prev_6_months\": 5}\n",
        "display_inference_results('Probability of default holding an high school diploma, and having 5 misspayments in the previous 6 months', query, evidence)"
      ],
      "metadata": {
        "colab": {
          "base_uri": "https://localhost:8080/"
        },
        "id": "p-Zd_t8rZQis",
        "outputId": "f6b43ee5-1eff-4687-ebe8-7dc6772fa227"
      },
      "execution_count": null,
      "outputs": [
        {
          "output_type": "stream",
          "name": "stdout",
          "text": [
            "Probability of default holding an high school diploma, and having 5 misspayments in the previous 6 months\n",
            "EASY\n",
            "+------------+----------------+\n",
            "| default    |   phi(default) |\n",
            "+============+================+\n",
            "| default(0) |         0.4002 |\n",
            "+------------+----------------+\n",
            "| default(1) |         0.5998 |\n",
            "+------------+----------------+\n",
            "MEDIUM\n",
            "+------------+----------------+\n",
            "| default    |   phi(default) |\n",
            "+============+================+\n",
            "| default(0) |         0.4093 |\n",
            "+------------+----------------+\n",
            "| default(1) |         0.5907 |\n",
            "+------------+----------------+\n",
            "HARD\n",
            "+------------+----------------+\n",
            "| default    |   phi(default) |\n",
            "+============+================+\n",
            "| default(0) |         0.3997 |\n",
            "+------------+----------------+\n",
            "| default(1) |         0.6003 |\n",
            "+------------+----------------+\n",
            "TREE SEARCH\n",
            "+------------+----------------+\n",
            "| default    |   phi(default) |\n",
            "+============+================+\n",
            "| default(0) |         0.4011 |\n",
            "+------------+----------------+\n",
            "| default(1) |         0.5989 |\n",
            "+------------+----------------+\n",
            "HILL CLIMB\n",
            "+------------+----------------+\n",
            "| default    |   phi(default) |\n",
            "+============+================+\n",
            "| default(0) |         0.4001 |\n",
            "+------------+----------------+\n",
            "| default(1) |         0.5999 |\n",
            "+------------+----------------+\n",
            "CONSTRAINED HILL CLIMB\n",
            "+------------+----------------+\n",
            "| default    |   phi(default) |\n",
            "+============+================+\n",
            "| default(0) |         0.4007 |\n",
            "+------------+----------------+\n",
            "| default(1) |         0.5993 |\n",
            "+------------+----------------+\n"
          ]
        }
      ]
    },
    {
      "cell_type": "code",
      "source": [
        "query, evidence = [\"default\"], {\"limit_bal\": \"medium_high\", \"misspayments_prev_6_months\": 5}\n",
        "display_inference_results('Probability of default having a medium-high balance limit, and having 5 misspayments in the previous 6 months', query, evidence)"
      ],
      "metadata": {
        "colab": {
          "base_uri": "https://localhost:8080/"
        },
        "id": "bk8jD_ILZOcT",
        "outputId": "3de5d0a0-d914-4115-b493-7d1062402d56"
      },
      "execution_count": null,
      "outputs": [
        {
          "output_type": "stream",
          "name": "stdout",
          "text": [
            "Probability of default having a medium-high balance limit, and having 5 misspayments in the previous 6 months\n",
            "EASY\n",
            "+------------+----------------+\n",
            "| default    |   phi(default) |\n",
            "+============+================+\n",
            "| default(0) |         0.3690 |\n",
            "+------------+----------------+\n",
            "| default(1) |         0.6310 |\n",
            "+------------+----------------+\n",
            "MEDIUM\n",
            "+------------+----------------+\n",
            "| default    |   phi(default) |\n",
            "+============+================+\n",
            "| default(0) |         0.3812 |\n",
            "+------------+----------------+\n",
            "| default(1) |         0.6188 |\n",
            "+------------+----------------+\n",
            "HARD\n",
            "+------------+----------------+\n",
            "| default    |   phi(default) |\n",
            "+============+================+\n",
            "| default(0) |         0.4165 |\n",
            "+------------+----------------+\n",
            "| default(1) |         0.5835 |\n",
            "+------------+----------------+\n",
            "TREE SEARCH\n",
            "+------------+----------------+\n",
            "| default    |   phi(default) |\n",
            "+============+================+\n",
            "| default(0) |         0.4011 |\n",
            "+------------+----------------+\n",
            "| default(1) |         0.5989 |\n",
            "+------------+----------------+\n",
            "HILL CLIMB\n",
            "+------------+----------------+\n",
            "| default    |   phi(default) |\n",
            "+============+================+\n",
            "| default(0) |         0.3690 |\n",
            "+------------+----------------+\n",
            "| default(1) |         0.6310 |\n",
            "+------------+----------------+\n",
            "CONSTRAINED HILL CLIMB\n",
            "+------------+----------------+\n",
            "| default    |   phi(default) |\n",
            "+============+================+\n",
            "| default(0) |         0.3985 |\n",
            "+------------+----------------+\n",
            "| default(1) |         0.6015 |\n",
            "+------------+----------------+\n"
          ]
        }
      ]
    },
    {
      "cell_type": "code",
      "source": [
        "query, evidence = [\"default\"], {\"sex\": \"male\"}\n",
        "display_inference_results('Probability of default given sex', query, evidence)"
      ],
      "metadata": {
        "colab": {
          "base_uri": "https://localhost:8080/"
        },
        "id": "i0S6VMIqhZNl",
        "outputId": "f479f497-51ee-46db-a9e4-435361a8b2a5"
      },
      "execution_count": null,
      "outputs": [
        {
          "output_type": "stream",
          "name": "stdout",
          "text": [
            "Probability of default given sex\n",
            "EASY\n",
            "+------------+----------------+\n",
            "| default    |   phi(default) |\n",
            "+============+================+\n",
            "| default(0) |         0.7754 |\n",
            "+------------+----------------+\n",
            "| default(1) |         0.2246 |\n",
            "+------------+----------------+\n",
            "MEDIUM\n",
            "+------------+----------------+\n",
            "| default    |   phi(default) |\n",
            "+============+================+\n",
            "| default(0) |         0.7752 |\n",
            "+------------+----------------+\n",
            "| default(1) |         0.2248 |\n",
            "+------------+----------------+\n",
            "HARD\n",
            "+------------+----------------+\n",
            "| default    |   phi(default) |\n",
            "+============+================+\n",
            "| default(0) |         0.7754 |\n",
            "+------------+----------------+\n",
            "| default(1) |         0.2246 |\n",
            "+------------+----------------+\n",
            "TREE SEARCH\n",
            "+------------+----------------+\n",
            "| default    |   phi(default) |\n",
            "+============+================+\n",
            "| default(0) |         0.7751 |\n",
            "+------------+----------------+\n",
            "| default(1) |         0.2249 |\n",
            "+------------+----------------+\n",
            "HILL CLIMB\n",
            "+------------+----------------+\n",
            "| default    |   phi(default) |\n",
            "+============+================+\n",
            "| default(0) |         0.7738 |\n",
            "+------------+----------------+\n",
            "| default(1) |         0.2262 |\n",
            "+------------+----------------+\n",
            "CONSTRAINED HILL CLIMB\n",
            "+------------+----------------+\n",
            "| default    |   phi(default) |\n",
            "+============+================+\n",
            "| default(0) |         0.7556 |\n",
            "+------------+----------------+\n",
            "| default(1) |         0.2444 |\n",
            "+------------+----------------+\n"
          ]
        }
      ]
    },
    {
      "cell_type": "code",
      "source": [
        "query, evidence = [\"default\"], {\"education\": \"high_school\", \"misspayments_prev_6_months\": 6, 'age': 'young', 'sex': 'female', \\\n",
        "                                'marriage': 'not_married', 'limit_bal': 'low'}\n",
        "display_inference_results('Probability of default given everything else', query, evidence)"
      ],
      "metadata": {
        "colab": {
          "base_uri": "https://localhost:8080/"
        },
        "id": "TTH4jvOSjoI9",
        "outputId": "3887c9cb-15f7-4665-b3d5-6ed217a3a043"
      },
      "execution_count": null,
      "outputs": [
        {
          "output_type": "stream",
          "name": "stdout",
          "text": [
            "Probability of default given everything else\n",
            "EASY\n",
            "+------------+----------------+\n",
            "| default    |   phi(default) |\n",
            "+============+================+\n",
            "| default(0) |         0.3154 |\n",
            "+------------+----------------+\n",
            "| default(1) |         0.6846 |\n",
            "+------------+----------------+\n",
            "MEDIUM\n",
            "+------------+----------------+\n",
            "| default    |   phi(default) |\n",
            "+============+================+\n",
            "| default(0) |         0.3719 |\n",
            "+------------+----------------+\n",
            "| default(1) |         0.6281 |\n",
            "+------------+----------------+\n",
            "HARD\n",
            "+------------+----------------+\n",
            "| default    |   phi(default) |\n",
            "+============+================+\n",
            "| default(0) |         0.3182 |\n",
            "+------------+----------------+\n",
            "| default(1) |         0.6818 |\n",
            "+------------+----------------+\n",
            "TREE SEARCH\n",
            "+------------+----------------+\n",
            "| default    |   phi(default) |\n",
            "+============+================+\n",
            "| default(0) |         0.3030 |\n",
            "+------------+----------------+\n",
            "| default(1) |         0.6970 |\n",
            "+------------+----------------+\n",
            "HILL CLIMB\n",
            "+------------+----------------+\n",
            "| default    |   phi(default) |\n",
            "+============+================+\n",
            "| default(0) |         0.3379 |\n",
            "+------------+----------------+\n",
            "| default(1) |         0.6621 |\n",
            "+------------+----------------+\n",
            "CONSTRAINED HILL CLIMB\n",
            "+------------+----------------+\n",
            "| default    |   phi(default) |\n",
            "+============+================+\n",
            "| default(0) |         0.3347 |\n",
            "+------------+----------------+\n",
            "| default(1) |         0.6653 |\n",
            "+------------+----------------+\n"
          ]
        }
      ]
    },
    {
      "cell_type": "markdown",
      "source": [
        "# Questions"
      ],
      "metadata": {
        "id": "_806ays3fD_9"
      }
    },
    {
      "cell_type": "markdown",
      "source": [
        "Let's now perform the same queries across the different networks and comment the results."
      ],
      "metadata": {
        "id": "upRC8vmz1hYc"
      }
    },
    {
      "cell_type": "code",
      "source": [
        "query, evidence = [\"default\"], {\"education\": \"high_school\", \"misspayments_prev_6_months\": 6, 'age': 'young', 'sex': 'female', \\\n",
        "                                'marriage': 'not_married', 'limit_bal': 'low'}\n",
        "display_inference_results('Probability of default given everything else', query, evidence)"
      ],
      "metadata": {
        "id": "jGAm4r2ye5FP"
      },
      "execution_count": null,
      "outputs": []
    },
    {
      "cell_type": "markdown",
      "source": [
        "# Quantitative model evalution\n",
        "So far, the models have been evaluated only in a qualitative manner. In particular a domain-expert can ragionevolemnte tell if the results are good enough. \n",
        "The next step is to evaluate the model quantitatively. Since the dataset was created for the classification task, we have leveraged the test set to obtain accuracy, F1/F2, precision, and recall metrics."
      ],
      "metadata": {
        "id": "6Lk2WwkKkf9n"
      }
    },
    {
      "cell_type": "code",
      "source": [
        "def predict(data_point: dict, inference_object: VariableElimination, query: str) -> Tuple[float, float]:\n",
        "  result = inference_object.query(variables=['default'], evidence=dict(data_point))\n",
        "  values = result.state_names[query]\n",
        "  default = np.argmax(result.values)\n",
        "  return default, result.values\n",
        "\n",
        "def predict_batch(batch: pd.DataFrame, inference_object: VariableElimination, query: str) -> list[int]:\n",
        "  return [predict(data_point[1], inference_object, query)[0] for data_point in batch.iterrows()]"
      ],
      "metadata": {
        "id": "kFAqxfoKkerY"
      },
      "execution_count": null,
      "outputs": []
    },
    {
      "cell_type": "code",
      "source": [
        "preds = predict_batch(X_test, data_infer_easy, query = 'default')\n",
        "print('EASY')\n",
        "print(f'Accuracy {accuracy_score(y_test, preds):.2%}')\n",
        "print(f'Recall: {recall_score(y_test, preds):.2%}')\n",
        "print(f'F1-Score {f1_score(y_test, preds):.2%}')\n",
        "\n",
        "preds = predict_batch(X_test, data_infer_medium, query = 'default')\n",
        "print('MEDIUM')\n",
        "print(f'Accuracy: {accuracy_score(y_test, preds):.2%}')\n",
        "print(f'Recall: {recall_score(y_test, preds):.2%}')\n",
        "print(f'F1-Score {f1_score(y_test, preds):.2%}')\n",
        "\n",
        "preds = predict_batch(X_test, data_infer_hard, query = 'default')\n",
        "print('HARD')\n",
        "print(f'Accuracy: {accuracy_score(y_test, preds):.2%}')\n",
        "print(f'Recall: {recall_score(y_test, preds):.2%}')\n",
        "print(f'F1-Score {f1_score(y_test, preds):.2%}')\n",
        "\n",
        "preds = predict_batch(X_test, data_infer_tree_search, query = 'default')\n",
        "print('TREE SEARCH')\n",
        "print(f'Accuracy: {accuracy_score(y_test, preds):.2%}')\n",
        "print(f'Recall: {recall_score(y_test, preds):.2%}')\n",
        "print(f'F1-Score {f1_score(y_test, preds):.2%}')\n",
        "\n",
        "preds = predict_batch(X_test, data_infer_hill_climb, query = 'default')\n",
        "print('HILL CLIMB')\n",
        "print(f'Accuracy: {accuracy_score(y_test, preds):.2%}')\n",
        "print(f'Recall: {recall_score(y_test, preds):.2%}')\n",
        "print(f'F1-Score {f1_score(y_test, preds):.2%}')\n",
        "\n",
        "preds = predict_batch(X_test, data_infer_constr_hill_climb, query = 'default')\n",
        "print('CONSTRAINED HILL CLIMB')\n",
        "print(f'Accuracy: {accuracy_score(y_test, preds):.2%}')\n",
        "print(f'Recall: {recall_score(y_test, preds):.2%}')\n",
        "print(f'F1-Score {f1_score(y_test, preds):.2%}')"
      ],
      "metadata": {
        "colab": {
          "base_uri": "https://localhost:8080/"
        },
        "id": "gUhFwJG-v0x5",
        "outputId": "b8879272-e4b0-404e-d359-0e553eaefb19"
      },
      "execution_count": null,
      "outputs": [
        {
          "output_type": "stream",
          "name": "stdout",
          "text": [
            "EASY\n",
            "Accuracy 80.23%\n",
            "Recall: 28.26%\n",
            "F1-Score 38.74%\n",
            "MEDIUM\n",
            "Accuracy: 80.20%\n",
            "Recall: 29.84%\n",
            "F1-Score 40.00%\n",
            "HARD\n",
            "Accuracy: 79.82%\n",
            "Recall: 27.05%\n",
            "F1-Score 37.22%\n",
            "TREE SEARCH\n",
            "Accuracy: 80.45%\n",
            "Recall: 33.84%\n",
            "F1-Score 43.36%\n",
            "HILL CLIMB\n",
            "Accuracy: 80.52%\n",
            "Recall: 30.14%\n",
            "F1-Score 40.63%\n",
            "CONSTRAINED HILL CLIMB\n",
            "Accuracy: 80.20%\n",
            "Recall: 29.24%\n",
            "F1-Score 39.51%\n"
          ]
        }
      ]
    }
  ]
}