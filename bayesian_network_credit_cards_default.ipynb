{
  "nbformat": 4,
  "nbformat_minor": 0,
  "metadata": {
    "colab": {
      "provenance": [],
      "collapsed_sections": [
        "b6PmZJjzS4kN",
        "usLiB0OMS6Ou",
        "HJqvuPrNS9o7",
        "j7NoIN1QDk1q",
        "iu2JrRDkmSly",
        "rfxyLfwJD4NF",
        "u_NZMq0IFLLN",
        "MnSOLJKphvyI",
        "VKu1kz41iFsJ",
        "UCWtVvwGiCWU",
        "vwiKvcYamCqs",
        "X7VuShgwTPKn",
        "9TLoUVx9Tf11",
        "N85YmhGiUbUW",
        "Fft2zheucHit",
        "_q7e4jWeiGck",
        "F1L7aZiXatnj",
        "_LZV7liEaxIA",
        "o0-eOFTwvzH-",
        "Dd3Yk8IoaYvj",
        "xxgEaysEeF1P",
        "lACOjX50Aw5A"
      ],
      "include_colab_link": true
    },
    "kernelspec": {
      "name": "python3",
      "display_name": "Python 3"
    },
    "language_info": {
      "name": "python"
    },
    "widgets": {
      "application/vnd.jupyter.widget-state+json": {
        "59081a93c73c4d6b9a27e11798cc1c8e": {
          "model_module": "@jupyter-widgets/controls",
          "model_name": "HBoxModel",
          "model_module_version": "1.5.0",
          "state": {
            "_dom_classes": [],
            "_model_module": "@jupyter-widgets/controls",
            "_model_module_version": "1.5.0",
            "_model_name": "HBoxModel",
            "_view_count": null,
            "_view_module": "@jupyter-widgets/controls",
            "_view_module_version": "1.5.0",
            "_view_name": "HBoxView",
            "box_style": "",
            "children": [
              "IPY_MODEL_6048bfe1336340ab94c05bad6c40cf5e",
              "IPY_MODEL_1f7e21600aa540cfaa79ee084ca19c32",
              "IPY_MODEL_2d0943da4dae48be893b24ed5ddc5078"
            ],
            "layout": "IPY_MODEL_b46be25e378a4e54bd8152e8e7446f3f"
          }
        },
        "6048bfe1336340ab94c05bad6c40cf5e": {
          "model_module": "@jupyter-widgets/controls",
          "model_name": "HTMLModel",
          "model_module_version": "1.5.0",
          "state": {
            "_dom_classes": [],
            "_model_module": "@jupyter-widgets/controls",
            "_model_module_version": "1.5.0",
            "_model_name": "HTMLModel",
            "_view_count": null,
            "_view_module": "@jupyter-widgets/controls",
            "_view_module_version": "1.5.0",
            "_view_name": "HTMLView",
            "description": "",
            "description_tooltip": null,
            "layout": "IPY_MODEL_35158e642ca84ea5a4bfd33d39d1e1e6",
            "placeholder": "​",
            "style": "IPY_MODEL_3b3039d43fcd43f5bc64cb052d34e714",
            "value": "Building tree: 100%"
          }
        },
        "1f7e21600aa540cfaa79ee084ca19c32": {
          "model_module": "@jupyter-widgets/controls",
          "model_name": "FloatProgressModel",
          "model_module_version": "1.5.0",
          "state": {
            "_dom_classes": [],
            "_model_module": "@jupyter-widgets/controls",
            "_model_module_version": "1.5.0",
            "_model_name": "FloatProgressModel",
            "_view_count": null,
            "_view_module": "@jupyter-widgets/controls",
            "_view_module_version": "1.5.0",
            "_view_name": "ProgressView",
            "bar_style": "success",
            "description": "",
            "description_tooltip": null,
            "layout": "IPY_MODEL_2e3dbda5cf5b436ab8e9c7475b28adde",
            "max": 21,
            "min": 0,
            "orientation": "horizontal",
            "style": "IPY_MODEL_f8d2b8a0c5e6435d95be269323338ed5",
            "value": 21
          }
        },
        "2d0943da4dae48be893b24ed5ddc5078": {
          "model_module": "@jupyter-widgets/controls",
          "model_name": "HTMLModel",
          "model_module_version": "1.5.0",
          "state": {
            "_dom_classes": [],
            "_model_module": "@jupyter-widgets/controls",
            "_model_module_version": "1.5.0",
            "_model_name": "HTMLModel",
            "_view_count": null,
            "_view_module": "@jupyter-widgets/controls",
            "_view_module_version": "1.5.0",
            "_view_name": "HTMLView",
            "description": "",
            "description_tooltip": null,
            "layout": "IPY_MODEL_0c55d39c317e47149fb52c66fc3445f7",
            "placeholder": "​",
            "style": "IPY_MODEL_466f95c9a020431c8aab653124bad3bc",
            "value": " 21/21.0 [00:02&lt;00:00, 10.26it/s]"
          }
        },
        "b46be25e378a4e54bd8152e8e7446f3f": {
          "model_module": "@jupyter-widgets/base",
          "model_name": "LayoutModel",
          "model_module_version": "1.2.0",
          "state": {
            "_model_module": "@jupyter-widgets/base",
            "_model_module_version": "1.2.0",
            "_model_name": "LayoutModel",
            "_view_count": null,
            "_view_module": "@jupyter-widgets/base",
            "_view_module_version": "1.2.0",
            "_view_name": "LayoutView",
            "align_content": null,
            "align_items": null,
            "align_self": null,
            "border": null,
            "bottom": null,
            "display": null,
            "flex": null,
            "flex_flow": null,
            "grid_area": null,
            "grid_auto_columns": null,
            "grid_auto_flow": null,
            "grid_auto_rows": null,
            "grid_column": null,
            "grid_gap": null,
            "grid_row": null,
            "grid_template_areas": null,
            "grid_template_columns": null,
            "grid_template_rows": null,
            "height": null,
            "justify_content": null,
            "justify_items": null,
            "left": null,
            "margin": null,
            "max_height": null,
            "max_width": null,
            "min_height": null,
            "min_width": null,
            "object_fit": null,
            "object_position": null,
            "order": null,
            "overflow": null,
            "overflow_x": null,
            "overflow_y": null,
            "padding": null,
            "right": null,
            "top": null,
            "visibility": null,
            "width": null
          }
        },
        "35158e642ca84ea5a4bfd33d39d1e1e6": {
          "model_module": "@jupyter-widgets/base",
          "model_name": "LayoutModel",
          "model_module_version": "1.2.0",
          "state": {
            "_model_module": "@jupyter-widgets/base",
            "_model_module_version": "1.2.0",
            "_model_name": "LayoutModel",
            "_view_count": null,
            "_view_module": "@jupyter-widgets/base",
            "_view_module_version": "1.2.0",
            "_view_name": "LayoutView",
            "align_content": null,
            "align_items": null,
            "align_self": null,
            "border": null,
            "bottom": null,
            "display": null,
            "flex": null,
            "flex_flow": null,
            "grid_area": null,
            "grid_auto_columns": null,
            "grid_auto_flow": null,
            "grid_auto_rows": null,
            "grid_column": null,
            "grid_gap": null,
            "grid_row": null,
            "grid_template_areas": null,
            "grid_template_columns": null,
            "grid_template_rows": null,
            "height": null,
            "justify_content": null,
            "justify_items": null,
            "left": null,
            "margin": null,
            "max_height": null,
            "max_width": null,
            "min_height": null,
            "min_width": null,
            "object_fit": null,
            "object_position": null,
            "order": null,
            "overflow": null,
            "overflow_x": null,
            "overflow_y": null,
            "padding": null,
            "right": null,
            "top": null,
            "visibility": null,
            "width": null
          }
        },
        "3b3039d43fcd43f5bc64cb052d34e714": {
          "model_module": "@jupyter-widgets/controls",
          "model_name": "DescriptionStyleModel",
          "model_module_version": "1.5.0",
          "state": {
            "_model_module": "@jupyter-widgets/controls",
            "_model_module_version": "1.5.0",
            "_model_name": "DescriptionStyleModel",
            "_view_count": null,
            "_view_module": "@jupyter-widgets/base",
            "_view_module_version": "1.2.0",
            "_view_name": "StyleView",
            "description_width": ""
          }
        },
        "2e3dbda5cf5b436ab8e9c7475b28adde": {
          "model_module": "@jupyter-widgets/base",
          "model_name": "LayoutModel",
          "model_module_version": "1.2.0",
          "state": {
            "_model_module": "@jupyter-widgets/base",
            "_model_module_version": "1.2.0",
            "_model_name": "LayoutModel",
            "_view_count": null,
            "_view_module": "@jupyter-widgets/base",
            "_view_module_version": "1.2.0",
            "_view_name": "LayoutView",
            "align_content": null,
            "align_items": null,
            "align_self": null,
            "border": null,
            "bottom": null,
            "display": null,
            "flex": null,
            "flex_flow": null,
            "grid_area": null,
            "grid_auto_columns": null,
            "grid_auto_flow": null,
            "grid_auto_rows": null,
            "grid_column": null,
            "grid_gap": null,
            "grid_row": null,
            "grid_template_areas": null,
            "grid_template_columns": null,
            "grid_template_rows": null,
            "height": null,
            "justify_content": null,
            "justify_items": null,
            "left": null,
            "margin": null,
            "max_height": null,
            "max_width": null,
            "min_height": null,
            "min_width": null,
            "object_fit": null,
            "object_position": null,
            "order": null,
            "overflow": null,
            "overflow_x": null,
            "overflow_y": null,
            "padding": null,
            "right": null,
            "top": null,
            "visibility": null,
            "width": null
          }
        },
        "f8d2b8a0c5e6435d95be269323338ed5": {
          "model_module": "@jupyter-widgets/controls",
          "model_name": "ProgressStyleModel",
          "model_module_version": "1.5.0",
          "state": {
            "_model_module": "@jupyter-widgets/controls",
            "_model_module_version": "1.5.0",
            "_model_name": "ProgressStyleModel",
            "_view_count": null,
            "_view_module": "@jupyter-widgets/base",
            "_view_module_version": "1.2.0",
            "_view_name": "StyleView",
            "bar_color": null,
            "description_width": ""
          }
        },
        "0c55d39c317e47149fb52c66fc3445f7": {
          "model_module": "@jupyter-widgets/base",
          "model_name": "LayoutModel",
          "model_module_version": "1.2.0",
          "state": {
            "_model_module": "@jupyter-widgets/base",
            "_model_module_version": "1.2.0",
            "_model_name": "LayoutModel",
            "_view_count": null,
            "_view_module": "@jupyter-widgets/base",
            "_view_module_version": "1.2.0",
            "_view_name": "LayoutView",
            "align_content": null,
            "align_items": null,
            "align_self": null,
            "border": null,
            "bottom": null,
            "display": null,
            "flex": null,
            "flex_flow": null,
            "grid_area": null,
            "grid_auto_columns": null,
            "grid_auto_flow": null,
            "grid_auto_rows": null,
            "grid_column": null,
            "grid_gap": null,
            "grid_row": null,
            "grid_template_areas": null,
            "grid_template_columns": null,
            "grid_template_rows": null,
            "height": null,
            "justify_content": null,
            "justify_items": null,
            "left": null,
            "margin": null,
            "max_height": null,
            "max_width": null,
            "min_height": null,
            "min_width": null,
            "object_fit": null,
            "object_position": null,
            "order": null,
            "overflow": null,
            "overflow_x": null,
            "overflow_y": null,
            "padding": null,
            "right": null,
            "top": null,
            "visibility": null,
            "width": null
          }
        },
        "466f95c9a020431c8aab653124bad3bc": {
          "model_module": "@jupyter-widgets/controls",
          "model_name": "DescriptionStyleModel",
          "model_module_version": "1.5.0",
          "state": {
            "_model_module": "@jupyter-widgets/controls",
            "_model_module_version": "1.5.0",
            "_model_name": "DescriptionStyleModel",
            "_view_count": null,
            "_view_module": "@jupyter-widgets/base",
            "_view_module_version": "1.2.0",
            "_view_name": "StyleView",
            "description_width": ""
          }
        },
        "bab283828f4e4d02874b71eeb1438aa5": {
          "model_module": "@jupyter-widgets/controls",
          "model_name": "HBoxModel",
          "model_module_version": "1.5.0",
          "state": {
            "_dom_classes": [],
            "_model_module": "@jupyter-widgets/controls",
            "_model_module_version": "1.5.0",
            "_model_name": "HBoxModel",
            "_view_count": null,
            "_view_module": "@jupyter-widgets/controls",
            "_view_module_version": "1.5.0",
            "_view_name": "HBoxView",
            "box_style": "",
            "children": [
              "IPY_MODEL_7fd0a31e13fb4849be2476ba44eefe8a",
              "IPY_MODEL_c97922da97184b04a1d54010188869b8",
              "IPY_MODEL_db0b8270958d4850a75a442f8eccc392"
            ],
            "layout": "IPY_MODEL_868e190b5f814430bbdf345718797632"
          }
        },
        "7fd0a31e13fb4849be2476ba44eefe8a": {
          "model_module": "@jupyter-widgets/controls",
          "model_name": "HTMLModel",
          "model_module_version": "1.5.0",
          "state": {
            "_dom_classes": [],
            "_model_module": "@jupyter-widgets/controls",
            "_model_module_version": "1.5.0",
            "_model_name": "HTMLModel",
            "_view_count": null,
            "_view_module": "@jupyter-widgets/controls",
            "_view_module_version": "1.5.0",
            "_view_name": "HTMLView",
            "description": "",
            "description_tooltip": null,
            "layout": "IPY_MODEL_77f99d950d8b4f05a98347da65ce40d8",
            "placeholder": "​",
            "style": "IPY_MODEL_e639d41aaa204dc1936dffe35a48c7a6",
            "value": "  0%"
          }
        },
        "c97922da97184b04a1d54010188869b8": {
          "model_module": "@jupyter-widgets/controls",
          "model_name": "FloatProgressModel",
          "model_module_version": "1.5.0",
          "state": {
            "_dom_classes": [],
            "_model_module": "@jupyter-widgets/controls",
            "_model_module_version": "1.5.0",
            "_model_name": "FloatProgressModel",
            "_view_count": null,
            "_view_module": "@jupyter-widgets/controls",
            "_view_module_version": "1.5.0",
            "_view_name": "ProgressView",
            "bar_style": "danger",
            "description": "",
            "description_tooltip": null,
            "layout": "IPY_MODEL_33f055872698422a881a27063f47f858",
            "max": 1000000,
            "min": 0,
            "orientation": "horizontal",
            "style": "IPY_MODEL_99470bbde29649b9b17a24964c3e8950",
            "value": 13
          }
        },
        "db0b8270958d4850a75a442f8eccc392": {
          "model_module": "@jupyter-widgets/controls",
          "model_name": "HTMLModel",
          "model_module_version": "1.5.0",
          "state": {
            "_dom_classes": [],
            "_model_module": "@jupyter-widgets/controls",
            "_model_module_version": "1.5.0",
            "_model_name": "HTMLModel",
            "_view_count": null,
            "_view_module": "@jupyter-widgets/controls",
            "_view_module_version": "1.5.0",
            "_view_name": "HTMLView",
            "description": "",
            "description_tooltip": null,
            "layout": "IPY_MODEL_3dab4c996db84161b78314982e8e883e",
            "placeholder": "​",
            "style": "IPY_MODEL_59e9efb0abf7411482f4b4329a509de3",
            "value": " 13/1000000 [00:06&lt;66:30:28,  4.18it/s]"
          }
        },
        "868e190b5f814430bbdf345718797632": {
          "model_module": "@jupyter-widgets/base",
          "model_name": "LayoutModel",
          "model_module_version": "1.2.0",
          "state": {
            "_model_module": "@jupyter-widgets/base",
            "_model_module_version": "1.2.0",
            "_model_name": "LayoutModel",
            "_view_count": null,
            "_view_module": "@jupyter-widgets/base",
            "_view_module_version": "1.2.0",
            "_view_name": "LayoutView",
            "align_content": null,
            "align_items": null,
            "align_self": null,
            "border": null,
            "bottom": null,
            "display": null,
            "flex": null,
            "flex_flow": null,
            "grid_area": null,
            "grid_auto_columns": null,
            "grid_auto_flow": null,
            "grid_auto_rows": null,
            "grid_column": null,
            "grid_gap": null,
            "grid_row": null,
            "grid_template_areas": null,
            "grid_template_columns": null,
            "grid_template_rows": null,
            "height": null,
            "justify_content": null,
            "justify_items": null,
            "left": null,
            "margin": null,
            "max_height": null,
            "max_width": null,
            "min_height": null,
            "min_width": null,
            "object_fit": null,
            "object_position": null,
            "order": null,
            "overflow": null,
            "overflow_x": null,
            "overflow_y": null,
            "padding": null,
            "right": null,
            "top": null,
            "visibility": null,
            "width": null
          }
        },
        "77f99d950d8b4f05a98347da65ce40d8": {
          "model_module": "@jupyter-widgets/base",
          "model_name": "LayoutModel",
          "model_module_version": "1.2.0",
          "state": {
            "_model_module": "@jupyter-widgets/base",
            "_model_module_version": "1.2.0",
            "_model_name": "LayoutModel",
            "_view_count": null,
            "_view_module": "@jupyter-widgets/base",
            "_view_module_version": "1.2.0",
            "_view_name": "LayoutView",
            "align_content": null,
            "align_items": null,
            "align_self": null,
            "border": null,
            "bottom": null,
            "display": null,
            "flex": null,
            "flex_flow": null,
            "grid_area": null,
            "grid_auto_columns": null,
            "grid_auto_flow": null,
            "grid_auto_rows": null,
            "grid_column": null,
            "grid_gap": null,
            "grid_row": null,
            "grid_template_areas": null,
            "grid_template_columns": null,
            "grid_template_rows": null,
            "height": null,
            "justify_content": null,
            "justify_items": null,
            "left": null,
            "margin": null,
            "max_height": null,
            "max_width": null,
            "min_height": null,
            "min_width": null,
            "object_fit": null,
            "object_position": null,
            "order": null,
            "overflow": null,
            "overflow_x": null,
            "overflow_y": null,
            "padding": null,
            "right": null,
            "top": null,
            "visibility": null,
            "width": null
          }
        },
        "e639d41aaa204dc1936dffe35a48c7a6": {
          "model_module": "@jupyter-widgets/controls",
          "model_name": "DescriptionStyleModel",
          "model_module_version": "1.5.0",
          "state": {
            "_model_module": "@jupyter-widgets/controls",
            "_model_module_version": "1.5.0",
            "_model_name": "DescriptionStyleModel",
            "_view_count": null,
            "_view_module": "@jupyter-widgets/base",
            "_view_module_version": "1.2.0",
            "_view_name": "StyleView",
            "description_width": ""
          }
        },
        "33f055872698422a881a27063f47f858": {
          "model_module": "@jupyter-widgets/base",
          "model_name": "LayoutModel",
          "model_module_version": "1.2.0",
          "state": {
            "_model_module": "@jupyter-widgets/base",
            "_model_module_version": "1.2.0",
            "_model_name": "LayoutModel",
            "_view_count": null,
            "_view_module": "@jupyter-widgets/base",
            "_view_module_version": "1.2.0",
            "_view_name": "LayoutView",
            "align_content": null,
            "align_items": null,
            "align_self": null,
            "border": null,
            "bottom": null,
            "display": null,
            "flex": null,
            "flex_flow": null,
            "grid_area": null,
            "grid_auto_columns": null,
            "grid_auto_flow": null,
            "grid_auto_rows": null,
            "grid_column": null,
            "grid_gap": null,
            "grid_row": null,
            "grid_template_areas": null,
            "grid_template_columns": null,
            "grid_template_rows": null,
            "height": null,
            "justify_content": null,
            "justify_items": null,
            "left": null,
            "margin": null,
            "max_height": null,
            "max_width": null,
            "min_height": null,
            "min_width": null,
            "object_fit": null,
            "object_position": null,
            "order": null,
            "overflow": null,
            "overflow_x": null,
            "overflow_y": null,
            "padding": null,
            "right": null,
            "top": null,
            "visibility": null,
            "width": null
          }
        },
        "99470bbde29649b9b17a24964c3e8950": {
          "model_module": "@jupyter-widgets/controls",
          "model_name": "ProgressStyleModel",
          "model_module_version": "1.5.0",
          "state": {
            "_model_module": "@jupyter-widgets/controls",
            "_model_module_version": "1.5.0",
            "_model_name": "ProgressStyleModel",
            "_view_count": null,
            "_view_module": "@jupyter-widgets/base",
            "_view_module_version": "1.2.0",
            "_view_name": "StyleView",
            "bar_color": null,
            "description_width": ""
          }
        },
        "3dab4c996db84161b78314982e8e883e": {
          "model_module": "@jupyter-widgets/base",
          "model_name": "LayoutModel",
          "model_module_version": "1.2.0",
          "state": {
            "_model_module": "@jupyter-widgets/base",
            "_model_module_version": "1.2.0",
            "_model_name": "LayoutModel",
            "_view_count": null,
            "_view_module": "@jupyter-widgets/base",
            "_view_module_version": "1.2.0",
            "_view_name": "LayoutView",
            "align_content": null,
            "align_items": null,
            "align_self": null,
            "border": null,
            "bottom": null,
            "display": null,
            "flex": null,
            "flex_flow": null,
            "grid_area": null,
            "grid_auto_columns": null,
            "grid_auto_flow": null,
            "grid_auto_rows": null,
            "grid_column": null,
            "grid_gap": null,
            "grid_row": null,
            "grid_template_areas": null,
            "grid_template_columns": null,
            "grid_template_rows": null,
            "height": null,
            "justify_content": null,
            "justify_items": null,
            "left": null,
            "margin": null,
            "max_height": null,
            "max_width": null,
            "min_height": null,
            "min_width": null,
            "object_fit": null,
            "object_position": null,
            "order": null,
            "overflow": null,
            "overflow_x": null,
            "overflow_y": null,
            "padding": null,
            "right": null,
            "top": null,
            "visibility": null,
            "width": null
          }
        },
        "59e9efb0abf7411482f4b4329a509de3": {
          "model_module": "@jupyter-widgets/controls",
          "model_name": "DescriptionStyleModel",
          "model_module_version": "1.5.0",
          "state": {
            "_model_module": "@jupyter-widgets/controls",
            "_model_module_version": "1.5.0",
            "_model_name": "DescriptionStyleModel",
            "_view_count": null,
            "_view_module": "@jupyter-widgets/base",
            "_view_module_version": "1.2.0",
            "_view_name": "StyleView",
            "description_width": ""
          }
        },
        "92d60cd7c9b142efaca174c153161b19": {
          "model_module": "@jupyter-widgets/controls",
          "model_name": "HBoxModel",
          "model_module_version": "1.5.0",
          "state": {
            "_dom_classes": [],
            "_model_module": "@jupyter-widgets/controls",
            "_model_module_version": "1.5.0",
            "_model_name": "HBoxModel",
            "_view_count": null,
            "_view_module": "@jupyter-widgets/controls",
            "_view_module_version": "1.5.0",
            "_view_name": "HBoxView",
            "box_style": "",
            "children": [
              "IPY_MODEL_484782e8f8854e26a6202dca9004549b",
              "IPY_MODEL_843b3003c71149aaa54fd416d540b1b6",
              "IPY_MODEL_219c81e8aeeb4a5094edb619c8d3aabd"
            ],
            "layout": "IPY_MODEL_05709cc0b047498092c2a7b7c654401e"
          }
        },
        "484782e8f8854e26a6202dca9004549b": {
          "model_module": "@jupyter-widgets/controls",
          "model_name": "HTMLModel",
          "model_module_version": "1.5.0",
          "state": {
            "_dom_classes": [],
            "_model_module": "@jupyter-widgets/controls",
            "_model_module_version": "1.5.0",
            "_model_name": "HTMLModel",
            "_view_count": null,
            "_view_module": "@jupyter-widgets/controls",
            "_view_module_version": "1.5.0",
            "_view_name": "HTMLView",
            "description": "",
            "description_tooltip": null,
            "layout": "IPY_MODEL_106f5995bad9407fa1ebfb4351f2973b",
            "placeholder": "​",
            "style": "IPY_MODEL_d7ea89eacacf4d388e8519f3585bee1c",
            "value": "  0%"
          }
        },
        "843b3003c71149aaa54fd416d540b1b6": {
          "model_module": "@jupyter-widgets/controls",
          "model_name": "FloatProgressModel",
          "model_module_version": "1.5.0",
          "state": {
            "_dom_classes": [],
            "_model_module": "@jupyter-widgets/controls",
            "_model_module_version": "1.5.0",
            "_model_name": "FloatProgressModel",
            "_view_count": null,
            "_view_module": "@jupyter-widgets/controls",
            "_view_module_version": "1.5.0",
            "_view_name": "ProgressView",
            "bar_style": "danger",
            "description": "",
            "description_tooltip": null,
            "layout": "IPY_MODEL_fc7018c42d2247f381d62ff297a58dbc",
            "max": 1000000,
            "min": 0,
            "orientation": "horizontal",
            "style": "IPY_MODEL_cbe68849f94e49d28f1b72aa37f2c03a",
            "value": 9
          }
        },
        "219c81e8aeeb4a5094edb619c8d3aabd": {
          "model_module": "@jupyter-widgets/controls",
          "model_name": "HTMLModel",
          "model_module_version": "1.5.0",
          "state": {
            "_dom_classes": [],
            "_model_module": "@jupyter-widgets/controls",
            "_model_module_version": "1.5.0",
            "_model_name": "HTMLModel",
            "_view_count": null,
            "_view_module": "@jupyter-widgets/controls",
            "_view_module_version": "1.5.0",
            "_view_name": "HTMLView",
            "description": "",
            "description_tooltip": null,
            "layout": "IPY_MODEL_e7796a8126cf47c1a58179aef3dad391",
            "placeholder": "​",
            "style": "IPY_MODEL_1962983429124772bfada67477f92c60",
            "value": " 9/1000000 [00:01&lt;31:16:58,  8.88it/s]"
          }
        },
        "05709cc0b047498092c2a7b7c654401e": {
          "model_module": "@jupyter-widgets/base",
          "model_name": "LayoutModel",
          "model_module_version": "1.2.0",
          "state": {
            "_model_module": "@jupyter-widgets/base",
            "_model_module_version": "1.2.0",
            "_model_name": "LayoutModel",
            "_view_count": null,
            "_view_module": "@jupyter-widgets/base",
            "_view_module_version": "1.2.0",
            "_view_name": "LayoutView",
            "align_content": null,
            "align_items": null,
            "align_self": null,
            "border": null,
            "bottom": null,
            "display": null,
            "flex": null,
            "flex_flow": null,
            "grid_area": null,
            "grid_auto_columns": null,
            "grid_auto_flow": null,
            "grid_auto_rows": null,
            "grid_column": null,
            "grid_gap": null,
            "grid_row": null,
            "grid_template_areas": null,
            "grid_template_columns": null,
            "grid_template_rows": null,
            "height": null,
            "justify_content": null,
            "justify_items": null,
            "left": null,
            "margin": null,
            "max_height": null,
            "max_width": null,
            "min_height": null,
            "min_width": null,
            "object_fit": null,
            "object_position": null,
            "order": null,
            "overflow": null,
            "overflow_x": null,
            "overflow_y": null,
            "padding": null,
            "right": null,
            "top": null,
            "visibility": null,
            "width": null
          }
        },
        "106f5995bad9407fa1ebfb4351f2973b": {
          "model_module": "@jupyter-widgets/base",
          "model_name": "LayoutModel",
          "model_module_version": "1.2.0",
          "state": {
            "_model_module": "@jupyter-widgets/base",
            "_model_module_version": "1.2.0",
            "_model_name": "LayoutModel",
            "_view_count": null,
            "_view_module": "@jupyter-widgets/base",
            "_view_module_version": "1.2.0",
            "_view_name": "LayoutView",
            "align_content": null,
            "align_items": null,
            "align_self": null,
            "border": null,
            "bottom": null,
            "display": null,
            "flex": null,
            "flex_flow": null,
            "grid_area": null,
            "grid_auto_columns": null,
            "grid_auto_flow": null,
            "grid_auto_rows": null,
            "grid_column": null,
            "grid_gap": null,
            "grid_row": null,
            "grid_template_areas": null,
            "grid_template_columns": null,
            "grid_template_rows": null,
            "height": null,
            "justify_content": null,
            "justify_items": null,
            "left": null,
            "margin": null,
            "max_height": null,
            "max_width": null,
            "min_height": null,
            "min_width": null,
            "object_fit": null,
            "object_position": null,
            "order": null,
            "overflow": null,
            "overflow_x": null,
            "overflow_y": null,
            "padding": null,
            "right": null,
            "top": null,
            "visibility": null,
            "width": null
          }
        },
        "d7ea89eacacf4d388e8519f3585bee1c": {
          "model_module": "@jupyter-widgets/controls",
          "model_name": "DescriptionStyleModel",
          "model_module_version": "1.5.0",
          "state": {
            "_model_module": "@jupyter-widgets/controls",
            "_model_module_version": "1.5.0",
            "_model_name": "DescriptionStyleModel",
            "_view_count": null,
            "_view_module": "@jupyter-widgets/base",
            "_view_module_version": "1.2.0",
            "_view_name": "StyleView",
            "description_width": ""
          }
        },
        "fc7018c42d2247f381d62ff297a58dbc": {
          "model_module": "@jupyter-widgets/base",
          "model_name": "LayoutModel",
          "model_module_version": "1.2.0",
          "state": {
            "_model_module": "@jupyter-widgets/base",
            "_model_module_version": "1.2.0",
            "_model_name": "LayoutModel",
            "_view_count": null,
            "_view_module": "@jupyter-widgets/base",
            "_view_module_version": "1.2.0",
            "_view_name": "LayoutView",
            "align_content": null,
            "align_items": null,
            "align_self": null,
            "border": null,
            "bottom": null,
            "display": null,
            "flex": null,
            "flex_flow": null,
            "grid_area": null,
            "grid_auto_columns": null,
            "grid_auto_flow": null,
            "grid_auto_rows": null,
            "grid_column": null,
            "grid_gap": null,
            "grid_row": null,
            "grid_template_areas": null,
            "grid_template_columns": null,
            "grid_template_rows": null,
            "height": null,
            "justify_content": null,
            "justify_items": null,
            "left": null,
            "margin": null,
            "max_height": null,
            "max_width": null,
            "min_height": null,
            "min_width": null,
            "object_fit": null,
            "object_position": null,
            "order": null,
            "overflow": null,
            "overflow_x": null,
            "overflow_y": null,
            "padding": null,
            "right": null,
            "top": null,
            "visibility": null,
            "width": null
          }
        },
        "cbe68849f94e49d28f1b72aa37f2c03a": {
          "model_module": "@jupyter-widgets/controls",
          "model_name": "ProgressStyleModel",
          "model_module_version": "1.5.0",
          "state": {
            "_model_module": "@jupyter-widgets/controls",
            "_model_module_version": "1.5.0",
            "_model_name": "ProgressStyleModel",
            "_view_count": null,
            "_view_module": "@jupyter-widgets/base",
            "_view_module_version": "1.2.0",
            "_view_name": "StyleView",
            "bar_color": null,
            "description_width": ""
          }
        },
        "e7796a8126cf47c1a58179aef3dad391": {
          "model_module": "@jupyter-widgets/base",
          "model_name": "LayoutModel",
          "model_module_version": "1.2.0",
          "state": {
            "_model_module": "@jupyter-widgets/base",
            "_model_module_version": "1.2.0",
            "_model_name": "LayoutModel",
            "_view_count": null,
            "_view_module": "@jupyter-widgets/base",
            "_view_module_version": "1.2.0",
            "_view_name": "LayoutView",
            "align_content": null,
            "align_items": null,
            "align_self": null,
            "border": null,
            "bottom": null,
            "display": null,
            "flex": null,
            "flex_flow": null,
            "grid_area": null,
            "grid_auto_columns": null,
            "grid_auto_flow": null,
            "grid_auto_rows": null,
            "grid_column": null,
            "grid_gap": null,
            "grid_row": null,
            "grid_template_areas": null,
            "grid_template_columns": null,
            "grid_template_rows": null,
            "height": null,
            "justify_content": null,
            "justify_items": null,
            "left": null,
            "margin": null,
            "max_height": null,
            "max_width": null,
            "min_height": null,
            "min_width": null,
            "object_fit": null,
            "object_position": null,
            "order": null,
            "overflow": null,
            "overflow_x": null,
            "overflow_y": null,
            "padding": null,
            "right": null,
            "top": null,
            "visibility": null,
            "width": null
          }
        },
        "1962983429124772bfada67477f92c60": {
          "model_module": "@jupyter-widgets/controls",
          "model_name": "DescriptionStyleModel",
          "model_module_version": "1.5.0",
          "state": {
            "_model_module": "@jupyter-widgets/controls",
            "_model_module_version": "1.5.0",
            "_model_name": "DescriptionStyleModel",
            "_view_count": null,
            "_view_module": "@jupyter-widgets/base",
            "_view_module_version": "1.2.0",
            "_view_name": "StyleView",
            "description_width": ""
          }
        }
      }
    }
  },
  "cells": [
    {
      "cell_type": "markdown",
      "metadata": {
        "id": "view-in-github",
        "colab_type": "text"
      },
      "source": [
        "<a href=\"https://colab.research.google.com/github/lorenzobalzani/bayesian-network-credit-cards/blob/master/bayesian_network_credit_cards_default.ipynb\" target=\"_parent\"><img src=\"https://colab.research.google.com/assets/colab-badge.svg\" alt=\"Open In Colab\"/></a>"
      ]
    },
    {
      "cell_type": "markdown",
      "source": [
        "# Bayesian Networks for probabilistic reasoning over credit cards' default\n",
        "## Project report for the Fundamentals of AI and KR course - module 3\n",
        "### Authors: [**Lorenzo Balzani**](mailto:lorenzo.balzani@studio.unibo.it) and [**Thomas Guizzetti**](mailto:thomas.guizzetti@studio.unibo.it)\n",
        "\n",
        "# Abstract\n",
        "TODO\n",
        "\n",
        "Left to do: \n",
        "\n",
        "- [ ] Calculate inference timing for the models and prove that the most compact model is the most efficient. (Thomas/Lorenzo)\n",
        "- [x] Apply t-student test to resulting scores of predicting default using the networks and confirm that the results are the same. This means that the networks (and naive bayes learning) in this case don't have much use in predicting default. (lorenzo)\n",
        "- [x] Get histograms of quesries in the questions (Thomas)\n",
        "- [ ] Get a result for bias based on sex and default. \n",
        "\n",
        "Conclusions:\n",
        "- Constrained Hill Based model is the model with least bias (default given sex)\n",
        "- The networks (and naive bayes learning) in this case don't have much use in predicting default. Any predictor based on the bayesian networks is not able to capture the underlying patterns in the data.  \n",
        "- The TreeSearch networks is the most compact network and thus is the most computationally efficient model. "
      ],
      "metadata": {
        "id": "wutYO5JzDEID"
      }
    },
    {
      "cell_type": "markdown",
      "source": [
        "# Setup"
      ],
      "metadata": {
        "id": "DiZNkPEHDbXz"
      }
    },
    {
      "cell_type": "markdown",
      "source": [
        "## Requirements"
      ],
      "metadata": {
        "id": "b6PmZJjzS4kN"
      }
    },
    {
      "cell_type": "code",
      "source": [
        "!pip install -q pandas numpy pgmpy"
      ],
      "metadata": {
        "id": "csUwu-Tt3M4g",
        "colab": {
          "base_uri": "https://localhost:8080/"
        },
        "outputId": "06233d14-0ad6-4775-9e48-d8bbf39d827e"
      },
      "execution_count": 2,
      "outputs": [
        {
          "output_type": "stream",
          "name": "stdout",
          "text": [
            "\u001b[K     |████████████████████████████████| 1.9 MB 30.2 MB/s \n",
            "\u001b[?25h"
          ]
        }
      ]
    },
    {
      "cell_type": "markdown",
      "source": [
        "## Imports"
      ],
      "metadata": {
        "id": "usLiB0OMS6Ou"
      }
    },
    {
      "cell_type": "code",
      "source": [
        "from __future__ import annotations # for type annotations\n",
        "import os, logging\n",
        "import pandas as pd\n",
        "\n",
        "#pygmpy\n",
        "from pgmpy.base import DAG\n",
        "from pgmpy.models import BayesianNetwork, NaiveBayes\n",
        "from pgmpy.factors.discrete.CPD import TabularCPD\n",
        "from pgmpy.inference import VariableElimination\n",
        "from pgmpy.estimators import ParameterEstimator, MaximumLikelihoodEstimator, BayesianEstimator, ExhaustiveSearch, TreeSearch, HillClimbSearch, MmhcEstimator, BDeuScore, BicScore\n",
        "from pgmpy.metrics import correlation_score, log_likelihood_score, structure_score\n",
        "\n",
        "# Sklearn\n",
        "from sklearn.model_selection import train_test_split\n",
        "from sklearn.metrics import recall_score, f1_score, accuracy_score\n",
        "\n",
        "# Viz\n",
        "import matplotlib.pyplot as plt\n",
        "import networkx as nx\n",
        "import seaborn as sns\n",
        "\n",
        "# Math\n",
        "import numpy as np\n",
        "from scipy.stats import norm"
      ],
      "metadata": {
        "id": "CYV8-E163KzW"
      },
      "execution_count": 3,
      "outputs": []
    },
    {
      "cell_type": "markdown",
      "source": [
        "## Declarations"
      ],
      "metadata": {
        "id": "HJqvuPrNS9o7"
      }
    },
    {
      "cell_type": "code",
      "source": [
        "logger = logging.getLogger()\n",
        "dataset_url = 'https://raw.githubusercontent.com/lorenzobalzani/bayesian-network-credit-cards/master/dataset.csv'\n",
        "test_ratio = 0.2\n",
        "random_seed = 42\n",
        "print_bold = lambda string: print('\\033[1m' + string + '\\033[0m')"
      ],
      "metadata": {
        "id": "76Fyk7MjOyzo"
      },
      "execution_count": 4,
      "outputs": []
    },
    {
      "cell_type": "markdown",
      "source": [
        "# Dataset"
      ],
      "metadata": {
        "id": "j7NoIN1QDk1q"
      }
    },
    {
      "cell_type": "code",
      "source": [
        "def read_dataset(url: str) -> pd.DataFrame:\n",
        "  dataset = pd.read_csv(url, delimiter=';').set_index('ID') \\\n",
        "            .rename(columns={'default payment next month': 'default'})\n",
        "  return dataset.drop(columns=[column for column in dataset.columns if 'AMT' in column]) \\\n",
        "         .rename(columns={column: column.lower() for column in dataset.columns})\n",
        "\n",
        "dataset = read_dataset(dataset_url)\n",
        "# display the dataset"
      ],
      "metadata": {
        "id": "3cp03GKsFVFL"
      },
      "execution_count": 5,
      "outputs": []
    },
    {
      "cell_type": "markdown",
      "source": [
        "## Check for missing values\n",
        "No drops are needed here because the dataset is complete."
      ],
      "metadata": {
        "id": "iu2JrRDkmSly"
      }
    },
    {
      "cell_type": "code",
      "source": [
        "np.sum(pd.isnull(dataset), axis=0) # sum over the columns"
      ],
      "metadata": {
        "colab": {
          "base_uri": "https://localhost:8080/"
        },
        "id": "SnRC3h6FmRHW",
        "outputId": "44d6b963-67bc-473b-e7e1-a691879ed5b6"
      },
      "execution_count": 6,
      "outputs": [
        {
          "output_type": "execute_result",
          "data": {
            "text/plain": [
              "limit_bal    0\n",
              "sex          0\n",
              "education    0\n",
              "marriage     0\n",
              "age          0\n",
              "pay_1        0\n",
              "pay_2        0\n",
              "pay_3        0\n",
              "pay_4        0\n",
              "pay_5        0\n",
              "pay_6        0\n",
              "default      0\n",
              "dtype: int64"
            ]
          },
          "metadata": {},
          "execution_count": 6
        }
      ]
    },
    {
      "cell_type": "markdown",
      "source": [
        "## Distribution of `limit_bal` \n",
        "First, we print out the histogram related to the distribution of `limit_bal`, which is the only continuous variable used."
      ],
      "metadata": {
        "id": "rfxyLfwJD4NF"
      }
    },
    {
      "cell_type": "code",
      "source": [
        "ax = dataset['limit_bal'].plot.hist(bins=5, alpha=0.5)"
      ],
      "metadata": {
        "colab": {
          "base_uri": "https://localhost:8080/",
          "height": 278
        },
        "id": "tPOZ_CEpCuIr",
        "outputId": "f3b494d2-683a-4349-f546-b30e972c0587"
      },
      "execution_count": 7,
      "outputs": [
        {
          "output_type": "display_data",
          "data": {
            "text/plain": [
              "<Figure size 432x288 with 1 Axes>"
            ],
            "image/png": "[encoded data removed]"
          },
          "metadata": {
            "needs_background": "light"
          }
        }
      ]
    },
    {
      "cell_type": "markdown",
      "source": [
        "Next, we describe the distribution. To discretize it, we would like to create four beams (i.e., corresponding to the four percentiles)."
      ],
      "metadata": {
        "id": "RLT0UNoOEfsD"
      }
    },
    {
      "cell_type": "code",
      "source": [
        "dataset['limit_bal'].describe()"
      ],
      "metadata": {
        "colab": {
          "base_uri": "https://localhost:8080/"
        },
        "id": "H9Ok3wXWCSHz",
        "outputId": "fb39fec9-9c2f-4b81-a0b2-35a5f38837e4"
      },
      "execution_count": 8,
      "outputs": [
        {
          "output_type": "execute_result",
          "data": {
            "text/plain": [
              "count      30000.000000\n",
              "mean      167484.322667\n",
              "std       129747.661567\n",
              "min        10000.000000\n",
              "25%        50000.000000\n",
              "50%       140000.000000\n",
              "75%       240000.000000\n",
              "max      1000000.000000\n",
              "Name: limit_bal, dtype: float64"
            ]
          },
          "metadata": {},
          "execution_count": 8
        }
      ]
    },
    {
      "cell_type": "markdown",
      "source": [
        "## Manipulation\n",
        "The *artificial column* `misspayments_prev_6_months` can hold either positive, negative numbers or 0. In particular, this means: \n",
        "1. $ n = -2 $ corresponds to there was no credit to pay;\n",
        "2. $ n = -1 $ corresponds to payed successfully;\n",
        "3. $ n = 0 $ corresponds to a payment that was made on time but not totally to clear the balance (i.e., the minimum payment was met);\n",
        "4. $ n > 0 $ corresponds to the number of delayed months.\n",
        "\n",
        "All computations - but `misspayments_prev_6_months` - are performed in a vectorized fashion using NumPy. The less efficient alternative would have used the `apply` method over Pandas DataFrame, which internally leverages a for loop."
      ],
      "metadata": {
        "id": "u_NZMq0IFLLN"
      }
    },
    {
      "cell_type": "code",
      "source": [
        "%%time\n",
        "\n",
        "def manipulate_dataset(df: pd.DataFrame) -> pd.DataFrame:\n",
        "  compute_misspayments = lambda payments_status: sum([payment_status > 0 for payment_status in payments_status])\n",
        "  df['sex'] = np.where(df['sex'] == 1, 'male', 'female')\n",
        "  df['marriage'] = np.where(df['marriage'] == 1, 'married', 'not_married')\n",
        "  df['age'] = np.select([\n",
        "              (df['age'] < 35), \n",
        "              (df['age'] >= 35) & (df['age'] < 60)],\n",
        "              ['young', 'mid_aged'], default = 'senior')\n",
        "  df['limit_bal'] = np.select([\n",
        "                    (df['limit_bal'] < 50_000), \n",
        "                    (df['limit_bal'] >= 50_000) & (df['limit_bal'] < 140_000),\n",
        "                    (df['limit_bal'] >= 140_000) & (df['limit_bal'] < 240_000)],\n",
        "                    ['low', 'medium', 'medium_high'], default = 'high')\n",
        "  df['education'] = np.select([\n",
        "                    (df['education'] == 1), \n",
        "                    (df['education'] == 2), \n",
        "                    (df['education'] == 3)], \n",
        "                    ['graduate', 'university', 'high_school'], default = 'others') \n",
        "  df['misspayments_prev_6_months'] = df.apply(lambda row: \\\n",
        "                                              compute_misspayments([row[column] for column in df.columns if 'pay_' in column]), \n",
        "                                              axis=1) #axis = 1 means row by row\n",
        "  return df.drop(columns=[column for column in df.columns if 'pay_' in column])\n",
        "\n",
        "dataset = manipulate_dataset(read_dataset(dataset_url))"
      ],
      "metadata": {
        "colab": {
          "base_uri": "https://localhost:8080/"
        },
        "id": "EZm6-KOqYe6r",
        "outputId": "fbf07aef-9a00-4e4c-8c7a-f9aa5692435b"
      },
      "execution_count": 9,
      "outputs": [
        {
          "output_type": "stream",
          "name": "stdout",
          "text": [
            "CPU times: user 750 ms, sys: 20.1 ms, total: 770 ms\n",
            "Wall time: 809 ms\n"
          ]
        }
      ]
    },
    {
      "cell_type": "code",
      "source": [
        "print(f'The dataset contains {dataset.shape[0]} rows, {dataset.shape[1]} columns and it weighs {(dataset.memory_usage(index=True, deep=True).sum() / 10**6):.2f}MB')\n",
        "dataset.head()"
      ],
      "metadata": {
        "colab": {
          "base_uri": "https://localhost:8080/",
          "height": 255
        },
        "id": "XKClX88UF2IA",
        "outputId": "852ffe4b-bfdf-4edb-c4c4-7b7e5cad58e9"
      },
      "execution_count": 10,
      "outputs": [
        {
          "output_type": "stream",
          "name": "stdout",
          "text": [
            "The dataset contains 30000 rows, 7 columns and it weighs 10.37MB\n"
          ]
        },
        {
          "output_type": "execute_result",
          "data": {
            "text/plain": [
              "   limit_bal     sex   education     marriage       age  default  \\\n",
              "ID                                                                 \n",
              "1        low  female  university      married     young        1   \n",
              "2     medium  female  university  not_married     young        1   \n",
              "3     medium  female  university  not_married     young        0   \n",
              "4     medium  female  university      married  mid_aged        0   \n",
              "5     medium    male  university      married  mid_aged        0   \n",
              "\n",
              "    misspayments_prev_6_months  \n",
              "ID                              \n",
              "1                            2  \n",
              "2                            2  \n",
              "3                            0  \n",
              "4                            0  \n",
              "5                            0  "
            ],
            "text/html": [
              "\n",
              "  <div id=\"df-85af3343-4737-4ffa-b524-f3370028786b\">\n",
              "    <div class=\"colab-df-container\">\n",
              "      <div>\n",
              "<style scoped>\n",
              "    .dataframe tbody tr th:only-of-type {\n",
              "        vertical-align: middle;\n",
              "    }\n",
              "\n",
              "    .dataframe tbody tr th {\n",
              "        vertical-align: top;\n",
              "    }\n",
              "\n",
              "    .dataframe thead th {\n",
              "        text-align: right;\n",
              "    }\n",
              "</style>\n",
              "<table border=\"1\" class=\"dataframe\">\n",
              "  <thead>\n",
              "    <tr style=\"text-align: right;\">\n",
              "      <th></th>\n",
              "      <th>limit_bal</th>\n",
              "      <th>sex</th>\n",
              "      <th>education</th>\n",
              "      <th>marriage</th>\n",
              "      <th>age</th>\n",
              "      <th>default</th>\n",
              "      <th>misspayments_prev_6_months</th>\n",
              "    </tr>\n",
              "    <tr>\n",
              "      <th>ID</th>\n",
              "      <th></th>\n",
              "      <th></th>\n",
              "      <th></th>\n",
              "      <th></th>\n",
              "      <th></th>\n",
              "      <th></th>\n",
              "      <th></th>\n",
              "    </tr>\n",
              "  </thead>\n",
              "  <tbody>\n",
              "    <tr>\n",
              "      <th>1</th>\n",
              "      <td>low</td>\n",
              "      <td>female</td>\n",
              "      <td>university</td>\n",
              "      <td>married</td>\n",
              "      <td>young</td>\n",
              "      <td>1</td>\n",
              "      <td>2</td>\n",
              "    </tr>\n",
              "    <tr>\n",
              "      <th>2</th>\n",
              "      <td>medium</td>\n",
              "      <td>female</td>\n",
              "      <td>university</td>\n",
              "      <td>not_married</td>\n",
              "      <td>young</td>\n",
              "      <td>1</td>\n",
              "      <td>2</td>\n",
              "    </tr>\n",
              "    <tr>\n",
              "      <th>3</th>\n",
              "      <td>medium</td>\n",
              "      <td>female</td>\n",
              "      <td>university</td>\n",
              "      <td>not_married</td>\n",
              "      <td>young</td>\n",
              "      <td>0</td>\n",
              "      <td>0</td>\n",
              "    </tr>\n",
              "    <tr>\n",
              "      <th>4</th>\n",
              "      <td>medium</td>\n",
              "      <td>female</td>\n",
              "      <td>university</td>\n",
              "      <td>married</td>\n",
              "      <td>mid_aged</td>\n",
              "      <td>0</td>\n",
              "      <td>0</td>\n",
              "    </tr>\n",
              "    <tr>\n",
              "      <th>5</th>\n",
              "      <td>medium</td>\n",
              "      <td>male</td>\n",
              "      <td>university</td>\n",
              "      <td>married</td>\n",
              "      <td>mid_aged</td>\n",
              "      <td>0</td>\n",
              "      <td>0</td>\n",
              "    </tr>\n",
              "  </tbody>\n",
              "</table>\n",
              "</div>\n",
              "      <button class=\"colab-df-convert\" onclick=\"convertToInteractive('df-85af3343-4737-4ffa-b524-f3370028786b')\"\n",
              "              title=\"Convert this dataframe to an interactive table.\"\n",
              "              style=\"display:none;\">\n",
              "        \n",
              "  <svg xmlns=\"http://www.w3.org/2000/svg\" height=\"24px\"viewBox=\"0 0 24 24\"\n",
              "       width=\"24px\">\n",
              "    <path d=\"M0 0h24v24H0V0z\" fill=\"none\"/>\n",
              "    <path d=\"M18.56 5.44l.94 2.06.94-2.06 2.06-.94-2.06-.94-.94-2.06-.94 2.06-2.06.94zm-11 1L8.5 8.5l.94-2.06 2.06-.94-2.06-.94L8.5 2.5l-.94 2.06-2.06.94zm10 10l.94 2.06.94-2.06 2.06-.94-2.06-.94-.94-2.06-.94 2.06-2.06.94z\"/><path d=\"M17.41 7.96l-1.37-1.37c-.4-.4-.92-.59-1.43-.59-.52 0-1.04.2-1.43.59L10.3 9.45l-7.72 7.72c-.78.78-.78 2.05 0 2.83L4 21.41c.39.39.9.59 1.41.59.51 0 1.02-.2 1.41-.59l7.78-7.78 2.81-2.81c.8-.78.8-2.07 0-2.86zM5.41 20L4 18.59l7.72-7.72 1.47 1.35L5.41 20z\"/>\n",
              "  </svg>\n",
              "      </button>\n",
              "      \n",
              "  <style>\n",
              "    .colab-df-container {\n",
              "      display:flex;\n",
              "      flex-wrap:wrap;\n",
              "      gap: 12px;\n",
              "    }\n",
              "\n",
              "    .colab-df-convert {\n",
              "      background-color: #E8F0FE;\n",
              "      border: none;\n",
              "      border-radius: 50%;\n",
              "      cursor: pointer;\n",
              "      display: none;\n",
              "      fill: #1967D2;\n",
              "      height: 32px;\n",
              "      padding: 0 0 0 0;\n",
              "      width: 32px;\n",
              "    }\n",
              "\n",
              "    .colab-df-convert:hover {\n",
              "      background-color: #E2EBFA;\n",
              "      box-shadow: 0px 1px 2px rgba(60, 64, 67, 0.3), 0px 1px 3px 1px rgba(60, 64, 67, 0.15);\n",
              "      fill: #174EA6;\n",
              "    }\n",
              "\n",
              "    [theme=dark] .colab-df-convert {\n",
              "      background-color: #3B4455;\n",
              "      fill: #D2E3FC;\n",
              "    }\n",
              "\n",
              "    [theme=dark] .colab-df-convert:hover {\n",
              "      background-color: #434B5C;\n",
              "      box-shadow: 0px 1px 3px 1px rgba(0, 0, 0, 0.15);\n",
              "      filter: drop-shadow(0px 1px 2px rgba(0, 0, 0, 0.3));\n",
              "      fill: #FFFFFF;\n",
              "    }\n",
              "  </style>\n",
              "\n",
              "      <script>\n",
              "        const buttonEl =\n",
              "          document.querySelector('#df-85af3343-4737-4ffa-b524-f3370028786b button.colab-df-convert');\n",
              "        buttonEl.style.display =\n",
              "          google.colab.kernel.accessAllowed ? 'block' : 'none';\n",
              "\n",
              "        async function convertToInteractive(key) {\n",
              "          const element = document.querySelector('#df-85af3343-4737-4ffa-b524-f3370028786b');\n",
              "          const dataTable =\n",
              "            await google.colab.kernel.invokeFunction('convertToInteractive',\n",
              "                                                     [key], {});\n",
              "          if (!dataTable) return;\n",
              "\n",
              "          const docLinkHtml = 'Like what you see? Visit the ' +\n",
              "            '<a target=\"_blank\" href=https://colab.research.google.com/notebooks/data_table.ipynb>data table notebook</a>'\n",
              "            + ' to learn more about interactive tables.';\n",
              "          element.innerHTML = '';\n",
              "          dataTable['output_type'] = 'display_data';\n",
              "          await google.colab.output.renderOutput(dataTable, element);\n",
              "          const docLink = document.createElement('div');\n",
              "          docLink.innerHTML = docLinkHtml;\n",
              "          element.appendChild(docLink);\n",
              "        }\n",
              "      </script>\n",
              "    </div>\n",
              "  </div>\n",
              "  "
            ]
          },
          "metadata": {},
          "execution_count": 10
        }
      ]
    },
    {
      "cell_type": "markdown",
      "source": [
        "## States\n",
        "TBC: Description of final dataset and its values\n",
        "List - for each variable - the associated states, i.e. every possibile unique value in the domain $D$ of a random variable."
      ],
      "metadata": {
        "id": "Z3u2NRfk8mhE"
      }
    },
    {
      "cell_type": "code",
      "source": [
        "{col_name: column.unique() for col_name, column in dataset.iteritems()}"
      ],
      "metadata": {
        "colab": {
          "base_uri": "https://localhost:8080/"
        },
        "id": "O5WkHilneu26",
        "outputId": "4607c462-a0fa-4d7a-8a8f-7eac039288ba"
      },
      "execution_count": 11,
      "outputs": [
        {
          "output_type": "execute_result",
          "data": {
            "text/plain": [
              "{'limit_bal': array(['low', 'medium', 'high', 'medium_high'], dtype=object),\n",
              " 'sex': array(['female', 'male'], dtype=object),\n",
              " 'education': array(['university', 'graduate', 'high_school', 'others'], dtype=object),\n",
              " 'marriage': array(['married', 'not_married'], dtype=object),\n",
              " 'age': array(['young', 'mid_aged', 'senior'], dtype=object),\n",
              " 'default': array([1, 0]),\n",
              " 'misspayments_prev_6_months': array([2, 0, 1, 4, 5, 6, 3])}"
            ]
          },
          "metadata": {},
          "execution_count": 11
        }
      ]
    },
    {
      "cell_type": "markdown",
      "source": [
        "## Train/test splitting"
      ],
      "metadata": {
        "id": "lEC3R1T65J99"
      }
    },
    {
      "cell_type": "code",
      "source": [
        "X_train, X_test, y_train, y_test = train_test_split(dataset.drop('default', axis=1), dataset['default'], \\\n",
        "                                                    test_size=test_ratio, random_state=random_seed, \\\n",
        "                                                    stratify=dataset['default'])\n",
        "train = pd.concat([X_train, y_train], axis=1)\n",
        "test = pd.concat([X_test, y_test], axis=1)\n",
        "print(\"Training set size: \" + str(train.shape[0]))\n",
        "print(\"Test set size: \" + str(test.shape[0]))\n",
        "print(\"Total size: \" + str(train.shape[0] + test.shape[0]))"
      ],
      "metadata": {
        "colab": {
          "base_uri": "https://localhost:8080/"
        },
        "id": "ovyfpjEzsGl9",
        "outputId": "f00c7a7b-1da8-48af-e1c2-8728df6cf65d"
      },
      "execution_count": 12,
      "outputs": [
        {
          "output_type": "stream",
          "name": "stdout",
          "text": [
            "Training set size: 24000\n",
            "Test set size: 6000\n",
            "Total size: 30000\n"
          ]
        }
      ]
    },
    {
      "cell_type": "markdown",
      "source": [
        "# Utility functions"
      ],
      "metadata": {
        "id": "MnSOLJKphvyI"
      }
    },
    {
      "cell_type": "markdown",
      "source": [
        "## Plotting networks"
      ],
      "metadata": {
        "id": "VKu1kz41iFsJ"
      }
    },
    {
      "cell_type": "code",
      "source": [
        "def plot_network(network: 'DAG', name: str = 'Network', save_image: bool = False):\n",
        "  fig, ax = plt.subplots(1, 1, figsize=(12, 12))\n",
        "  nx.draw_networkx(network, pos=nx.drawing.layout.circular_layout(network), ax=ax, node_size=5000)\n",
        "  ax.set_title(name)\n",
        "  if save_image:\n",
        "    fig.savefig(name)"
      ],
      "metadata": {
        "id": "R2ufY3e2TlqM"
      },
      "execution_count": 13,
      "outputs": []
    },
    {
      "cell_type": "markdown",
      "source": [
        "## Parameter learning (CDPs)\n",
        "Parameter are estimated given an already-defined $DAG = \\{V, E\\}$. The estimation is related to every random variable's *CPT*."
      ],
      "metadata": {
        "id": "UCWtVvwGiCWU"
      }
    },
    {
      "cell_type": "code",
      "source": [
        "def fit_bayesian_network(bayesian_network: BayesianNetwork, prior_type: str = 'BDeu', print_cpd: bool = False) -> tuple[BayesianNetwork, list]:\n",
        "  bayesian_network.fit(train, estimator=BayesianEstimator, prior_type = prior_type)\n",
        "  print('The CPDs contain', 'no' if bayesian_network.check_model() else 'some', 'errors.')\n",
        "  bn_cpds = bayesian_network.get_cpds()\n",
        "  if print_cpd:\n",
        "    TabularCPD._truncate_strtable = lambda self, x: x\n",
        "    for cpd in bn_cpds:\n",
        "      print(cpd)\n",
        "  return bayesian_network, bn_cpds"
      ],
      "metadata": {
        "id": "waaEVmpBcPVZ"
      },
      "execution_count": 14,
      "outputs": []
    },
    {
      "cell_type": "markdown",
      "source": [
        "# Hard-coded networks"
      ],
      "metadata": {
        "id": "vwiKvcYamCqs"
      }
    },
    {
      "cell_type": "markdown",
      "source": [
        "## Easy"
      ],
      "metadata": {
        "id": "X7VuShgwTPKn"
      }
    },
    {
      "cell_type": "code",
      "source": [
        "model_easy = BayesianNetwork([('education', 'limit_bal'), ('age', 'limit_bal'), \\\n",
        "                       ('marriage', 'limit_bal'), ('sex', 'limit_bal'), \\\n",
        "                       ('limit_bal', 'default'), ('misspayments_prev_6_months', 'default')])\n",
        "plot_network(model_easy, 'Easy model')\n",
        "model_easy, model_easy_cpds = fit_bayesian_network(model_easy, prior_type = 'BDeu', print_cpd = False)"
      ],
      "metadata": {
        "id": "7AUSDFAp6byr",
        "colab": {
          "base_uri": "https://localhost:8080/",
          "height": 717
        },
        "outputId": "6fc9a6ce-9fe8-43fe-e815-55b5795969b3"
      },
      "execution_count": 15,
      "outputs": [
        {
          "output_type": "stream",
          "name": "stdout",
          "text": [
            "The CPDs contain no errors.\n"
          ]
        },
        {
          "output_type": "display_data",
          "data": {
            "text/plain": [
              "<Figure size 864x864 with 1 Axes>"
            ],
            "image/png": "[encoded data removed]"
          },
          "metadata": {}
        }
      ]
    },
    {
      "cell_type": "markdown",
      "source": [
        "## Medium"
      ],
      "metadata": {
        "id": "9TLoUVx9Tf11"
      }
    },
    {
      "cell_type": "code",
      "source": [
        "model_medium = BayesianNetwork([(\"age\", \"marriage\"), (\"age\", \"education\"), \\\n",
        "                       (\"age\", \"education\"),(\"age\", \"default\"), \\\n",
        "                       (\"education\", \"limit_bal\"), (\"marriage\", \"limit_bal\"), \\\n",
        "                       (\"limit_bal\", \"default\"), (\"sex\", \"limit_bal\"), \\\n",
        "                       (\"misspayments_prev_6_months\", \"default\")])\n",
        "plot_network(model_medium, 'Medium model')\n",
        "model_medium, model_medium_cpds = fit_bayesian_network(model_medium, prior_type = 'BDeu', print_cpd = False)"
      ],
      "metadata": {
        "colab": {
          "base_uri": "https://localhost:8080/",
          "height": 717
        },
        "id": "3Wd8lrnRThli",
        "outputId": "e4c65e23-64eb-4b9d-d134-d6d9d52fb3d7"
      },
      "execution_count": 16,
      "outputs": [
        {
          "output_type": "stream",
          "name": "stdout",
          "text": [
            "The CPDs contain no errors.\n"
          ]
        },
        {
          "output_type": "display_data",
          "data": {
            "text/plain": [
              "<Figure size 864x864 with 1 Axes>"
            ],
            "image/png": "[encoded data removed]"
          },
          "metadata": {}
        }
      ]
    },
    {
      "cell_type": "markdown",
      "source": [
        "## Hard"
      ],
      "metadata": {
        "id": "N85YmhGiUbUW"
      }
    },
    {
      "cell_type": "code",
      "source": [
        "model_hard = BayesianNetwork([(\"age\", \"marriage\"), (\"age\", \"education\"), \\\n",
        "                       (\"age\", \"education\"),(\"age\", \"default\"), \\\n",
        "                       (\"education\", \"limit_bal\"), (\"marriage\", \"limit_bal\"), \\\n",
        "                       (\"limit_bal\", \"default\"), (\"sex\", \"limit_bal\"), \\\n",
        "                       (\"misspayments_prev_6_months\", \"default\"), (\"education\", \"default\"), \\\n",
        "                       (\"marriage\", \"default\")])\n",
        "plot_network(model_hard, 'Hard model')\n",
        "model_hard, model_hard_cpds = fit_bayesian_network(model_hard, prior_type = 'BDeu', print_cpd = False)"
      ],
      "metadata": {
        "colab": {
          "base_uri": "https://localhost:8080/",
          "height": 717
        },
        "id": "oGUDmuoUUc4p",
        "outputId": "204a460e-209e-4509-e02b-1622cf027175"
      },
      "execution_count": 17,
      "outputs": [
        {
          "output_type": "stream",
          "name": "stdout",
          "text": [
            "The CPDs contain no errors.\n"
          ]
        },
        {
          "output_type": "display_data",
          "data": {
            "text/plain": [
              "<Figure size 864x864 with 1 Axes>"
            ],
            "image/png": "[encoded data removed]"
          },
          "metadata": {}
        }
      ]
    },
    {
      "cell_type": "markdown",
      "source": [
        "# Structural-learned models\n",
        "Since query results are poor when comparing the three different models, there is likely no difference betwee the three represetations and thus, we should seek a different model structure."
      ],
      "metadata": {
        "id": "Fft2zheucHit"
      }
    },
    {
      "cell_type": "markdown",
      "source": [
        "## Exhaustive Search\n",
        "Since the ES algorithm cost is super-exponential, it's suited only for small BN, i.e. for networks having less than 5 nodes. In our case, this method is computationally inadequate so will not be included in the networks. "
      ],
      "metadata": {
        "id": "_q7e4jWeiGck"
      }
    },
    {
      "cell_type": "code",
      "source": [
        "#ex_search = ExhaustiveSearch(data=train, scoring_method=BicScore(data=train))\n",
        "#ex_search_model = ex_search.estimate()\n",
        "#plot_network(ex_search_model, 'Structural Learning - Exhaustive search')\n",
        "#ex_search_model = BayesianNetwork(ex_search_model.edges())\n",
        "#ex_search_model, ex_search_model_cpds = fit_bayesian_network(ex_search_model, prior_type = 'BDeu', print_cpd = False)"
      ],
      "metadata": {
        "id": "S0OW-sDSiMNH"
      },
      "execution_count": 18,
      "outputs": []
    },
    {
      "cell_type": "markdown",
      "source": [
        "## Tree Search"
      ],
      "metadata": {
        "id": "F1L7aZiXatnj"
      }
    },
    {
      "cell_type": "code",
      "source": [
        "ts = TreeSearch(data=train, root_node='age')\n",
        "tree_search_model = ts.estimate(show_progress=True)\n",
        "plot_network(tree_search_model, 'Structural Learning - Tree Search')\n",
        "tree_search_model = BayesianNetwork(tree_search_model.edges())\n",
        "tree_search_model, tree_search_cpds = fit_bayesian_network(tree_search_model, prior_type = 'BDeu', print_cpd = False)"
      ],
      "metadata": {
        "colab": {
          "base_uri": "https://localhost:8080/",
          "referenced_widgets": [
            "59081a93c73c4d6b9a27e11798cc1c8e",
            "6048bfe1336340ab94c05bad6c40cf5e",
            "1f7e21600aa540cfaa79ee084ca19c32",
            "2d0943da4dae48be893b24ed5ddc5078",
            "b46be25e378a4e54bd8152e8e7446f3f",
            "35158e642ca84ea5a4bfd33d39d1e1e6",
            "3b3039d43fcd43f5bc64cb052d34e714",
            "2e3dbda5cf5b436ab8e9c7475b28adde",
            "f8d2b8a0c5e6435d95be269323338ed5",
            "0c55d39c317e47149fb52c66fc3445f7",
            "466f95c9a020431c8aab653124bad3bc"
          ],
          "height": 749
        },
        "id": "SbOibh7fckkw",
        "outputId": "37a02a89-b82f-4711-9338-4671d7425eab"
      },
      "execution_count": 19,
      "outputs": [
        {
          "output_type": "display_data",
          "data": {
            "text/plain": [
              "Building tree:   0%|          | 0/21.0 [00:00<?, ?it/s]"
            ],
            "application/vnd.jupyter.widget-view+json": {
              "version_major": 2,
              "version_minor": 0,
              "model_id": "59081a93c73c4d6b9a27e11798cc1c8e"
            }
          },
          "metadata": {}
        },
        {
          "output_type": "stream",
          "name": "stdout",
          "text": [
            "The CPDs contain no errors.\n"
          ]
        },
        {
          "output_type": "display_data",
          "data": {
            "text/plain": [
              "<Figure size 864x864 with 1 Axes>"
            ],
            "image/png": "[encoded data removed]"
          },
          "metadata": {}
        }
      ]
    },
    {
      "cell_type": "markdown",
      "source": [
        "## Hill Climb"
      ],
      "metadata": {
        "id": "_LZV7liEaxIA"
      }
    },
    {
      "cell_type": "code",
      "source": [
        "hill_climb = HillClimbSearch(data=train)\n",
        "hill_climb_base_model = hill_climb.estimate(scoring_method=BDeuScore(data=train), show_progress=True)\n",
        "plot_network(hill_climb_base_model, 'Structural Learning - Hill Climb')\n",
        "hill_climb_base_model = BayesianNetwork(hill_climb_base_model.edges())\n",
        "hill_climb_base_model, hill_climb_base_cpds = fit_bayesian_network(hill_climb_base_model, prior_type = 'BDeu', print_cpd = False)"
      ],
      "metadata": {
        "id": "4yn0JlThnbbO",
        "colab": {
          "base_uri": "https://localhost:8080/",
          "referenced_widgets": [
            "bab283828f4e4d02874b71eeb1438aa5",
            "7fd0a31e13fb4849be2476ba44eefe8a",
            "c97922da97184b04a1d54010188869b8",
            "db0b8270958d4850a75a442f8eccc392",
            "868e190b5f814430bbdf345718797632",
            "77f99d950d8b4f05a98347da65ce40d8",
            "e639d41aaa204dc1936dffe35a48c7a6",
            "33f055872698422a881a27063f47f858",
            "99470bbde29649b9b17a24964c3e8950",
            "3dab4c996db84161b78314982e8e883e",
            "59e9efb0abf7411482f4b4329a509de3"
          ],
          "height": 749
        },
        "outputId": "10ff69e7-ba26-4751-849c-fd70254594ce"
      },
      "execution_count": 20,
      "outputs": [
        {
          "output_type": "display_data",
          "data": {
            "text/plain": [
              "  0%|          | 0/1000000 [00:00<?, ?it/s]"
            ],
            "application/vnd.jupyter.widget-view+json": {
              "version_major": 2,
              "version_minor": 0,
              "model_id": "bab283828f4e4d02874b71eeb1438aa5"
            }
          },
          "metadata": {}
        },
        {
          "output_type": "stream",
          "name": "stdout",
          "text": [
            "The CPDs contain no errors.\n"
          ]
        },
        {
          "output_type": "display_data",
          "data": {
            "text/plain": [
              "<Figure size 864x864 with 1 Axes>"
            ],
            "image/png": "[encoded data removed]"
          },
          "metadata": {}
        }
      ]
    },
    {
      "cell_type": "markdown",
      "source": [
        "## Constrained Hill Climb"
      ],
      "metadata": {
        "id": "o0-eOFTwvzH-"
      }
    },
    {
      "cell_type": "code",
      "source": [
        "edges_white_list = [('misspayments_prev_6_months', 'default'), ('age','limit_bal')]\n",
        "edges_black_list = [('limit_bal', 'sex'), ('education', 'sex'), ('age', 'sex')]\n",
        "\n",
        "hill_climb = HillClimbSearch(data=train)\n",
        "constr_hill_climb_model = hill_climb.estimate(scoring_method=BDeuScore(data=train), fixed_edges=edges_white_list, \\\n",
        "                                              black_list=edges_black_list, show_progress=True)\n",
        "constr_hill_climb_model = BayesianNetwork(constr_hill_climb_model.edges())\n",
        "plot_network(constr_hill_climb_model, 'Structural Learning - Constrained Hill Climb')\n",
        "constr_hill_climb_model, hill_climb_constr_cpds = fit_bayesian_network(constr_hill_climb_model, prior_type = 'BDeu', print_cpd = False)"
      ],
      "metadata": {
        "colab": {
          "base_uri": "https://localhost:8080/",
          "referenced_widgets": [
            "92d60cd7c9b142efaca174c153161b19",
            "484782e8f8854e26a6202dca9004549b",
            "843b3003c71149aaa54fd416d540b1b6",
            "219c81e8aeeb4a5094edb619c8d3aabd",
            "05709cc0b047498092c2a7b7c654401e",
            "106f5995bad9407fa1ebfb4351f2973b",
            "d7ea89eacacf4d388e8519f3585bee1c",
            "fc7018c42d2247f381d62ff297a58dbc",
            "cbe68849f94e49d28f1b72aa37f2c03a",
            "e7796a8126cf47c1a58179aef3dad391",
            "1962983429124772bfada67477f92c60"
          ],
          "height": 749
        },
        "id": "-YNRZhCeoOjZ",
        "outputId": "9c72cc28-96ad-4c76-b57a-61340e37683a"
      },
      "execution_count": 21,
      "outputs": [
        {
          "output_type": "display_data",
          "data": {
            "text/plain": [
              "  0%|          | 0/1000000 [00:00<?, ?it/s]"
            ],
            "application/vnd.jupyter.widget-view+json": {
              "version_major": 2,
              "version_minor": 0,
              "model_id": "92d60cd7c9b142efaca174c153161b19"
            }
          },
          "metadata": {}
        },
        {
          "output_type": "stream",
          "name": "stdout",
          "text": [
            "The CPDs contain no errors.\n"
          ]
        },
        {
          "output_type": "display_data",
          "data": {
            "text/plain": [
              "<Figure size 864x864 with 1 Axes>"
            ],
            "image/png": "[encoded data removed]"
          },
          "metadata": {}
        }
      ]
    },
    {
      "cell_type": "markdown",
      "source": [
        "# Network analysis"
      ],
      "metadata": {
        "id": "Dd3Yk8IoaYvj"
      }
    },
    {
      "cell_type": "markdown",
      "source": [
        "We now have six differently designed Bayesian Networks with CPDs. Let's use the Pgmpy library to explore the local semantics or the networks and their Markov Blankets."
      ],
      "metadata": {
        "id": "L9Nh6xbIuovx"
      }
    },
    {
      "cell_type": "code",
      "source": [
        "models = {'model_easy': model_easy, \n",
        "          'model_medium': model_medium, \n",
        "          'model_hard': model_hard, \n",
        "          'tree_search_model': tree_search_model, \n",
        "          'hill_climb_base_model': hill_climb_base_model, \n",
        "          'constr_hill_climb_model': constr_hill_climb_model}\n",
        "          \n",
        "nodes = [col_name for col_name, column in dataset.iteritems()]\n",
        "\n",
        "for model_name in models:\n",
        "  print_bold(os.linesep + model_name + os.linesep)\n",
        "  print_bold('Local semantics:')\n",
        "  print(models[model_name].local_independencies(nodes))\n",
        "  print_bold('Markov Blankets:')\n",
        "  for node in nodes:\n",
        "    print(f'Markov blanket of node {node}:', str(models[model_name].get_markov_blanket(node)))"
      ],
      "metadata": {
        "id": "Q2npc9fWabXu",
        "colab": {
          "base_uri": "https://localhost:8080/"
        },
        "outputId": "4c94c2d1-5a08-43da-dfa1-c434278cfa0f"
      },
      "execution_count": 22,
      "outputs": [
        {
          "output_type": "stream",
          "name": "stdout",
          "text": [
            "\u001b[1m\n",
            "model_easy\n",
            "\u001b[0m\n",
            "\u001b[1mLocal semantics:\u001b[0m\n",
            "(limit_bal ⟂ misspayments_prev_6_months | sex, age, marriage, education)\n",
            "(sex ⟂ age, marriage, misspayments_prev_6_months, education)\n",
            "(education ⟂ sex, age, marriage, misspayments_prev_6_months)\n",
            "(marriage ⟂ sex, age, misspayments_prev_6_months, education)\n",
            "(age ⟂ sex, marriage, misspayments_prev_6_months, education)\n",
            "(default ⟂ sex, age, marriage, education | limit_bal, misspayments_prev_6_months)\n",
            "(misspayments_prev_6_months ⟂ sex, age, marriage, limit_bal, education)\n",
            "\u001b[1mMarkov Blankets:\u001b[0m\n",
            "Markov blanket of node limit_bal: ['sex', 'age', 'misspayments_prev_6_months', 'marriage', 'default', 'education']\n",
            "Markov blanket of node sex: ['age', 'marriage', 'limit_bal', 'education']\n",
            "Markov blanket of node education: ['sex', 'age', 'marriage', 'limit_bal']\n",
            "Markov blanket of node marriage: ['sex', 'age', 'limit_bal', 'education']\n",
            "Markov blanket of node age: ['sex', 'marriage', 'limit_bal', 'education']\n",
            "Markov blanket of node default: ['limit_bal', 'misspayments_prev_6_months']\n",
            "Markov blanket of node misspayments_prev_6_months: ['limit_bal', 'default']\n",
            "\u001b[1m\n",
            "model_medium\n",
            "\u001b[0m\n",
            "\u001b[1mLocal semantics:\u001b[0m\n",
            "(limit_bal ⟂ age, misspayments_prev_6_months | sex, marriage, education)\n",
            "(sex ⟂ age, marriage, misspayments_prev_6_months, education)\n",
            "(education ⟂ sex, marriage, misspayments_prev_6_months | age)\n",
            "(marriage ⟂ sex, misspayments_prev_6_months, education | age)\n",
            "(age ⟂ sex, misspayments_prev_6_months)\n",
            "(default ⟂ sex, marriage, education | limit_bal, age, misspayments_prev_6_months)\n",
            "(misspayments_prev_6_months ⟂ sex, age, marriage, limit_bal, education)\n",
            "\u001b[1mMarkov Blankets:\u001b[0m\n",
            "Markov blanket of node limit_bal: ['sex', 'age', 'misspayments_prev_6_months', 'marriage', 'default', 'education']\n",
            "Markov blanket of node sex: ['limit_bal', 'marriage', 'education']\n",
            "Markov blanket of node education: ['sex', 'age', 'marriage', 'limit_bal']\n",
            "Markov blanket of node marriage: ['sex', 'age', 'limit_bal', 'education']\n",
            "Markov blanket of node age: ['misspayments_prev_6_months', 'marriage', 'limit_bal', 'default', 'education']\n",
            "Markov blanket of node default: ['limit_bal', 'age', 'misspayments_prev_6_months']\n",
            "Markov blanket of node misspayments_prev_6_months: ['limit_bal', 'age', 'default']\n",
            "\u001b[1m\n",
            "model_hard\n",
            "\u001b[0m\n",
            "\u001b[1mLocal semantics:\u001b[0m\n",
            "(limit_bal ⟂ age, misspayments_prev_6_months | sex, marriage, education)\n",
            "(sex ⟂ age, marriage, misspayments_prev_6_months, education)\n",
            "(education ⟂ sex, marriage, misspayments_prev_6_months | age)\n",
            "(marriage ⟂ sex, misspayments_prev_6_months, education | age)\n",
            "(age ⟂ sex, misspayments_prev_6_months)\n",
            "(default ⟂ sex | age, marriage, misspayments_prev_6_months, limit_bal, education)\n",
            "(misspayments_prev_6_months ⟂ sex, age, marriage, limit_bal, education)\n",
            "\u001b[1mMarkov Blankets:\u001b[0m\n",
            "Markov blanket of node limit_bal: ['sex', 'age', 'misspayments_prev_6_months', 'marriage', 'default', 'education']\n",
            "Markov blanket of node sex: ['limit_bal', 'marriage', 'education']\n",
            "Markov blanket of node education: ['sex', 'age', 'misspayments_prev_6_months', 'marriage', 'limit_bal', 'default']\n",
            "Markov blanket of node marriage: ['sex', 'age', 'misspayments_prev_6_months', 'limit_bal', 'default', 'education']\n",
            "Markov blanket of node age: ['misspayments_prev_6_months', 'marriage', 'limit_bal', 'default', 'education']\n",
            "Markov blanket of node default: ['age', 'misspayments_prev_6_months', 'marriage', 'limit_bal', 'education']\n",
            "Markov blanket of node misspayments_prev_6_months: ['age', 'marriage', 'limit_bal', 'default', 'education']\n",
            "\u001b[1m\n",
            "tree_search_model\n",
            "\u001b[0m\n",
            "\u001b[1mLocal semantics:\u001b[0m\n",
            "(limit_bal ⟂ age, marriage | education)\n",
            "(sex ⟂ age, marriage, misspayments_prev_6_months, default, education | limit_bal)\n",
            "(education ⟂ marriage | age)\n",
            "(marriage ⟂ sex, misspayments_prev_6_months, limit_bal, default, education | age)\n",
            "(default ⟂ sex, age, marriage, limit_bal, education | misspayments_prev_6_months)\n",
            "(misspayments_prev_6_months ⟂ sex, age, marriage, education | limit_bal)\n",
            "\u001b[1mMarkov Blankets:\u001b[0m\n",
            "Markov blanket of node limit_bal: ['sex', 'misspayments_prev_6_months', 'education']\n",
            "Markov blanket of node sex: ['limit_bal']\n",
            "Markov blanket of node education: ['limit_bal', 'age']\n",
            "Markov blanket of node marriage: ['age']\n",
            "Markov blanket of node age: ['marriage', 'education']\n",
            "Markov blanket of node default: ['misspayments_prev_6_months']\n",
            "Markov blanket of node misspayments_prev_6_months: ['limit_bal', 'default']\n",
            "\u001b[1m\n",
            "hill_climb_base_model\n",
            "\u001b[0m\n",
            "\u001b[1mLocal semantics:\u001b[0m\n",
            "(sex ⟂ default, misspayments_prev_6_months | limit_bal, marriage)\n",
            "(education ⟂ sex, default, misspayments_prev_6_months | limit_bal, age, marriage)\n",
            "(marriage ⟂ misspayments_prev_6_months | limit_bal, default)\n",
            "(age ⟂ default, misspayments_prev_6_months | sex, limit_bal, marriage)\n",
            "\u001b[1mMarkov Blankets:\u001b[0m\n",
            "Markov blanket of node limit_bal: ['sex', 'age', 'misspayments_prev_6_months', 'marriage', 'default', 'education']\n",
            "Markov blanket of node sex: ['limit_bal', 'age', 'marriage']\n",
            "Markov blanket of node education: ['limit_bal', 'age', 'marriage']\n",
            "Markov blanket of node marriage: ['sex', 'age', 'limit_bal', 'default', 'education']\n",
            "Markov blanket of node age: ['sex', 'marriage', 'limit_bal', 'education']\n",
            "Markov blanket of node default: ['limit_bal', 'marriage', 'misspayments_prev_6_months']\n",
            "Markov blanket of node misspayments_prev_6_months: ['limit_bal', 'default']\n",
            "\u001b[1m\n",
            "constr_hill_climb_model\n",
            "\u001b[0m\n",
            "\u001b[1mLocal semantics:\u001b[0m\n",
            "(limit_bal ⟂ sex | age, marriage, education)\n",
            "(education ⟂ sex | age, marriage)\n",
            "(default ⟂ sex, age, marriage, education | limit_bal, misspayments_prev_6_months)\n",
            "(misspayments_prev_6_months ⟂ sex, age, marriage, education | limit_bal)\n",
            "\u001b[1mMarkov Blankets:\u001b[0m\n",
            "Markov blanket of node limit_bal: ['age', 'misspayments_prev_6_months', 'marriage', 'default', 'education']\n",
            "Markov blanket of node sex: ['age', 'marriage']\n",
            "Markov blanket of node education: ['limit_bal', 'age', 'marriage']\n",
            "Markov blanket of node marriage: ['sex', 'age', 'limit_bal', 'education']\n",
            "Markov blanket of node age: ['sex', 'marriage', 'limit_bal', 'education']\n",
            "Markov blanket of node default: ['limit_bal', 'misspayments_prev_6_months']\n",
            "Markov blanket of node misspayments_prev_6_months: ['limit_bal', 'default']\n"
          ]
        }
      ]
    },
    {
      "cell_type": "markdown",
      "source": [
        "Let's see how the three characterising types of a Bayesian Network (common parent, cascade and V-structure) impact indipendencies within the networks."
      ],
      "metadata": {
        "id": "qf6fenWv7J1d"
      }
    },
    {
      "cell_type": "markdown",
      "source": [
        "__Common parent__:\n",
        "\n",
        "In TREE SEARCH, we have that _marriage_ <- _age_ -> _education_. Hence we say that _age_ is a common parent to _marriage_ and _education_. Let's visualise the independencies that it generates:"
      ],
      "metadata": {
        "id": "jc-nUt967liL"
      }
    },
    {
      "cell_type": "code",
      "source": [
        "print(tree_search_model.local_independencies(['age', 'marriage', 'education']))"
      ],
      "metadata": {
        "colab": {
          "base_uri": "https://localhost:8080/"
        },
        "id": "3yA1u1j17oys",
        "outputId": "9a7a5213-bac0-4b1f-9a94-d47a02fb2e20"
      },
      "execution_count": 23,
      "outputs": [
        {
          "output_type": "stream",
          "name": "stdout",
          "text": [
            "(marriage ⟂ sex, misspayments_prev_6_months, limit_bal, default, education | age)\n",
            "(education ⟂ marriage | age)\n"
          ]
        }
      ]
    },
    {
      "cell_type": "markdown",
      "source": [
        "This shows how education and marriage are indipendent given age, which is indeed a result given by their structure in the network. Moreover, we can see that since _age_ is the only node in the Markov Blanket of _marriage_, the latter is indeed indipendent to the rest of the network given _age_."
      ],
      "metadata": {
        "id": "bgMisfZGAgDW"
      }
    },
    {
      "cell_type": "markdown",
      "source": [
        "__Cascade__:"
      ],
      "metadata": {
        "id": "MdxW3uEpCx2D"
      }
    },
    {
      "cell_type": "markdown",
      "source": [
        "In TREE SEARCH, we have that _age_ -> _education_ -> _limit-bal_ is a cascade. Let's visualise the independencies that it generates:"
      ],
      "metadata": {
        "id": "pIQV4JF4C93M"
      }
    },
    {
      "cell_type": "code",
      "source": [
        "print(tree_search_model.local_independencies(['age', 'education', 'limit_bal']))"
      ],
      "metadata": {
        "colab": {
          "base_uri": "https://localhost:8080/"
        },
        "id": "AYxWV4IZC9Fi",
        "outputId": "8ed43ce1-0690-4d30-a49f-9131032f2024"
      },
      "execution_count": 24,
      "outputs": [
        {
          "output_type": "stream",
          "name": "stdout",
          "text": [
            "(education ⟂ marriage | age)\n",
            "(limit_bal ⟂ age, marriage | education)\n"
          ]
        }
      ]
    },
    {
      "cell_type": "markdown",
      "source": [
        "This shows that given _education_, _age_ and _limit-bal_ are independent, which is again a given in a cascade structure. "
      ],
      "metadata": {
        "id": "Hz342GL_DiaL"
      }
    },
    {
      "cell_type": "markdown",
      "source": [
        "__V-structure__:\n",
        "\n",
        "In EASY, we can see that _limit-bal_ -> _default_ <- _misspayment-prev-6-months_. We call this a V-structure. Let's visualise once again the independencies generated: "
      ],
      "metadata": {
        "id": "qthbGrQzEbe5"
      }
    },
    {
      "cell_type": "code",
      "source": [
        "print(model_easy.local_independencies(['limit_bal', 'default', 'misspayments_prev_6_months']))"
      ],
      "metadata": {
        "colab": {
          "base_uri": "https://localhost:8080/"
        },
        "id": "qpwpIT2KE95l",
        "outputId": "c8f39ac8-b8f8-457a-ce93-783453ebc346"
      },
      "execution_count": 25,
      "outputs": [
        {
          "output_type": "stream",
          "name": "stdout",
          "text": [
            "(limit_bal ⟂ misspayments_prev_6_months | sex, age, marriage, education)\n",
            "(default ⟂ sex, age, marriage, education | limit_bal, misspayments_prev_6_months)\n",
            "(misspayments_prev_6_months ⟂ sex, age, marriage, limit_bal, education)\n"
          ]
        }
      ]
    },
    {
      "cell_type": "markdown",
      "source": [
        "We can see already that _limit-bal_ is independent to _misspayment-prev-6-months_ when default is not observed. Let's now formalise this a little by proving the below independence relationship:\n",
        "\n",
        "* P(_limit-bal_ AND _misspayments_prev_6_months_) = P(_limit-bal_) * P(_misspayments_prev_6_months_)\n",
        "\n",
        "* P(_limit-bal_ AND _misspayments_prev_6_months_ | _default_) != P(_limit-bal_ | _default_) * P(_misspayments-prev-6-months_ | _default_)\n"
      ],
      "metadata": {
        "id": "-FOT_pZcKrT6"
      }
    },
    {
      "cell_type": "code",
      "source": [
        "print(\"P(limit-bal AND misspayments-prev-6-months) = P(limit-bal) * P(misspayments_prev_6_months) is \" + \\\n",
        "      str(VariableElimination(model_easy).query([\"misspayments_prev_6_months\", \"limit_bal\"]) == \\\n",
        "      VariableElimination(model_easy).query([\"limit_bal\"]) * VariableElimination(model_easy).query([\"misspayments_prev_6_months\"])))\n",
        "\n",
        "print(\"P(limit-bal AND misspayments-prev-6-months | default) = P(limit-bal | default) * P(misspayments_prev_6_months | default) is \" + \\\n",
        "      str(VariableElimination(model_easy).query([\"misspayments_prev_6_months\", \"limit_bal\"], {\"default\":0}) == \\\n",
        "      VariableElimination(model_easy).query([\"limit_bal\"], {\"default\":0}) * VariableElimination(model_easy).query([\"misspayments_prev_6_months\"], {\"default\":0})))"
      ],
      "metadata": {
        "colab": {
          "base_uri": "https://localhost:8080/"
        },
        "id": "9knaHbYJIBCh",
        "outputId": "d586094d-1a09-4bab-d2e7-ef8be1dbef70"
      },
      "execution_count": 26,
      "outputs": [
        {
          "output_type": "stream",
          "name": "stdout",
          "text": [
            "P(limit-bal AND misspayments-prev-6-months) = P(limit-bal) * P(misspayments_prev_6_months) is True\n",
            "P(limit-bal AND misspayments-prev-6-months | default) = P(limit-bal | default) * P(misspayments_prev_6_months | default) is False\n"
          ]
        }
      ]
    },
    {
      "cell_type": "markdown",
      "source": [
        "Indeed we have that limit_bal is independent to misspayments_prev_6_months when default is not observed, while limit_bal is conditionally dependent to misspayments_prev_6_months when default is observed."
      ],
      "metadata": {
        "id": "B4Pg1SXkKTRL"
      }
    },
    {
      "cell_type": "markdown",
      "source": [
        "__Compactness__\n",
        "\n",
        "Which model is more compact?"
      ],
      "metadata": {
        "id": "hl-E0KbBNcgT"
      }
    },
    {
      "cell_type": "markdown",
      "source": [
        "_EASY_: Number of parameters required to describe CPDs = 1 + 1 + 3 + 2 + 144 + 6 + 28 = 185\n",
        "\n",
        "_MEDIUM_: Number of parameters required to describe CPDs > 185\n",
        "\n",
        "_HARD_: Number of parameters required to describe CPDs > 185\n",
        "\n",
        "_TREE SEARCH_: Number of parameters required to describe CPDs = 2 + 3 + 9 + 12 + \n",
        "4 + 24 + 7 = 61\n",
        "\n",
        "_HILL CLIMB_: Number of parameters required to describe CPDs > 61\n",
        "\n",
        "_CONSTRAINED HILL CLIMB_: Number of parameters required to describe CPDs > 61\n",
        "\n",
        "So we have that the Tree Search is the most compact network. "
      ],
      "metadata": {
        "id": "FKEU-ZIOOwuG"
      }
    },
    {
      "cell_type": "code",
      "source": [
        "data_infer_easy = VariableElimination(model_easy)\n",
        "data_infer_medium = VariableElimination(model_medium)\n",
        "data_infer_hard = VariableElimination(model_hard)\n",
        "data_infer_tree_search = VariableElimination(tree_search_model)\n",
        "data_infer_hill_climb = VariableElimination(hill_climb_base_model)\n",
        "data_infer_constr_hill_climb = VariableElimination(constr_hill_climb_model)\n",
        "\n",
        "data_infer_model = [[model_easy, 'model_easy'], [model_medium, 'model_medium'], [model_hard, 'model_hard'], [tree_search_model, 'tree_search_model'], \\\n",
        "                    [hill_climb_base_model, 'hill_climb_base_model'], [constr_hill_climb_model, 'constr_hill_climb_model']]\n",
        "\n",
        "\n",
        "query, evidence = [\"default\"], {\"age\": \"young\"}\n",
        "\n",
        "import timeit\n",
        "\n",
        "def query_function(model, query, evidence):\n",
        "    data_infer = VariableElimination(model)\n",
        "    return data_infer.query(query, evidence)\n",
        "\n",
        "loop = 5000\n",
        "\n",
        "#result = []\n",
        "#print(\"The runtime for the query for model_easy is: \" + str(timeit.timeit('query_function(model_easy, query, evidence)', globals=globals(), number=loop)))\n",
        "#print()\n",
        "#print(\"The runtime for the query for model_medium is: \" + str(timeit.timeit('query_function(model_medium, query, evidence)', globals=globals(), number=loop)))\n",
        "#print()\n",
        "#print(\"The runtime for the query for model_hard is: \" + str(timeit.timeit('query_function(model_hard, query, evidence)', globals=globals(), number=loop)))\n",
        "#print()\n",
        "#print(\"The runtime for the query for tree_search_model is: \" + str(timeit.timeit('query_function(tree_search_model, query, evidence)', globals=globals(), number=loop)))\n",
        "#print()\n",
        "#print(\"The runtime for the query for hill_climb_base_model is: \" + str(timeit.timeit('query_function(hill_climb_base_model, query, evidence)', globals=globals(), number=loop)))\n",
        "#print()\n",
        "#print(\"The runtime for the query for constr_hill_climb_model is: \" + str(timeit.timeit('query_function(constr_hill_climb_model, query, evidence)', globals=globals(), number=loop)))#\n",
        "\n",
        "\n"
      ],
      "metadata": {
        "id": "Zot0AazEqTLK"
      },
      "execution_count": 89,
      "outputs": []
    },
    {
      "cell_type": "code",
      "source": [
        "%%timeit -r  -n 1000\n",
        "query_function(model_easy, query, evidence)"
      ],
      "metadata": {
        "colab": {
          "base_uri": "https://localhost:8080/"
        },
        "id": "nYBUaeYnv1gf",
        "outputId": "446de786-9042-40d2-c4a6-d750587ec0fd"
      },
      "execution_count": 83,
      "outputs": [
        {
          "output_type": "stream",
          "name": "stdout",
          "text": [
            "1.97 ms ± 524 µs per loop (mean ± std. dev. of 10 runs, 1000 loops each)\n"
          ]
        }
      ]
    },
    {
      "cell_type": "code",
      "source": [
        "%%timeit -r 10 -n 1000\n",
        "query_function(model_medium, query, evidence)"
      ],
      "metadata": {
        "colab": {
          "base_uri": "https://localhost:8080/"
        },
        "id": "rEcRHekqwSd_",
        "outputId": "c133db7d-9d44-4e94-d9fc-705fe746289d"
      },
      "execution_count": 84,
      "outputs": [
        {
          "output_type": "stream",
          "name": "stdout",
          "text": [
            "1.63 ms ± 132 µs per loop (mean ± std. dev. of 10 runs, 1000 loops each)\n"
          ]
        }
      ]
    },
    {
      "cell_type": "code",
      "source": [
        "%%timeit -r 10 -n 1000\n",
        "query_function(model_hard, query, evidence)"
      ],
      "metadata": {
        "colab": {
          "base_uri": "https://localhost:8080/"
        },
        "id": "jpLH63XNwf8E",
        "outputId": "274d7833-8236-4e6c-f4f5-5c4a21334c55"
      },
      "execution_count": 85,
      "outputs": [
        {
          "output_type": "stream",
          "name": "stdout",
          "text": [
            "1.6 ms ± 118 µs per loop (mean ± std. dev. of 10 runs, 1000 loops each)\n"
          ]
        }
      ]
    },
    {
      "cell_type": "code",
      "source": [
        "%%timeit -r 10 -n 1000\n",
        "query_function(tree_search_model, query, evidence)"
      ],
      "metadata": {
        "colab": {
          "base_uri": "https://localhost:8080/"
        },
        "id": "TNatNdhywgFi",
        "outputId": "038f09c6-7d65-408c-d8c2-05222e35ed20"
      },
      "execution_count": 86,
      "outputs": [
        {
          "output_type": "stream",
          "name": "stdout",
          "text": [
            "1.3 ms ± 33.3 µs per loop (mean ± std. dev. of 10 runs, 1000 loops each)\n"
          ]
        }
      ]
    },
    {
      "cell_type": "code",
      "source": [
        "%%timeit -r 10 -n 1000\n",
        "query_function(hill_climb_base_model, query, evidence)"
      ],
      "metadata": {
        "colab": {
          "base_uri": "https://localhost:8080/"
        },
        "id": "P9k-Uz2qwgNo",
        "outputId": "f6d87f95-88b8-43c3-b403-067005d5278e"
      },
      "execution_count": 87,
      "outputs": [
        {
          "output_type": "stream",
          "name": "stdout",
          "text": [
            "1.46 ms ± 61.3 µs per loop (mean ± std. dev. of 10 runs, 1000 loops each)\n"
          ]
        }
      ]
    },
    {
      "cell_type": "code",
      "source": [
        "%%timeit -r 10 -n 1000\n",
        "query_function(constr_hill_climb_model, query, evidence)"
      ],
      "metadata": {
        "colab": {
          "base_uri": "https://localhost:8080/"
        },
        "id": "dxaA7usvwgXT",
        "outputId": "d74b0b4c-ae62-4041-84a5-c9f26e5f1a40"
      },
      "execution_count": 88,
      "outputs": [
        {
          "output_type": "stream",
          "name": "stdout",
          "text": [
            "1.64 ms ± 31.5 µs per loop (mean ± std. dev. of 10 runs, 1000 loops each)\n"
          ]
        }
      ]
    },
    {
      "cell_type": "markdown",
      "source": [
        "# Queries\n",
        "* P(Default | age) \n",
        "* P(Default | age, marriage)\n",
        "* P(Default | age, marriage, education)\n",
        "* P(Education = graduate | default)\n",
        "* P(Default | Education = graduate, Misspayment = 5)\n",
        "* P(Default | Education = High school, Misspayment = 5)"
      ],
      "metadata": {
        "id": "xxgEaysEeF1P"
      }
    },
    {
      "cell_type": "markdown",
      "source": [
        "*TBC: Explain why we're using variable elimination (Optional, construct algorigthm instead of using class)*"
      ],
      "metadata": {
        "id": "GMicQTs6Zrge"
      }
    },
    {
      "cell_type": "code",
      "source": [
        "data_infer_easy = VariableElimination(model_easy)\n",
        "data_infer_medium = VariableElimination(model_medium)\n",
        "data_infer_hard = VariableElimination(model_hard)\n",
        "data_infer_tree_search = VariableElimination(tree_search_model)\n",
        "data_infer_hill_climb = VariableElimination(hill_climb_base_model)\n",
        "data_infer_constr_hill_climb = VariableElimination(constr_hill_climb_model)\n",
        "\n",
        "def display_inference_results(query_desc: str, query: list, evidence: dict):\n",
        "  print_bold(query_desc)\n",
        "  print_bold('EASY')\n",
        "  print(data_infer_easy.query(query, evidence))\n",
        "  print_bold('MEDIUM')\n",
        "  print(data_infer_medium.query(query, evidence))\n",
        "  print_bold('HARD')\n",
        "  print(data_infer_hard.query(query, evidence))\n",
        "  print_bold('TREE SEARCH')\n",
        "  print(data_infer_tree_search.query(query, evidence))\n",
        "  print_bold('HILL CLIMB')\n",
        "  print(data_infer_hill_climb.query(query, evidence))\n",
        "  print_bold('CONSTRAINED HILL CLIMB')\n",
        "  print(data_infer_constr_hill_climb.query(query, evidence))"
      ],
      "metadata": {
        "id": "sdTXt6N65YzN"
      },
      "execution_count": null,
      "outputs": []
    },
    {
      "cell_type": "code",
      "source": [
        "query, evidence = [\"default\"], {\"age\": \"young\"}\n",
        "display_inference_results('Probability of default being young', query, evidence)"
      ],
      "metadata": {
        "id": "BLa10v-HZfh1",
        "colab": {
          "base_uri": "https://localhost:8080/"
        },
        "outputId": "1e2fb7bd-54ab-48f4-da8a-90f5d910c149"
      },
      "execution_count": null,
      "outputs": [
        {
          "output_type": "stream",
          "name": "stdout",
          "text": [
            "\u001b[1mProbability of default being young\u001b[0m\n",
            "\u001b[1mEASY\u001b[0m\n",
            "+------------+----------------+\n",
            "| default    |   phi(default) |\n",
            "+============+================+\n",
            "| default(0) |         0.7757 |\n",
            "+------------+----------------+\n",
            "| default(1) |         0.2243 |\n",
            "+------------+----------------+\n",
            "\u001b[1mMEDIUM\u001b[0m\n",
            "+------------+----------------+\n",
            "| default    |   phi(default) |\n",
            "+============+================+\n",
            "| default(0) |         0.7898 |\n",
            "+------------+----------------+\n",
            "| default(1) |         0.2102 |\n",
            "+------------+----------------+\n",
            "\u001b[1mHARD\u001b[0m\n",
            "+------------+----------------+\n",
            "| default    |   phi(default) |\n",
            "+============+================+\n",
            "| default(0) |         0.7894 |\n",
            "+------------+----------------+\n",
            "| default(1) |         0.2106 |\n",
            "+------------+----------------+\n",
            "\u001b[1mTREE SEARCH\u001b[0m\n",
            "+------------+----------------+\n",
            "| default    |   phi(default) |\n",
            "+============+================+\n",
            "| default(0) |         0.7804 |\n",
            "+------------+----------------+\n",
            "| default(1) |         0.2196 |\n",
            "+------------+----------------+\n",
            "\u001b[1mHILL CLIMB\u001b[0m\n",
            "+------------+----------------+\n",
            "| default    |   phi(default) |\n",
            "+============+================+\n",
            "| default(0) |         0.7721 |\n",
            "+------------+----------------+\n",
            "| default(1) |         0.2279 |\n",
            "+------------+----------------+\n",
            "\u001b[1mCONSTRAINED HILL CLIMB\u001b[0m\n",
            "+------------+----------------+\n",
            "| default    |   phi(default) |\n",
            "+============+================+\n",
            "| default(0) |         0.7711 |\n",
            "+------------+----------------+\n",
            "| default(1) |         0.2289 |\n",
            "+------------+----------------+\n"
          ]
        }
      ]
    },
    {
      "cell_type": "code",
      "source": [
        "query, evidence = [\"default\"], {\"age\": \"mid_aged\"}\n",
        "display_inference_results('Probability of default being mid aged', query, evidence)"
      ],
      "metadata": {
        "id": "mxh2n8QbZdnf",
        "colab": {
          "base_uri": "https://localhost:8080/"
        },
        "outputId": "b6b00c77-6801-4401-8b29-ade33fbbb7f6"
      },
      "execution_count": null,
      "outputs": [
        {
          "output_type": "stream",
          "name": "stdout",
          "text": [
            "\u001b[1mProbability of default being mid aged\u001b[0m\n",
            "\u001b[1mEASY\u001b[0m\n",
            "+------------+----------------+\n",
            "| default    |   phi(default) |\n",
            "+============+================+\n",
            "| default(0) |         0.7818 |\n",
            "+------------+----------------+\n",
            "| default(1) |         0.2182 |\n",
            "+------------+----------------+\n",
            "\u001b[1mMEDIUM\u001b[0m\n",
            "+------------+----------------+\n",
            "| default    |   phi(default) |\n",
            "+============+================+\n",
            "| default(0) |         0.7650 |\n",
            "+------------+----------------+\n",
            "| default(1) |         0.2350 |\n",
            "+------------+----------------+\n",
            "\u001b[1mHARD\u001b[0m\n",
            "+------------+----------------+\n",
            "| default    |   phi(default) |\n",
            "+============+================+\n",
            "| default(0) |         0.7665 |\n",
            "+------------+----------------+\n",
            "| default(1) |         0.2335 |\n",
            "+------------+----------------+\n",
            "\u001b[1mTREE SEARCH\u001b[0m\n",
            "+------------+----------------+\n",
            "| default    |   phi(default) |\n",
            "+============+================+\n",
            "| default(0) |         0.7770 |\n",
            "+------------+----------------+\n",
            "| default(1) |         0.2230 |\n",
            "+------------+----------------+\n",
            "\u001b[1mHILL CLIMB\u001b[0m\n",
            "+------------+----------------+\n",
            "| default    |   phi(default) |\n",
            "+============+================+\n",
            "| default(0) |         0.7862 |\n",
            "+------------+----------------+\n",
            "| default(1) |         0.2138 |\n",
            "+------------+----------------+\n",
            "\u001b[1mCONSTRAINED HILL CLIMB\u001b[0m\n",
            "+------------+----------------+\n",
            "| default    |   phi(default) |\n",
            "+============+================+\n",
            "| default(0) |         0.7872 |\n",
            "+------------+----------------+\n",
            "| default(1) |         0.2128 |\n",
            "+------------+----------------+\n"
          ]
        }
      ]
    },
    {
      "cell_type": "code",
      "source": [
        "query, evidence = [\"default\"], {\"age\": \"senior\"}\n",
        "display_inference_results('Probability of default being mid senior', query, evidence)"
      ],
      "metadata": {
        "id": "u2JqHMtJZb6N",
        "colab": {
          "base_uri": "https://localhost:8080/"
        },
        "outputId": "36791f9b-58ec-42fa-fb07-1c373be18610"
      },
      "execution_count": null,
      "outputs": [
        {
          "output_type": "stream",
          "name": "stdout",
          "text": [
            "\u001b[1mProbability of default being mid senior\u001b[0m\n",
            "\u001b[1mEASY\u001b[0m\n",
            "+------------+----------------+\n",
            "| default    |   phi(default) |\n",
            "+============+================+\n",
            "| default(0) |         0.7810 |\n",
            "+------------+----------------+\n",
            "| default(1) |         0.2190 |\n",
            "+------------+----------------+\n",
            "\u001b[1mMEDIUM\u001b[0m\n",
            "+------------+----------------+\n",
            "| default    |   phi(default) |\n",
            "+============+================+\n",
            "| default(0) |         0.7512 |\n",
            "+------------+----------------+\n",
            "| default(1) |         0.2488 |\n",
            "+------------+----------------+\n",
            "\u001b[1mHARD\u001b[0m\n",
            "+------------+----------------+\n",
            "| default    |   phi(default) |\n",
            "+============+================+\n",
            "| default(0) |         0.7370 |\n",
            "+------------+----------------+\n",
            "| default(1) |         0.2630 |\n",
            "+------------+----------------+\n",
            "\u001b[1mTREE SEARCH\u001b[0m\n",
            "+------------+----------------+\n",
            "| default    |   phi(default) |\n",
            "+============+================+\n",
            "| default(0) |         0.7750 |\n",
            "+------------+----------------+\n",
            "| default(1) |         0.2250 |\n",
            "+------------+----------------+\n",
            "\u001b[1mHILL CLIMB\u001b[0m\n",
            "+------------+----------------+\n",
            "| default    |   phi(default) |\n",
            "+============+================+\n",
            "| default(0) |         0.7847 |\n",
            "+------------+----------------+\n",
            "| default(1) |         0.2153 |\n",
            "+------------+----------------+\n",
            "\u001b[1mCONSTRAINED HILL CLIMB\u001b[0m\n",
            "+------------+----------------+\n",
            "| default    |   phi(default) |\n",
            "+============+================+\n",
            "| default(0) |         0.7886 |\n",
            "+------------+----------------+\n",
            "| default(1) |         0.2114 |\n",
            "+------------+----------------+\n"
          ]
        }
      ]
    },
    {
      "cell_type": "code",
      "source": [
        "query, evidence = [\"default\"], {\"age\": \"mid_aged\", \"marriage\": \"not_married\"}\n",
        "display_inference_results('Probability of default being mid aged and married', query, evidence)"
      ],
      "metadata": {
        "id": "OTYZxd1EZaTo",
        "colab": {
          "base_uri": "https://localhost:8080/"
        },
        "outputId": "ad13041b-9196-44c7-c2cd-2bf9773e4a81"
      },
      "execution_count": null,
      "outputs": [
        {
          "output_type": "stream",
          "name": "stdout",
          "text": [
            "\u001b[1mProbability of default being mid aged and married\u001b[0m\n",
            "\u001b[1mEASY\u001b[0m\n",
            "+------------+----------------+\n",
            "| default    |   phi(default) |\n",
            "+============+================+\n",
            "| default(0) |         0.7796 |\n",
            "+------------+----------------+\n",
            "| default(1) |         0.2204 |\n",
            "+------------+----------------+\n",
            "\u001b[1mMEDIUM\u001b[0m\n",
            "+------------+----------------+\n",
            "| default    |   phi(default) |\n",
            "+============+================+\n",
            "| default(0) |         0.7579 |\n",
            "+------------+----------------+\n",
            "| default(1) |         0.2421 |\n",
            "+------------+----------------+\n",
            "\u001b[1mHARD\u001b[0m\n",
            "+------------+----------------+\n",
            "| default    |   phi(default) |\n",
            "+============+================+\n",
            "| default(0) |         0.7680 |\n",
            "+------------+----------------+\n",
            "| default(1) |         0.2320 |\n",
            "+------------+----------------+\n",
            "\u001b[1mTREE SEARCH\u001b[0m\n",
            "+------------+----------------+\n",
            "| default    |   phi(default) |\n",
            "+============+================+\n",
            "| default(0) |         0.7770 |\n",
            "+------------+----------------+\n",
            "| default(1) |         0.2230 |\n",
            "+------------+----------------+\n",
            "\u001b[1mHILL CLIMB\u001b[0m\n",
            "+------------+----------------+\n",
            "| default    |   phi(default) |\n",
            "+============+================+\n",
            "| default(0) |         0.7780 |\n",
            "+------------+----------------+\n",
            "| default(1) |         0.2220 |\n",
            "+------------+----------------+\n",
            "\u001b[1mCONSTRAINED HILL CLIMB\u001b[0m\n",
            "+------------+----------------+\n",
            "| default    |   phi(default) |\n",
            "+============+================+\n",
            "| default(0) |         0.7792 |\n",
            "+------------+----------------+\n",
            "| default(1) |         0.2208 |\n",
            "+------------+----------------+\n"
          ]
        }
      ]
    },
    {
      "cell_type": "code",
      "source": [
        "query, evidence = [\"default\"], {\"age\": \"mid_aged\", \"marriage\": \"married\", \"education\": \"graduate\"}\n",
        "display_inference_results('Probability of default being mid aged and married and holding a graduate degree', query, evidence)"
      ],
      "metadata": {
        "id": "qEaQVqlNZXzu",
        "colab": {
          "base_uri": "https://localhost:8080/"
        },
        "outputId": "012f90f0-edb1-4b37-8eda-5666a91d883e"
      },
      "execution_count": null,
      "outputs": [
        {
          "output_type": "stream",
          "name": "stdout",
          "text": [
            "\u001b[1mProbability of default being mid aged and married and holding a graduate degree\u001b[0m\n",
            "\u001b[1mEASY\u001b[0m\n",
            "+------------+----------------+\n",
            "| default    |   phi(default) |\n",
            "+============+================+\n",
            "| default(0) |         0.7970 |\n",
            "+------------+----------------+\n",
            "| default(1) |         0.2030 |\n",
            "+------------+----------------+\n",
            "\u001b[1mMEDIUM\u001b[0m\n",
            "+------------+----------------+\n",
            "| default    |   phi(default) |\n",
            "+============+================+\n",
            "| default(0) |         0.7847 |\n",
            "+------------+----------------+\n",
            "| default(1) |         0.2153 |\n",
            "+------------+----------------+\n",
            "\u001b[1mHARD\u001b[0m\n",
            "+------------+----------------+\n",
            "| default    |   phi(default) |\n",
            "+============+================+\n",
            "| default(0) |         0.7794 |\n",
            "+------------+----------------+\n",
            "| default(1) |         0.2206 |\n",
            "+------------+----------------+\n",
            "\u001b[1mTREE SEARCH\u001b[0m\n",
            "+------------+----------------+\n",
            "| default    |   phi(default) |\n",
            "+============+================+\n",
            "| default(0) |         0.7948 |\n",
            "+------------+----------------+\n",
            "| default(1) |         0.2052 |\n",
            "+------------+----------------+\n",
            "\u001b[1mHILL CLIMB\u001b[0m\n",
            "+------------+----------------+\n",
            "| default    |   phi(default) |\n",
            "+============+================+\n",
            "| default(0) |         0.8254 |\n",
            "+------------+----------------+\n",
            "| default(1) |         0.1746 |\n",
            "+------------+----------------+\n",
            "\u001b[1mCONSTRAINED HILL CLIMB\u001b[0m\n",
            "+------------+----------------+\n",
            "| default    |   phi(default) |\n",
            "+============+================+\n",
            "| default(0) |         0.8265 |\n",
            "+------------+----------------+\n",
            "| default(1) |         0.1735 |\n",
            "+------------+----------------+\n"
          ]
        }
      ]
    },
    {
      "cell_type": "code",
      "source": [
        "query, evidence = [\"education\"], {\"default\": 1}\n",
        "display_inference_results('Probabilities of holding education titles having had the default', query, evidence)"
      ],
      "metadata": {
        "id": "FYPGZ5IkZXK5",
        "colab": {
          "base_uri": "https://localhost:8080/"
        },
        "outputId": "e85caef2-dda4-428a-c76a-b7a5e0a24eb3"
      },
      "execution_count": null,
      "outputs": [
        {
          "output_type": "stream",
          "name": "stdout",
          "text": [
            "\u001b[1mProbabilities of holding education titles having had the default\u001b[0m\n",
            "\u001b[1mEASY\u001b[0m\n",
            "+------------------------+------------------+\n",
            "| education              |   phi(education) |\n",
            "+========================+==================+\n",
            "| education(graduate)    |           0.3334 |\n",
            "+------------------------+------------------+\n",
            "| education(high_school) |           0.1712 |\n",
            "+------------------------+------------------+\n",
            "| education(others)      |           0.0158 |\n",
            "+------------------------+------------------+\n",
            "| education(university)  |           0.4796 |\n",
            "+------------------------+------------------+\n",
            "\u001b[1mMEDIUM\u001b[0m\n",
            "+------------------------+------------------+\n",
            "| education              |   phi(education) |\n",
            "+========================+==================+\n",
            "| education(graduate)    |           0.3308 |\n",
            "+------------------------+------------------+\n",
            "| education(high_school) |           0.1745 |\n",
            "+------------------------+------------------+\n",
            "| education(others)      |           0.0158 |\n",
            "+------------------------+------------------+\n",
            "| education(university)  |           0.4789 |\n",
            "+------------------------+------------------+\n",
            "\u001b[1mHARD\u001b[0m\n",
            "+------------------------+------------------+\n",
            "| education              |   phi(education) |\n",
            "+========================+==================+\n",
            "| education(graduate)    |           0.3339 |\n",
            "+------------------------+------------------+\n",
            "| education(high_school) |           0.1659 |\n",
            "+------------------------+------------------+\n",
            "| education(others)      |           0.0104 |\n",
            "+------------------------+------------------+\n",
            "| education(university)  |           0.4898 |\n",
            "+------------------------+------------------+\n",
            "\u001b[1mTREE SEARCH\u001b[0m\n",
            "+------------------------+------------------+\n",
            "| education              |   phi(education) |\n",
            "+========================+==================+\n",
            "| education(graduate)    |           0.3267 |\n",
            "+------------------------+------------------+\n",
            "| education(high_school) |           0.1743 |\n",
            "+------------------------+------------------+\n",
            "| education(others)      |           0.0155 |\n",
            "+------------------------+------------------+\n",
            "| education(university)  |           0.4835 |\n",
            "+------------------------+------------------+\n",
            "\u001b[1mHILL CLIMB\u001b[0m\n",
            "+------------------------+------------------+\n",
            "| education              |   phi(education) |\n",
            "+========================+==================+\n",
            "| education(graduate)    |           0.3122 |\n",
            "+------------------------+------------------+\n",
            "| education(high_school) |           0.1812 |\n",
            "+------------------------+------------------+\n",
            "| education(others)      |           0.0152 |\n",
            "+------------------------+------------------+\n",
            "| education(university)  |           0.4915 |\n",
            "+------------------------+------------------+\n",
            "\u001b[1mCONSTRAINED HILL CLIMB\u001b[0m\n",
            "+------------------------+------------------+\n",
            "| education              |   phi(education) |\n",
            "+========================+==================+\n",
            "| education(graduate)    |           0.3122 |\n",
            "+------------------------+------------------+\n",
            "| education(high_school) |           0.1809 |\n",
            "+------------------------+------------------+\n",
            "| education(others)      |           0.0152 |\n",
            "+------------------------+------------------+\n",
            "| education(university)  |           0.4917 |\n",
            "+------------------------+------------------+\n"
          ]
        }
      ]
    },
    {
      "cell_type": "code",
      "source": [
        "query, evidence = [\"default\"], {\"education\": \"graduate\", \"misspayments_prev_6_months\": 5}\n",
        "display_inference_results('Probability of default holding a graduate degree and having 5 misspayments in the previous 6 months', query, evidence)"
      ],
      "metadata": {
        "id": "pAZCw-W-ZTOd",
        "colab": {
          "base_uri": "https://localhost:8080/"
        },
        "outputId": "0a06692b-4c7f-4070-9b01-c84509b17301"
      },
      "execution_count": null,
      "outputs": [
        {
          "output_type": "stream",
          "name": "stdout",
          "text": [
            "\u001b[1mProbability of default holding a graduate degree and having 5 misspayments in the previous 6 months\u001b[0m\n",
            "\u001b[1mEASY\u001b[0m\n",
            "+------------+----------------+\n",
            "| default    |   phi(default) |\n",
            "+============+================+\n",
            "| default(0) |         0.4177 |\n",
            "+------------+----------------+\n",
            "| default(1) |         0.5823 |\n",
            "+------------+----------------+\n",
            "\u001b[1mMEDIUM\u001b[0m\n",
            "+------------+----------------+\n",
            "| default    |   phi(default) |\n",
            "+============+================+\n",
            "| default(0) |         0.4228 |\n",
            "+------------+----------------+\n",
            "| default(1) |         0.5772 |\n",
            "+------------+----------------+\n",
            "\u001b[1mHARD\u001b[0m\n",
            "+------------+----------------+\n",
            "| default    |   phi(default) |\n",
            "+============+================+\n",
            "| default(0) |         0.5804 |\n",
            "+------------+----------------+\n",
            "| default(1) |         0.4196 |\n",
            "+------------+----------------+\n",
            "\u001b[1mTREE SEARCH\u001b[0m\n",
            "+------------+----------------+\n",
            "| default    |   phi(default) |\n",
            "+============+================+\n",
            "| default(0) |         0.4011 |\n",
            "+------------+----------------+\n",
            "| default(1) |         0.5989 |\n",
            "+------------+----------------+\n",
            "\u001b[1mHILL CLIMB\u001b[0m\n",
            "+------------+----------------+\n",
            "| default    |   phi(default) |\n",
            "+============+================+\n",
            "| default(0) |         0.4024 |\n",
            "+------------+----------------+\n",
            "| default(1) |         0.5976 |\n",
            "+------------+----------------+\n",
            "\u001b[1mCONSTRAINED HILL CLIMB\u001b[0m\n",
            "+------------+----------------+\n",
            "| default    |   phi(default) |\n",
            "+============+================+\n",
            "| default(0) |         0.4025 |\n",
            "+------------+----------------+\n",
            "| default(1) |         0.5975 |\n",
            "+------------+----------------+\n"
          ]
        }
      ]
    },
    {
      "cell_type": "code",
      "source": [
        "query, evidence = [\"default\"], {\"education\": \"high_school\", \"misspayments_prev_6_months\": 5}\n",
        "display_inference_results('Probability of default holding an high school diploma, and having 5 misspayments in the previous 6 months', query, evidence)"
      ],
      "metadata": {
        "id": "p-Zd_t8rZQis",
        "colab": {
          "base_uri": "https://localhost:8080/"
        },
        "outputId": "4a9a9d08-4ae7-4dd9-c782-dbb963076eb2"
      },
      "execution_count": null,
      "outputs": [
        {
          "output_type": "stream",
          "name": "stdout",
          "text": [
            "\u001b[1mProbability of default holding an high school diploma, and having 5 misspayments in the previous 6 months\u001b[0m\n",
            "\u001b[1mEASY\u001b[0m\n",
            "+------------+----------------+\n",
            "| default    |   phi(default) |\n",
            "+============+================+\n",
            "| default(0) |         0.4002 |\n",
            "+------------+----------------+\n",
            "| default(1) |         0.5998 |\n",
            "+------------+----------------+\n",
            "\u001b[1mMEDIUM\u001b[0m\n",
            "+------------+----------------+\n",
            "| default    |   phi(default) |\n",
            "+============+================+\n",
            "| default(0) |         0.4093 |\n",
            "+------------+----------------+\n",
            "| default(1) |         0.5907 |\n",
            "+------------+----------------+\n",
            "\u001b[1mHARD\u001b[0m\n",
            "+------------+----------------+\n",
            "| default    |   phi(default) |\n",
            "+============+================+\n",
            "| default(0) |         0.3997 |\n",
            "+------------+----------------+\n",
            "| default(1) |         0.6003 |\n",
            "+------------+----------------+\n",
            "\u001b[1mTREE SEARCH\u001b[0m\n",
            "+------------+----------------+\n",
            "| default    |   phi(default) |\n",
            "+============+================+\n",
            "| default(0) |         0.4011 |\n",
            "+------------+----------------+\n",
            "| default(1) |         0.5989 |\n",
            "+------------+----------------+\n",
            "\u001b[1mHILL CLIMB\u001b[0m\n",
            "+------------+----------------+\n",
            "| default    |   phi(default) |\n",
            "+============+================+\n",
            "| default(0) |         0.4001 |\n",
            "+------------+----------------+\n",
            "| default(1) |         0.5999 |\n",
            "+------------+----------------+\n",
            "\u001b[1mCONSTRAINED HILL CLIMB\u001b[0m\n",
            "+------------+----------------+\n",
            "| default    |   phi(default) |\n",
            "+============+================+\n",
            "| default(0) |         0.4005 |\n",
            "+------------+----------------+\n",
            "| default(1) |         0.5995 |\n",
            "+------------+----------------+\n"
          ]
        }
      ]
    },
    {
      "cell_type": "code",
      "source": [
        "query, evidence = [\"default\"], {\"limit_bal\": \"medium_high\", \"misspayments_prev_6_months\": 5}\n",
        "display_inference_results('Probability of default having a medium-high balance limit, and having 5 misspayments in the previous 6 months', query, evidence)"
      ],
      "metadata": {
        "id": "bk8jD_ILZOcT",
        "colab": {
          "base_uri": "https://localhost:8080/"
        },
        "outputId": "ad8e5304-703e-4977-cd58-e7e65e992e75"
      },
      "execution_count": null,
      "outputs": [
        {
          "output_type": "stream",
          "name": "stdout",
          "text": [
            "\u001b[1mProbability of default having a medium-high balance limit, and having 5 misspayments in the previous 6 months\u001b[0m\n",
            "\u001b[1mEASY\u001b[0m\n",
            "+------------+----------------+\n",
            "| default    |   phi(default) |\n",
            "+============+================+\n",
            "| default(0) |         0.3690 |\n",
            "+------------+----------------+\n",
            "| default(1) |         0.6310 |\n",
            "+------------+----------------+\n",
            "\u001b[1mMEDIUM\u001b[0m\n",
            "+------------+----------------+\n",
            "| default    |   phi(default) |\n",
            "+============+================+\n",
            "| default(0) |         0.3812 |\n",
            "+------------+----------------+\n",
            "| default(1) |         0.6188 |\n",
            "+------------+----------------+\n",
            "\u001b[1mHARD\u001b[0m\n",
            "+------------+----------------+\n",
            "| default    |   phi(default) |\n",
            "+============+================+\n",
            "| default(0) |         0.4165 |\n",
            "+------------+----------------+\n",
            "| default(1) |         0.5835 |\n",
            "+------------+----------------+\n",
            "\u001b[1mTREE SEARCH\u001b[0m\n",
            "+------------+----------------+\n",
            "| default    |   phi(default) |\n",
            "+============+================+\n",
            "| default(0) |         0.4011 |\n",
            "+------------+----------------+\n",
            "| default(1) |         0.5989 |\n",
            "+------------+----------------+\n",
            "\u001b[1mHILL CLIMB\u001b[0m\n",
            "+------------+----------------+\n",
            "| default    |   phi(default) |\n",
            "+============+================+\n",
            "| default(0) |         0.3690 |\n",
            "+------------+----------------+\n",
            "| default(1) |         0.6310 |\n",
            "+------------+----------------+\n",
            "\u001b[1mCONSTRAINED HILL CLIMB\u001b[0m\n",
            "+------------+----------------+\n",
            "| default    |   phi(default) |\n",
            "+============+================+\n",
            "| default(0) |         0.3690 |\n",
            "+------------+----------------+\n",
            "| default(1) |         0.6310 |\n",
            "+------------+----------------+\n"
          ]
        }
      ]
    },
    {
      "cell_type": "code",
      "source": [
        "query, evidence = [\"default\"], {\"sex\": \"male\"}\n",
        "display_inference_results('Probability of default given sex', query, evidence)"
      ],
      "metadata": {
        "id": "i0S6VMIqhZNl",
        "colab": {
          "base_uri": "https://localhost:8080/"
        },
        "outputId": "1ec481a7-119e-412e-cc62-f8be1ca9a677"
      },
      "execution_count": null,
      "outputs": [
        {
          "output_type": "stream",
          "name": "stdout",
          "text": [
            "\u001b[1mProbability of default given sex\u001b[0m\n",
            "\u001b[1mEASY\u001b[0m\n",
            "+------------+----------------+\n",
            "| default    |   phi(default) |\n",
            "+============+================+\n",
            "| default(0) |         0.7754 |\n",
            "+------------+----------------+\n",
            "| default(1) |         0.2246 |\n",
            "+------------+----------------+\n",
            "\u001b[1mMEDIUM\u001b[0m\n",
            "+------------+----------------+\n",
            "| default    |   phi(default) |\n",
            "+============+================+\n",
            "| default(0) |         0.7752 |\n",
            "+------------+----------------+\n",
            "| default(1) |         0.2248 |\n",
            "+------------+----------------+\n",
            "\u001b[1mHARD\u001b[0m\n",
            "+------------+----------------+\n",
            "| default    |   phi(default) |\n",
            "+============+================+\n",
            "| default(0) |         0.7754 |\n",
            "+------------+----------------+\n",
            "| default(1) |         0.2246 |\n",
            "+------------+----------------+\n",
            "\u001b[1mTREE SEARCH\u001b[0m\n",
            "+------------+----------------+\n",
            "| default    |   phi(default) |\n",
            "+============+================+\n",
            "| default(0) |         0.7751 |\n",
            "+------------+----------------+\n",
            "| default(1) |         0.2249 |\n",
            "+------------+----------------+\n",
            "\u001b[1mHILL CLIMB\u001b[0m\n",
            "+------------+----------------+\n",
            "| default    |   phi(default) |\n",
            "+============+================+\n",
            "| default(0) |         0.7562 |\n",
            "+------------+----------------+\n",
            "| default(1) |         0.2438 |\n",
            "+------------+----------------+\n",
            "\u001b[1mCONSTRAINED HILL CLIMB\u001b[0m\n",
            "+------------+----------------+\n",
            "| default    |   phi(default) |\n",
            "+============+================+\n",
            "| default(0) |         0.7793 |\n",
            "+------------+----------------+\n",
            "| default(1) |         0.2207 |\n",
            "+------------+----------------+\n"
          ]
        }
      ]
    },
    {
      "cell_type": "code",
      "source": [
        "query, evidence = [\"default\"], {\"education\": \"high_school\", \"misspayments_prev_6_months\": 6, 'age': 'young', 'sex': 'female', \\\n",
        "                                'marriage': 'not_married', 'limit_bal': 'low'}\n",
        "display_inference_results('Probability of default given everything else', query, evidence)"
      ],
      "metadata": {
        "id": "TTH4jvOSjoI9",
        "colab": {
          "base_uri": "https://localhost:8080/"
        },
        "outputId": "a04fe8fe-b651-4285-9549-d07b76a169d7"
      },
      "execution_count": null,
      "outputs": [
        {
          "output_type": "stream",
          "name": "stdout",
          "text": [
            "\u001b[1mProbability of default given everything else\u001b[0m\n",
            "\u001b[1mEASY\u001b[0m\n",
            "+------------+----------------+\n",
            "| default    |   phi(default) |\n",
            "+============+================+\n",
            "| default(0) |         0.3154 |\n",
            "+------------+----------------+\n",
            "| default(1) |         0.6846 |\n",
            "+------------+----------------+\n",
            "\u001b[1mMEDIUM\u001b[0m\n",
            "+------------+----------------+\n",
            "| default    |   phi(default) |\n",
            "+============+================+\n",
            "| default(0) |         0.3719 |\n",
            "+------------+----------------+\n",
            "| default(1) |         0.6281 |\n",
            "+------------+----------------+\n",
            "\u001b[1mHARD\u001b[0m\n",
            "+------------+----------------+\n",
            "| default    |   phi(default) |\n",
            "+============+================+\n",
            "| default(0) |         0.3182 |\n",
            "+------------+----------------+\n",
            "| default(1) |         0.6818 |\n",
            "+------------+----------------+\n",
            "\u001b[1mTREE SEARCH\u001b[0m\n",
            "+------------+----------------+\n",
            "| default    |   phi(default) |\n",
            "+============+================+\n",
            "| default(0) |         0.3030 |\n",
            "+------------+----------------+\n",
            "| default(1) |         0.6970 |\n",
            "+------------+----------------+\n",
            "\u001b[1mHILL CLIMB\u001b[0m\n",
            "+------------+----------------+\n",
            "| default    |   phi(default) |\n",
            "+============+================+\n",
            "| default(0) |         0.3224 |\n",
            "+------------+----------------+\n",
            "| default(1) |         0.6776 |\n",
            "+------------+----------------+\n",
            "\u001b[1mCONSTRAINED HILL CLIMB\u001b[0m\n",
            "+------------+----------------+\n",
            "| default    |   phi(default) |\n",
            "+============+================+\n",
            "| default(0) |         0.3154 |\n",
            "+------------+----------------+\n",
            "| default(1) |         0.6846 |\n",
            "+------------+----------------+\n"
          ]
        }
      ]
    },
    {
      "cell_type": "markdown",
      "source": [
        "# Questions"
      ],
      "metadata": {
        "id": "_806ays3fD_9"
      }
    },
    {
      "cell_type": "markdown",
      "source": [
        "Let's analyse how the different models infer two queries. In particular, let's look at the below conditional probabilities:\n",
        "\n",
        "\n",
        "\n",
        "*   Probability of sex given marriage.\n",
        "*   Probability of default given sex.\n",
        "\n",
        "The purpose of these queries is to 1) determine whether the same queries might return different results for the different networks and to 2) explore the possibility of the networks carrying a bias (in this case if sex influences the probability of credit card default) given their structure. \n",
        "\n",
        "We will compare the different structures using an _inference_score_ function, which uses inference via variable elimination to determine how a model changes given different values of the same evidence. \n",
        "\n",
        "\n",
        "\n",
        "\n",
        "\n",
        "\n"
      ],
      "metadata": {
        "id": "ZSI2NIOQQCxL"
      }
    },
    {
      "cell_type": "code",
      "source": [
        "#Below a function that is correlated to how much a \n",
        "\n",
        "def inference_score(query_desc: str, query: list, evidence: list):\n",
        "  evidence_values = dataset[evidence[0]].unique()\n",
        "  data_infer_model = [[model_easy, 'model_easy'], [model_medium, 'model_medium'], [model_hard, 'model_hard'], [tree_search_model, 'tree_search_model'], [hill_climb_base_model, 'hill_climb_base_model'], [constr_hill_climb_model, 'constr_hill_climb_model']]\n",
        "  impact_on_model = {'Description': query_desc, 'Query: ': query[0], \"Evidence: \": evidence[0]}\n",
        "  impact_on_model = {}\n",
        "  for model in data_infer_model:\n",
        "    result = []\n",
        "    data_infer = VariableElimination(model[0])\n",
        "    for value in evidence_values:\n",
        "      result.append(data_infer.query(query, {evidence[0]: value}).values[0])\n",
        "    impact_on_model[model[1]] = (max(result) - min(result))/((max(result) + min(result)) / 2) * 100\n",
        "  return impact_on_model\n",
        "\n"
      ],
      "metadata": {
        "id": "zZGDOedDQEKq"
      },
      "execution_count": null,
      "outputs": []
    },
    {
      "cell_type": "markdown",
      "source": [
        "Let's now perform the same queries across the different networks and comment the results."
      ],
      "metadata": {
        "id": "upRC8vmz1hYc"
      }
    },
    {
      "cell_type": "code",
      "source": [
        "sns.set(rc={'figure.figsize':(11.7,8.27)})\n",
        "plt.xticks(rotation=60)\n",
        "inference_df = inference_score('Difference(%) of probability of individual being male or female given marital status, per model', ['sex'], ['marriage'])\n",
        "sns.barplot(x = list(inference_df.keys()), y=list(inference_df.values()) , palette='pastel').set(title='Difference(%) of probability of individual being male or female given marital status, per model')\n"
      ],
      "metadata": {
        "colab": {
          "base_uri": "https://localhost:8080/",
          "height": 644
        },
        "id": "0haKtVNRondL",
        "outputId": "fed2fc6e-0b65-4e82-94e7-f55ba507d014"
      },
      "execution_count": null,
      "outputs": [
        {
          "output_type": "execute_result",
          "data": {
            "text/plain": [
              "[Text(0.5, 1.0, 'Difference(%) of probability of individual being male or female given marital status, per model')]"
            ]
          },
          "metadata": {},
          "execution_count": 39
        },
        {
          "output_type": "display_data",
          "data": {
            "text/plain": [
              "<Figure size 842.4x595.44 with 1 Axes>"
            ],
            "image/png": "[encoded data removed]"
          },
          "metadata": {}
        }
      ]
    },
    {
      "cell_type": "markdown",
      "source": [
        "We can see from the plot that sex is not influenced by marriage status in the hard-coded networks and instead in the networks learned from data we see that the probability of sex given married or not married status changes by around 0.1% for the Tree Search model and around 4% for the Hill Climb ones. \n",
        "\n",
        "There is an explanation for this. Indeed, for the network learned from data there is an active trail from marriage node to sex node given marriage. Instead for the hard-coded ones the marriage and sex nodes are part of a v-structure, in which they are both parents. Hence the nodes sex and marriage are independent of one another if the common child is not given in the evidence (as mentioned before in the network analysis), which is the case here. \n",
        "\n",
        "If limit_bal was given as evidence, we would however see a difference in the query."
      ],
      "metadata": {
        "id": "PxKRZgR6ryIm"
      }
    },
    {
      "cell_type": "code",
      "source": [
        "def inference_score_given_limit_bal(query_desc: str, query: list, evidence: list):\n",
        "  evidence_values = dataset[evidence[0]].unique()\n",
        "  data_infer_model = [[model_easy, 'model_easy'], [model_medium, 'model_medium'], [model_hard, 'model_hard'], [tree_search_model, 'tree_search_model'], [hill_climb_base_model, 'hill_climb_base_model'], [constr_hill_climb_model, 'constr_hill_climb_model']]\n",
        "  impact_on_model = {}\n",
        "  for model in data_infer_model:\n",
        "    result = []\n",
        "    data_infer = VariableElimination(model[0])\n",
        "    for value in evidence_values:\n",
        "      result.append(data_infer.query(query, {evidence[0]: value, 'limit_bal': 'low'}).values[0])\n",
        "    impact_on_model[model[1]] = (max(result) - min(result))/((max(result) + min(result)) / 2) * 100\n",
        "  return impact_on_model\n",
        "\n",
        "sns.set(rc={'figure.figsize':(11.7,8.27)})\n",
        "plt.xticks(rotation=60)\n",
        "inference_given_limit_bal_df = inference_score_given_limit_bal('Difference(%) of probability of individual being male or female given marital status and limit_bal, per model', ['sex'], ['marriage'])\n",
        "sns.barplot(x = list(inference_given_limit_bal_df.keys()), y=list(inference_given_limit_bal_df.values()) , palette='pastel').set(title='Difference(%) of probability of individual being male or female given marital status and limit_bal, per model')\n"
      ],
      "metadata": {
        "colab": {
          "base_uri": "https://localhost:8080/",
          "height": 644
        },
        "id": "1oYrORrDZllp",
        "outputId": "452ac311-f5f7-4543-aff5-f3f1c209e5d5"
      },
      "execution_count": null,
      "outputs": [
        {
          "output_type": "execute_result",
          "data": {
            "text/plain": [
              "[Text(0.5, 1.0, 'Difference(%) of probability of individual being male or female given marital status and limit_bal, per model')]"
            ]
          },
          "metadata": {},
          "execution_count": 40
        },
        {
          "output_type": "display_data",
          "data": {
            "text/plain": [
              "<Figure size 842.4x595.44 with 1 Axes>"
            ],
            "image/png": "[encoded data removed]"
          },
          "metadata": {}
        }
      ]
    },
    {
      "cell_type": "markdown",
      "source": [
        "We indeed see that given limit_bal we have a change in probability of sex given marital status and limit_bal. Moreover, we see that given limit_bal, there is no change in the Tree Search model - this is because in the Tree Search model sex, limit_bal and marriage are in cascade, and limit_bal is a child node of marriage and a parent node of sex. \n",
        "\n",
        "We notice here that probility of guessing the sex of an individual given other attributes seems to be varying quite a lot depending on the model.\n",
        "Given that this data represents very sensitive financial data, we want to avoid any sort of bias against sex and it seems as if the networks have different bias intrinsic to their structure.  "
      ],
      "metadata": {
        "id": "Cl-mswtDvD5C"
      }
    },
    {
      "cell_type": "code",
      "source": [
        "pd.DataFrame.from_dict(inference_score('How much is default impacted by sex?', [\"default\"], ['sex']), orient='index')\n",
        "\n",
        "#This reiterates that it's important to add constraits to a network learned by data as it obviously doesn't take in cosideration the context of the data itself. \n",
        "#The constraint_hill_climb model is the model that has the least bias towards sex, as sex has the lowest impact on\n",
        "\n",
        "sns.set(rc={'figure.figsize':(11.7,8.27)})\n",
        "plt.xticks(rotation=60)\n",
        "inference_df = inference_score('Difference(%) of probability of individual being male or female given marital status and limit_bal, per model', ['default'], ['sex'])\n",
        "sns.barplot(x = list(inference_df.keys()), y=list(inference_df.values()) , palette='pastel').set(title='Difference(%) of probability of default given an individual being male or female, per model')\n"
      ],
      "metadata": {
        "colab": {
          "base_uri": "https://localhost:8080/",
          "height": 644
        },
        "id": "IkHznoyVaejG",
        "outputId": "4c56d12c-a8de-40b7-e3d3-ddf185df68f4"
      },
      "execution_count": null,
      "outputs": [
        {
          "output_type": "execute_result",
          "data": {
            "text/plain": [
              "[Text(0.5, 1.0, 'Difference(%) of probability of default given an individual being male or female, per model')]"
            ]
          },
          "metadata": {},
          "execution_count": 41
        },
        {
          "output_type": "display_data",
          "data": {
            "text/plain": [
              "<Figure size 842.4x595.44 with 1 Axes>"
            ],
            "image/png": "[encoded data removed]"
          },
          "metadata": {}
        }
      ]
    },
    {
      "cell_type": "markdown",
      "source": [
        "We can see that hill_climb_base_model_ seems to be heavily biased against sex, in particular probability of credit card default is heavily influenced by sex. "
      ],
      "metadata": {
        "id": "Rjn2k9N7xnNB"
      }
    },
    {
      "cell_type": "markdown",
      "source": [
        "# Quantitative model evalution\n",
        "So far, the models have been evaluated only in a qualitative manner. In particular, a domain expert can reasonably tell if the results are good enough. \n",
        "The next step is to evaluate the model quantitatively. Since the dataset was created for the classification task, we have leveraged the test set to obtain accuracy, F1/F2, precision, and recall metrics."
      ],
      "metadata": {
        "id": "6Lk2WwkKkf9n"
      }
    },
    {
      "cell_type": "code",
      "source": [
        "def predict(data_point: dict, inference_object: VariableElimination, query: str) -> tuple[float, float]:\n",
        "  result = inference_object.query(variables=['default'], evidence=dict(data_point))\n",
        "  values = result.state_names[query]\n",
        "  default = np.argmax(result.values)\n",
        "  return default, result.values # outcome, classes probs\n",
        "\n",
        "def predict_batch(batch: pd.DataFrame, inference_object: VariableElimination, query: str) -> list[int]:\n",
        "  return [predict(data_point[1], inference_object, query)[0] for data_point in batch.iterrows()]"
      ],
      "metadata": {
        "id": "kFAqxfoKkerY"
      },
      "execution_count": null,
      "outputs": []
    },
    {
      "cell_type": "code",
      "source": [
        "metrics = {model_name: None for model_name in models}\n",
        "\n",
        "for model_name in metrics:\n",
        "  preds = predict_batch(X_test, VariableElimination(models[model_name]), query = 'default')\n",
        "  metrics[model_name] = {'accuracy': accuracy_score(y_test, preds), \n",
        "                         'recall': recall_score(y_test, preds), \n",
        "                         'f1_score': f1_score(y_test, preds)}\n",
        "  print_bold(model_name)\n",
        "  for metric, value in metrics[model_name].items():\n",
        "    print(f'{metric}: {value:.2%}')"
      ],
      "metadata": {
        "id": "gUhFwJG-v0x5",
        "colab": {
          "base_uri": "https://localhost:8080/"
        },
        "outputId": "7433d4b2-063a-4f6c-b5e7-19cac75ce2d6"
      },
      "execution_count": null,
      "outputs": [
        {
          "output_type": "stream",
          "name": "stdout",
          "text": [
            "\u001b[1mmodel_easy\u001b[0m\n",
            "accuracy: 80.23%\n",
            "recall: 28.26%\n",
            "f1_score: 38.74%\n",
            "\u001b[1mmodel_medium\u001b[0m\n",
            "accuracy: 80.20%\n",
            "recall: 29.84%\n",
            "f1_score: 40.00%\n",
            "\u001b[1mmodel_hard\u001b[0m\n",
            "accuracy: 79.82%\n",
            "recall: 27.05%\n",
            "f1_score: 37.22%\n",
            "\u001b[1mtree_search_model\u001b[0m\n",
            "accuracy: 80.45%\n",
            "recall: 33.84%\n",
            "f1_score: 43.36%\n",
            "\u001b[1mhill_climb_base_model\u001b[0m\n",
            "accuracy: 80.20%\n",
            "recall: 29.24%\n",
            "f1_score: 39.51%\n",
            "\u001b[1mconstr_hill_climb_model\u001b[0m\n",
            "accuracy: 80.23%\n",
            "recall: 28.26%\n",
            "f1_score: 38.74%\n"
          ]
        }
      ]
    },
    {
      "cell_type": "markdown",
      "source": [
        "## Are these results statistically different?\n",
        "There are no differences among all models, setting the parameter $c$ (i.e. confidence score) to 95% (i.e. $\\alpha=0.05$). The function `compare_two_models` outputs a range $[a, b]$. \n",
        "\n",
        "In particular, if 0 $\\in [a,b]$, there is no statistical difference between the models with confidence $c$."
      ],
      "metadata": {
        "id": "ZABUfngrQrFS"
      }
    },
    {
      "cell_type": "code",
      "source": [
        "def diff_interval(a1, a2, N1, N2, Z):\n",
        "    d = abs(a1 - a2)\n",
        "    sd = np.sqrt(a1 * (1-a1) / N1 + a2 * (1-a2) / N2)\n",
        "    return d - Z * sd, d + Z * sd\n",
        "\n",
        "def compare_two_models(score1: float, score2: float, len_dataset, c: float = 0.95):\n",
        "    Z = norm.ppf((1 + c) / 2)\n",
        "    return diff_interval(score1, score2, len_dataset, len_dataset, Z)"
      ],
      "metadata": {
        "id": "1uGGdYWfE_fx"
      },
      "execution_count": null,
      "outputs": []
    },
    {
      "cell_type": "code",
      "source": [
        "comparison = np.empty((len(models), len(models)))\n",
        "\n",
        "for i, model_name in enumerate(metrics):\n",
        "  for j, inner_model_name in enumerate(metrics):\n",
        "    range = compare_two_models(metrics[model_name]['f1_score'], metrics[inner_model_name]['f1_score'], len(X_test))\n",
        "    comparison[i][j] = 0 if range[0] < 0 else 1\n",
        "\n",
        "print_in_cell = lambda *values: '\\n'.join([*values])\n",
        "\n",
        "sns.set(rc={'figure.figsize':(11.7,8.27)})\n",
        "ax = sns.heatmap(comparison, \\\n",
        "                annot = np.array([[print_in_cell('Stat.', 'equivalent') if item == 0 else print_in_cell('Stat.', 'different') for item in row ] for row in comparison]), \\\n",
        "                xticklabels=models, yticklabels=models, mask=np.triu(np.ones_like(comparison, dtype=bool), k=1), \\\n",
        "                fmt='', center=0, square=True, linewidths=.5, cbar_kws={'shrink': .5}, cbar=False)\n",
        "ax.set(xlabel='Models', ylabel='Models')"
      ],
      "metadata": {
        "colab": {
          "base_uri": "https://localhost:8080/",
          "height": 657
        },
        "id": "UjhunkREHU0G",
        "outputId": "19c5be4b-9642-4ab4-ffd3-46d4efbf6792"
      },
      "execution_count": null,
      "outputs": [
        {
          "output_type": "execute_result",
          "data": {
            "text/plain": [
              "[Text(182.54515, 0.5, 'Models'), Text(0.5, 50.02374999999999, 'Models')]"
            ]
          },
          "metadata": {},
          "execution_count": 52
        },
        {
          "output_type": "display_data",
          "data": {
            "text/plain": [
              "<Figure size 842.4x595.44 with 1 Axes>"
            ],
            "image/png": "[encoded data removed]"
          },
          "metadata": {}
        }
      ]
    },
    {
      "cell_type": "markdown",
      "source": [
        "## Further metrics"
      ],
      "metadata": {
        "id": "lACOjX50Aw5A"
      }
    },
    {
      "cell_type": "code",
      "source": [
        "for model_name in models:\n",
        "  print(f\"Correlation score of {model_name}\")\n",
        "  print(correlation_score(models[model_name], dataset))\n",
        "\n",
        "for model in models:\n",
        "  print(f\"Log Likelihood score of {model_name}\")\n",
        "  print(log_likelihood_score(models[model_name], dataset))\n",
        "\n",
        "for model in models:\n",
        "  print(f\"Structure score of {model_name}\")\n",
        "  print(structure_score(models[model_name], dataset))"
      ],
      "metadata": {
        "id": "QKnkLbsmgi9E",
        "colab": {
          "base_uri": "https://localhost:8080/"
        },
        "outputId": "cc3ccd0d-3bce-4386-c09f-c40d68b539e8"
      },
      "execution_count": null,
      "outputs": [
        {
          "output_type": "stream",
          "name": "stdout",
          "text": [
            "Correlation score of model_easy\n",
            "0.16666666666666669\n",
            "Correlation score of model_medium\n",
            "0.2222222222222222\n",
            "Correlation score of model_hard\n",
            "0.2222222222222222\n",
            "Correlation score of tree_search_model\n",
            "0.0\n",
            "Correlation score of hill_climb_base_model\n",
            "0.0\n",
            "Correlation score of constr_hill_climb_model\n",
            "0.0\n",
            "Log Likelihood score of constr_hill_climb_model\n",
            "-176670.0695828944\n",
            "Log Likelihood score of constr_hill_climb_model\n",
            "-176670.0695828944\n",
            "Log Likelihood score of constr_hill_climb_model\n",
            "-176670.0695828944\n",
            "Log Likelihood score of constr_hill_climb_model\n",
            "-176670.0695828944\n",
            "Log Likelihood score of constr_hill_climb_model\n",
            "-176670.0695828944\n",
            "Log Likelihood score of constr_hill_climb_model\n",
            "-176670.0695828944\n",
            "Structure score of constr_hill_climb_model\n",
            "-177513.4636136824\n",
            "Structure score of constr_hill_climb_model\n",
            "-177513.4636136824\n",
            "Structure score of constr_hill_climb_model\n",
            "-177513.4636136824\n",
            "Structure score of constr_hill_climb_model\n",
            "-177513.4636136824\n",
            "Structure score of constr_hill_climb_model\n",
            "-177513.4636136824\n",
            "Structure score of constr_hill_climb_model\n",
            "-177513.4636136824\n"
          ]
        }
      ]
    }
  ]
}