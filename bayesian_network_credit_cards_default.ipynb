{
  "nbformat": 4,
  "nbformat_minor": 0,
  "metadata": {
    "colab": {
      "provenance": [],
      "collapsed_sections": [
        "b6PmZJjzS4kN",
        "HJqvuPrNS9o7",
        "iu2JrRDkmSly",
        "rfxyLfwJD4NF",
        "u_NZMq0IFLLN",
        "VKu1kz41iFsJ",
        "UCWtVvwGiCWU",
        "9TLoUVx9Tf11"
      ],
      "toc_visible": true,
      "include_colab_link": true
    },
    "kernelspec": {
      "name": "python3",
      "display_name": "Python 3"
    },
    "language_info": {
      "name": "python"
    },
    "widgets": {
      "application/vnd.jupyter.widget-state+json": {
        "5607462799d54ebb890fcf5309bc175a": {
          "model_module": "@jupyter-widgets/controls",
          "model_name": "HBoxModel",
          "model_module_version": "1.5.0",
          "state": {
            "_dom_classes": [],
            "_model_module": "@jupyter-widgets/controls",
            "_model_module_version": "1.5.0",
            "_model_name": "HBoxModel",
            "_view_count": null,
            "_view_module": "@jupyter-widgets/controls",
            "_view_module_version": "1.5.0",
            "_view_name": "HBoxView",
            "box_style": "",
            "children": [
              "IPY_MODEL_67926f658cb148259b108e6c2ae57988",
              "IPY_MODEL_ba4d76c5de1744ac89a1523cd80444e9",
              "IPY_MODEL_bc28d2a9a2d2445e97e949de772d1151"
            ],
            "layout": "IPY_MODEL_ba798161bb06441b8907fd5ceb08412c"
          }
        },
        "67926f658cb148259b108e6c2ae57988": {
          "model_module": "@jupyter-widgets/controls",
          "model_name": "HTMLModel",
          "model_module_version": "1.5.0",
          "state": {
            "_dom_classes": [],
            "_model_module": "@jupyter-widgets/controls",
            "_model_module_version": "1.5.0",
            "_model_name": "HTMLModel",
            "_view_count": null,
            "_view_module": "@jupyter-widgets/controls",
            "_view_module_version": "1.5.0",
            "_view_name": "HTMLView",
            "description": "",
            "description_tooltip": null,
            "layout": "IPY_MODEL_8543615ac47b499ba1e424c239ed3cd3",
            "placeholder": "​",
            "style": "IPY_MODEL_24d43ee8df954673adeb0d0e7a2f9a4e",
            "value": "Building tree: 100%"
          }
        },
        "ba4d76c5de1744ac89a1523cd80444e9": {
          "model_module": "@jupyter-widgets/controls",
          "model_name": "FloatProgressModel",
          "model_module_version": "1.5.0",
          "state": {
            "_dom_classes": [],
            "_model_module": "@jupyter-widgets/controls",
            "_model_module_version": "1.5.0",
            "_model_name": "FloatProgressModel",
            "_view_count": null,
            "_view_module": "@jupyter-widgets/controls",
            "_view_module_version": "1.5.0",
            "_view_name": "ProgressView",
            "bar_style": "success",
            "description": "",
            "description_tooltip": null,
            "layout": "IPY_MODEL_33ad2d11282442599ba4318fcd17aa88",
            "max": 21,
            "min": 0,
            "orientation": "horizontal",
            "style": "IPY_MODEL_9e891d79fade4d27a663d229e7542c25",
            "value": 21
          }
        },
        "bc28d2a9a2d2445e97e949de772d1151": {
          "model_module": "@jupyter-widgets/controls",
          "model_name": "HTMLModel",
          "model_module_version": "1.5.0",
          "state": {
            "_dom_classes": [],
            "_model_module": "@jupyter-widgets/controls",
            "_model_module_version": "1.5.0",
            "_model_name": "HTMLModel",
            "_view_count": null,
            "_view_module": "@jupyter-widgets/controls",
            "_view_module_version": "1.5.0",
            "_view_name": "HTMLView",
            "description": "",
            "description_tooltip": null,
            "layout": "IPY_MODEL_6145eb997ee647f9a493a8448c815015",
            "placeholder": "​",
            "style": "IPY_MODEL_cf29b6c10b06451e98f59faeb783b206",
            "value": " 21/21.0 [00:02&lt;00:00, 10.21it/s]"
          }
        },
        "ba798161bb06441b8907fd5ceb08412c": {
          "model_module": "@jupyter-widgets/base",
          "model_name": "LayoutModel",
          "model_module_version": "1.2.0",
          "state": {
            "_model_module": "@jupyter-widgets/base",
            "_model_module_version": "1.2.0",
            "_model_name": "LayoutModel",
            "_view_count": null,
            "_view_module": "@jupyter-widgets/base",
            "_view_module_version": "1.2.0",
            "_view_name": "LayoutView",
            "align_content": null,
            "align_items": null,
            "align_self": null,
            "border": null,
            "bottom": null,
            "display": null,
            "flex": null,
            "flex_flow": null,
            "grid_area": null,
            "grid_auto_columns": null,
            "grid_auto_flow": null,
            "grid_auto_rows": null,
            "grid_column": null,
            "grid_gap": null,
            "grid_row": null,
            "grid_template_areas": null,
            "grid_template_columns": null,
            "grid_template_rows": null,
            "height": null,
            "justify_content": null,
            "justify_items": null,
            "left": null,
            "margin": null,
            "max_height": null,
            "max_width": null,
            "min_height": null,
            "min_width": null,
            "object_fit": null,
            "object_position": null,
            "order": null,
            "overflow": null,
            "overflow_x": null,
            "overflow_y": null,
            "padding": null,
            "right": null,
            "top": null,
            "visibility": null,
            "width": null
          }
        },
        "8543615ac47b499ba1e424c239ed3cd3": {
          "model_module": "@jupyter-widgets/base",
          "model_name": "LayoutModel",
          "model_module_version": "1.2.0",
          "state": {
            "_model_module": "@jupyter-widgets/base",
            "_model_module_version": "1.2.0",
            "_model_name": "LayoutModel",
            "_view_count": null,
            "_view_module": "@jupyter-widgets/base",
            "_view_module_version": "1.2.0",
            "_view_name": "LayoutView",
            "align_content": null,
            "align_items": null,
            "align_self": null,
            "border": null,
            "bottom": null,
            "display": null,
            "flex": null,
            "flex_flow": null,
            "grid_area": null,
            "grid_auto_columns": null,
            "grid_auto_flow": null,
            "grid_auto_rows": null,
            "grid_column": null,
            "grid_gap": null,
            "grid_row": null,
            "grid_template_areas": null,
            "grid_template_columns": null,
            "grid_template_rows": null,
            "height": null,
            "justify_content": null,
            "justify_items": null,
            "left": null,
            "margin": null,
            "max_height": null,
            "max_width": null,
            "min_height": null,
            "min_width": null,
            "object_fit": null,
            "object_position": null,
            "order": null,
            "overflow": null,
            "overflow_x": null,
            "overflow_y": null,
            "padding": null,
            "right": null,
            "top": null,
            "visibility": null,
            "width": null
          }
        },
        "24d43ee8df954673adeb0d0e7a2f9a4e": {
          "model_module": "@jupyter-widgets/controls",
          "model_name": "DescriptionStyleModel",
          "model_module_version": "1.5.0",
          "state": {
            "_model_module": "@jupyter-widgets/controls",
            "_model_module_version": "1.5.0",
            "_model_name": "DescriptionStyleModel",
            "_view_count": null,
            "_view_module": "@jupyter-widgets/base",
            "_view_module_version": "1.2.0",
            "_view_name": "StyleView",
            "description_width": ""
          }
        },
        "33ad2d11282442599ba4318fcd17aa88": {
          "model_module": "@jupyter-widgets/base",
          "model_name": "LayoutModel",
          "model_module_version": "1.2.0",
          "state": {
            "_model_module": "@jupyter-widgets/base",
            "_model_module_version": "1.2.0",
            "_model_name": "LayoutModel",
            "_view_count": null,
            "_view_module": "@jupyter-widgets/base",
            "_view_module_version": "1.2.0",
            "_view_name": "LayoutView",
            "align_content": null,
            "align_items": null,
            "align_self": null,
            "border": null,
            "bottom": null,
            "display": null,
            "flex": null,
            "flex_flow": null,
            "grid_area": null,
            "grid_auto_columns": null,
            "grid_auto_flow": null,
            "grid_auto_rows": null,
            "grid_column": null,
            "grid_gap": null,
            "grid_row": null,
            "grid_template_areas": null,
            "grid_template_columns": null,
            "grid_template_rows": null,
            "height": null,
            "justify_content": null,
            "justify_items": null,
            "left": null,
            "margin": null,
            "max_height": null,
            "max_width": null,
            "min_height": null,
            "min_width": null,
            "object_fit": null,
            "object_position": null,
            "order": null,
            "overflow": null,
            "overflow_x": null,
            "overflow_y": null,
            "padding": null,
            "right": null,
            "top": null,
            "visibility": null,
            "width": null
          }
        },
        "9e891d79fade4d27a663d229e7542c25": {
          "model_module": "@jupyter-widgets/controls",
          "model_name": "ProgressStyleModel",
          "model_module_version": "1.5.0",
          "state": {
            "_model_module": "@jupyter-widgets/controls",
            "_model_module_version": "1.5.0",
            "_model_name": "ProgressStyleModel",
            "_view_count": null,
            "_view_module": "@jupyter-widgets/base",
            "_view_module_version": "1.2.0",
            "_view_name": "StyleView",
            "bar_color": null,
            "description_width": ""
          }
        },
        "6145eb997ee647f9a493a8448c815015": {
          "model_module": "@jupyter-widgets/base",
          "model_name": "LayoutModel",
          "model_module_version": "1.2.0",
          "state": {
            "_model_module": "@jupyter-widgets/base",
            "_model_module_version": "1.2.0",
            "_model_name": "LayoutModel",
            "_view_count": null,
            "_view_module": "@jupyter-widgets/base",
            "_view_module_version": "1.2.0",
            "_view_name": "LayoutView",
            "align_content": null,
            "align_items": null,
            "align_self": null,
            "border": null,
            "bottom": null,
            "display": null,
            "flex": null,
            "flex_flow": null,
            "grid_area": null,
            "grid_auto_columns": null,
            "grid_auto_flow": null,
            "grid_auto_rows": null,
            "grid_column": null,
            "grid_gap": null,
            "grid_row": null,
            "grid_template_areas": null,
            "grid_template_columns": null,
            "grid_template_rows": null,
            "height": null,
            "justify_content": null,
            "justify_items": null,
            "left": null,
            "margin": null,
            "max_height": null,
            "max_width": null,
            "min_height": null,
            "min_width": null,
            "object_fit": null,
            "object_position": null,
            "order": null,
            "overflow": null,
            "overflow_x": null,
            "overflow_y": null,
            "padding": null,
            "right": null,
            "top": null,
            "visibility": null,
            "width": null
          }
        },
        "cf29b6c10b06451e98f59faeb783b206": {
          "model_module": "@jupyter-widgets/controls",
          "model_name": "DescriptionStyleModel",
          "model_module_version": "1.5.0",
          "state": {
            "_model_module": "@jupyter-widgets/controls",
            "_model_module_version": "1.5.0",
            "_model_name": "DescriptionStyleModel",
            "_view_count": null,
            "_view_module": "@jupyter-widgets/base",
            "_view_module_version": "1.2.0",
            "_view_name": "StyleView",
            "description_width": ""
          }
        },
        "e5cf883d736141c3aa5a6791f9b40983": {
          "model_module": "@jupyter-widgets/controls",
          "model_name": "HBoxModel",
          "model_module_version": "1.5.0",
          "state": {
            "_dom_classes": [],
            "_model_module": "@jupyter-widgets/controls",
            "_model_module_version": "1.5.0",
            "_model_name": "HBoxModel",
            "_view_count": null,
            "_view_module": "@jupyter-widgets/controls",
            "_view_module_version": "1.5.0",
            "_view_name": "HBoxView",
            "box_style": "",
            "children": [
              "IPY_MODEL_cfaa9ecbf4f8479ba396d009af257a22",
              "IPY_MODEL_f98d1cebfff641aeaf2ebfdcf61295f0",
              "IPY_MODEL_4a9aad1b75ea44f695c7896fa086221c"
            ],
            "layout": "IPY_MODEL_1d44a31d61a945f69fa28164e9251d57"
          }
        },
        "cfaa9ecbf4f8479ba396d009af257a22": {
          "model_module": "@jupyter-widgets/controls",
          "model_name": "HTMLModel",
          "model_module_version": "1.5.0",
          "state": {
            "_dom_classes": [],
            "_model_module": "@jupyter-widgets/controls",
            "_model_module_version": "1.5.0",
            "_model_name": "HTMLModel",
            "_view_count": null,
            "_view_module": "@jupyter-widgets/controls",
            "_view_module_version": "1.5.0",
            "_view_name": "HTMLView",
            "description": "",
            "description_tooltip": null,
            "layout": "IPY_MODEL_0e9c4ee76a8f4badb53d090e8fed50fa",
            "placeholder": "​",
            "style": "IPY_MODEL_19a9c91bf0594ce98501769b42b4a064",
            "value": "  0%"
          }
        },
        "f98d1cebfff641aeaf2ebfdcf61295f0": {
          "model_module": "@jupyter-widgets/controls",
          "model_name": "FloatProgressModel",
          "model_module_version": "1.5.0",
          "state": {
            "_dom_classes": [],
            "_model_module": "@jupyter-widgets/controls",
            "_model_module_version": "1.5.0",
            "_model_name": "FloatProgressModel",
            "_view_count": null,
            "_view_module": "@jupyter-widgets/controls",
            "_view_module_version": "1.5.0",
            "_view_name": "ProgressView",
            "bar_style": "danger",
            "description": "",
            "description_tooltip": null,
            "layout": "IPY_MODEL_6f69c2347d1d48c2adab4b200e16e0ea",
            "max": 1000000,
            "min": 0,
            "orientation": "horizontal",
            "style": "IPY_MODEL_5dbc62c2585d44f2b6c84b0f3992b81b",
            "value": 13
          }
        },
        "4a9aad1b75ea44f695c7896fa086221c": {
          "model_module": "@jupyter-widgets/controls",
          "model_name": "HTMLModel",
          "model_module_version": "1.5.0",
          "state": {
            "_dom_classes": [],
            "_model_module": "@jupyter-widgets/controls",
            "_model_module_version": "1.5.0",
            "_model_name": "HTMLModel",
            "_view_count": null,
            "_view_module": "@jupyter-widgets/controls",
            "_view_module_version": "1.5.0",
            "_view_name": "HTMLView",
            "description": "",
            "description_tooltip": null,
            "layout": "IPY_MODEL_e972a4aa3a6f440bb97680d38ed5d2e8",
            "placeholder": "​",
            "style": "IPY_MODEL_36d6a8b2844f4356a6fbbaa9df236d92",
            "value": " 13/1000000 [00:03&lt;45:11:35,  6.15it/s]"
          }
        },
        "1d44a31d61a945f69fa28164e9251d57": {
          "model_module": "@jupyter-widgets/base",
          "model_name": "LayoutModel",
          "model_module_version": "1.2.0",
          "state": {
            "_model_module": "@jupyter-widgets/base",
            "_model_module_version": "1.2.0",
            "_model_name": "LayoutModel",
            "_view_count": null,
            "_view_module": "@jupyter-widgets/base",
            "_view_module_version": "1.2.0",
            "_view_name": "LayoutView",
            "align_content": null,
            "align_items": null,
            "align_self": null,
            "border": null,
            "bottom": null,
            "display": null,
            "flex": null,
            "flex_flow": null,
            "grid_area": null,
            "grid_auto_columns": null,
            "grid_auto_flow": null,
            "grid_auto_rows": null,
            "grid_column": null,
            "grid_gap": null,
            "grid_row": null,
            "grid_template_areas": null,
            "grid_template_columns": null,
            "grid_template_rows": null,
            "height": null,
            "justify_content": null,
            "justify_items": null,
            "left": null,
            "margin": null,
            "max_height": null,
            "max_width": null,
            "min_height": null,
            "min_width": null,
            "object_fit": null,
            "object_position": null,
            "order": null,
            "overflow": null,
            "overflow_x": null,
            "overflow_y": null,
            "padding": null,
            "right": null,
            "top": null,
            "visibility": null,
            "width": null
          }
        },
        "0e9c4ee76a8f4badb53d090e8fed50fa": {
          "model_module": "@jupyter-widgets/base",
          "model_name": "LayoutModel",
          "model_module_version": "1.2.0",
          "state": {
            "_model_module": "@jupyter-widgets/base",
            "_model_module_version": "1.2.0",
            "_model_name": "LayoutModel",
            "_view_count": null,
            "_view_module": "@jupyter-widgets/base",
            "_view_module_version": "1.2.0",
            "_view_name": "LayoutView",
            "align_content": null,
            "align_items": null,
            "align_self": null,
            "border": null,
            "bottom": null,
            "display": null,
            "flex": null,
            "flex_flow": null,
            "grid_area": null,
            "grid_auto_columns": null,
            "grid_auto_flow": null,
            "grid_auto_rows": null,
            "grid_column": null,
            "grid_gap": null,
            "grid_row": null,
            "grid_template_areas": null,
            "grid_template_columns": null,
            "grid_template_rows": null,
            "height": null,
            "justify_content": null,
            "justify_items": null,
            "left": null,
            "margin": null,
            "max_height": null,
            "max_width": null,
            "min_height": null,
            "min_width": null,
            "object_fit": null,
            "object_position": null,
            "order": null,
            "overflow": null,
            "overflow_x": null,
            "overflow_y": null,
            "padding": null,
            "right": null,
            "top": null,
            "visibility": null,
            "width": null
          }
        },
        "19a9c91bf0594ce98501769b42b4a064": {
          "model_module": "@jupyter-widgets/controls",
          "model_name": "DescriptionStyleModel",
          "model_module_version": "1.5.0",
          "state": {
            "_model_module": "@jupyter-widgets/controls",
            "_model_module_version": "1.5.0",
            "_model_name": "DescriptionStyleModel",
            "_view_count": null,
            "_view_module": "@jupyter-widgets/base",
            "_view_module_version": "1.2.0",
            "_view_name": "StyleView",
            "description_width": ""
          }
        },
        "6f69c2347d1d48c2adab4b200e16e0ea": {
          "model_module": "@jupyter-widgets/base",
          "model_name": "LayoutModel",
          "model_module_version": "1.2.0",
          "state": {
            "_model_module": "@jupyter-widgets/base",
            "_model_module_version": "1.2.0",
            "_model_name": "LayoutModel",
            "_view_count": null,
            "_view_module": "@jupyter-widgets/base",
            "_view_module_version": "1.2.0",
            "_view_name": "LayoutView",
            "align_content": null,
            "align_items": null,
            "align_self": null,
            "border": null,
            "bottom": null,
            "display": null,
            "flex": null,
            "flex_flow": null,
            "grid_area": null,
            "grid_auto_columns": null,
            "grid_auto_flow": null,
            "grid_auto_rows": null,
            "grid_column": null,
            "grid_gap": null,
            "grid_row": null,
            "grid_template_areas": null,
            "grid_template_columns": null,
            "grid_template_rows": null,
            "height": null,
            "justify_content": null,
            "justify_items": null,
            "left": null,
            "margin": null,
            "max_height": null,
            "max_width": null,
            "min_height": null,
            "min_width": null,
            "object_fit": null,
            "object_position": null,
            "order": null,
            "overflow": null,
            "overflow_x": null,
            "overflow_y": null,
            "padding": null,
            "right": null,
            "top": null,
            "visibility": null,
            "width": null
          }
        },
        "5dbc62c2585d44f2b6c84b0f3992b81b": {
          "model_module": "@jupyter-widgets/controls",
          "model_name": "ProgressStyleModel",
          "model_module_version": "1.5.0",
          "state": {
            "_model_module": "@jupyter-widgets/controls",
            "_model_module_version": "1.5.0",
            "_model_name": "ProgressStyleModel",
            "_view_count": null,
            "_view_module": "@jupyter-widgets/base",
            "_view_module_version": "1.2.0",
            "_view_name": "StyleView",
            "bar_color": null,
            "description_width": ""
          }
        },
        "e972a4aa3a6f440bb97680d38ed5d2e8": {
          "model_module": "@jupyter-widgets/base",
          "model_name": "LayoutModel",
          "model_module_version": "1.2.0",
          "state": {
            "_model_module": "@jupyter-widgets/base",
            "_model_module_version": "1.2.0",
            "_model_name": "LayoutModel",
            "_view_count": null,
            "_view_module": "@jupyter-widgets/base",
            "_view_module_version": "1.2.0",
            "_view_name": "LayoutView",
            "align_content": null,
            "align_items": null,
            "align_self": null,
            "border": null,
            "bottom": null,
            "display": null,
            "flex": null,
            "flex_flow": null,
            "grid_area": null,
            "grid_auto_columns": null,
            "grid_auto_flow": null,
            "grid_auto_rows": null,
            "grid_column": null,
            "grid_gap": null,
            "grid_row": null,
            "grid_template_areas": null,
            "grid_template_columns": null,
            "grid_template_rows": null,
            "height": null,
            "justify_content": null,
            "justify_items": null,
            "left": null,
            "margin": null,
            "max_height": null,
            "max_width": null,
            "min_height": null,
            "min_width": null,
            "object_fit": null,
            "object_position": null,
            "order": null,
            "overflow": null,
            "overflow_x": null,
            "overflow_y": null,
            "padding": null,
            "right": null,
            "top": null,
            "visibility": null,
            "width": null
          }
        },
        "36d6a8b2844f4356a6fbbaa9df236d92": {
          "model_module": "@jupyter-widgets/controls",
          "model_name": "DescriptionStyleModel",
          "model_module_version": "1.5.0",
          "state": {
            "_model_module": "@jupyter-widgets/controls",
            "_model_module_version": "1.5.0",
            "_model_name": "DescriptionStyleModel",
            "_view_count": null,
            "_view_module": "@jupyter-widgets/base",
            "_view_module_version": "1.2.0",
            "_view_name": "StyleView",
            "description_width": ""
          }
        },
        "87e580f7085340618d0925647d791504": {
          "model_module": "@jupyter-widgets/controls",
          "model_name": "HBoxModel",
          "model_module_version": "1.5.0",
          "state": {
            "_dom_classes": [],
            "_model_module": "@jupyter-widgets/controls",
            "_model_module_version": "1.5.0",
            "_model_name": "HBoxModel",
            "_view_count": null,
            "_view_module": "@jupyter-widgets/controls",
            "_view_module_version": "1.5.0",
            "_view_name": "HBoxView",
            "box_style": "",
            "children": [
              "IPY_MODEL_2037165e221c481d9d5b9af970dfe795",
              "IPY_MODEL_b6c2bc3d343441d2a318b3ba81fe824d",
              "IPY_MODEL_d0dacf9a6724477b8549480542a97690"
            ],
            "layout": "IPY_MODEL_a0b0b70e83104ee7ac27d79602d11c49"
          }
        },
        "2037165e221c481d9d5b9af970dfe795": {
          "model_module": "@jupyter-widgets/controls",
          "model_name": "HTMLModel",
          "model_module_version": "1.5.0",
          "state": {
            "_dom_classes": [],
            "_model_module": "@jupyter-widgets/controls",
            "_model_module_version": "1.5.0",
            "_model_name": "HTMLModel",
            "_view_count": null,
            "_view_module": "@jupyter-widgets/controls",
            "_view_module_version": "1.5.0",
            "_view_name": "HTMLView",
            "description": "",
            "description_tooltip": null,
            "layout": "IPY_MODEL_53ce32fb761d49e2984d3a614619fd15",
            "placeholder": "​",
            "style": "IPY_MODEL_8036d22a2d8342a1bb4af7a6b8d71fc4",
            "value": "  0%"
          }
        },
        "b6c2bc3d343441d2a318b3ba81fe824d": {
          "model_module": "@jupyter-widgets/controls",
          "model_name": "FloatProgressModel",
          "model_module_version": "1.5.0",
          "state": {
            "_dom_classes": [],
            "_model_module": "@jupyter-widgets/controls",
            "_model_module_version": "1.5.0",
            "_model_name": "FloatProgressModel",
            "_view_count": null,
            "_view_module": "@jupyter-widgets/controls",
            "_view_module_version": "1.5.0",
            "_view_name": "ProgressView",
            "bar_style": "danger",
            "description": "",
            "description_tooltip": null,
            "layout": "IPY_MODEL_02c73eee69af470d93052f8798df2762",
            "max": 1000000,
            "min": 0,
            "orientation": "horizontal",
            "style": "IPY_MODEL_fdcf7e308de744d89d09c7d40565ef08",
            "value": 9
          }
        },
        "d0dacf9a6724477b8549480542a97690": {
          "model_module": "@jupyter-widgets/controls",
          "model_name": "HTMLModel",
          "model_module_version": "1.5.0",
          "state": {
            "_dom_classes": [],
            "_model_module": "@jupyter-widgets/controls",
            "_model_module_version": "1.5.0",
            "_model_name": "HTMLModel",
            "_view_count": null,
            "_view_module": "@jupyter-widgets/controls",
            "_view_module_version": "1.5.0",
            "_view_name": "HTMLView",
            "description": "",
            "description_tooltip": null,
            "layout": "IPY_MODEL_0c81631e604b4a83b96a734593759c72",
            "placeholder": "​",
            "style": "IPY_MODEL_a2db8cec4e4a407796a0f531dcd29a9a",
            "value": " 9/1000000 [00:04&lt;65:22:18,  4.25it/s]"
          }
        },
        "a0b0b70e83104ee7ac27d79602d11c49": {
          "model_module": "@jupyter-widgets/base",
          "model_name": "LayoutModel",
          "model_module_version": "1.2.0",
          "state": {
            "_model_module": "@jupyter-widgets/base",
            "_model_module_version": "1.2.0",
            "_model_name": "LayoutModel",
            "_view_count": null,
            "_view_module": "@jupyter-widgets/base",
            "_view_module_version": "1.2.0",
            "_view_name": "LayoutView",
            "align_content": null,
            "align_items": null,
            "align_self": null,
            "border": null,
            "bottom": null,
            "display": null,
            "flex": null,
            "flex_flow": null,
            "grid_area": null,
            "grid_auto_columns": null,
            "grid_auto_flow": null,
            "grid_auto_rows": null,
            "grid_column": null,
            "grid_gap": null,
            "grid_row": null,
            "grid_template_areas": null,
            "grid_template_columns": null,
            "grid_template_rows": null,
            "height": null,
            "justify_content": null,
            "justify_items": null,
            "left": null,
            "margin": null,
            "max_height": null,
            "max_width": null,
            "min_height": null,
            "min_width": null,
            "object_fit": null,
            "object_position": null,
            "order": null,
            "overflow": null,
            "overflow_x": null,
            "overflow_y": null,
            "padding": null,
            "right": null,
            "top": null,
            "visibility": null,
            "width": null
          }
        },
        "53ce32fb761d49e2984d3a614619fd15": {
          "model_module": "@jupyter-widgets/base",
          "model_name": "LayoutModel",
          "model_module_version": "1.2.0",
          "state": {
            "_model_module": "@jupyter-widgets/base",
            "_model_module_version": "1.2.0",
            "_model_name": "LayoutModel",
            "_view_count": null,
            "_view_module": "@jupyter-widgets/base",
            "_view_module_version": "1.2.0",
            "_view_name": "LayoutView",
            "align_content": null,
            "align_items": null,
            "align_self": null,
            "border": null,
            "bottom": null,
            "display": null,
            "flex": null,
            "flex_flow": null,
            "grid_area": null,
            "grid_auto_columns": null,
            "grid_auto_flow": null,
            "grid_auto_rows": null,
            "grid_column": null,
            "grid_gap": null,
            "grid_row": null,
            "grid_template_areas": null,
            "grid_template_columns": null,
            "grid_template_rows": null,
            "height": null,
            "justify_content": null,
            "justify_items": null,
            "left": null,
            "margin": null,
            "max_height": null,
            "max_width": null,
            "min_height": null,
            "min_width": null,
            "object_fit": null,
            "object_position": null,
            "order": null,
            "overflow": null,
            "overflow_x": null,
            "overflow_y": null,
            "padding": null,
            "right": null,
            "top": null,
            "visibility": null,
            "width": null
          }
        },
        "8036d22a2d8342a1bb4af7a6b8d71fc4": {
          "model_module": "@jupyter-widgets/controls",
          "model_name": "DescriptionStyleModel",
          "model_module_version": "1.5.0",
          "state": {
            "_model_module": "@jupyter-widgets/controls",
            "_model_module_version": "1.5.0",
            "_model_name": "DescriptionStyleModel",
            "_view_count": null,
            "_view_module": "@jupyter-widgets/base",
            "_view_module_version": "1.2.0",
            "_view_name": "StyleView",
            "description_width": ""
          }
        },
        "02c73eee69af470d93052f8798df2762": {
          "model_module": "@jupyter-widgets/base",
          "model_name": "LayoutModel",
          "model_module_version": "1.2.0",
          "state": {
            "_model_module": "@jupyter-widgets/base",
            "_model_module_version": "1.2.0",
            "_model_name": "LayoutModel",
            "_view_count": null,
            "_view_module": "@jupyter-widgets/base",
            "_view_module_version": "1.2.0",
            "_view_name": "LayoutView",
            "align_content": null,
            "align_items": null,
            "align_self": null,
            "border": null,
            "bottom": null,
            "display": null,
            "flex": null,
            "flex_flow": null,
            "grid_area": null,
            "grid_auto_columns": null,
            "grid_auto_flow": null,
            "grid_auto_rows": null,
            "grid_column": null,
            "grid_gap": null,
            "grid_row": null,
            "grid_template_areas": null,
            "grid_template_columns": null,
            "grid_template_rows": null,
            "height": null,
            "justify_content": null,
            "justify_items": null,
            "left": null,
            "margin": null,
            "max_height": null,
            "max_width": null,
            "min_height": null,
            "min_width": null,
            "object_fit": null,
            "object_position": null,
            "order": null,
            "overflow": null,
            "overflow_x": null,
            "overflow_y": null,
            "padding": null,
            "right": null,
            "top": null,
            "visibility": null,
            "width": null
          }
        },
        "fdcf7e308de744d89d09c7d40565ef08": {
          "model_module": "@jupyter-widgets/controls",
          "model_name": "ProgressStyleModel",
          "model_module_version": "1.5.0",
          "state": {
            "_model_module": "@jupyter-widgets/controls",
            "_model_module_version": "1.5.0",
            "_model_name": "ProgressStyleModel",
            "_view_count": null,
            "_view_module": "@jupyter-widgets/base",
            "_view_module_version": "1.2.0",
            "_view_name": "StyleView",
            "bar_color": null,
            "description_width": ""
          }
        },
        "0c81631e604b4a83b96a734593759c72": {
          "model_module": "@jupyter-widgets/base",
          "model_name": "LayoutModel",
          "model_module_version": "1.2.0",
          "state": {
            "_model_module": "@jupyter-widgets/base",
            "_model_module_version": "1.2.0",
            "_model_name": "LayoutModel",
            "_view_count": null,
            "_view_module": "@jupyter-widgets/base",
            "_view_module_version": "1.2.0",
            "_view_name": "LayoutView",
            "align_content": null,
            "align_items": null,
            "align_self": null,
            "border": null,
            "bottom": null,
            "display": null,
            "flex": null,
            "flex_flow": null,
            "grid_area": null,
            "grid_auto_columns": null,
            "grid_auto_flow": null,
            "grid_auto_rows": null,
            "grid_column": null,
            "grid_gap": null,
            "grid_row": null,
            "grid_template_areas": null,
            "grid_template_columns": null,
            "grid_template_rows": null,
            "height": null,
            "justify_content": null,
            "justify_items": null,
            "left": null,
            "margin": null,
            "max_height": null,
            "max_width": null,
            "min_height": null,
            "min_width": null,
            "object_fit": null,
            "object_position": null,
            "order": null,
            "overflow": null,
            "overflow_x": null,
            "overflow_y": null,
            "padding": null,
            "right": null,
            "top": null,
            "visibility": null,
            "width": null
          }
        },
        "a2db8cec4e4a407796a0f531dcd29a9a": {
          "model_module": "@jupyter-widgets/controls",
          "model_name": "DescriptionStyleModel",
          "model_module_version": "1.5.0",
          "state": {
            "_model_module": "@jupyter-widgets/controls",
            "_model_module_version": "1.5.0",
            "_model_name": "DescriptionStyleModel",
            "_view_count": null,
            "_view_module": "@jupyter-widgets/base",
            "_view_module_version": "1.2.0",
            "_view_name": "StyleView",
            "description_width": ""
          }
        }
      }
    }
  },
  "cells": [
    {
      "cell_type": "markdown",
      "metadata": {
        "id": "view-in-github",
        "colab_type": "text"
      },
      "source": [
        "<a href=\"https://colab.research.google.com/github/lorenzobalzani/bayesian-network-credit-cards/blob/master/bayesian_network_credit_cards_default.ipynb\" target=\"_parent\"><img src=\"https://colab.research.google.com/assets/colab-badge.svg\" alt=\"Open In Colab\"/></a>"
      ]
    },
    {
      "cell_type": "markdown",
      "source": [
        "# Bayesian Networks for probabilistic reasoning over credit cards' default\n",
        "## Project report for the Fundamentals of AI and KR course - module 3\n",
        "### Authors: [**Lorenzo Balzani**](mailto:lorenzo.balzani@studio.unibo.it) and [**Thomas Guizzetti**](mailto:thomas.guizzetti@studio.unibo.it)\n",
        "\n",
        "# Abstract\n",
        "TODO"
      ],
      "metadata": {
        "id": "wutYO5JzDEID"
      }
    },
    {
      "cell_type": "markdown",
      "source": [
        "# Setup"
      ],
      "metadata": {
        "id": "DiZNkPEHDbXz"
      }
    },
    {
      "cell_type": "markdown",
      "source": [
        "## Requirements"
      ],
      "metadata": {
        "id": "b6PmZJjzS4kN"
      }
    },
    {
      "cell_type": "code",
      "source": [
        "!pip install -q pandas numpy pgmpy"
      ],
      "metadata": {
        "id": "csUwu-Tt3M4g"
      },
      "execution_count": 6,
      "outputs": []
    },
    {
      "cell_type": "markdown",
      "source": [
        "## Imports"
      ],
      "metadata": {
        "id": "usLiB0OMS6Ou"
      }
    },
    {
      "cell_type": "code",
      "source": [
        "from __future__ import annotations # for type annotations\n",
        "import os, logging\n",
        "import pandas as pd\n",
        "import numpy as np\n",
        "from pgmpy.base import DAG\n",
        "from pgmpy.models import BayesianNetwork, NaiveBayes\n",
        "from pgmpy.factors.discrete.CPD import TabularCPD\n",
        "from pgmpy.inference import VariableElimination\n",
        "from pgmpy.estimators import ParameterEstimator, MaximumLikelihoodEstimator, BayesianEstimator, ExhaustiveSearch, TreeSearch, HillClimbSearch, MmhcEstimator, BDeuScore, BicScore\n",
        "from sklearn.model_selection import train_test_split\n",
        "from sklearn.metrics import recall_score, f1_score, accuracy_score\n",
        "\n",
        "# Viz\n",
        "import matplotlib.pyplot as plt\n",
        "import networkx as nx\n",
        "import seaborn as sns"
      ],
      "metadata": {
        "id": "CYV8-E163KzW"
      },
      "execution_count": 57,
      "outputs": []
    },
    {
      "cell_type": "markdown",
      "source": [
        "## Declarations"
      ],
      "metadata": {
        "id": "HJqvuPrNS9o7"
      }
    },
    {
      "cell_type": "code",
      "source": [
        "logger = logging.getLogger()\n",
        "dataset_url = 'https://raw.githubusercontent.com/lorenzobalzani/bayesian-network-credit-cards/master/dataset.csv'\n",
        "test_ratio = 0.2\n",
        "random_seed = 42"
      ],
      "metadata": {
        "id": "76Fyk7MjOyzo"
      },
      "execution_count": 8,
      "outputs": []
    },
    {
      "cell_type": "markdown",
      "source": [
        "# Dataset"
      ],
      "metadata": {
        "id": "j7NoIN1QDk1q"
      }
    },
    {
      "cell_type": "code",
      "source": [
        "def read_dataset(url: str) -> pd.DataFrame:\n",
        "  dataset = pd.read_csv(url, delimiter=';').set_index('ID') \\\n",
        "            .rename(columns={'default payment next month': 'default'})\n",
        "  return dataset.drop(columns=[column for column in dataset.columns if 'AMT' in column]) \\\n",
        "         .rename(columns={column: column.lower() for column in dataset.columns})\n",
        "\n",
        "dataset = read_dataset(dataset_url)"
      ],
      "metadata": {
        "id": "3cp03GKsFVFL"
      },
      "execution_count": 17,
      "outputs": []
    },
    {
      "cell_type": "markdown",
      "source": [
        "## Check for missing values\n",
        "No drops are needed here because the dataset is complete."
      ],
      "metadata": {
        "id": "iu2JrRDkmSly"
      }
    },
    {
      "cell_type": "code",
      "source": [
        "np.sum(pd.isnull(dataset), axis=0) # sum over the columns"
      ],
      "metadata": {
        "colab": {
          "base_uri": "https://localhost:8080/"
        },
        "id": "SnRC3h6FmRHW",
        "outputId": "99579818-faba-4fce-f6b8-164b1673d50e"
      },
      "execution_count": 18,
      "outputs": [
        {
          "output_type": "execute_result",
          "data": {
            "text/plain": [
              "limit_bal    0\n",
              "sex          0\n",
              "education    0\n",
              "marriage     0\n",
              "age          0\n",
              "pay_1        0\n",
              "pay_2        0\n",
              "pay_3        0\n",
              "pay_4        0\n",
              "pay_5        0\n",
              "pay_6        0\n",
              "default      0\n",
              "dtype: int64"
            ]
          },
          "metadata": {},
          "execution_count": 18
        }
      ]
    },
    {
      "cell_type": "markdown",
      "source": [
        "## Distribution of `limit_bal` \n",
        "First, we print out the histogram related to the distribution of `limit_bal`, which is the only continuous variable used."
      ],
      "metadata": {
        "id": "rfxyLfwJD4NF"
      }
    },
    {
      "cell_type": "code",
      "source": [
        "ax = dataset['limit_bal'].plot.hist(bins=5, alpha=0.5)"
      ],
      "metadata": {
        "colab": {
          "base_uri": "https://localhost:8080/",
          "height": 0
        },
        "id": "tPOZ_CEpCuIr",
        "outputId": "6a72ce33-d0a0-4f4b-bc66-a6fa9246230c"
      },
      "execution_count": 19,
      "outputs": [
        {
          "output_type": "display_data",
          "data": {
            "text/plain": [
              "<Figure size 432x288 with 1 Axes>"
            ],
            "image/png": "[encoded data removed]"
          },
          "metadata": {
            "needs_background": "light"
          }
        }
      ]
    },
    {
      "cell_type": "markdown",
      "source": [
        "Next, we describe the distribution. To discretize it, we would like to create four beams (i.e., corresponding to the four percentiles)."
      ],
      "metadata": {
        "id": "RLT0UNoOEfsD"
      }
    },
    {
      "cell_type": "code",
      "source": [
        "dataset['limit_bal'].describe()"
      ],
      "metadata": {
        "colab": {
          "base_uri": "https://localhost:8080/"
        },
        "id": "H9Ok3wXWCSHz",
        "outputId": "ed4973aa-c660-4501-fcd5-d7903aaa6620"
      },
      "execution_count": 20,
      "outputs": [
        {
          "output_type": "execute_result",
          "data": {
            "text/plain": [
              "count      30000.000000\n",
              "mean      167484.322667\n",
              "std       129747.661567\n",
              "min        10000.000000\n",
              "25%        50000.000000\n",
              "50%       140000.000000\n",
              "75%       240000.000000\n",
              "max      1000000.000000\n",
              "Name: limit_bal, dtype: float64"
            ]
          },
          "metadata": {},
          "execution_count": 20
        }
      ]
    },
    {
      "cell_type": "markdown",
      "source": [
        "## Manipulation\n",
        "The *artificial column* `misspayments_prev_6_months` can hold either positive, negative numbers or 0. In particular, this means: \n",
        "1. $ n = -2 $ corresponds to there was no credit to pay;\n",
        "2. $ n = -1 $ corresponds to payed successfully;\n",
        "3. $ n = 0 $ corresponds to a payment that was made on time but not totally to clear the balance (i.e., the minimum payment was met);\n",
        "4. $ n > 0 $ corresponds to the number of delayed months.\n",
        "\n",
        "All computations - but `misspayments_prev_6_months` - are performed in a vectorized fashion using NumPy. The less efficient alternative would have used the `apply` method over Pandas DataFrame, which internally leverages a for loop."
      ],
      "metadata": {
        "id": "u_NZMq0IFLLN"
      }
    },
    {
      "cell_type": "code",
      "source": [
        "%%time\n",
        "\n",
        "def manipulate_dataset(df: pd.DataFrame) -> pd.DataFrame:\n",
        "  compute_misspayments = lambda payments_status: sum([payment_status > 0 for payment_status in payments_status])\n",
        "  df['sex'] = np.where(df['sex'] == 1, 'male', 'female')\n",
        "  df['marriage'] = np.where(df['marriage'] == 1, 'married', 'not_married')\n",
        "  df['age'] = np.select([\n",
        "              (df['age'] < 35), \n",
        "              (df['age'] >= 35) & (df['age'] < 60)],\n",
        "              ['young', 'mid_aged'], default = 'senior')\n",
        "  df['limit_bal'] = np.select([\n",
        "                    (df['limit_bal'] < 50_000), \n",
        "                    (df['limit_bal'] >= 50_000) & (df['limit_bal'] < 140_000),\n",
        "                    (df['limit_bal'] >= 140_000) & (df['limit_bal'] < 240_000)],\n",
        "                    ['low', 'medium', 'medium_high'], default = 'high')\n",
        "  df['education'] = np.select([\n",
        "                    (df['education'] == 1), \n",
        "                    (df['education'] == 2), \n",
        "                    (df['education'] == 3)], \n",
        "                    ['graduate', 'university', 'high_school'], default = 'others') \n",
        "  df['misspayments_prev_6_months'] = df.apply(lambda row: \\\n",
        "                                              compute_misspayments([row[column] for column in df.columns if 'pay_' in column]), \n",
        "                                              axis=1) #axis = 1 means row by row\n",
        "  return df.drop(columns=[column for column in df.columns if 'pay_' in column])\n",
        "\n",
        "dataset = manipulate_dataset(read_dataset(dataset_url))"
      ],
      "metadata": {
        "colab": {
          "base_uri": "https://localhost:8080/"
        },
        "id": "EZm6-KOqYe6r",
        "outputId": "b6a23590-2370-4314-962c-f1351e468f33"
      },
      "execution_count": 21,
      "outputs": [
        {
          "output_type": "stream",
          "name": "stdout",
          "text": [
            "CPU times: user 1.84 s, sys: 32.3 ms, total: 1.88 s\n",
            "Wall time: 3.16 s\n"
          ]
        }
      ]
    },
    {
      "cell_type": "code",
      "source": [
        "print(f'The dataset contains {dataset.shape[0]} rows, {dataset.shape[1]} columns and it weighs {(dataset.memory_usage(index=True, deep=True).sum() / 10**6):.2f}MB')\n",
        "dataset.head()"
      ],
      "metadata": {
        "colab": {
          "base_uri": "https://localhost:8080/",
          "height": 0
        },
        "id": "XKClX88UF2IA",
        "outputId": "73e6d12b-2975-49f1-9011-43f85a5c092d"
      },
      "execution_count": 22,
      "outputs": [
        {
          "output_type": "stream",
          "name": "stdout",
          "text": [
            "The dataset contains 30000 rows, 7 columns and it weighs 10.37MB\n"
          ]
        },
        {
          "output_type": "execute_result",
          "data": {
            "text/plain": [
              "   limit_bal     sex   education     marriage       age  default  \\\n",
              "ID                                                                 \n",
              "1        low  female  university      married     young        1   \n",
              "2     medium  female  university  not_married     young        1   \n",
              "3     medium  female  university  not_married     young        0   \n",
              "4     medium  female  university      married  mid_aged        0   \n",
              "5     medium    male  university      married  mid_aged        0   \n",
              "\n",
              "    misspayments_prev_6_months  \n",
              "ID                              \n",
              "1                            2  \n",
              "2                            2  \n",
              "3                            0  \n",
              "4                            0  \n",
              "5                            0  "
            ],
            "text/html": [
              "\n",
              "  <div id=\"df-46bb7826-02f4-4c60-a616-022f46e23deb\">\n",
              "    <div class=\"colab-df-container\">\n",
              "      <div>\n",
              "<style scoped>\n",
              "    .dataframe tbody tr th:only-of-type {\n",
              "        vertical-align: middle;\n",
              "    }\n",
              "\n",
              "    .dataframe tbody tr th {\n",
              "        vertical-align: top;\n",
              "    }\n",
              "\n",
              "    .dataframe thead th {\n",
              "        text-align: right;\n",
              "    }\n",
              "</style>\n",
              "<table border=\"1\" class=\"dataframe\">\n",
              "  <thead>\n",
              "    <tr style=\"text-align: right;\">\n",
              "      <th></th>\n",
              "      <th>limit_bal</th>\n",
              "      <th>sex</th>\n",
              "      <th>education</th>\n",
              "      <th>marriage</th>\n",
              "      <th>age</th>\n",
              "      <th>default</th>\n",
              "      <th>misspayments_prev_6_months</th>\n",
              "    </tr>\n",
              "    <tr>\n",
              "      <th>ID</th>\n",
              "      <th></th>\n",
              "      <th></th>\n",
              "      <th></th>\n",
              "      <th></th>\n",
              "      <th></th>\n",
              "      <th></th>\n",
              "      <th></th>\n",
              "    </tr>\n",
              "  </thead>\n",
              "  <tbody>\n",
              "    <tr>\n",
              "      <th>1</th>\n",
              "      <td>low</td>\n",
              "      <td>female</td>\n",
              "      <td>university</td>\n",
              "      <td>married</td>\n",
              "      <td>young</td>\n",
              "      <td>1</td>\n",
              "      <td>2</td>\n",
              "    </tr>\n",
              "    <tr>\n",
              "      <th>2</th>\n",
              "      <td>medium</td>\n",
              "      <td>female</td>\n",
              "      <td>university</td>\n",
              "      <td>not_married</td>\n",
              "      <td>young</td>\n",
              "      <td>1</td>\n",
              "      <td>2</td>\n",
              "    </tr>\n",
              "    <tr>\n",
              "      <th>3</th>\n",
              "      <td>medium</td>\n",
              "      <td>female</td>\n",
              "      <td>university</td>\n",
              "      <td>not_married</td>\n",
              "      <td>young</td>\n",
              "      <td>0</td>\n",
              "      <td>0</td>\n",
              "    </tr>\n",
              "    <tr>\n",
              "      <th>4</th>\n",
              "      <td>medium</td>\n",
              "      <td>female</td>\n",
              "      <td>university</td>\n",
              "      <td>married</td>\n",
              "      <td>mid_aged</td>\n",
              "      <td>0</td>\n",
              "      <td>0</td>\n",
              "    </tr>\n",
              "    <tr>\n",
              "      <th>5</th>\n",
              "      <td>medium</td>\n",
              "      <td>male</td>\n",
              "      <td>university</td>\n",
              "      <td>married</td>\n",
              "      <td>mid_aged</td>\n",
              "      <td>0</td>\n",
              "      <td>0</td>\n",
              "    </tr>\n",
              "  </tbody>\n",
              "</table>\n",
              "</div>\n",
              "      <button class=\"colab-df-convert\" onclick=\"convertToInteractive('df-46bb7826-02f4-4c60-a616-022f46e23deb')\"\n",
              "              title=\"Convert this dataframe to an interactive table.\"\n",
              "              style=\"display:none;\">\n",
              "        \n",
              "  <svg xmlns=\"http://www.w3.org/2000/svg\" height=\"24px\"viewBox=\"0 0 24 24\"\n",
              "       width=\"24px\">\n",
              "    <path d=\"M0 0h24v24H0V0z\" fill=\"none\"/>\n",
              "    <path d=\"M18.56 5.44l.94 2.06.94-2.06 2.06-.94-2.06-.94-.94-2.06-.94 2.06-2.06.94zm-11 1L8.5 8.5l.94-2.06 2.06-.94-2.06-.94L8.5 2.5l-.94 2.06-2.06.94zm10 10l.94 2.06.94-2.06 2.06-.94-2.06-.94-.94-2.06-.94 2.06-2.06.94z\"/><path d=\"M17.41 7.96l-1.37-1.37c-.4-.4-.92-.59-1.43-.59-.52 0-1.04.2-1.43.59L10.3 9.45l-7.72 7.72c-.78.78-.78 2.05 0 2.83L4 21.41c.39.39.9.59 1.41.59.51 0 1.02-.2 1.41-.59l7.78-7.78 2.81-2.81c.8-.78.8-2.07 0-2.86zM5.41 20L4 18.59l7.72-7.72 1.47 1.35L5.41 20z\"/>\n",
              "  </svg>\n",
              "      </button>\n",
              "      \n",
              "  <style>\n",
              "    .colab-df-container {\n",
              "      display:flex;\n",
              "      flex-wrap:wrap;\n",
              "      gap: 12px;\n",
              "    }\n",
              "\n",
              "    .colab-df-convert {\n",
              "      background-color: #E8F0FE;\n",
              "      border: none;\n",
              "      border-radius: 50%;\n",
              "      cursor: pointer;\n",
              "      display: none;\n",
              "      fill: #1967D2;\n",
              "      height: 32px;\n",
              "      padding: 0 0 0 0;\n",
              "      width: 32px;\n",
              "    }\n",
              "\n",
              "    .colab-df-convert:hover {\n",
              "      background-color: #E2EBFA;\n",
              "      box-shadow: 0px 1px 2px rgba(60, 64, 67, 0.3), 0px 1px 3px 1px rgba(60, 64, 67, 0.15);\n",
              "      fill: #174EA6;\n",
              "    }\n",
              "\n",
              "    [theme=dark] .colab-df-convert {\n",
              "      background-color: #3B4455;\n",
              "      fill: #D2E3FC;\n",
              "    }\n",
              "\n",
              "    [theme=dark] .colab-df-convert:hover {\n",
              "      background-color: #434B5C;\n",
              "      box-shadow: 0px 1px 3px 1px rgba(0, 0, 0, 0.15);\n",
              "      filter: drop-shadow(0px 1px 2px rgba(0, 0, 0, 0.3));\n",
              "      fill: #FFFFFF;\n",
              "    }\n",
              "  </style>\n",
              "\n",
              "      <script>\n",
              "        const buttonEl =\n",
              "          document.querySelector('#df-46bb7826-02f4-4c60-a616-022f46e23deb button.colab-df-convert');\n",
              "        buttonEl.style.display =\n",
              "          google.colab.kernel.accessAllowed ? 'block' : 'none';\n",
              "\n",
              "        async function convertToInteractive(key) {\n",
              "          const element = document.querySelector('#df-46bb7826-02f4-4c60-a616-022f46e23deb');\n",
              "          const dataTable =\n",
              "            await google.colab.kernel.invokeFunction('convertToInteractive',\n",
              "                                                     [key], {});\n",
              "          if (!dataTable) return;\n",
              "\n",
              "          const docLinkHtml = 'Like what you see? Visit the ' +\n",
              "            '<a target=\"_blank\" href=https://colab.research.google.com/notebooks/data_table.ipynb>data table notebook</a>'\n",
              "            + ' to learn more about interactive tables.';\n",
              "          element.innerHTML = '';\n",
              "          dataTable['output_type'] = 'display_data';\n",
              "          await google.colab.output.renderOutput(dataTable, element);\n",
              "          const docLink = document.createElement('div');\n",
              "          docLink.innerHTML = docLinkHtml;\n",
              "          element.appendChild(docLink);\n",
              "        }\n",
              "      </script>\n",
              "    </div>\n",
              "  </div>\n",
              "  "
            ]
          },
          "metadata": {},
          "execution_count": 22
        }
      ]
    },
    {
      "cell_type": "markdown",
      "source": [
        "## States\n",
        "TBC: Description of final dataset and its values\n",
        "List - for each variable - the associated states, i.e. every possibile unique value in the domain $D$ of a random variable."
      ],
      "metadata": {
        "id": "Z3u2NRfk8mhE"
      }
    },
    {
      "cell_type": "code",
      "source": [
        "{col_name: column.unique() for col_name, column in dataset.iteritems()}"
      ],
      "metadata": {
        "colab": {
          "base_uri": "https://localhost:8080/"
        },
        "id": "O5WkHilneu26",
        "outputId": "1320d3fb-7477-4dc7-d047-9ee2eee6439f"
      },
      "execution_count": 49,
      "outputs": [
        {
          "output_type": "execute_result",
          "data": {
            "text/plain": [
              "{'limit_bal': array(['low', 'medium', 'high', 'medium_high'], dtype=object),\n",
              " 'sex': array(['female', 'male'], dtype=object),\n",
              " 'education': array(['university', 'graduate', 'high_school', 'others'], dtype=object),\n",
              " 'marriage': array(['married', 'not_married'], dtype=object),\n",
              " 'age': array(['young', 'mid_aged', 'senior'], dtype=object),\n",
              " 'default': array([1, 0]),\n",
              " 'misspayments_prev_6_months': array([2, 0, 1, 4, 5, 6, 3])}"
            ]
          },
          "metadata": {},
          "execution_count": 49
        }
      ]
    },
    {
      "cell_type": "markdown",
      "source": [
        "## Train/test splitting"
      ],
      "metadata": {
        "id": "lEC3R1T65J99"
      }
    },
    {
      "cell_type": "code",
      "source": [
        "X_train, X_test, y_train, y_test = train_test_split(dataset.drop('default', axis=1), dataset['default'], \\\n",
        "                                                    test_size=test_ratio, random_state=random_seed, \\\n",
        "                                                    stratify=dataset['default'])\n",
        "train = pd.concat([X_train, y_train], axis=1)\n",
        "test = pd.concat([X_test, y_test], axis=1)\n",
        "print(\"Training set size: \" + str(train.shape[0]))\n",
        "print(\"Test set size: \" + str(test.shape[0]))\n",
        "print(\"Total size: \" + str(train.shape[0] + test.shape[0]))"
      ],
      "metadata": {
        "colab": {
          "base_uri": "https://localhost:8080/"
        },
        "id": "ovyfpjEzsGl9",
        "outputId": "fa4e4ddf-7183-4dc0-a601-35a2a3964c3f"
      },
      "execution_count": 24,
      "outputs": [
        {
          "output_type": "stream",
          "name": "stdout",
          "text": [
            "Training set size: 24000\n",
            "Test set size: 6000\n",
            "Total size: 30000\n"
          ]
        }
      ]
    },
    {
      "cell_type": "markdown",
      "source": [
        "# Utility functions"
      ],
      "metadata": {
        "id": "MnSOLJKphvyI"
      }
    },
    {
      "cell_type": "markdown",
      "source": [
        "## Plotting networks"
      ],
      "metadata": {
        "id": "VKu1kz41iFsJ"
      }
    },
    {
      "cell_type": "code",
      "source": [
        "def plot_network(network: 'DAG', name: str = 'Network', save_image: bool = False):\n",
        "  fig, ax = plt.subplots(1, 1, figsize=(12, 12))\n",
        "  nx.draw_networkx(network, pos=nx.drawing.layout.circular_layout(network), ax=ax, node_size=5000)\n",
        "  ax.set_title(name)\n",
        "  if save_image:\n",
        "    fig.savefig(name)"
      ],
      "metadata": {
        "id": "R2ufY3e2TlqM"
      },
      "execution_count": 25,
      "outputs": []
    },
    {
      "cell_type": "markdown",
      "source": [
        "## Parameter learning (CDPs)\n",
        "Parameter are estimated given an already-defined $DAG = \\{V, E\\}$. The estimation is related to every random variable's *CPT*."
      ],
      "metadata": {
        "id": "UCWtVvwGiCWU"
      }
    },
    {
      "cell_type": "code",
      "source": [
        "def fit_bayesian_network(bayesian_network: BayesianNetwork, prior_type: str = 'BDeu', print_cpd: bool = False) -> Tuple[BayesianNetwork, list]:\n",
        "  bayesian_network.fit(train, estimator=BayesianEstimator, prior_type = prior_type)\n",
        "  print('The CPDs contain', 'no' if bayesian_network.check_model() else 'some', 'errors.')\n",
        "  bn_cpds = bayesian_network.get_cpds()\n",
        "  if print_cpd:\n",
        "    TabularCPD._truncate_strtable = lambda self, x: x\n",
        "    for cpd in bn_cpds:\n",
        "      print(cpd)\n",
        "  return bayesian_network, bn_cpds"
      ],
      "metadata": {
        "id": "waaEVmpBcPVZ"
      },
      "execution_count": 39,
      "outputs": []
    },
    {
      "cell_type": "markdown",
      "source": [
        "# Hard-coded networks"
      ],
      "metadata": {
        "id": "vwiKvcYamCqs"
      }
    },
    {
      "cell_type": "markdown",
      "source": [
        "## Easy"
      ],
      "metadata": {
        "id": "X7VuShgwTPKn"
      }
    },
    {
      "cell_type": "code",
      "source": [
        "model_easy = BayesianNetwork([('education', 'limit_bal'), ('age', 'limit_bal'), \\\n",
        "                       ('marriage', 'limit_bal'), ('sex', 'limit_bal'), \\\n",
        "                       ('limit_bal', 'default'), ('misspayments_prev_6_months', 'default')])\n",
        "plot_network(model_easy, 'Easy model')\n",
        "model_easy, model_easy_cpds = fit_bayesian_network(model_easy, prior_type = 'BDeu', print_cpd = False)"
      ],
      "metadata": {
        "id": "7AUSDFAp6byr",
        "colab": {
          "base_uri": "https://localhost:8080/",
          "height": 717
        },
        "outputId": "9a1a65d2-b616-4672-fed2-05629c247b24"
      },
      "execution_count": 41,
      "outputs": [
        {
          "output_type": "stream",
          "name": "stdout",
          "text": [
            "The CPDs contain no errors.\n"
          ]
        },
        {
          "output_type": "display_data",
          "data": {
            "text/plain": [
              "<Figure size 864x864 with 1 Axes>"
            ],
            "image/png": "[encoded data removed]"
          },
          "metadata": {}
        }
      ]
    },
    {
      "cell_type": "markdown",
      "source": [
        "## Medium"
      ],
      "metadata": {
        "id": "9TLoUVx9Tf11"
      }
    },
    {
      "cell_type": "code",
      "source": [
        "model_medium = BayesianNetwork([(\"age\", \"marriage\"), (\"age\", \"education\"), \\\n",
        "                       (\"age\", \"education\"),(\"age\", \"default\"), \\\n",
        "                       (\"education\", \"limit_bal\"), (\"marriage\", \"limit_bal\"), \\\n",
        "                       (\"limit_bal\", \"default\"), (\"sex\", \"limit_bal\"), \\\n",
        "                       (\"misspayments_prev_6_months\", \"default\")])\n",
        "plot_network(model_medium, 'Medium model')\n",
        "model_medium, model_medium_cpds = fit_bayesian_network(model_medium, prior_type = 'BDeu', print_cpd = False)"
      ],
      "metadata": {
        "colab": {
          "base_uri": "https://localhost:8080/",
          "height": 0
        },
        "id": "3Wd8lrnRThli",
        "outputId": "0c4fc160-9c23-4c55-a3fe-dd8bf58d1ed6"
      },
      "execution_count": 42,
      "outputs": [
        {
          "output_type": "stream",
          "name": "stdout",
          "text": [
            "The CPDs contain no errors.\n"
          ]
        },
        {
          "output_type": "display_data",
          "data": {
            "text/plain": [
              "<Figure size 864x864 with 1 Axes>"
            ],
            "image/png": "[encoded data removed]"
          },
          "metadata": {}
        }
      ]
    },
    {
      "cell_type": "markdown",
      "source": [
        "## Hard"
      ],
      "metadata": {
        "id": "N85YmhGiUbUW"
      }
    },
    {
      "cell_type": "code",
      "source": [
        "model_hard = BayesianNetwork([(\"age\", \"marriage\"), (\"age\", \"education\"), \\\n",
        "                       (\"age\", \"education\"),(\"age\", \"default\"), \\\n",
        "                       (\"education\", \"limit_bal\"), (\"marriage\", \"limit_bal\"), \\\n",
        "                       (\"limit_bal\", \"default\"), (\"sex\", \"limit_bal\"), \\\n",
        "                       (\"misspayments_prev_6_months\", \"default\"), (\"education\", \"default\"), \\\n",
        "                       (\"marriage\", \"default\")])\n",
        "plot_network(model_hard, 'Hard model')\n",
        "model_hard, model_hard_cpds = fit_bayesian_network(model_hard, prior_type = 'BDeu', print_cpd = False)"
      ],
      "metadata": {
        "colab": {
          "base_uri": "https://localhost:8080/",
          "height": 717
        },
        "id": "oGUDmuoUUc4p",
        "outputId": "d4100497-dc54-40af-f618-8e15200ae79b"
      },
      "execution_count": 43,
      "outputs": [
        {
          "output_type": "stream",
          "name": "stdout",
          "text": [
            "The CPDs contain no errors.\n"
          ]
        },
        {
          "output_type": "display_data",
          "data": {
            "text/plain": [
              "<Figure size 864x864 with 1 Axes>"
            ],
            "image/png": "[encoded data removed]"
          },
          "metadata": {}
        }
      ]
    },
    {
      "cell_type": "markdown",
      "source": [
        "# Structural-learned models\n",
        "Since query results are poor when comparing the three different models, there is likely no difference betwee the three represetations and thus, we should seek a different model structure."
      ],
      "metadata": {
        "id": "Fft2zheucHit"
      }
    },
    {
      "cell_type": "markdown",
      "source": [
        "## Exhaustive Search\n",
        "Since the ES algorithm cost is super-exponential, it's suited only for small BN, i.e. < 5 nodes."
      ],
      "metadata": {
        "id": "_q7e4jWeiGck"
      }
    },
    {
      "cell_type": "code",
      "source": [
        "ex_search = ExhaustiveSearch(data=train, scoring_method=BicScore(data=train))\n",
        "ex_search_model = ex_search.estimate()\n",
        "plot_network(ex_search_model, 'Structural Learning - Exhaustive search')\n",
        "ex_search_model = BayesianNetwork(ex_search_model.edges())\n",
        "ex_search_model, ex_search_model_cpds = fit_bayesian_network(ex_search_model, prior_type = 'BDeu', print_cpd = False)"
      ],
      "metadata": {
        "id": "S0OW-sDSiMNH"
      },
      "execution_count": null,
      "outputs": []
    },
    {
      "cell_type": "markdown",
      "source": [
        "## Tree Search"
      ],
      "metadata": {
        "id": "F1L7aZiXatnj"
      }
    },
    {
      "cell_type": "code",
      "source": [
        "ts = TreeSearch(data=train, root_node='age')\n",
        "tree_search_model = ts.estimate(show_progress=True)\n",
        "plot_network(tree_search_model, 'Structural Learning - Tree Search')\n",
        "tree_search_model = BayesianNetwork(tree_search_model.edges())\n",
        "tree_search_model, tree_search_cpds = fit_bayesian_network(tree_search_model, prior_type = 'BDeu', print_cpd = False)"
      ],
      "metadata": {
        "colab": {
          "base_uri": "https://localhost:8080/",
          "height": 749,
          "referenced_widgets": [
            "5607462799d54ebb890fcf5309bc175a",
            "67926f658cb148259b108e6c2ae57988",
            "ba4d76c5de1744ac89a1523cd80444e9",
            "bc28d2a9a2d2445e97e949de772d1151",
            "ba798161bb06441b8907fd5ceb08412c",
            "8543615ac47b499ba1e424c239ed3cd3",
            "24d43ee8df954673adeb0d0e7a2f9a4e",
            "33ad2d11282442599ba4318fcd17aa88",
            "9e891d79fade4d27a663d229e7542c25",
            "6145eb997ee647f9a493a8448c815015",
            "cf29b6c10b06451e98f59faeb783b206"
          ]
        },
        "id": "SbOibh7fckkw",
        "outputId": "6d9cc7bb-f343-4c3e-c1e9-d833820bcd3e"
      },
      "execution_count": 45,
      "outputs": [
        {
          "output_type": "display_data",
          "data": {
            "text/plain": [
              "Building tree:   0%|          | 0/21.0 [00:00<?, ?it/s]"
            ],
            "application/vnd.jupyter.widget-view+json": {
              "version_major": 2,
              "version_minor": 0,
              "model_id": "5607462799d54ebb890fcf5309bc175a"
            }
          },
          "metadata": {}
        },
        {
          "output_type": "stream",
          "name": "stdout",
          "text": [
            "The CPDs contain no errors.\n"
          ]
        },
        {
          "output_type": "display_data",
          "data": {
            "text/plain": [
              "<Figure size 864x864 with 1 Axes>"
            ],
            "image/png": "[encoded data removed]"
          },
          "metadata": {}
        }
      ]
    },
    {
      "cell_type": "markdown",
      "source": [
        "## Hill Climb"
      ],
      "metadata": {
        "id": "_LZV7liEaxIA"
      }
    },
    {
      "cell_type": "code",
      "source": [
        "hill_climb = HillClimbSearch(data=train)\n",
        "hill_climb_base_model = hill_climb.estimate(scoring_method=BDeuScore(data=train), show_progress=True)\n",
        "plot_network(hill_climb_base_model, 'Structural Learning - Hill Climb')\n",
        "hill_climb_base_model = BayesianNetwork(hill_climb_base_model.edges())\n",
        "hill_climb_base_model, hill_climb_base_cpds = fit_bayesian_network(hill_climb_base_model, prior_type = 'BDeu', print_cpd = False)"
      ],
      "metadata": {
        "id": "4yn0JlThnbbO",
        "colab": {
          "base_uri": "https://localhost:8080/",
          "height": 749,
          "referenced_widgets": [
            "e5cf883d736141c3aa5a6791f9b40983",
            "cfaa9ecbf4f8479ba396d009af257a22",
            "f98d1cebfff641aeaf2ebfdcf61295f0",
            "4a9aad1b75ea44f695c7896fa086221c",
            "1d44a31d61a945f69fa28164e9251d57",
            "0e9c4ee76a8f4badb53d090e8fed50fa",
            "19a9c91bf0594ce98501769b42b4a064",
            "6f69c2347d1d48c2adab4b200e16e0ea",
            "5dbc62c2585d44f2b6c84b0f3992b81b",
            "e972a4aa3a6f440bb97680d38ed5d2e8",
            "36d6a8b2844f4356a6fbbaa9df236d92"
          ]
        },
        "outputId": "3742ff36-133b-4a29-be35-d92154d65795"
      },
      "execution_count": 46,
      "outputs": [
        {
          "output_type": "display_data",
          "data": {
            "text/plain": [
              "  0%|          | 0/1000000 [00:00<?, ?it/s]"
            ],
            "application/vnd.jupyter.widget-view+json": {
              "version_major": 2,
              "version_minor": 0,
              "model_id": "e5cf883d736141c3aa5a6791f9b40983"
            }
          },
          "metadata": {}
        },
        {
          "output_type": "stream",
          "name": "stdout",
          "text": [
            "The CPDs contain no errors.\n"
          ]
        },
        {
          "output_type": "display_data",
          "data": {
            "text/plain": [
              "<Figure size 864x864 with 1 Axes>"
            ],
            "image/png": "[encoded data removed]"
          },
          "metadata": {}
        }
      ]
    },
    {
      "cell_type": "markdown",
      "source": [
        "## Constrained Hill Climb"
      ],
      "metadata": {
        "id": "o0-eOFTwvzH-"
      }
    },
    {
      "cell_type": "code",
      "source": [
        "edges_white_list = [('misspayments_prev_6_months', 'default'), ('age','limit_bal')]\n",
        "edges_black_list = [('limit_bal', 'sex'), ('education', 'sex'), ('age', 'sex')]\n",
        "\n",
        "hill_climb = HillClimbSearch(data=train)\n",
        "constr_hill_climb_model = hill_climb.estimate(scoring_method=BDeuScore(data=train), fixed_edges=edges_white_list, \\\n",
        "                                              black_list=edges_black_list, show_progress=True)\n",
        "constr_hill_climb_model = BayesianNetwork(constr_hill_climb_model.edges())\n",
        "plot_network(constr_hill_climb_model, 'Structural Learning - Constrained Hill Climb')\n",
        "constr_hill_climb_model, hill_climb_constr_cpds = fit_bayesian_network(constr_hill_climb_model, prior_type = 'BDeu', print_cpd = False)"
      ],
      "metadata": {
        "colab": {
          "base_uri": "https://localhost:8080/",
          "height": 749,
          "referenced_widgets": [
            "87e580f7085340618d0925647d791504",
            "2037165e221c481d9d5b9af970dfe795",
            "b6c2bc3d343441d2a318b3ba81fe824d",
            "d0dacf9a6724477b8549480542a97690",
            "a0b0b70e83104ee7ac27d79602d11c49",
            "53ce32fb761d49e2984d3a614619fd15",
            "8036d22a2d8342a1bb4af7a6b8d71fc4",
            "02c73eee69af470d93052f8798df2762",
            "fdcf7e308de744d89d09c7d40565ef08",
            "0c81631e604b4a83b96a734593759c72",
            "a2db8cec4e4a407796a0f531dcd29a9a"
          ]
        },
        "id": "-YNRZhCeoOjZ",
        "outputId": "06685c91-9112-46bd-e314-1ee878e53909"
      },
      "execution_count": 48,
      "outputs": [
        {
          "output_type": "display_data",
          "data": {
            "text/plain": [
              "  0%|          | 0/1000000 [00:00<?, ?it/s]"
            ],
            "application/vnd.jupyter.widget-view+json": {
              "version_major": 2,
              "version_minor": 0,
              "model_id": "87e580f7085340618d0925647d791504"
            }
          },
          "metadata": {}
        },
        {
          "output_type": "stream",
          "name": "stdout",
          "text": [
            "The CPDs contain no errors.\n"
          ]
        },
        {
          "output_type": "display_data",
          "data": {
            "text/plain": [
              "<Figure size 864x864 with 1 Axes>"
            ],
            "image/png": "[encoded data removed]"
          },
          "metadata": {}
        }
      ]
    },
    {
      "cell_type": "markdown",
      "source": [
        "# Network analysis"
      ],
      "metadata": {
        "id": "Dd3Yk8IoaYvj"
      }
    },
    {
      "cell_type": "code",
      "source": [],
      "metadata": {
        "id": "Q2npc9fWabXu"
      },
      "execution_count": null,
      "outputs": []
    },
    {
      "cell_type": "markdown",
      "source": [
        "# Queries\n",
        "* P(Default | age) \n",
        "* P(Default | age, marriage)\n",
        "* P(Default | age, marriage, education)\n",
        "* P(Education = graduate | default)\n",
        "* P(Default | Education = graduate, Misspayment = 5)\n",
        "* P(Default | Education = High school, Misspayment = 5)"
      ],
      "metadata": {
        "id": "xxgEaysEeF1P"
      }
    },
    {
      "cell_type": "markdown",
      "source": [
        "*TBC: Explain why we're using variable elimination (Optional, construct algorigthm instead of using class)*"
      ],
      "metadata": {
        "id": "GMicQTs6Zrge"
      }
    },
    {
      "cell_type": "code",
      "source": [
        "data_infer_easy = VariableElimination(model_easy)\n",
        "data_infer_medium = VariableElimination(model_medium)\n",
        "data_infer_hard = VariableElimination(model_hard)\n",
        "data_infer_tree_search = VariableElimination(tree_search_model)\n",
        "data_infer_hill_climb = VariableElimination(hill_climb_base_model)\n",
        "data_infer_constr_hill_climb = VariableElimination(constr_hill_climb_model)\n",
        "\n",
        "def display_inference_results(query_desc: str, query: list, evidence: dict):\n",
        "  print(query_desc)\n",
        "  print('EASY')\n",
        "  print(data_infer_easy.query(query, evidence))\n",
        "  print('MEDIUM')\n",
        "  print(data_infer_medium.query(query, evidence))\n",
        "  print('HARD')\n",
        "  print(data_infer_hard.query(query, evidence))\n",
        "  print('TREE SEARCH')\n",
        "  print(data_infer_tree_search.query(query, evidence))\n",
        "  print('HILL CLIMB')\n",
        "  print(data_infer_hill_climb.query(query, evidence))\n",
        "  print('CONSTRAINED HILL CLIMB')\n",
        "  print(data_infer_constr_hill_climb.query(query, evidence))"
      ],
      "metadata": {
        "id": "sdTXt6N65YzN"
      },
      "execution_count": 51,
      "outputs": []
    },
    {
      "cell_type": "code",
      "source": [
        "query, evidence = [\"default\"], {\"age\": \"young\"}\n",
        "display_inference_results('Probability of default being young', query, evidence)"
      ],
      "metadata": {
        "colab": {
          "base_uri": "https://localhost:8080/"
        },
        "id": "BLa10v-HZfh1",
        "outputId": "8bef289c-2e8a-4880-c4f0-ae0db98c01ce"
      },
      "execution_count": 52,
      "outputs": [
        {
          "output_type": "stream",
          "name": "stdout",
          "text": [
            "Probability of default being young\n",
            "EASY\n",
            "+------------+----------------+\n",
            "| default    |   phi(default) |\n",
            "+============+================+\n",
            "| default(0) |         0.7757 |\n",
            "+------------+----------------+\n",
            "| default(1) |         0.2243 |\n",
            "+------------+----------------+\n",
            "MEDIUM\n",
            "+------------+----------------+\n",
            "| default    |   phi(default) |\n",
            "+============+================+\n",
            "| default(0) |         0.7898 |\n",
            "+------------+----------------+\n",
            "| default(1) |         0.2102 |\n",
            "+------------+----------------+\n",
            "HARD\n",
            "+------------+----------------+\n",
            "| default    |   phi(default) |\n",
            "+============+================+\n",
            "| default(0) |         0.7894 |\n",
            "+------------+----------------+\n",
            "| default(1) |         0.2106 |\n",
            "+------------+----------------+\n",
            "TREE SEARCH\n",
            "+------------+----------------+\n",
            "| default    |   phi(default) |\n",
            "+============+================+\n",
            "| default(0) |         0.7804 |\n",
            "+------------+----------------+\n",
            "| default(1) |         0.2196 |\n",
            "+------------+----------------+\n",
            "HILL CLIMB\n",
            "+------------+----------------+\n",
            "| default    |   phi(default) |\n",
            "+============+================+\n",
            "| default(0) |         0.7788 |\n",
            "+------------+----------------+\n",
            "| default(1) |         0.2212 |\n",
            "+------------+----------------+\n",
            "CONSTRAINED HILL CLIMB\n",
            "+------------+----------------+\n",
            "| default    |   phi(default) |\n",
            "+============+================+\n",
            "| default(0) |         0.7711 |\n",
            "+------------+----------------+\n",
            "| default(1) |         0.2289 |\n",
            "+------------+----------------+\n"
          ]
        }
      ]
    },
    {
      "cell_type": "code",
      "source": [
        "query, evidence = [\"default\"], {\"age\": \"mid_aged\"}\n",
        "display_inference_results('Probability of default being mid aged', query, evidence)"
      ],
      "metadata": {
        "colab": {
          "base_uri": "https://localhost:8080/"
        },
        "id": "mxh2n8QbZdnf",
        "outputId": "7b1b1863-fd1a-4f29-eb4b-606beef18671"
      },
      "execution_count": 22,
      "outputs": [
        {
          "output_type": "stream",
          "name": "stdout",
          "text": [
            "Probability of default being mid aged\n",
            "EASY\n",
            "+------------+----------------+\n",
            "| default    |   phi(default) |\n",
            "+============+================+\n",
            "| default(0) |         0.7818 |\n",
            "+------------+----------------+\n",
            "| default(1) |         0.2182 |\n",
            "+------------+----------------+\n",
            "MEDIUM\n",
            "+------------+----------------+\n",
            "| default    |   phi(default) |\n",
            "+============+================+\n",
            "| default(0) |         0.7650 |\n",
            "+------------+----------------+\n",
            "| default(1) |         0.2350 |\n",
            "+------------+----------------+\n",
            "HARD\n",
            "+------------+----------------+\n",
            "| default    |   phi(default) |\n",
            "+============+================+\n",
            "| default(0) |         0.7665 |\n",
            "+------------+----------------+\n",
            "| default(1) |         0.2335 |\n",
            "+------------+----------------+\n",
            "TREE SEARCH\n",
            "+------------+----------------+\n",
            "| default    |   phi(default) |\n",
            "+============+================+\n",
            "| default(0) |         0.7770 |\n",
            "+------------+----------------+\n",
            "| default(1) |         0.2230 |\n",
            "+------------+----------------+\n",
            "HILL CLIMB\n",
            "+------------+----------------+\n",
            "| default    |   phi(default) |\n",
            "+============+================+\n",
            "| default(0) |         0.7862 |\n",
            "+------------+----------------+\n",
            "| default(1) |         0.2138 |\n",
            "+------------+----------------+\n",
            "CONSTRAINED HILL CLIMB\n",
            "+------------+----------------+\n",
            "| default    |   phi(default) |\n",
            "+============+================+\n",
            "| default(0) |         0.7830 |\n",
            "+------------+----------------+\n",
            "| default(1) |         0.2170 |\n",
            "+------------+----------------+\n"
          ]
        }
      ]
    },
    {
      "cell_type": "code",
      "source": [
        "query, evidence = [\"default\"], {\"age\": \"senior\"}\n",
        "display_inference_results('Probability of default being mid senior', query, evidence)"
      ],
      "metadata": {
        "colab": {
          "base_uri": "https://localhost:8080/"
        },
        "id": "u2JqHMtJZb6N",
        "outputId": "0bbe407d-5ace-41fd-c11f-b42385938c40"
      },
      "execution_count": 23,
      "outputs": [
        {
          "output_type": "stream",
          "name": "stdout",
          "text": [
            "Probability of default being mid senior\n",
            "EASY\n",
            "+------------+----------------+\n",
            "| default    |   phi(default) |\n",
            "+============+================+\n",
            "| default(0) |         0.7810 |\n",
            "+------------+----------------+\n",
            "| default(1) |         0.2190 |\n",
            "+------------+----------------+\n",
            "MEDIUM\n",
            "+------------+----------------+\n",
            "| default    |   phi(default) |\n",
            "+============+================+\n",
            "| default(0) |         0.7512 |\n",
            "+------------+----------------+\n",
            "| default(1) |         0.2488 |\n",
            "+------------+----------------+\n",
            "HARD\n",
            "+------------+----------------+\n",
            "| default    |   phi(default) |\n",
            "+============+================+\n",
            "| default(0) |         0.7370 |\n",
            "+------------+----------------+\n",
            "| default(1) |         0.2630 |\n",
            "+------------+----------------+\n",
            "TREE SEARCH\n",
            "+------------+----------------+\n",
            "| default    |   phi(default) |\n",
            "+============+================+\n",
            "| default(0) |         0.7750 |\n",
            "+------------+----------------+\n",
            "| default(1) |         0.2250 |\n",
            "+------------+----------------+\n",
            "HILL CLIMB\n",
            "+------------+----------------+\n",
            "| default    |   phi(default) |\n",
            "+============+================+\n",
            "| default(0) |         0.7847 |\n",
            "+------------+----------------+\n",
            "| default(1) |         0.2153 |\n",
            "+------------+----------------+\n",
            "CONSTRAINED HILL CLIMB\n",
            "+------------+----------------+\n",
            "| default    |   phi(default) |\n",
            "+============+================+\n",
            "| default(0) |         0.7800 |\n",
            "+------------+----------------+\n",
            "| default(1) |         0.2200 |\n",
            "+------------+----------------+\n"
          ]
        }
      ]
    },
    {
      "cell_type": "code",
      "source": [
        "query, evidence = [\"default\"], {\"age\": \"mid_aged\", \"marriage\": \"not_married\"}\n",
        "display_inference_results('Probability of default being mid aged and married', query, evidence)"
      ],
      "metadata": {
        "colab": {
          "base_uri": "https://localhost:8080/"
        },
        "id": "OTYZxd1EZaTo",
        "outputId": "ac6d084f-d98b-4495-ed43-219f51f48b69"
      },
      "execution_count": 24,
      "outputs": [
        {
          "output_type": "stream",
          "name": "stdout",
          "text": [
            "Probability of default being mid aged and married\n",
            "EASY\n",
            "+------------+----------------+\n",
            "| default    |   phi(default) |\n",
            "+============+================+\n",
            "| default(0) |         0.7796 |\n",
            "+------------+----------------+\n",
            "| default(1) |         0.2204 |\n",
            "+------------+----------------+\n",
            "MEDIUM\n",
            "+------------+----------------+\n",
            "| default    |   phi(default) |\n",
            "+============+================+\n",
            "| default(0) |         0.7579 |\n",
            "+------------+----------------+\n",
            "| default(1) |         0.2421 |\n",
            "+------------+----------------+\n",
            "HARD\n",
            "+------------+----------------+\n",
            "| default    |   phi(default) |\n",
            "+============+================+\n",
            "| default(0) |         0.7680 |\n",
            "+------------+----------------+\n",
            "| default(1) |         0.2320 |\n",
            "+------------+----------------+\n",
            "TREE SEARCH\n",
            "+------------+----------------+\n",
            "| default    |   phi(default) |\n",
            "+============+================+\n",
            "| default(0) |         0.7770 |\n",
            "+------------+----------------+\n",
            "| default(1) |         0.2230 |\n",
            "+------------+----------------+\n",
            "HILL CLIMB\n",
            "+------------+----------------+\n",
            "| default    |   phi(default) |\n",
            "+============+================+\n",
            "| default(0) |         0.7780 |\n",
            "+------------+----------------+\n",
            "| default(1) |         0.2220 |\n",
            "+------------+----------------+\n",
            "CONSTRAINED HILL CLIMB\n",
            "+------------+----------------+\n",
            "| default    |   phi(default) |\n",
            "+============+================+\n",
            "| default(0) |         0.7778 |\n",
            "+------------+----------------+\n",
            "| default(1) |         0.2222 |\n",
            "+------------+----------------+\n"
          ]
        }
      ]
    },
    {
      "cell_type": "code",
      "source": [
        "query, evidence = [\"default\"], {\"age\": \"mid_aged\", \"marriage\": \"married\", \"education\": \"graduate\"}\n",
        "display_inference_results('Probability of default being mid aged and married and holding a graduate degree', query, evidence)"
      ],
      "metadata": {
        "colab": {
          "base_uri": "https://localhost:8080/"
        },
        "id": "qEaQVqlNZXzu",
        "outputId": "8b2b0175-856c-4e2b-e0ec-8ca03c7a10b5"
      },
      "execution_count": 25,
      "outputs": [
        {
          "output_type": "stream",
          "name": "stdout",
          "text": [
            "Probability of default being mid aged and married and holding a graduate degree\n",
            "EASY\n",
            "+------------+----------------+\n",
            "| default    |   phi(default) |\n",
            "+============+================+\n",
            "| default(0) |         0.7970 |\n",
            "+------------+----------------+\n",
            "| default(1) |         0.2030 |\n",
            "+------------+----------------+\n",
            "MEDIUM\n",
            "+------------+----------------+\n",
            "| default    |   phi(default) |\n",
            "+============+================+\n",
            "| default(0) |         0.7847 |\n",
            "+------------+----------------+\n",
            "| default(1) |         0.2153 |\n",
            "+------------+----------------+\n",
            "HARD\n",
            "+------------+----------------+\n",
            "| default    |   phi(default) |\n",
            "+============+================+\n",
            "| default(0) |         0.7794 |\n",
            "+------------+----------------+\n",
            "| default(1) |         0.2206 |\n",
            "+------------+----------------+\n",
            "TREE SEARCH\n",
            "+------------+----------------+\n",
            "| default    |   phi(default) |\n",
            "+============+================+\n",
            "| default(0) |         0.7948 |\n",
            "+------------+----------------+\n",
            "| default(1) |         0.2052 |\n",
            "+------------+----------------+\n",
            "HILL CLIMB\n",
            "+------------+----------------+\n",
            "| default    |   phi(default) |\n",
            "+============+================+\n",
            "| default(0) |         0.8254 |\n",
            "+------------+----------------+\n",
            "| default(1) |         0.1746 |\n",
            "+------------+----------------+\n",
            "CONSTRAINED HILL CLIMB\n",
            "+------------+----------------+\n",
            "| default    |   phi(default) |\n",
            "+============+================+\n",
            "| default(0) |         0.8079 |\n",
            "+------------+----------------+\n",
            "| default(1) |         0.1921 |\n",
            "+------------+----------------+\n"
          ]
        }
      ]
    },
    {
      "cell_type": "code",
      "source": [
        "query, evidence = [\"education\"], {\"default\": 1}\n",
        "display_inference_results('Probabilities of holding education titles having had the default', query, evidence)"
      ],
      "metadata": {
        "colab": {
          "base_uri": "https://localhost:8080/"
        },
        "id": "FYPGZ5IkZXK5",
        "outputId": "704780b1-9a19-4ec3-ebca-96542eebe233"
      },
      "execution_count": 26,
      "outputs": [
        {
          "output_type": "stream",
          "name": "stdout",
          "text": [
            "Probabilities of holding education titles having had the default\n",
            "EASY\n",
            "+------------------------+------------------+\n",
            "| education              |   phi(education) |\n",
            "+========================+==================+\n",
            "| education(graduate)    |           0.3334 |\n",
            "+------------------------+------------------+\n",
            "| education(high_school) |           0.1712 |\n",
            "+------------------------+------------------+\n",
            "| education(others)      |           0.0158 |\n",
            "+------------------------+------------------+\n",
            "| education(university)  |           0.4796 |\n",
            "+------------------------+------------------+\n",
            "MEDIUM\n",
            "+------------------------+------------------+\n",
            "| education              |   phi(education) |\n",
            "+========================+==================+\n",
            "| education(graduate)    |           0.3308 |\n",
            "+------------------------+------------------+\n",
            "| education(high_school) |           0.1745 |\n",
            "+------------------------+------------------+\n",
            "| education(others)      |           0.0158 |\n",
            "+------------------------+------------------+\n",
            "| education(university)  |           0.4789 |\n",
            "+------------------------+------------------+\n",
            "HARD\n",
            "+------------------------+------------------+\n",
            "| education              |   phi(education) |\n",
            "+========================+==================+\n",
            "| education(graduate)    |           0.3339 |\n",
            "+------------------------+------------------+\n",
            "| education(high_school) |           0.1659 |\n",
            "+------------------------+------------------+\n",
            "| education(others)      |           0.0104 |\n",
            "+------------------------+------------------+\n",
            "| education(university)  |           0.4898 |\n",
            "+------------------------+------------------+\n",
            "TREE SEARCH\n",
            "+------------------------+------------------+\n",
            "| education              |   phi(education) |\n",
            "+========================+==================+\n",
            "| education(graduate)    |           0.3267 |\n",
            "+------------------------+------------------+\n",
            "| education(high_school) |           0.1743 |\n",
            "+------------------------+------------------+\n",
            "| education(others)      |           0.0155 |\n",
            "+------------------------+------------------+\n",
            "| education(university)  |           0.4835 |\n",
            "+------------------------+------------------+\n",
            "HILL CLIMB\n",
            "+------------------------+------------------+\n",
            "| education              |   phi(education) |\n",
            "+========================+==================+\n",
            "| education(graduate)    |           0.3122 |\n",
            "+------------------------+------------------+\n",
            "| education(high_school) |           0.1812 |\n",
            "+------------------------+------------------+\n",
            "| education(others)      |           0.0152 |\n",
            "+------------------------+------------------+\n",
            "| education(university)  |           0.4915 |\n",
            "+------------------------+------------------+\n",
            "CONSTRAINED HILL CLIMB\n",
            "+------------------------+------------------+\n",
            "| education              |   phi(education) |\n",
            "+========================+==================+\n",
            "| education(graduate)    |           0.3264 |\n",
            "+------------------------+------------------+\n",
            "| education(high_school) |           0.1747 |\n",
            "+------------------------+------------------+\n",
            "| education(others)      |           0.0155 |\n",
            "+------------------------+------------------+\n",
            "| education(university)  |           0.4834 |\n",
            "+------------------------+------------------+\n"
          ]
        }
      ]
    },
    {
      "cell_type": "code",
      "source": [
        "query, evidence = [\"default\"], {\"education\": \"graduate\", \"misspayments_prev_6_months\": 5}\n",
        "display_inference_results('Probability of default holding a graduate degree and having 5 misspayments in the previous 6 months', query, evidence)"
      ],
      "metadata": {
        "colab": {
          "base_uri": "https://localhost:8080/"
        },
        "id": "pAZCw-W-ZTOd",
        "outputId": "c73656ed-d387-477b-f226-d6349214f980"
      },
      "execution_count": 60,
      "outputs": [
        {
          "output_type": "stream",
          "name": "stdout",
          "text": [
            "Probability of default holding a graduate degree and having 5 misspayments in the previous 6 months\n",
            "EASY\n",
            "+------------+----------------+\n",
            "| default    |   phi(default) |\n",
            "+============+================+\n",
            "| default(0) |         0.4177 |\n",
            "+------------+----------------+\n",
            "| default(1) |         0.5823 |\n",
            "+------------+----------------+\n",
            "MEDIUM\n",
            "+------------+----------------+\n",
            "| default    |   phi(default) |\n",
            "+============+================+\n",
            "| default(0) |         0.4228 |\n",
            "+------------+----------------+\n",
            "| default(1) |         0.5772 |\n",
            "+------------+----------------+\n",
            "HARD\n",
            "+------------+----------------+\n",
            "| default    |   phi(default) |\n",
            "+============+================+\n",
            "| default(0) |         0.5804 |\n",
            "+------------+----------------+\n",
            "| default(1) |         0.4196 |\n",
            "+------------+----------------+\n",
            "TREE SEARCH\n",
            "+------------+----------------+\n",
            "| default    |   phi(default) |\n",
            "+============+================+\n",
            "| default(0) |         0.4011 |\n",
            "+------------+----------------+\n",
            "| default(1) |         0.5989 |\n",
            "+------------+----------------+\n",
            "HILL CLIMB\n",
            "+------------+----------------+\n",
            "| default    |   phi(default) |\n",
            "+============+================+\n",
            "| default(0) |         0.4116 |\n",
            "+------------+----------------+\n",
            "| default(1) |         0.5884 |\n",
            "+------------+----------------+\n",
            "CONSTRAINED HILL CLIMB\n",
            "+------------+----------------+\n",
            "| default    |   phi(default) |\n",
            "+============+================+\n",
            "| default(0) |         0.4025 |\n",
            "+------------+----------------+\n",
            "| default(1) |         0.5975 |\n",
            "+------------+----------------+\n"
          ]
        }
      ]
    },
    {
      "cell_type": "code",
      "source": [
        "query, evidence = [\"default\"], {\"education\": \"high_school\", \"misspayments_prev_6_months\": 5}\n",
        "display_inference_results('Probability of default holding an high school diploma, and having 5 misspayments in the previous 6 months', query, evidence)"
      ],
      "metadata": {
        "colab": {
          "base_uri": "https://localhost:8080/"
        },
        "id": "p-Zd_t8rZQis",
        "outputId": "f6b43ee5-1eff-4687-ebe8-7dc6772fa227"
      },
      "execution_count": 28,
      "outputs": [
        {
          "output_type": "stream",
          "name": "stdout",
          "text": [
            "Probability of default holding an high school diploma, and having 5 misspayments in the previous 6 months\n",
            "EASY\n",
            "+------------+----------------+\n",
            "| default    |   phi(default) |\n",
            "+============+================+\n",
            "| default(0) |         0.4002 |\n",
            "+------------+----------------+\n",
            "| default(1) |         0.5998 |\n",
            "+------------+----------------+\n",
            "MEDIUM\n",
            "+------------+----------------+\n",
            "| default    |   phi(default) |\n",
            "+============+================+\n",
            "| default(0) |         0.4093 |\n",
            "+------------+----------------+\n",
            "| default(1) |         0.5907 |\n",
            "+------------+----------------+\n",
            "HARD\n",
            "+------------+----------------+\n",
            "| default    |   phi(default) |\n",
            "+============+================+\n",
            "| default(0) |         0.3997 |\n",
            "+------------+----------------+\n",
            "| default(1) |         0.6003 |\n",
            "+------------+----------------+\n",
            "TREE SEARCH\n",
            "+------------+----------------+\n",
            "| default    |   phi(default) |\n",
            "+============+================+\n",
            "| default(0) |         0.4011 |\n",
            "+------------+----------------+\n",
            "| default(1) |         0.5989 |\n",
            "+------------+----------------+\n",
            "HILL CLIMB\n",
            "+------------+----------------+\n",
            "| default    |   phi(default) |\n",
            "+============+================+\n",
            "| default(0) |         0.4001 |\n",
            "+------------+----------------+\n",
            "| default(1) |         0.5999 |\n",
            "+------------+----------------+\n",
            "CONSTRAINED HILL CLIMB\n",
            "+------------+----------------+\n",
            "| default    |   phi(default) |\n",
            "+============+================+\n",
            "| default(0) |         0.4007 |\n",
            "+------------+----------------+\n",
            "| default(1) |         0.5993 |\n",
            "+------------+----------------+\n"
          ]
        }
      ]
    },
    {
      "cell_type": "code",
      "source": [
        "query, evidence = [\"default\"], {\"limit_bal\": \"medium_high\", \"misspayments_prev_6_months\": 5}\n",
        "display_inference_results('Probability of default having a medium-high balance limit, and having 5 misspayments in the previous 6 months', query, evidence)"
      ],
      "metadata": {
        "colab": {
          "base_uri": "https://localhost:8080/"
        },
        "id": "bk8jD_ILZOcT",
        "outputId": "3de5d0a0-d914-4115-b493-7d1062402d56"
      },
      "execution_count": 29,
      "outputs": [
        {
          "output_type": "stream",
          "name": "stdout",
          "text": [
            "Probability of default having a medium-high balance limit, and having 5 misspayments in the previous 6 months\n",
            "EASY\n",
            "+------------+----------------+\n",
            "| default    |   phi(default) |\n",
            "+============+================+\n",
            "| default(0) |         0.3690 |\n",
            "+------------+----------------+\n",
            "| default(1) |         0.6310 |\n",
            "+------------+----------------+\n",
            "MEDIUM\n",
            "+------------+----------------+\n",
            "| default    |   phi(default) |\n",
            "+============+================+\n",
            "| default(0) |         0.3812 |\n",
            "+------------+----------------+\n",
            "| default(1) |         0.6188 |\n",
            "+------------+----------------+\n",
            "HARD\n",
            "+------------+----------------+\n",
            "| default    |   phi(default) |\n",
            "+============+================+\n",
            "| default(0) |         0.4165 |\n",
            "+------------+----------------+\n",
            "| default(1) |         0.5835 |\n",
            "+------------+----------------+\n",
            "TREE SEARCH\n",
            "+------------+----------------+\n",
            "| default    |   phi(default) |\n",
            "+============+================+\n",
            "| default(0) |         0.4011 |\n",
            "+------------+----------------+\n",
            "| default(1) |         0.5989 |\n",
            "+------------+----------------+\n",
            "HILL CLIMB\n",
            "+------------+----------------+\n",
            "| default    |   phi(default) |\n",
            "+============+================+\n",
            "| default(0) |         0.3690 |\n",
            "+------------+----------------+\n",
            "| default(1) |         0.6310 |\n",
            "+------------+----------------+\n",
            "CONSTRAINED HILL CLIMB\n",
            "+------------+----------------+\n",
            "| default    |   phi(default) |\n",
            "+============+================+\n",
            "| default(0) |         0.3985 |\n",
            "+------------+----------------+\n",
            "| default(1) |         0.6015 |\n",
            "+------------+----------------+\n"
          ]
        }
      ]
    },
    {
      "cell_type": "code",
      "source": [
        "query, evidence = [\"default\"], {\"sex\": \"male\"}\n",
        "display_inference_results('Probability of default given sex', query, evidence)"
      ],
      "metadata": {
        "colab": {
          "base_uri": "https://localhost:8080/"
        },
        "id": "i0S6VMIqhZNl",
        "outputId": "f479f497-51ee-46db-a9e4-435361a8b2a5"
      },
      "execution_count": 54,
      "outputs": [
        {
          "output_type": "stream",
          "name": "stdout",
          "text": [
            "Probability of default given sex\n",
            "EASY\n",
            "+------------+----------------+\n",
            "| default    |   phi(default) |\n",
            "+============+================+\n",
            "| default(0) |         0.7754 |\n",
            "+------------+----------------+\n",
            "| default(1) |         0.2246 |\n",
            "+------------+----------------+\n",
            "MEDIUM\n",
            "+------------+----------------+\n",
            "| default    |   phi(default) |\n",
            "+============+================+\n",
            "| default(0) |         0.7752 |\n",
            "+------------+----------------+\n",
            "| default(1) |         0.2248 |\n",
            "+------------+----------------+\n",
            "HARD\n",
            "+------------+----------------+\n",
            "| default    |   phi(default) |\n",
            "+============+================+\n",
            "| default(0) |         0.7754 |\n",
            "+------------+----------------+\n",
            "| default(1) |         0.2246 |\n",
            "+------------+----------------+\n",
            "TREE SEARCH\n",
            "+------------+----------------+\n",
            "| default    |   phi(default) |\n",
            "+============+================+\n",
            "| default(0) |         0.7751 |\n",
            "+------------+----------------+\n",
            "| default(1) |         0.2249 |\n",
            "+------------+----------------+\n",
            "HILL CLIMB\n",
            "+------------+----------------+\n",
            "| default    |   phi(default) |\n",
            "+============+================+\n",
            "| default(0) |         0.7738 |\n",
            "+------------+----------------+\n",
            "| default(1) |         0.2262 |\n",
            "+------------+----------------+\n",
            "CONSTRAINED HILL CLIMB\n",
            "+------------+----------------+\n",
            "| default    |   phi(default) |\n",
            "+============+================+\n",
            "| default(0) |         0.7556 |\n",
            "+------------+----------------+\n",
            "| default(1) |         0.2444 |\n",
            "+------------+----------------+\n"
          ]
        }
      ]
    },
    {
      "cell_type": "code",
      "source": [
        "query, evidence = [\"default\"], {\"education\": \"high_school\", \"misspayments_prev_6_months\": 6, 'age': 'young', 'sex': 'female', \\\n",
        "                                'marriage': 'not_married', 'limit_bal': 'low'}\n",
        "display_inference_results('Probability of default given everything else', query, evidence)"
      ],
      "metadata": {
        "colab": {
          "base_uri": "https://localhost:8080/"
        },
        "id": "TTH4jvOSjoI9",
        "outputId": "3887c9cb-15f7-4665-b3d5-6ed217a3a043"
      },
      "execution_count": 67,
      "outputs": [
        {
          "output_type": "stream",
          "name": "stdout",
          "text": [
            "Probability of default given everything else\n",
            "EASY\n",
            "+------------+----------------+\n",
            "| default    |   phi(default) |\n",
            "+============+================+\n",
            "| default(0) |         0.3154 |\n",
            "+------------+----------------+\n",
            "| default(1) |         0.6846 |\n",
            "+------------+----------------+\n",
            "MEDIUM\n",
            "+------------+----------------+\n",
            "| default    |   phi(default) |\n",
            "+============+================+\n",
            "| default(0) |         0.3719 |\n",
            "+------------+----------------+\n",
            "| default(1) |         0.6281 |\n",
            "+------------+----------------+\n",
            "HARD\n",
            "+------------+----------------+\n",
            "| default    |   phi(default) |\n",
            "+============+================+\n",
            "| default(0) |         0.3182 |\n",
            "+------------+----------------+\n",
            "| default(1) |         0.6818 |\n",
            "+------------+----------------+\n",
            "TREE SEARCH\n",
            "+------------+----------------+\n",
            "| default    |   phi(default) |\n",
            "+============+================+\n",
            "| default(0) |         0.3030 |\n",
            "+------------+----------------+\n",
            "| default(1) |         0.6970 |\n",
            "+------------+----------------+\n",
            "HILL CLIMB\n",
            "+------------+----------------+\n",
            "| default    |   phi(default) |\n",
            "+============+================+\n",
            "| default(0) |         0.3379 |\n",
            "+------------+----------------+\n",
            "| default(1) |         0.6621 |\n",
            "+------------+----------------+\n",
            "CONSTRAINED HILL CLIMB\n",
            "+------------+----------------+\n",
            "| default    |   phi(default) |\n",
            "+============+================+\n",
            "| default(0) |         0.3347 |\n",
            "+------------+----------------+\n",
            "| default(1) |         0.6653 |\n",
            "+------------+----------------+\n"
          ]
        }
      ]
    },
    {
      "cell_type": "markdown",
      "source": [
        "# Questions"
      ],
      "metadata": {
        "id": "_806ays3fD_9"
      }
    },
    {
      "cell_type": "code",
      "source": [],
      "metadata": {
        "id": "jGAm4r2ye5FP"
      },
      "execution_count": null,
      "outputs": []
    },
    {
      "cell_type": "markdown",
      "source": [
        "# Quantitative model evalution\n",
        "So far, the models have been evaluated only in a qualitative manner. In particular a domain-expert can ragionevolemnte tell if the results are good enough. \n",
        "The next step is to evaluate the model quantitatively. Since the dataset was created for the classification task, we have leveraged the test set to obtain accuracy, F1/F2, precision, and recall metrics."
      ],
      "metadata": {
        "id": "6Lk2WwkKkf9n"
      }
    },
    {
      "cell_type": "code",
      "source": [
        "def predict(data_point: dict, inference_object: VariableElimination, query: str) -> Tuple[float, float]:\n",
        "  result = inference_object.query(variables=['default'], evidence=dict(data_point))\n",
        "  values = result.state_names[query]\n",
        "  default = np.argmax(result.values)\n",
        "  return default, result.values\n",
        "\n",
        "def predict_batch(batch: pd.DataFrame, inference_object: VariableElimination, query: str) -> list[int]:\n",
        "  return [predict(data_point[1], inference_object, query)[0] for data_point in batch.iterrows()]"
      ],
      "metadata": {
        "id": "kFAqxfoKkerY"
      },
      "execution_count": 70,
      "outputs": []
    },
    {
      "cell_type": "code",
      "source": [
        "preds = predict_batch(X_test, data_infer_easy, query = 'default')\n",
        "print('EASY')\n",
        "print(f'Accuracy {accuracy_score(y_test, preds):.2%}')\n",
        "print(f'Recall: {recall_score(y_test, preds):.2%}')\n",
        "print(f'F1-Score {f1_score(y_test, preds):.2%}')\n",
        "\n",
        "preds = predict_batch(X_test, data_infer_medium, query = 'default')\n",
        "print('MEDIUM')\n",
        "print(f'Accuracy: {accuracy_score(y_test, preds):.2%}')\n",
        "print(f'Recall: {recall_score(y_test, preds):.2%}')\n",
        "print(f'F1-Score {f1_score(y_test, preds):.2%}')\n",
        "\n",
        "preds = predict_batch(X_test, data_infer_hard, query = 'default')\n",
        "print('HARD')\n",
        "print(f'Accuracy: {accuracy_score(y_test, preds):.2%}')\n",
        "print(f'Recall: {recall_score(y_test, preds):.2%}')\n",
        "print(f'F1-Score {f1_score(y_test, preds):.2%}')\n",
        "\n",
        "preds = predict_batch(X_test, data_infer_tree_search, query = 'default')\n",
        "print('TREE SEARCH')\n",
        "print(f'Accuracy: {accuracy_score(y_test, preds):.2%}')\n",
        "print(f'Recall: {recall_score(y_test, preds):.2%}')\n",
        "print(f'F1-Score {f1_score(y_test, preds):.2%}')\n",
        "\n",
        "preds = predict_batch(X_test, data_infer_hill_climb, query = 'default')\n",
        "print('HILL CLIMB')\n",
        "print(f'Accuracy: {accuracy_score(y_test, preds):.2%}')\n",
        "print(f'Recall: {recall_score(y_test, preds):.2%}')\n",
        "print(f'F1-Score {f1_score(y_test, preds):.2%}')\n",
        "\n",
        "preds = predict_batch(X_test, data_infer_constr_hill_climb, query = 'default')\n",
        "print('CONSTRAINED HILL CLIMB')\n",
        "print(f'Accuracy: {accuracy_score(y_test, preds):.2%}')\n",
        "print(f'Recall: {recall_score(y_test, preds):.2%}')\n",
        "print(f'F1-Score {f1_score(y_test, preds):.2%}')"
      ],
      "metadata": {
        "colab": {
          "base_uri": "https://localhost:8080/"
        },
        "id": "gUhFwJG-v0x5",
        "outputId": "b8879272-e4b0-404e-d359-0e553eaefb19"
      },
      "execution_count": 71,
      "outputs": [
        {
          "output_type": "stream",
          "name": "stdout",
          "text": [
            "EASY\n",
            "Accuracy 80.23%\n",
            "Recall: 28.26%\n",
            "F1-Score 38.74%\n",
            "MEDIUM\n",
            "Accuracy: 80.20%\n",
            "Recall: 29.84%\n",
            "F1-Score 40.00%\n",
            "HARD\n",
            "Accuracy: 79.82%\n",
            "Recall: 27.05%\n",
            "F1-Score 37.22%\n",
            "TREE SEARCH\n",
            "Accuracy: 80.45%\n",
            "Recall: 33.84%\n",
            "F1-Score 43.36%\n",
            "HILL CLIMB\n",
            "Accuracy: 80.52%\n",
            "Recall: 30.14%\n",
            "F1-Score 40.63%\n",
            "CONSTRAINED HILL CLIMB\n",
            "Accuracy: 80.20%\n",
            "Recall: 29.24%\n",
            "F1-Score 39.51%\n"
          ]
        }
      ]
    }
  ]
}