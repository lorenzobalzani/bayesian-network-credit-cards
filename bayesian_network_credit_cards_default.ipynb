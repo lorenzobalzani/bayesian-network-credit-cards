{
  "nbformat": 4,
  "nbformat_minor": 0,
  "metadata": {
    "colab": {
      "provenance": [],
      "collapsed_sections": [
        "b6PmZJjzS4kN",
        "usLiB0OMS6Ou",
        "HJqvuPrNS9o7",
        "j7NoIN1QDk1q",
        "iu2JrRDkmSly",
        "rfxyLfwJD4NF",
        "u_NZMq0IFLLN",
        "VKu1kz41iFsJ",
        "UCWtVvwGiCWU",
        "X7VuShgwTPKn",
        "9TLoUVx9Tf11",
        "N85YmhGiUbUW",
        "F1L7aZiXatnj",
        "_LZV7liEaxIA",
        "o0-eOFTwvzH-",
        "xxgEaysEeF1P"
      ],
      "include_colab_link": true
    },
    "kernelspec": {
      "name": "python3",
      "display_name": "Python 3"
    },
    "language_info": {
      "name": "python"
    },
    "widgets": {
      "application/vnd.jupyter.widget-state+json": {
        "b81d09f58aa74fb49b5b5adc94654684": {
          "model_module": "@jupyter-widgets/controls",
          "model_name": "HBoxModel",
          "model_module_version": "1.5.0",
          "state": {
            "_dom_classes": [],
            "_model_module": "@jupyter-widgets/controls",
            "_model_module_version": "1.5.0",
            "_model_name": "HBoxModel",
            "_view_count": null,
            "_view_module": "@jupyter-widgets/controls",
            "_view_module_version": "1.5.0",
            "_view_name": "HBoxView",
            "box_style": "",
            "children": [
              "IPY_MODEL_cd71287c79d646f38c9cd0a4529a7287",
              "IPY_MODEL_12cfd572a1d0467d91c837a2d734f687",
              "IPY_MODEL_8665bcdd38d645b0bf6c827cbd5b4f4a"
            ],
            "layout": "IPY_MODEL_873f667019744876941c696771b86ba8"
          }
        },
        "cd71287c79d646f38c9cd0a4529a7287": {
          "model_module": "@jupyter-widgets/controls",
          "model_name": "HTMLModel",
          "model_module_version": "1.5.0",
          "state": {
            "_dom_classes": [],
            "_model_module": "@jupyter-widgets/controls",
            "_model_module_version": "1.5.0",
            "_model_name": "HTMLModel",
            "_view_count": null,
            "_view_module": "@jupyter-widgets/controls",
            "_view_module_version": "1.5.0",
            "_view_name": "HTMLView",
            "description": "",
            "description_tooltip": null,
            "layout": "IPY_MODEL_fbd51b8890cc4040bf63f38287fa26b9",
            "placeholder": "​",
            "style": "IPY_MODEL_b9af7f46203d481f8c80ecfc261b76ef",
            "value": "Building tree: 100%"
          }
        },
        "12cfd572a1d0467d91c837a2d734f687": {
          "model_module": "@jupyter-widgets/controls",
          "model_name": "FloatProgressModel",
          "model_module_version": "1.5.0",
          "state": {
            "_dom_classes": [],
            "_model_module": "@jupyter-widgets/controls",
            "_model_module_version": "1.5.0",
            "_model_name": "FloatProgressModel",
            "_view_count": null,
            "_view_module": "@jupyter-widgets/controls",
            "_view_module_version": "1.5.0",
            "_view_name": "ProgressView",
            "bar_style": "success",
            "description": "",
            "description_tooltip": null,
            "layout": "IPY_MODEL_25ae8eb955a44496b9d05ce1ad398382",
            "max": 21,
            "min": 0,
            "orientation": "horizontal",
            "style": "IPY_MODEL_d9407fca767a44728f40d180a4f10d84",
            "value": 21
          }
        },
        "8665bcdd38d645b0bf6c827cbd5b4f4a": {
          "model_module": "@jupyter-widgets/controls",
          "model_name": "HTMLModel",
          "model_module_version": "1.5.0",
          "state": {
            "_dom_classes": [],
            "_model_module": "@jupyter-widgets/controls",
            "_model_module_version": "1.5.0",
            "_model_name": "HTMLModel",
            "_view_count": null,
            "_view_module": "@jupyter-widgets/controls",
            "_view_module_version": "1.5.0",
            "_view_name": "HTMLView",
            "description": "",
            "description_tooltip": null,
            "layout": "IPY_MODEL_1111344bef1d418cac6b886be911d870",
            "placeholder": "​",
            "style": "IPY_MODEL_34f1472e9346457398288828d5a99eb1",
            "value": " 21/21.0 [00:01&lt;00:00, 13.27it/s]"
          }
        },
        "873f667019744876941c696771b86ba8": {
          "model_module": "@jupyter-widgets/base",
          "model_name": "LayoutModel",
          "model_module_version": "1.2.0",
          "state": {
            "_model_module": "@jupyter-widgets/base",
            "_model_module_version": "1.2.0",
            "_model_name": "LayoutModel",
            "_view_count": null,
            "_view_module": "@jupyter-widgets/base",
            "_view_module_version": "1.2.0",
            "_view_name": "LayoutView",
            "align_content": null,
            "align_items": null,
            "align_self": null,
            "border": null,
            "bottom": null,
            "display": null,
            "flex": null,
            "flex_flow": null,
            "grid_area": null,
            "grid_auto_columns": null,
            "grid_auto_flow": null,
            "grid_auto_rows": null,
            "grid_column": null,
            "grid_gap": null,
            "grid_row": null,
            "grid_template_areas": null,
            "grid_template_columns": null,
            "grid_template_rows": null,
            "height": null,
            "justify_content": null,
            "justify_items": null,
            "left": null,
            "margin": null,
            "max_height": null,
            "max_width": null,
            "min_height": null,
            "min_width": null,
            "object_fit": null,
            "object_position": null,
            "order": null,
            "overflow": null,
            "overflow_x": null,
            "overflow_y": null,
            "padding": null,
            "right": null,
            "top": null,
            "visibility": null,
            "width": null
          }
        },
        "fbd51b8890cc4040bf63f38287fa26b9": {
          "model_module": "@jupyter-widgets/base",
          "model_name": "LayoutModel",
          "model_module_version": "1.2.0",
          "state": {
            "_model_module": "@jupyter-widgets/base",
            "_model_module_version": "1.2.0",
            "_model_name": "LayoutModel",
            "_view_count": null,
            "_view_module": "@jupyter-widgets/base",
            "_view_module_version": "1.2.0",
            "_view_name": "LayoutView",
            "align_content": null,
            "align_items": null,
            "align_self": null,
            "border": null,
            "bottom": null,
            "display": null,
            "flex": null,
            "flex_flow": null,
            "grid_area": null,
            "grid_auto_columns": null,
            "grid_auto_flow": null,
            "grid_auto_rows": null,
            "grid_column": null,
            "grid_gap": null,
            "grid_row": null,
            "grid_template_areas": null,
            "grid_template_columns": null,
            "grid_template_rows": null,
            "height": null,
            "justify_content": null,
            "justify_items": null,
            "left": null,
            "margin": null,
            "max_height": null,
            "max_width": null,
            "min_height": null,
            "min_width": null,
            "object_fit": null,
            "object_position": null,
            "order": null,
            "overflow": null,
            "overflow_x": null,
            "overflow_y": null,
            "padding": null,
            "right": null,
            "top": null,
            "visibility": null,
            "width": null
          }
        },
        "b9af7f46203d481f8c80ecfc261b76ef": {
          "model_module": "@jupyter-widgets/controls",
          "model_name": "DescriptionStyleModel",
          "model_module_version": "1.5.0",
          "state": {
            "_model_module": "@jupyter-widgets/controls",
            "_model_module_version": "1.5.0",
            "_model_name": "DescriptionStyleModel",
            "_view_count": null,
            "_view_module": "@jupyter-widgets/base",
            "_view_module_version": "1.2.0",
            "_view_name": "StyleView",
            "description_width": ""
          }
        },
        "25ae8eb955a44496b9d05ce1ad398382": {
          "model_module": "@jupyter-widgets/base",
          "model_name": "LayoutModel",
          "model_module_version": "1.2.0",
          "state": {
            "_model_module": "@jupyter-widgets/base",
            "_model_module_version": "1.2.0",
            "_model_name": "LayoutModel",
            "_view_count": null,
            "_view_module": "@jupyter-widgets/base",
            "_view_module_version": "1.2.0",
            "_view_name": "LayoutView",
            "align_content": null,
            "align_items": null,
            "align_self": null,
            "border": null,
            "bottom": null,
            "display": null,
            "flex": null,
            "flex_flow": null,
            "grid_area": null,
            "grid_auto_columns": null,
            "grid_auto_flow": null,
            "grid_auto_rows": null,
            "grid_column": null,
            "grid_gap": null,
            "grid_row": null,
            "grid_template_areas": null,
            "grid_template_columns": null,
            "grid_template_rows": null,
            "height": null,
            "justify_content": null,
            "justify_items": null,
            "left": null,
            "margin": null,
            "max_height": null,
            "max_width": null,
            "min_height": null,
            "min_width": null,
            "object_fit": null,
            "object_position": null,
            "order": null,
            "overflow": null,
            "overflow_x": null,
            "overflow_y": null,
            "padding": null,
            "right": null,
            "top": null,
            "visibility": null,
            "width": null
          }
        },
        "d9407fca767a44728f40d180a4f10d84": {
          "model_module": "@jupyter-widgets/controls",
          "model_name": "ProgressStyleModel",
          "model_module_version": "1.5.0",
          "state": {
            "_model_module": "@jupyter-widgets/controls",
            "_model_module_version": "1.5.0",
            "_model_name": "ProgressStyleModel",
            "_view_count": null,
            "_view_module": "@jupyter-widgets/base",
            "_view_module_version": "1.2.0",
            "_view_name": "StyleView",
            "bar_color": null,
            "description_width": ""
          }
        },
        "1111344bef1d418cac6b886be911d870": {
          "model_module": "@jupyter-widgets/base",
          "model_name": "LayoutModel",
          "model_module_version": "1.2.0",
          "state": {
            "_model_module": "@jupyter-widgets/base",
            "_model_module_version": "1.2.0",
            "_model_name": "LayoutModel",
            "_view_count": null,
            "_view_module": "@jupyter-widgets/base",
            "_view_module_version": "1.2.0",
            "_view_name": "LayoutView",
            "align_content": null,
            "align_items": null,
            "align_self": null,
            "border": null,
            "bottom": null,
            "display": null,
            "flex": null,
            "flex_flow": null,
            "grid_area": null,
            "grid_auto_columns": null,
            "grid_auto_flow": null,
            "grid_auto_rows": null,
            "grid_column": null,
            "grid_gap": null,
            "grid_row": null,
            "grid_template_areas": null,
            "grid_template_columns": null,
            "grid_template_rows": null,
            "height": null,
            "justify_content": null,
            "justify_items": null,
            "left": null,
            "margin": null,
            "max_height": null,
            "max_width": null,
            "min_height": null,
            "min_width": null,
            "object_fit": null,
            "object_position": null,
            "order": null,
            "overflow": null,
            "overflow_x": null,
            "overflow_y": null,
            "padding": null,
            "right": null,
            "top": null,
            "visibility": null,
            "width": null
          }
        },
        "34f1472e9346457398288828d5a99eb1": {
          "model_module": "@jupyter-widgets/controls",
          "model_name": "DescriptionStyleModel",
          "model_module_version": "1.5.0",
          "state": {
            "_model_module": "@jupyter-widgets/controls",
            "_model_module_version": "1.5.0",
            "_model_name": "DescriptionStyleModel",
            "_view_count": null,
            "_view_module": "@jupyter-widgets/base",
            "_view_module_version": "1.2.0",
            "_view_name": "StyleView",
            "description_width": ""
          }
        },
        "6e526db358bf49a6ae8e17714ce3925e": {
          "model_module": "@jupyter-widgets/controls",
          "model_name": "HBoxModel",
          "model_module_version": "1.5.0",
          "state": {
            "_dom_classes": [],
            "_model_module": "@jupyter-widgets/controls",
            "_model_module_version": "1.5.0",
            "_model_name": "HBoxModel",
            "_view_count": null,
            "_view_module": "@jupyter-widgets/controls",
            "_view_module_version": "1.5.0",
            "_view_name": "HBoxView",
            "box_style": "",
            "children": [
              "IPY_MODEL_bc576dc3705a4a9e8b937b6628e4e24a",
              "IPY_MODEL_98eb31cce38f49219dc215347682a61d",
              "IPY_MODEL_909edf9d991245abacd0b4070bc34822"
            ],
            "layout": "IPY_MODEL_671ddd6110bd4871864302c08f7f64b6"
          }
        },
        "bc576dc3705a4a9e8b937b6628e4e24a": {
          "model_module": "@jupyter-widgets/controls",
          "model_name": "HTMLModel",
          "model_module_version": "1.5.0",
          "state": {
            "_dom_classes": [],
            "_model_module": "@jupyter-widgets/controls",
            "_model_module_version": "1.5.0",
            "_model_name": "HTMLModel",
            "_view_count": null,
            "_view_module": "@jupyter-widgets/controls",
            "_view_module_version": "1.5.0",
            "_view_name": "HTMLView",
            "description": "",
            "description_tooltip": null,
            "layout": "IPY_MODEL_152cdce49de04e7699841984c89e59e5",
            "placeholder": "​",
            "style": "IPY_MODEL_93b1f5a28a5c42cba808ce03b75f1032",
            "value": "  0%"
          }
        },
        "98eb31cce38f49219dc215347682a61d": {
          "model_module": "@jupyter-widgets/controls",
          "model_name": "FloatProgressModel",
          "model_module_version": "1.5.0",
          "state": {
            "_dom_classes": [],
            "_model_module": "@jupyter-widgets/controls",
            "_model_module_version": "1.5.0",
            "_model_name": "FloatProgressModel",
            "_view_count": null,
            "_view_module": "@jupyter-widgets/controls",
            "_view_module_version": "1.5.0",
            "_view_name": "ProgressView",
            "bar_style": "danger",
            "description": "",
            "description_tooltip": null,
            "layout": "IPY_MODEL_7f86978b247244339a4e1bcd646dc250",
            "max": 1000000,
            "min": 0,
            "orientation": "horizontal",
            "style": "IPY_MODEL_da6f081eee4249369e40103b9b0fc76e",
            "value": 14
          }
        },
        "909edf9d991245abacd0b4070bc34822": {
          "model_module": "@jupyter-widgets/controls",
          "model_name": "HTMLModel",
          "model_module_version": "1.5.0",
          "state": {
            "_dom_classes": [],
            "_model_module": "@jupyter-widgets/controls",
            "_model_module_version": "1.5.0",
            "_model_name": "HTMLModel",
            "_view_count": null,
            "_view_module": "@jupyter-widgets/controls",
            "_view_module_version": "1.5.0",
            "_view_name": "HTMLView",
            "description": "",
            "description_tooltip": null,
            "layout": "IPY_MODEL_fad2ba21dfa64d81bebcbce484cb2a16",
            "placeholder": "​",
            "style": "IPY_MODEL_969b01d6b05c4ca38cef5dba9cf1c2d3",
            "value": " 14/1000000 [00:04&lt;63:24:19,  4.38it/s]"
          }
        },
        "671ddd6110bd4871864302c08f7f64b6": {
          "model_module": "@jupyter-widgets/base",
          "model_name": "LayoutModel",
          "model_module_version": "1.2.0",
          "state": {
            "_model_module": "@jupyter-widgets/base",
            "_model_module_version": "1.2.0",
            "_model_name": "LayoutModel",
            "_view_count": null,
            "_view_module": "@jupyter-widgets/base",
            "_view_module_version": "1.2.0",
            "_view_name": "LayoutView",
            "align_content": null,
            "align_items": null,
            "align_self": null,
            "border": null,
            "bottom": null,
            "display": null,
            "flex": null,
            "flex_flow": null,
            "grid_area": null,
            "grid_auto_columns": null,
            "grid_auto_flow": null,
            "grid_auto_rows": null,
            "grid_column": null,
            "grid_gap": null,
            "grid_row": null,
            "grid_template_areas": null,
            "grid_template_columns": null,
            "grid_template_rows": null,
            "height": null,
            "justify_content": null,
            "justify_items": null,
            "left": null,
            "margin": null,
            "max_height": null,
            "max_width": null,
            "min_height": null,
            "min_width": null,
            "object_fit": null,
            "object_position": null,
            "order": null,
            "overflow": null,
            "overflow_x": null,
            "overflow_y": null,
            "padding": null,
            "right": null,
            "top": null,
            "visibility": null,
            "width": null
          }
        },
        "152cdce49de04e7699841984c89e59e5": {
          "model_module": "@jupyter-widgets/base",
          "model_name": "LayoutModel",
          "model_module_version": "1.2.0",
          "state": {
            "_model_module": "@jupyter-widgets/base",
            "_model_module_version": "1.2.0",
            "_model_name": "LayoutModel",
            "_view_count": null,
            "_view_module": "@jupyter-widgets/base",
            "_view_module_version": "1.2.0",
            "_view_name": "LayoutView",
            "align_content": null,
            "align_items": null,
            "align_self": null,
            "border": null,
            "bottom": null,
            "display": null,
            "flex": null,
            "flex_flow": null,
            "grid_area": null,
            "grid_auto_columns": null,
            "grid_auto_flow": null,
            "grid_auto_rows": null,
            "grid_column": null,
            "grid_gap": null,
            "grid_row": null,
            "grid_template_areas": null,
            "grid_template_columns": null,
            "grid_template_rows": null,
            "height": null,
            "justify_content": null,
            "justify_items": null,
            "left": null,
            "margin": null,
            "max_height": null,
            "max_width": null,
            "min_height": null,
            "min_width": null,
            "object_fit": null,
            "object_position": null,
            "order": null,
            "overflow": null,
            "overflow_x": null,
            "overflow_y": null,
            "padding": null,
            "right": null,
            "top": null,
            "visibility": null,
            "width": null
          }
        },
        "93b1f5a28a5c42cba808ce03b75f1032": {
          "model_module": "@jupyter-widgets/controls",
          "model_name": "DescriptionStyleModel",
          "model_module_version": "1.5.0",
          "state": {
            "_model_module": "@jupyter-widgets/controls",
            "_model_module_version": "1.5.0",
            "_model_name": "DescriptionStyleModel",
            "_view_count": null,
            "_view_module": "@jupyter-widgets/base",
            "_view_module_version": "1.2.0",
            "_view_name": "StyleView",
            "description_width": ""
          }
        },
        "7f86978b247244339a4e1bcd646dc250": {
          "model_module": "@jupyter-widgets/base",
          "model_name": "LayoutModel",
          "model_module_version": "1.2.0",
          "state": {
            "_model_module": "@jupyter-widgets/base",
            "_model_module_version": "1.2.0",
            "_model_name": "LayoutModel",
            "_view_count": null,
            "_view_module": "@jupyter-widgets/base",
            "_view_module_version": "1.2.0",
            "_view_name": "LayoutView",
            "align_content": null,
            "align_items": null,
            "align_self": null,
            "border": null,
            "bottom": null,
            "display": null,
            "flex": null,
            "flex_flow": null,
            "grid_area": null,
            "grid_auto_columns": null,
            "grid_auto_flow": null,
            "grid_auto_rows": null,
            "grid_column": null,
            "grid_gap": null,
            "grid_row": null,
            "grid_template_areas": null,
            "grid_template_columns": null,
            "grid_template_rows": null,
            "height": null,
            "justify_content": null,
            "justify_items": null,
            "left": null,
            "margin": null,
            "max_height": null,
            "max_width": null,
            "min_height": null,
            "min_width": null,
            "object_fit": null,
            "object_position": null,
            "order": null,
            "overflow": null,
            "overflow_x": null,
            "overflow_y": null,
            "padding": null,
            "right": null,
            "top": null,
            "visibility": null,
            "width": null
          }
        },
        "da6f081eee4249369e40103b9b0fc76e": {
          "model_module": "@jupyter-widgets/controls",
          "model_name": "ProgressStyleModel",
          "model_module_version": "1.5.0",
          "state": {
            "_model_module": "@jupyter-widgets/controls",
            "_model_module_version": "1.5.0",
            "_model_name": "ProgressStyleModel",
            "_view_count": null,
            "_view_module": "@jupyter-widgets/base",
            "_view_module_version": "1.2.0",
            "_view_name": "StyleView",
            "bar_color": null,
            "description_width": ""
          }
        },
        "fad2ba21dfa64d81bebcbce484cb2a16": {
          "model_module": "@jupyter-widgets/base",
          "model_name": "LayoutModel",
          "model_module_version": "1.2.0",
          "state": {
            "_model_module": "@jupyter-widgets/base",
            "_model_module_version": "1.2.0",
            "_model_name": "LayoutModel",
            "_view_count": null,
            "_view_module": "@jupyter-widgets/base",
            "_view_module_version": "1.2.0",
            "_view_name": "LayoutView",
            "align_content": null,
            "align_items": null,
            "align_self": null,
            "border": null,
            "bottom": null,
            "display": null,
            "flex": null,
            "flex_flow": null,
            "grid_area": null,
            "grid_auto_columns": null,
            "grid_auto_flow": null,
            "grid_auto_rows": null,
            "grid_column": null,
            "grid_gap": null,
            "grid_row": null,
            "grid_template_areas": null,
            "grid_template_columns": null,
            "grid_template_rows": null,
            "height": null,
            "justify_content": null,
            "justify_items": null,
            "left": null,
            "margin": null,
            "max_height": null,
            "max_width": null,
            "min_height": null,
            "min_width": null,
            "object_fit": null,
            "object_position": null,
            "order": null,
            "overflow": null,
            "overflow_x": null,
            "overflow_y": null,
            "padding": null,
            "right": null,
            "top": null,
            "visibility": null,
            "width": null
          }
        },
        "969b01d6b05c4ca38cef5dba9cf1c2d3": {
          "model_module": "@jupyter-widgets/controls",
          "model_name": "DescriptionStyleModel",
          "model_module_version": "1.5.0",
          "state": {
            "_model_module": "@jupyter-widgets/controls",
            "_model_module_version": "1.5.0",
            "_model_name": "DescriptionStyleModel",
            "_view_count": null,
            "_view_module": "@jupyter-widgets/base",
            "_view_module_version": "1.2.0",
            "_view_name": "StyleView",
            "description_width": ""
          }
        },
        "024138f58551424bb17cb93d0c9a53ce": {
          "model_module": "@jupyter-widgets/controls",
          "model_name": "HBoxModel",
          "model_module_version": "1.5.0",
          "state": {
            "_dom_classes": [],
            "_model_module": "@jupyter-widgets/controls",
            "_model_module_version": "1.5.0",
            "_model_name": "HBoxModel",
            "_view_count": null,
            "_view_module": "@jupyter-widgets/controls",
            "_view_module_version": "1.5.0",
            "_view_name": "HBoxView",
            "box_style": "",
            "children": [
              "IPY_MODEL_fa57918e7fbc4a158f084bae3bfe187b",
              "IPY_MODEL_78976c6d566742ac947d35e99e59e27d",
              "IPY_MODEL_37480b883c0b4587a7952e2b0431cf41"
            ],
            "layout": "IPY_MODEL_9e179c94fd314cb398d3fbc3a8b2098d"
          }
        },
        "fa57918e7fbc4a158f084bae3bfe187b": {
          "model_module": "@jupyter-widgets/controls",
          "model_name": "HTMLModel",
          "model_module_version": "1.5.0",
          "state": {
            "_dom_classes": [],
            "_model_module": "@jupyter-widgets/controls",
            "_model_module_version": "1.5.0",
            "_model_name": "HTMLModel",
            "_view_count": null,
            "_view_module": "@jupyter-widgets/controls",
            "_view_module_version": "1.5.0",
            "_view_name": "HTMLView",
            "description": "",
            "description_tooltip": null,
            "layout": "IPY_MODEL_0f3e85b51a7143b987da5849e8ac0f7c",
            "placeholder": "​",
            "style": "IPY_MODEL_32e10705ef32409eb8284b3b930a4410",
            "value": "  0%"
          }
        },
        "78976c6d566742ac947d35e99e59e27d": {
          "model_module": "@jupyter-widgets/controls",
          "model_name": "FloatProgressModel",
          "model_module_version": "1.5.0",
          "state": {
            "_dom_classes": [],
            "_model_module": "@jupyter-widgets/controls",
            "_model_module_version": "1.5.0",
            "_model_name": "FloatProgressModel",
            "_view_count": null,
            "_view_module": "@jupyter-widgets/controls",
            "_view_module_version": "1.5.0",
            "_view_name": "ProgressView",
            "bar_style": "danger",
            "description": "",
            "description_tooltip": null,
            "layout": "IPY_MODEL_2996df96482c4d3fa6345e3b741d9b76",
            "max": 1000000,
            "min": 0,
            "orientation": "horizontal",
            "style": "IPY_MODEL_5b7115d28f404ef1a811c1ed0bbfbbb7",
            "value": 9
          }
        },
        "37480b883c0b4587a7952e2b0431cf41": {
          "model_module": "@jupyter-widgets/controls",
          "model_name": "HTMLModel",
          "model_module_version": "1.5.0",
          "state": {
            "_dom_classes": [],
            "_model_module": "@jupyter-widgets/controls",
            "_model_module_version": "1.5.0",
            "_model_name": "HTMLModel",
            "_view_count": null,
            "_view_module": "@jupyter-widgets/controls",
            "_view_module_version": "1.5.0",
            "_view_name": "HTMLView",
            "description": "",
            "description_tooltip": null,
            "layout": "IPY_MODEL_f67a11aad5094b939b7b3d0390205a89",
            "placeholder": "​",
            "style": "IPY_MODEL_f257c3b171eb483a8363d4b111edfd66",
            "value": " 9/1000000 [00:03&lt;51:08:20,  5.43it/s]"
          }
        },
        "9e179c94fd314cb398d3fbc3a8b2098d": {
          "model_module": "@jupyter-widgets/base",
          "model_name": "LayoutModel",
          "model_module_version": "1.2.0",
          "state": {
            "_model_module": "@jupyter-widgets/base",
            "_model_module_version": "1.2.0",
            "_model_name": "LayoutModel",
            "_view_count": null,
            "_view_module": "@jupyter-widgets/base",
            "_view_module_version": "1.2.0",
            "_view_name": "LayoutView",
            "align_content": null,
            "align_items": null,
            "align_self": null,
            "border": null,
            "bottom": null,
            "display": null,
            "flex": null,
            "flex_flow": null,
            "grid_area": null,
            "grid_auto_columns": null,
            "grid_auto_flow": null,
            "grid_auto_rows": null,
            "grid_column": null,
            "grid_gap": null,
            "grid_row": null,
            "grid_template_areas": null,
            "grid_template_columns": null,
            "grid_template_rows": null,
            "height": null,
            "justify_content": null,
            "justify_items": null,
            "left": null,
            "margin": null,
            "max_height": null,
            "max_width": null,
            "min_height": null,
            "min_width": null,
            "object_fit": null,
            "object_position": null,
            "order": null,
            "overflow": null,
            "overflow_x": null,
            "overflow_y": null,
            "padding": null,
            "right": null,
            "top": null,
            "visibility": null,
            "width": null
          }
        },
        "0f3e85b51a7143b987da5849e8ac0f7c": {
          "model_module": "@jupyter-widgets/base",
          "model_name": "LayoutModel",
          "model_module_version": "1.2.0",
          "state": {
            "_model_module": "@jupyter-widgets/base",
            "_model_module_version": "1.2.0",
            "_model_name": "LayoutModel",
            "_view_count": null,
            "_view_module": "@jupyter-widgets/base",
            "_view_module_version": "1.2.0",
            "_view_name": "LayoutView",
            "align_content": null,
            "align_items": null,
            "align_self": null,
            "border": null,
            "bottom": null,
            "display": null,
            "flex": null,
            "flex_flow": null,
            "grid_area": null,
            "grid_auto_columns": null,
            "grid_auto_flow": null,
            "grid_auto_rows": null,
            "grid_column": null,
            "grid_gap": null,
            "grid_row": null,
            "grid_template_areas": null,
            "grid_template_columns": null,
            "grid_template_rows": null,
            "height": null,
            "justify_content": null,
            "justify_items": null,
            "left": null,
            "margin": null,
            "max_height": null,
            "max_width": null,
            "min_height": null,
            "min_width": null,
            "object_fit": null,
            "object_position": null,
            "order": null,
            "overflow": null,
            "overflow_x": null,
            "overflow_y": null,
            "padding": null,
            "right": null,
            "top": null,
            "visibility": null,
            "width": null
          }
        },
        "32e10705ef32409eb8284b3b930a4410": {
          "model_module": "@jupyter-widgets/controls",
          "model_name": "DescriptionStyleModel",
          "model_module_version": "1.5.0",
          "state": {
            "_model_module": "@jupyter-widgets/controls",
            "_model_module_version": "1.5.0",
            "_model_name": "DescriptionStyleModel",
            "_view_count": null,
            "_view_module": "@jupyter-widgets/base",
            "_view_module_version": "1.2.0",
            "_view_name": "StyleView",
            "description_width": ""
          }
        },
        "2996df96482c4d3fa6345e3b741d9b76": {
          "model_module": "@jupyter-widgets/base",
          "model_name": "LayoutModel",
          "model_module_version": "1.2.0",
          "state": {
            "_model_module": "@jupyter-widgets/base",
            "_model_module_version": "1.2.0",
            "_model_name": "LayoutModel",
            "_view_count": null,
            "_view_module": "@jupyter-widgets/base",
            "_view_module_version": "1.2.0",
            "_view_name": "LayoutView",
            "align_content": null,
            "align_items": null,
            "align_self": null,
            "border": null,
            "bottom": null,
            "display": null,
            "flex": null,
            "flex_flow": null,
            "grid_area": null,
            "grid_auto_columns": null,
            "grid_auto_flow": null,
            "grid_auto_rows": null,
            "grid_column": null,
            "grid_gap": null,
            "grid_row": null,
            "grid_template_areas": null,
            "grid_template_columns": null,
            "grid_template_rows": null,
            "height": null,
            "justify_content": null,
            "justify_items": null,
            "left": null,
            "margin": null,
            "max_height": null,
            "max_width": null,
            "min_height": null,
            "min_width": null,
            "object_fit": null,
            "object_position": null,
            "order": null,
            "overflow": null,
            "overflow_x": null,
            "overflow_y": null,
            "padding": null,
            "right": null,
            "top": null,
            "visibility": null,
            "width": null
          }
        },
        "5b7115d28f404ef1a811c1ed0bbfbbb7": {
          "model_module": "@jupyter-widgets/controls",
          "model_name": "ProgressStyleModel",
          "model_module_version": "1.5.0",
          "state": {
            "_model_module": "@jupyter-widgets/controls",
            "_model_module_version": "1.5.0",
            "_model_name": "ProgressStyleModel",
            "_view_count": null,
            "_view_module": "@jupyter-widgets/base",
            "_view_module_version": "1.2.0",
            "_view_name": "StyleView",
            "bar_color": null,
            "description_width": ""
          }
        },
        "f67a11aad5094b939b7b3d0390205a89": {
          "model_module": "@jupyter-widgets/base",
          "model_name": "LayoutModel",
          "model_module_version": "1.2.0",
          "state": {
            "_model_module": "@jupyter-widgets/base",
            "_model_module_version": "1.2.0",
            "_model_name": "LayoutModel",
            "_view_count": null,
            "_view_module": "@jupyter-widgets/base",
            "_view_module_version": "1.2.0",
            "_view_name": "LayoutView",
            "align_content": null,
            "align_items": null,
            "align_self": null,
            "border": null,
            "bottom": null,
            "display": null,
            "flex": null,
            "flex_flow": null,
            "grid_area": null,
            "grid_auto_columns": null,
            "grid_auto_flow": null,
            "grid_auto_rows": null,
            "grid_column": null,
            "grid_gap": null,
            "grid_row": null,
            "grid_template_areas": null,
            "grid_template_columns": null,
            "grid_template_rows": null,
            "height": null,
            "justify_content": null,
            "justify_items": null,
            "left": null,
            "margin": null,
            "max_height": null,
            "max_width": null,
            "min_height": null,
            "min_width": null,
            "object_fit": null,
            "object_position": null,
            "order": null,
            "overflow": null,
            "overflow_x": null,
            "overflow_y": null,
            "padding": null,
            "right": null,
            "top": null,
            "visibility": null,
            "width": null
          }
        },
        "f257c3b171eb483a8363d4b111edfd66": {
          "model_module": "@jupyter-widgets/controls",
          "model_name": "DescriptionStyleModel",
          "model_module_version": "1.5.0",
          "state": {
            "_model_module": "@jupyter-widgets/controls",
            "_model_module_version": "1.5.0",
            "_model_name": "DescriptionStyleModel",
            "_view_count": null,
            "_view_module": "@jupyter-widgets/base",
            "_view_module_version": "1.2.0",
            "_view_name": "StyleView",
            "description_width": ""
          }
        }
      }
    }
  },
  "cells": [
    {
      "cell_type": "markdown",
      "metadata": {
        "id": "view-in-github",
        "colab_type": "text"
      },
      "source": [
        "<a href=\"https://colab.research.google.com/github/lorenzobalzani/bayesian-network-credit-cards/blob/master/bayesian_network_credit_cards_default.ipynb\" target=\"_parent\"><img src=\"https://colab.research.google.com/assets/colab-badge.svg\" alt=\"Open In Colab\"/></a>"
      ]
    },
    {
      "cell_type": "markdown",
      "source": [
        "# Bayesian Networks for probabilistic reasoning over credit cards' default\n",
        "## Project report for the Fundamentals of AI and KR course - module 3\n",
        "### Authors: [**Lorenzo Balzani**](mailto:lorenzo.balzani@studio.unibo.it) and [**Thomas Guizzetti**](mailto:thomas.guizzetti@studio.unibo.it)\n",
        "\n",
        "# Abstract\n",
        "TODO\n",
        "\n",
        "Left to do: \n",
        "\n",
        "1. Calculate inference timing for the models and prove that the most compact model is the most efficient. \n",
        "2. Apply t-student test to resulting scores of predicting default using the networks and confirm that the results are the same. This means that the networks (and naive bayes learning) in this case don't have much use in predicting default. \n",
        "3. Get histograms of quesries in the questions \n",
        "\n",
        "Conclusions:\n",
        "- Constrained Hill Based model is the model with least bias (default given sex)\n",
        "- The networks (and naive bayes learning) in this case don't have much use in predicting default. Any predictor based on the bayesian networks is not able to capture the underlying patterns in the data.  \n",
        "- The TreeSearch networks is the most compact network and thus is the most computationally efficient model. "
      ],
      "metadata": {
        "id": "wutYO5JzDEID"
      }
    },
    {
      "cell_type": "markdown",
      "source": [
        "# Setup"
      ],
      "metadata": {
        "id": "DiZNkPEHDbXz"
      }
    },
    {
      "cell_type": "markdown",
      "source": [
        "## Requirements"
      ],
      "metadata": {
        "id": "b6PmZJjzS4kN"
      }
    },
    {
      "cell_type": "code",
      "source": [
        "!pip install -q pandas numpy pgmpy"
      ],
      "metadata": {
        "id": "csUwu-Tt3M4g",
        "colab": {
          "base_uri": "https://localhost:8080/"
        },
        "outputId": "d89b983c-7d59-4b8f-a90f-d3c8b7d014d6"
      },
      "execution_count": 3,
      "outputs": [
        {
          "output_type": "stream",
          "name": "stdout",
          "text": [
            "\u001b[K     |████████████████████████████████| 1.9 MB 4.3 MB/s \n",
            "\u001b[?25h"
          ]
        }
      ]
    },
    {
      "cell_type": "markdown",
      "source": [
        "## Imports"
      ],
      "metadata": {
        "id": "usLiB0OMS6Ou"
      }
    },
    {
      "cell_type": "code",
      "source": [
        "from __future__ import annotations # for type annotations\n",
        "import os, logging\n",
        "import pandas as pd\n",
        "import numpy as np\n",
        "from pgmpy.base import DAG\n",
        "from pgmpy.models import BayesianNetwork, NaiveBayes\n",
        "from pgmpy.factors.discrete.CPD import TabularCPD\n",
        "from pgmpy.inference import VariableElimination\n",
        "from pgmpy.estimators import ParameterEstimator, MaximumLikelihoodEstimator, BayesianEstimator, ExhaustiveSearch, TreeSearch, HillClimbSearch, MmhcEstimator, BDeuScore, BicScore\n",
        "from sklearn.model_selection import train_test_split\n",
        "from sklearn.metrics import recall_score, f1_score, accuracy_score\n",
        "\n",
        "# Viz\n",
        "import matplotlib.pyplot as plt\n",
        "import networkx as nx\n",
        "import seaborn as sns"
      ],
      "metadata": {
        "id": "CYV8-E163KzW"
      },
      "execution_count": 5,
      "outputs": []
    },
    {
      "cell_type": "markdown",
      "source": [
        "## Declarations"
      ],
      "metadata": {
        "id": "HJqvuPrNS9o7"
      }
    },
    {
      "cell_type": "code",
      "source": [
        "logger = logging.getLogger()\n",
        "dataset_url = 'https://raw.githubusercontent.com/lorenzobalzani/bayesian-network-credit-cards/master/dataset.csv'\n",
        "test_ratio = 0.2\n",
        "random_seed = 42\n",
        "print_bold = lambda string: print('\\033[1m' + string + '\\033[0m')"
      ],
      "metadata": {
        "id": "76Fyk7MjOyzo"
      },
      "execution_count": 6,
      "outputs": []
    },
    {
      "cell_type": "markdown",
      "source": [
        "# Dataset"
      ],
      "metadata": {
        "id": "j7NoIN1QDk1q"
      }
    },
    {
      "cell_type": "code",
      "source": [
        "def read_dataset(url: str) -> pd.DataFrame:\n",
        "  dataset = pd.read_csv(url, delimiter=';').set_index('ID') \\\n",
        "            .rename(columns={'default payment next month': 'default'})\n",
        "  return dataset.drop(columns=[column for column in dataset.columns if 'AMT' in column]) \\\n",
        "         .rename(columns={column: column.lower() for column in dataset.columns})\n",
        "\n",
        "dataset = read_dataset(dataset_url)\n",
        "# display the dataset"
      ],
      "metadata": {
        "id": "3cp03GKsFVFL"
      },
      "execution_count": 7,
      "outputs": []
    },
    {
      "cell_type": "markdown",
      "source": [
        "## Check for missing values\n",
        "No drops are needed here because the dataset is complete."
      ],
      "metadata": {
        "id": "iu2JrRDkmSly"
      }
    },
    {
      "cell_type": "code",
      "source": [
        "np.sum(pd.isnull(dataset), axis=0) # sum over the columns"
      ],
      "metadata": {
        "colab": {
          "base_uri": "https://localhost:8080/"
        },
        "id": "SnRC3h6FmRHW",
        "outputId": "9400c6f9-e6ea-45a5-9b7c-e08492e9787d"
      },
      "execution_count": 8,
      "outputs": [
        {
          "output_type": "execute_result",
          "data": {
            "text/plain": [
              "limit_bal    0\n",
              "sex          0\n",
              "education    0\n",
              "marriage     0\n",
              "age          0\n",
              "pay_1        0\n",
              "pay_2        0\n",
              "pay_3        0\n",
              "pay_4        0\n",
              "pay_5        0\n",
              "pay_6        0\n",
              "default      0\n",
              "dtype: int64"
            ]
          },
          "metadata": {},
          "execution_count": 8
        }
      ]
    },
    {
      "cell_type": "markdown",
      "source": [
        "## Distribution of `limit_bal` \n",
        "First, we print out the histogram related to the distribution of `limit_bal`, which is the only continuous variable used."
      ],
      "metadata": {
        "id": "rfxyLfwJD4NF"
      }
    },
    {
      "cell_type": "code",
      "source": [
        "ax = dataset['limit_bal'].plot.hist(bins=5, alpha=0.5)"
      ],
      "metadata": {
        "colab": {
          "base_uri": "https://localhost:8080/",
          "height": 278
        },
        "id": "tPOZ_CEpCuIr",
        "outputId": "8885667d-efa9-4d77-9d38-dd6c96d1fe53"
      },
      "execution_count": 9,
      "outputs": [
        {
          "output_type": "display_data",
          "data": {
            "text/plain": [
              "<Figure size 432x288 with 1 Axes>"
            ],
            "image/png": "[encoded data removed]"
          },
          "metadata": {
            "needs_background": "light"
          }
        }
      ]
    },
    {
      "cell_type": "markdown",
      "source": [
        "Next, we describe the distribution. To discretize it, we would like to create four beams (i.e., corresponding to the four percentiles)."
      ],
      "metadata": {
        "id": "RLT0UNoOEfsD"
      }
    },
    {
      "cell_type": "code",
      "source": [
        "dataset['limit_bal'].describe()"
      ],
      "metadata": {
        "colab": {
          "base_uri": "https://localhost:8080/"
        },
        "id": "H9Ok3wXWCSHz",
        "outputId": "593419b2-048b-48c8-9837-285d246adddc"
      },
      "execution_count": 10,
      "outputs": [
        {
          "output_type": "execute_result",
          "data": {
            "text/plain": [
              "count      30000.000000\n",
              "mean      167484.322667\n",
              "std       129747.661567\n",
              "min        10000.000000\n",
              "25%        50000.000000\n",
              "50%       140000.000000\n",
              "75%       240000.000000\n",
              "max      1000000.000000\n",
              "Name: limit_bal, dtype: float64"
            ]
          },
          "metadata": {},
          "execution_count": 10
        }
      ]
    },
    {
      "cell_type": "markdown",
      "source": [
        "## Manipulation\n",
        "The *artificial column* `misspayments_prev_6_months` can hold either positive, negative numbers or 0. In particular, this means: \n",
        "1. $ n = -2 $ corresponds to there was no credit to pay;\n",
        "2. $ n = -1 $ corresponds to payed successfully;\n",
        "3. $ n = 0 $ corresponds to a payment that was made on time but not totally to clear the balance (i.e., the minimum payment was met);\n",
        "4. $ n > 0 $ corresponds to the number of delayed months.\n",
        "\n",
        "All computations - but `misspayments_prev_6_months` - are performed in a vectorized fashion using NumPy. The less efficient alternative would have used the `apply` method over Pandas DataFrame, which internally leverages a for loop."
      ],
      "metadata": {
        "id": "u_NZMq0IFLLN"
      }
    },
    {
      "cell_type": "code",
      "source": [
        "%%time\n",
        "\n",
        "def manipulate_dataset(df: pd.DataFrame) -> pd.DataFrame:\n",
        "  compute_misspayments = lambda payments_status: sum([payment_status > 0 for payment_status in payments_status])\n",
        "  df['sex'] = np.where(df['sex'] == 1, 'male', 'female')\n",
        "  df['marriage'] = np.where(df['marriage'] == 1, 'married', 'not_married')\n",
        "  df['age'] = np.select([\n",
        "              (df['age'] < 35), \n",
        "              (df['age'] >= 35) & (df['age'] < 60)],\n",
        "              ['young', 'mid_aged'], default = 'senior')\n",
        "  df['limit_bal'] = np.select([\n",
        "                    (df['limit_bal'] < 50_000), \n",
        "                    (df['limit_bal'] >= 50_000) & (df['limit_bal'] < 140_000),\n",
        "                    (df['limit_bal'] >= 140_000) & (df['limit_bal'] < 240_000)],\n",
        "                    ['low', 'medium', 'medium_high'], default = 'high')\n",
        "  df['education'] = np.select([\n",
        "                    (df['education'] == 1), \n",
        "                    (df['education'] == 2), \n",
        "                    (df['education'] == 3)], \n",
        "                    ['graduate', 'university', 'high_school'], default = 'others') \n",
        "  df['misspayments_prev_6_months'] = df.apply(lambda row: \\\n",
        "                                              compute_misspayments([row[column] for column in df.columns if 'pay_' in column]), \n",
        "                                              axis=1) #axis = 1 means row by row\n",
        "  return df.drop(columns=[column for column in df.columns if 'pay_' in column])\n",
        "\n",
        "dataset = manipulate_dataset(read_dataset(dataset_url))"
      ],
      "metadata": {
        "colab": {
          "base_uri": "https://localhost:8080/"
        },
        "id": "EZm6-KOqYe6r",
        "outputId": "66ba0c74-a613-4b8e-a4bd-1567534e1b84"
      },
      "execution_count": 11,
      "outputs": [
        {
          "output_type": "stream",
          "name": "stdout",
          "text": [
            "CPU times: user 1.86 s, sys: 60.6 ms, total: 1.92 s\n",
            "Wall time: 2.59 s\n"
          ]
        }
      ]
    },
    {
      "cell_type": "code",
      "source": [
        "print(f'The dataset contains {dataset.shape[0]} rows, {dataset.shape[1]} columns and it weighs {(dataset.memory_usage(index=True, deep=True).sum() / 10**6):.2f}MB')\n",
        "dataset.head()"
      ],
      "metadata": {
        "colab": {
          "base_uri": "https://localhost:8080/",
          "height": 255
        },
        "id": "XKClX88UF2IA",
        "outputId": "b636b4d9-4a4c-4e5f-949e-d18a3a948e7d"
      },
      "execution_count": 12,
      "outputs": [
        {
          "output_type": "stream",
          "name": "stdout",
          "text": [
            "The dataset contains 30000 rows, 7 columns and it weighs 10.37MB\n"
          ]
        },
        {
          "output_type": "execute_result",
          "data": {
            "text/plain": [
              "   limit_bal     sex   education     marriage       age  default  \\\n",
              "ID                                                                 \n",
              "1        low  female  university      married     young        1   \n",
              "2     medium  female  university  not_married     young        1   \n",
              "3     medium  female  university  not_married     young        0   \n",
              "4     medium  female  university      married  mid_aged        0   \n",
              "5     medium    male  university      married  mid_aged        0   \n",
              "\n",
              "    misspayments_prev_6_months  \n",
              "ID                              \n",
              "1                            2  \n",
              "2                            2  \n",
              "3                            0  \n",
              "4                            0  \n",
              "5                            0  "
            ],
            "text/html": [
              "\n",
              "  <div id=\"df-20131196-ff09-40fe-aadd-af4a87c52d65\">\n",
              "    <div class=\"colab-df-container\">\n",
              "      <div>\n",
              "<style scoped>\n",
              "    .dataframe tbody tr th:only-of-type {\n",
              "        vertical-align: middle;\n",
              "    }\n",
              "\n",
              "    .dataframe tbody tr th {\n",
              "        vertical-align: top;\n",
              "    }\n",
              "\n",
              "    .dataframe thead th {\n",
              "        text-align: right;\n",
              "    }\n",
              "</style>\n",
              "<table border=\"1\" class=\"dataframe\">\n",
              "  <thead>\n",
              "    <tr style=\"text-align: right;\">\n",
              "      <th></th>\n",
              "      <th>limit_bal</th>\n",
              "      <th>sex</th>\n",
              "      <th>education</th>\n",
              "      <th>marriage</th>\n",
              "      <th>age</th>\n",
              "      <th>default</th>\n",
              "      <th>misspayments_prev_6_months</th>\n",
              "    </tr>\n",
              "    <tr>\n",
              "      <th>ID</th>\n",
              "      <th></th>\n",
              "      <th></th>\n",
              "      <th></th>\n",
              "      <th></th>\n",
              "      <th></th>\n",
              "      <th></th>\n",
              "      <th></th>\n",
              "    </tr>\n",
              "  </thead>\n",
              "  <tbody>\n",
              "    <tr>\n",
              "      <th>1</th>\n",
              "      <td>low</td>\n",
              "      <td>female</td>\n",
              "      <td>university</td>\n",
              "      <td>married</td>\n",
              "      <td>young</td>\n",
              "      <td>1</td>\n",
              "      <td>2</td>\n",
              "    </tr>\n",
              "    <tr>\n",
              "      <th>2</th>\n",
              "      <td>medium</td>\n",
              "      <td>female</td>\n",
              "      <td>university</td>\n",
              "      <td>not_married</td>\n",
              "      <td>young</td>\n",
              "      <td>1</td>\n",
              "      <td>2</td>\n",
              "    </tr>\n",
              "    <tr>\n",
              "      <th>3</th>\n",
              "      <td>medium</td>\n",
              "      <td>female</td>\n",
              "      <td>university</td>\n",
              "      <td>not_married</td>\n",
              "      <td>young</td>\n",
              "      <td>0</td>\n",
              "      <td>0</td>\n",
              "    </tr>\n",
              "    <tr>\n",
              "      <th>4</th>\n",
              "      <td>medium</td>\n",
              "      <td>female</td>\n",
              "      <td>university</td>\n",
              "      <td>married</td>\n",
              "      <td>mid_aged</td>\n",
              "      <td>0</td>\n",
              "      <td>0</td>\n",
              "    </tr>\n",
              "    <tr>\n",
              "      <th>5</th>\n",
              "      <td>medium</td>\n",
              "      <td>male</td>\n",
              "      <td>university</td>\n",
              "      <td>married</td>\n",
              "      <td>mid_aged</td>\n",
              "      <td>0</td>\n",
              "      <td>0</td>\n",
              "    </tr>\n",
              "  </tbody>\n",
              "</table>\n",
              "</div>\n",
              "      <button class=\"colab-df-convert\" onclick=\"convertToInteractive('df-20131196-ff09-40fe-aadd-af4a87c52d65')\"\n",
              "              title=\"Convert this dataframe to an interactive table.\"\n",
              "              style=\"display:none;\">\n",
              "        \n",
              "  <svg xmlns=\"http://www.w3.org/2000/svg\" height=\"24px\"viewBox=\"0 0 24 24\"\n",
              "       width=\"24px\">\n",
              "    <path d=\"M0 0h24v24H0V0z\" fill=\"none\"/>\n",
              "    <path d=\"M18.56 5.44l.94 2.06.94-2.06 2.06-.94-2.06-.94-.94-2.06-.94 2.06-2.06.94zm-11 1L8.5 8.5l.94-2.06 2.06-.94-2.06-.94L8.5 2.5l-.94 2.06-2.06.94zm10 10l.94 2.06.94-2.06 2.06-.94-2.06-.94-.94-2.06-.94 2.06-2.06.94z\"/><path d=\"M17.41 7.96l-1.37-1.37c-.4-.4-.92-.59-1.43-.59-.52 0-1.04.2-1.43.59L10.3 9.45l-7.72 7.72c-.78.78-.78 2.05 0 2.83L4 21.41c.39.39.9.59 1.41.59.51 0 1.02-.2 1.41-.59l7.78-7.78 2.81-2.81c.8-.78.8-2.07 0-2.86zM5.41 20L4 18.59l7.72-7.72 1.47 1.35L5.41 20z\"/>\n",
              "  </svg>\n",
              "      </button>\n",
              "      \n",
              "  <style>\n",
              "    .colab-df-container {\n",
              "      display:flex;\n",
              "      flex-wrap:wrap;\n",
              "      gap: 12px;\n",
              "    }\n",
              "\n",
              "    .colab-df-convert {\n",
              "      background-color: #E8F0FE;\n",
              "      border: none;\n",
              "      border-radius: 50%;\n",
              "      cursor: pointer;\n",
              "      display: none;\n",
              "      fill: #1967D2;\n",
              "      height: 32px;\n",
              "      padding: 0 0 0 0;\n",
              "      width: 32px;\n",
              "    }\n",
              "\n",
              "    .colab-df-convert:hover {\n",
              "      background-color: #E2EBFA;\n",
              "      box-shadow: 0px 1px 2px rgba(60, 64, 67, 0.3), 0px 1px 3px 1px rgba(60, 64, 67, 0.15);\n",
              "      fill: #174EA6;\n",
              "    }\n",
              "\n",
              "    [theme=dark] .colab-df-convert {\n",
              "      background-color: #3B4455;\n",
              "      fill: #D2E3FC;\n",
              "    }\n",
              "\n",
              "    [theme=dark] .colab-df-convert:hover {\n",
              "      background-color: #434B5C;\n",
              "      box-shadow: 0px 1px 3px 1px rgba(0, 0, 0, 0.15);\n",
              "      filter: drop-shadow(0px 1px 2px rgba(0, 0, 0, 0.3));\n",
              "      fill: #FFFFFF;\n",
              "    }\n",
              "  </style>\n",
              "\n",
              "      <script>\n",
              "        const buttonEl =\n",
              "          document.querySelector('#df-20131196-ff09-40fe-aadd-af4a87c52d65 button.colab-df-convert');\n",
              "        buttonEl.style.display =\n",
              "          google.colab.kernel.accessAllowed ? 'block' : 'none';\n",
              "\n",
              "        async function convertToInteractive(key) {\n",
              "          const element = document.querySelector('#df-20131196-ff09-40fe-aadd-af4a87c52d65');\n",
              "          const dataTable =\n",
              "            await google.colab.kernel.invokeFunction('convertToInteractive',\n",
              "                                                     [key], {});\n",
              "          if (!dataTable) return;\n",
              "\n",
              "          const docLinkHtml = 'Like what you see? Visit the ' +\n",
              "            '<a target=\"_blank\" href=https://colab.research.google.com/notebooks/data_table.ipynb>data table notebook</a>'\n",
              "            + ' to learn more about interactive tables.';\n",
              "          element.innerHTML = '';\n",
              "          dataTable['output_type'] = 'display_data';\n",
              "          await google.colab.output.renderOutput(dataTable, element);\n",
              "          const docLink = document.createElement('div');\n",
              "          docLink.innerHTML = docLinkHtml;\n",
              "          element.appendChild(docLink);\n",
              "        }\n",
              "      </script>\n",
              "    </div>\n",
              "  </div>\n",
              "  "
            ]
          },
          "metadata": {},
          "execution_count": 12
        }
      ]
    },
    {
      "cell_type": "markdown",
      "source": [
        "## States\n",
        "TBC: Description of final dataset and its values\n",
        "List - for each variable - the associated states, i.e. every possibile unique value in the domain $D$ of a random variable."
      ],
      "metadata": {
        "id": "Z3u2NRfk8mhE"
      }
    },
    {
      "cell_type": "code",
      "source": [
        "{col_name: column.unique() for col_name, column in dataset.iteritems()}"
      ],
      "metadata": {
        "colab": {
          "base_uri": "https://localhost:8080/"
        },
        "id": "O5WkHilneu26",
        "outputId": "ca5fa734-fbe1-424b-ce5e-b72740c0b324"
      },
      "execution_count": 13,
      "outputs": [
        {
          "output_type": "execute_result",
          "data": {
            "text/plain": [
              "{'limit_bal': array(['low', 'medium', 'high', 'medium_high'], dtype=object),\n",
              " 'sex': array(['female', 'male'], dtype=object),\n",
              " 'education': array(['university', 'graduate', 'high_school', 'others'], dtype=object),\n",
              " 'marriage': array(['married', 'not_married'], dtype=object),\n",
              " 'age': array(['young', 'mid_aged', 'senior'], dtype=object),\n",
              " 'default': array([1, 0]),\n",
              " 'misspayments_prev_6_months': array([2, 0, 1, 4, 5, 6, 3])}"
            ]
          },
          "metadata": {},
          "execution_count": 13
        }
      ]
    },
    {
      "cell_type": "markdown",
      "source": [
        "## Train/test splitting"
      ],
      "metadata": {
        "id": "lEC3R1T65J99"
      }
    },
    {
      "cell_type": "code",
      "source": [
        "X_train, X_test, y_train, y_test = train_test_split(dataset.drop('default', axis=1), dataset['default'], \\\n",
        "                                                    test_size=test_ratio, random_state=random_seed, \\\n",
        "                                                    stratify=dataset['default'])\n",
        "train = pd.concat([X_train, y_train], axis=1)\n",
        "test = pd.concat([X_test, y_test], axis=1)\n",
        "print(\"Training set size: \" + str(train.shape[0]))\n",
        "print(\"Test set size: \" + str(test.shape[0]))\n",
        "print(\"Total size: \" + str(train.shape[0] + test.shape[0]))"
      ],
      "metadata": {
        "colab": {
          "base_uri": "https://localhost:8080/"
        },
        "id": "ovyfpjEzsGl9",
        "outputId": "f3c29951-b2e6-4809-88fa-e507a86e7113"
      },
      "execution_count": 14,
      "outputs": [
        {
          "output_type": "stream",
          "name": "stdout",
          "text": [
            "Training set size: 24000\n",
            "Test set size: 6000\n",
            "Total size: 30000\n"
          ]
        }
      ]
    },
    {
      "cell_type": "markdown",
      "source": [
        "# Utility functions"
      ],
      "metadata": {
        "id": "MnSOLJKphvyI"
      }
    },
    {
      "cell_type": "markdown",
      "source": [
        "## Plotting networks"
      ],
      "metadata": {
        "id": "VKu1kz41iFsJ"
      }
    },
    {
      "cell_type": "code",
      "source": [
        "def plot_network(network: 'DAG', name: str = 'Network', save_image: bool = False):\n",
        "  fig, ax = plt.subplots(1, 1, figsize=(12, 12))\n",
        "  nx.draw_networkx(network, pos=nx.drawing.layout.circular_layout(network), ax=ax, node_size=5000)\n",
        "  ax.set_title(name)\n",
        "  if save_image:\n",
        "    fig.savefig(name)"
      ],
      "metadata": {
        "id": "R2ufY3e2TlqM"
      },
      "execution_count": 15,
      "outputs": []
    },
    {
      "cell_type": "markdown",
      "source": [
        "## Parameter learning (CDPs)\n",
        "Parameter are estimated given an already-defined $DAG = \\{V, E\\}$. The estimation is related to every random variable's *CPT*."
      ],
      "metadata": {
        "id": "UCWtVvwGiCWU"
      }
    },
    {
      "cell_type": "code",
      "source": [
        "def fit_bayesian_network(bayesian_network: BayesianNetwork, prior_type: str = 'BDeu', print_cpd: bool = False) -> tuple[BayesianNetwork, list]:\n",
        "  bayesian_network.fit(train, estimator=BayesianEstimator, prior_type = prior_type)\n",
        "  print('The CPDs contain', 'no' if bayesian_network.check_model() else 'some', 'errors.')\n",
        "  bn_cpds = bayesian_network.get_cpds()\n",
        "  if print_cpd:\n",
        "    TabularCPD._truncate_strtable = lambda self, x: x\n",
        "    for cpd in bn_cpds:\n",
        "      print(cpd)\n",
        "  return bayesian_network, bn_cpds"
      ],
      "metadata": {
        "id": "waaEVmpBcPVZ"
      },
      "execution_count": 16,
      "outputs": []
    },
    {
      "cell_type": "markdown",
      "source": [
        "# Hard-coded networks"
      ],
      "metadata": {
        "id": "vwiKvcYamCqs"
      }
    },
    {
      "cell_type": "markdown",
      "source": [
        "## Easy"
      ],
      "metadata": {
        "id": "X7VuShgwTPKn"
      }
    },
    {
      "cell_type": "code",
      "source": [
        "model_easy = BayesianNetwork([('education', 'limit_bal'), ('age', 'limit_bal'), \\\n",
        "                       ('marriage', 'limit_bal'), ('sex', 'limit_bal'), \\\n",
        "                       ('limit_bal', 'default'), ('misspayments_prev_6_months', 'default')])\n",
        "plot_network(model_easy, 'Easy model')\n",
        "model_easy, model_easy_cpds = fit_bayesian_network(model_easy, prior_type = 'BDeu', print_cpd = False)"
      ],
      "metadata": {
        "id": "7AUSDFAp6byr",
        "colab": {
          "base_uri": "https://localhost:8080/",
          "height": 717
        },
        "outputId": "568ada11-bef5-44e4-da74-4bd1223ff287"
      },
      "execution_count": 17,
      "outputs": [
        {
          "output_type": "stream",
          "name": "stdout",
          "text": [
            "The CPDs contain no errors.\n"
          ]
        },
        {
          "output_type": "display_data",
          "data": {
            "text/plain": [
              "<Figure size 864x864 with 1 Axes>"
            ],
            "image/png": "[encoded data removed]"
          },
          "metadata": {}
        }
      ]
    },
    {
      "cell_type": "markdown",
      "source": [
        "## Medium"
      ],
      "metadata": {
        "id": "9TLoUVx9Tf11"
      }
    },
    {
      "cell_type": "code",
      "source": [
        "model_medium = BayesianNetwork([(\"age\", \"marriage\"), (\"age\", \"education\"), \\\n",
        "                       (\"age\", \"education\"),(\"age\", \"default\"), \\\n",
        "                       (\"education\", \"limit_bal\"), (\"marriage\", \"limit_bal\"), \\\n",
        "                       (\"limit_bal\", \"default\"), (\"sex\", \"limit_bal\"), \\\n",
        "                       (\"misspayments_prev_6_months\", \"default\")])\n",
        "plot_network(model_medium, 'Medium model')\n",
        "model_medium, model_medium_cpds = fit_bayesian_network(model_medium, prior_type = 'BDeu', print_cpd = False)"
      ],
      "metadata": {
        "colab": {
          "base_uri": "https://localhost:8080/",
          "height": 717
        },
        "id": "3Wd8lrnRThli",
        "outputId": "e0e92cd4-841e-405c-c026-f0b0c126773b"
      },
      "execution_count": 18,
      "outputs": [
        {
          "output_type": "stream",
          "name": "stdout",
          "text": [
            "The CPDs contain no errors.\n"
          ]
        },
        {
          "output_type": "display_data",
          "data": {
            "text/plain": [
              "<Figure size 864x864 with 1 Axes>"
            ],
            "image/png": "[encoded data removed]"
          },
          "metadata": {}
        }
      ]
    },
    {
      "cell_type": "markdown",
      "source": [
        "## Hard"
      ],
      "metadata": {
        "id": "N85YmhGiUbUW"
      }
    },
    {
      "cell_type": "code",
      "source": [
        "model_hard = BayesianNetwork([(\"age\", \"marriage\"), (\"age\", \"education\"), \\\n",
        "                       (\"age\", \"education\"),(\"age\", \"default\"), \\\n",
        "                       (\"education\", \"limit_bal\"), (\"marriage\", \"limit_bal\"), \\\n",
        "                       (\"limit_bal\", \"default\"), (\"sex\", \"limit_bal\"), \\\n",
        "                       (\"misspayments_prev_6_months\", \"default\"), (\"education\", \"default\"), \\\n",
        "                       (\"marriage\", \"default\")])\n",
        "plot_network(model_hard, 'Hard model')\n",
        "model_hard, model_hard_cpds = fit_bayesian_network(model_hard, prior_type = 'BDeu', print_cpd = False)"
      ],
      "metadata": {
        "colab": {
          "base_uri": "https://localhost:8080/",
          "height": 717
        },
        "id": "oGUDmuoUUc4p",
        "outputId": "a5b92259-b1f8-49f0-fa05-04c25bc50e48"
      },
      "execution_count": 19,
      "outputs": [
        {
          "output_type": "stream",
          "name": "stdout",
          "text": [
            "The CPDs contain no errors.\n"
          ]
        },
        {
          "output_type": "display_data",
          "data": {
            "text/plain": [
              "<Figure size 864x864 with 1 Axes>"
            ],
            "image/png": "[encoded data removed]"
          },
          "metadata": {}
        }
      ]
    },
    {
      "cell_type": "markdown",
      "source": [
        "# Structural-learned models\n",
        "Since query results are poor when comparing the three different models, there is likely no difference betwee the three represetations and thus, we should seek a different model structure."
      ],
      "metadata": {
        "id": "Fft2zheucHit"
      }
    },
    {
      "cell_type": "markdown",
      "source": [
        "## Exhaustive Search\n",
        "Since the ES algorithm cost is super-exponential, it's suited only for small BN, i.e. for networks having less than 5 nodes. In our case, this method is computationally inadequate so will not be included in the networks. "
      ],
      "metadata": {
        "id": "_q7e4jWeiGck"
      }
    },
    {
      "cell_type": "code",
      "source": [
        "#ex_search = ExhaustiveSearch(data=train, scoring_method=BicScore(data=train))\n",
        "#ex_search_model = ex_search.estimate()\n",
        "#plot_network(ex_search_model, 'Structural Learning - Exhaustive search')\n",
        "#ex_search_model = BayesianNetwork(ex_search_model.edges())\n",
        "#ex_search_model, ex_search_model_cpds = fit_bayesian_network(ex_search_model, prior_type = 'BDeu', print_cpd = False)"
      ],
      "metadata": {
        "id": "S0OW-sDSiMNH"
      },
      "execution_count": 20,
      "outputs": []
    },
    {
      "cell_type": "markdown",
      "source": [
        "## Tree Search"
      ],
      "metadata": {
        "id": "F1L7aZiXatnj"
      }
    },
    {
      "cell_type": "code",
      "source": [
        "ts = TreeSearch(data=train, root_node='age')\n",
        "tree_search_model = ts.estimate(show_progress=True)\n",
        "plot_network(tree_search_model, 'Structural Learning - Tree Search')\n",
        "tree_search_model = BayesianNetwork(tree_search_model.edges())\n",
        "tree_search_model, tree_search_cpds = fit_bayesian_network(tree_search_model, prior_type = 'BDeu', print_cpd = False)"
      ],
      "metadata": {
        "colab": {
          "base_uri": "https://localhost:8080/",
          "referenced_widgets": [
            "b81d09f58aa74fb49b5b5adc94654684",
            "cd71287c79d646f38c9cd0a4529a7287",
            "12cfd572a1d0467d91c837a2d734f687",
            "8665bcdd38d645b0bf6c827cbd5b4f4a",
            "873f667019744876941c696771b86ba8",
            "fbd51b8890cc4040bf63f38287fa26b9",
            "b9af7f46203d481f8c80ecfc261b76ef",
            "25ae8eb955a44496b9d05ce1ad398382",
            "d9407fca767a44728f40d180a4f10d84",
            "1111344bef1d418cac6b886be911d870",
            "34f1472e9346457398288828d5a99eb1"
          ],
          "height": 749
        },
        "id": "SbOibh7fckkw",
        "outputId": "2fe1d5a8-75b1-4424-c368-221d0f3f03c2"
      },
      "execution_count": 21,
      "outputs": [
        {
          "output_type": "display_data",
          "data": {
            "text/plain": [
              "Building tree:   0%|          | 0/21.0 [00:00<?, ?it/s]"
            ],
            "application/vnd.jupyter.widget-view+json": {
              "version_major": 2,
              "version_minor": 0,
              "model_id": "b81d09f58aa74fb49b5b5adc94654684"
            }
          },
          "metadata": {}
        },
        {
          "output_type": "stream",
          "name": "stdout",
          "text": [
            "The CPDs contain no errors.\n"
          ]
        },
        {
          "output_type": "display_data",
          "data": {
            "text/plain": [
              "<Figure size 864x864 with 1 Axes>"
            ],
            "image/png": "[encoded data removed]"
          },
          "metadata": {}
        }
      ]
    },
    {
      "cell_type": "markdown",
      "source": [
        "## Hill Climb"
      ],
      "metadata": {
        "id": "_LZV7liEaxIA"
      }
    },
    {
      "cell_type": "code",
      "source": [
        "hill_climb = HillClimbSearch(data=train)\n",
        "hill_climb_base_model = hill_climb.estimate(scoring_method=BDeuScore(data=train), show_progress=True)\n",
        "plot_network(hill_climb_base_model, 'Structural Learning - Hill Climb')\n",
        "hill_climb_base_model = BayesianNetwork(hill_climb_base_model.edges())\n",
        "hill_climb_base_model, hill_climb_base_cpds = fit_bayesian_network(hill_climb_base_model, prior_type = 'BDeu', print_cpd = False)"
      ],
      "metadata": {
        "id": "4yn0JlThnbbO",
        "colab": {
          "base_uri": "https://localhost:8080/",
          "referenced_widgets": [
            "6e526db358bf49a6ae8e17714ce3925e",
            "bc576dc3705a4a9e8b937b6628e4e24a",
            "98eb31cce38f49219dc215347682a61d",
            "909edf9d991245abacd0b4070bc34822",
            "671ddd6110bd4871864302c08f7f64b6",
            "152cdce49de04e7699841984c89e59e5",
            "93b1f5a28a5c42cba808ce03b75f1032",
            "7f86978b247244339a4e1bcd646dc250",
            "da6f081eee4249369e40103b9b0fc76e",
            "fad2ba21dfa64d81bebcbce484cb2a16",
            "969b01d6b05c4ca38cef5dba9cf1c2d3"
          ],
          "height": 749
        },
        "outputId": "e8fb3727-6d0f-45dc-b9ce-db7af4ab6baa"
      },
      "execution_count": 22,
      "outputs": [
        {
          "output_type": "display_data",
          "data": {
            "text/plain": [
              "  0%|          | 0/1000000 [00:00<?, ?it/s]"
            ],
            "application/vnd.jupyter.widget-view+json": {
              "version_major": 2,
              "version_minor": 0,
              "model_id": "6e526db358bf49a6ae8e17714ce3925e"
            }
          },
          "metadata": {}
        },
        {
          "output_type": "stream",
          "name": "stdout",
          "text": [
            "The CPDs contain no errors.\n"
          ]
        },
        {
          "output_type": "display_data",
          "data": {
            "text/plain": [
              "<Figure size 864x864 with 1 Axes>"
            ],
            "image/png": "[encoded data removed]"
          },
          "metadata": {}
        }
      ]
    },
    {
      "cell_type": "markdown",
      "source": [
        "## Constrained Hill Climb"
      ],
      "metadata": {
        "id": "o0-eOFTwvzH-"
      }
    },
    {
      "cell_type": "code",
      "source": [
        "edges_white_list = [('misspayments_prev_6_months', 'default'), ('age','limit_bal')]\n",
        "edges_black_list = [('limit_bal', 'sex'), ('education', 'sex'), ('age', 'sex')]\n",
        "\n",
        "hill_climb = HillClimbSearch(data=train)\n",
        "constr_hill_climb_model = hill_climb.estimate(scoring_method=BDeuScore(data=train), fixed_edges=edges_white_list, \\\n",
        "                                              black_list=edges_black_list, show_progress=True)\n",
        "constr_hill_climb_model = BayesianNetwork(constr_hill_climb_model.edges())\n",
        "plot_network(constr_hill_climb_model, 'Structural Learning - Constrained Hill Climb')\n",
        "constr_hill_climb_model, hill_climb_constr_cpds = fit_bayesian_network(constr_hill_climb_model, prior_type = 'BDeu', print_cpd = False)"
      ],
      "metadata": {
        "colab": {
          "base_uri": "https://localhost:8080/",
          "referenced_widgets": [
            "024138f58551424bb17cb93d0c9a53ce",
            "fa57918e7fbc4a158f084bae3bfe187b",
            "78976c6d566742ac947d35e99e59e27d",
            "37480b883c0b4587a7952e2b0431cf41",
            "9e179c94fd314cb398d3fbc3a8b2098d",
            "0f3e85b51a7143b987da5849e8ac0f7c",
            "32e10705ef32409eb8284b3b930a4410",
            "2996df96482c4d3fa6345e3b741d9b76",
            "5b7115d28f404ef1a811c1ed0bbfbbb7",
            "f67a11aad5094b939b7b3d0390205a89",
            "f257c3b171eb483a8363d4b111edfd66"
          ],
          "height": 749
        },
        "id": "-YNRZhCeoOjZ",
        "outputId": "7da6b2a5-5ed6-4ed3-ab29-756e56538802"
      },
      "execution_count": 23,
      "outputs": [
        {
          "output_type": "display_data",
          "data": {
            "text/plain": [
              "  0%|          | 0/1000000 [00:00<?, ?it/s]"
            ],
            "application/vnd.jupyter.widget-view+json": {
              "version_major": 2,
              "version_minor": 0,
              "model_id": "024138f58551424bb17cb93d0c9a53ce"
            }
          },
          "metadata": {}
        },
        {
          "output_type": "stream",
          "name": "stdout",
          "text": [
            "The CPDs contain no errors.\n"
          ]
        },
        {
          "output_type": "display_data",
          "data": {
            "text/plain": [
              "<Figure size 864x864 with 1 Axes>"
            ],
            "image/png": "[encoded data removed]"
          },
          "metadata": {}
        }
      ]
    },
    {
      "cell_type": "markdown",
      "source": [
        "# Network analysis"
      ],
      "metadata": {
        "id": "Dd3Yk8IoaYvj"
      }
    },
    {
      "cell_type": "markdown",
      "source": [
        "We now have six differently designed Bayesian Networks with CPDs. Let's use the Pgmpy library to explore the local semantics or the networks and their Markov Blankets."
      ],
      "metadata": {
        "id": "L9Nh6xbIuovx"
      }
    },
    {
      "cell_type": "code",
      "source": [
        "models = [(\"EASY\", model_easy), (\"MEDIUM\", model_medium), (\"HARD\", model_hard) \\\n",
        "          ,(\"TREE SEARCH\", tree_search_model), (\"HILL CLIMB\", hill_climb_base_model), (\"CONSTRAINED HILL CLIMB\", constr_hill_climb_model)]\n",
        "nodes = [col_name for col_name, column in dataset.iteritems()]\n",
        "\n",
        "for model in models:\n",
        "  print_bold(os.linesep + model[0] + os.linesep)\n",
        "  print_bold('Local semantics:')\n",
        "  print(model[1].local_independencies(nodes))\n",
        "  print_bold('Markov Blankets:')\n",
        "  for node in nodes:\n",
        "    print(f'Markov blanket of node {node}:', str(model[1].get_markov_blanket(node)))"
      ],
      "metadata": {
        "id": "Q2npc9fWabXu",
        "colab": {
          "base_uri": "https://localhost:8080/"
        },
        "outputId": "f887b44a-ea26-4d86-e725-278388a16066"
      },
      "execution_count": 24,
      "outputs": [
        {
          "output_type": "stream",
          "name": "stdout",
          "text": [
            "\u001b[1m\n",
            "EASY\n",
            "\u001b[0m\n",
            "\u001b[1mLocal semantics:\u001b[0m\n",
            "(limit_bal ⟂ misspayments_prev_6_months | age, sex, marriage, education)\n",
            "(sex ⟂ age, marriage, misspayments_prev_6_months, education)\n",
            "(education ⟂ sex, marriage, misspayments_prev_6_months, age)\n",
            "(marriage ⟂ age, sex, misspayments_prev_6_months, education)\n",
            "(age ⟂ sex, marriage, misspayments_prev_6_months, education)\n",
            "(default ⟂ age, sex, marriage, education | misspayments_prev_6_months, limit_bal)\n",
            "(misspayments_prev_6_months ⟂ marriage, limit_bal, age, sex, education)\n",
            "\u001b[1mMarkov Blankets:\u001b[0m\n",
            "Markov blanket of node limit_bal: ['marriage', 'misspayments_prev_6_months', 'education', 'age', 'default', 'sex']\n",
            "Markov blanket of node sex: ['marriage', 'limit_bal', 'education', 'age']\n",
            "Markov blanket of node education: ['marriage', 'limit_bal', 'age', 'sex']\n",
            "Markov blanket of node marriage: ['limit_bal', 'education', 'age', 'sex']\n",
            "Markov blanket of node age: ['marriage', 'limit_bal', 'education', 'sex']\n",
            "Markov blanket of node default: ['misspayments_prev_6_months', 'limit_bal']\n",
            "Markov blanket of node misspayments_prev_6_months: ['limit_bal', 'default']\n",
            "\u001b[1m\n",
            "MEDIUM\n",
            "\u001b[0m\n",
            "\u001b[1mLocal semantics:\u001b[0m\n",
            "(limit_bal ⟂ misspayments_prev_6_months, age | sex, marriage, education)\n",
            "(sex ⟂ age, marriage, misspayments_prev_6_months, education)\n",
            "(education ⟂ sex, misspayments_prev_6_months, marriage | age)\n",
            "(marriage ⟂ sex, misspayments_prev_6_months, education | age)\n",
            "(age ⟂ misspayments_prev_6_months, sex)\n",
            "(default ⟂ sex, marriage, education | misspayments_prev_6_months, limit_bal, age)\n",
            "(misspayments_prev_6_months ⟂ marriage, limit_bal, age, sex, education)\n",
            "\u001b[1mMarkov Blankets:\u001b[0m\n",
            "Markov blanket of node limit_bal: ['marriage', 'misspayments_prev_6_months', 'education', 'age', 'default', 'sex']\n",
            "Markov blanket of node sex: ['marriage', 'limit_bal', 'education']\n",
            "Markov blanket of node education: ['marriage', 'limit_bal', 'age', 'sex']\n",
            "Markov blanket of node marriage: ['limit_bal', 'education', 'age', 'sex']\n",
            "Markov blanket of node age: ['marriage', 'limit_bal', 'misspayments_prev_6_months', 'education', 'default']\n",
            "Markov blanket of node default: ['misspayments_prev_6_months', 'limit_bal', 'age']\n",
            "Markov blanket of node misspayments_prev_6_months: ['limit_bal', 'age', 'default']\n",
            "\u001b[1m\n",
            "HARD\n",
            "\u001b[0m\n",
            "\u001b[1mLocal semantics:\u001b[0m\n",
            "(limit_bal ⟂ misspayments_prev_6_months, age | sex, marriage, education)\n",
            "(sex ⟂ age, marriage, misspayments_prev_6_months, education)\n",
            "(education ⟂ sex, misspayments_prev_6_months, marriage | age)\n",
            "(marriage ⟂ sex, misspayments_prev_6_months, education | age)\n",
            "(age ⟂ misspayments_prev_6_months, sex)\n",
            "(default ⟂ sex | marriage, limit_bal, age, misspayments_prev_6_months, education)\n",
            "(misspayments_prev_6_months ⟂ marriage, limit_bal, age, sex, education)\n",
            "\u001b[1mMarkov Blankets:\u001b[0m\n",
            "Markov blanket of node limit_bal: ['marriage', 'misspayments_prev_6_months', 'education', 'age', 'default', 'sex']\n",
            "Markov blanket of node sex: ['marriage', 'limit_bal', 'education']\n",
            "Markov blanket of node education: ['marriage', 'limit_bal', 'misspayments_prev_6_months', 'age', 'default', 'sex']\n",
            "Markov blanket of node marriage: ['limit_bal', 'misspayments_prev_6_months', 'education', 'age', 'default', 'sex']\n",
            "Markov blanket of node age: ['marriage', 'limit_bal', 'misspayments_prev_6_months', 'education', 'default']\n",
            "Markov blanket of node default: ['marriage', 'limit_bal', 'misspayments_prev_6_months', 'education', 'age']\n",
            "Markov blanket of node misspayments_prev_6_months: ['marriage', 'limit_bal', 'education', 'age', 'default']\n",
            "\u001b[1m\n",
            "TREE SEARCH\n",
            "\u001b[0m\n",
            "\u001b[1mLocal semantics:\u001b[0m\n",
            "(limit_bal ⟂ marriage, age | education)\n",
            "(sex ⟂ marriage, age, default, misspayments_prev_6_months, education | limit_bal)\n",
            "(education ⟂ marriage | age)\n",
            "(marriage ⟂ sex, limit_bal, default, misspayments_prev_6_months, education | age)\n",
            "(default ⟂ marriage, limit_bal, age, sex, education | misspayments_prev_6_months)\n",
            "(misspayments_prev_6_months ⟂ age, sex, marriage, education | limit_bal)\n",
            "\u001b[1mMarkov Blankets:\u001b[0m\n",
            "Markov blanket of node limit_bal: ['education', 'misspayments_prev_6_months', 'sex']\n",
            "Markov blanket of node sex: ['limit_bal']\n",
            "Markov blanket of node education: ['limit_bal', 'age']\n",
            "Markov blanket of node marriage: ['age']\n",
            "Markov blanket of node age: ['marriage', 'education']\n",
            "Markov blanket of node default: ['misspayments_prev_6_months']\n",
            "Markov blanket of node misspayments_prev_6_months: ['limit_bal', 'default']\n",
            "\u001b[1m\n",
            "HILL CLIMB\n",
            "\u001b[0m\n",
            "\u001b[1mLocal semantics:\u001b[0m\n",
            "(sex ⟂ misspayments_prev_6_months | limit_bal, default)\n",
            "(education ⟂ misspayments_prev_6_months, sex, default | marriage, limit_bal, age)\n",
            "(marriage ⟂ misspayments_prev_6_months, default | sex, limit_bal, age)\n",
            "(age ⟂ misspayments_prev_6_months, default | sex, limit_bal)\n",
            "\u001b[1mMarkov Blankets:\u001b[0m\n",
            "Markov blanket of node limit_bal: ['marriage', 'misspayments_prev_6_months', 'education', 'age', 'default', 'sex']\n",
            "Markov blanket of node sex: ['marriage', 'limit_bal', 'age', 'default']\n",
            "Markov blanket of node education: ['marriage', 'limit_bal', 'age']\n",
            "Markov blanket of node marriage: ['limit_bal', 'education', 'age', 'sex']\n",
            "Markov blanket of node age: ['marriage', 'limit_bal', 'education', 'sex']\n",
            "Markov blanket of node default: ['misspayments_prev_6_months', 'limit_bal', 'sex']\n",
            "Markov blanket of node misspayments_prev_6_months: ['limit_bal', 'default']\n",
            "\u001b[1m\n",
            "CONSTRAINED HILL CLIMB\n",
            "\u001b[0m\n",
            "\u001b[1mLocal semantics:\u001b[0m\n",
            "(limit_bal ⟂ sex | age, marriage, education)\n",
            "(sex ⟂ education)\n",
            "(education ⟂ sex)\n",
            "(default ⟂ age, sex, marriage, education | misspayments_prev_6_months, limit_bal)\n",
            "(misspayments_prev_6_months ⟂ age, sex, marriage, education | limit_bal)\n",
            "\u001b[1mMarkov Blankets:\u001b[0m\n",
            "Markov blanket of node limit_bal: ['marriage', 'misspayments_prev_6_months', 'education', 'age', 'default']\n",
            "Markov blanket of node sex: ['education', 'marriage', 'age']\n",
            "Markov blanket of node education: ['marriage', 'limit_bal', 'age', 'sex']\n",
            "Markov blanket of node marriage: ['limit_bal', 'education', 'age', 'sex']\n",
            "Markov blanket of node age: ['marriage', 'limit_bal', 'education', 'sex']\n",
            "Markov blanket of node default: ['misspayments_prev_6_months', 'limit_bal']\n",
            "Markov blanket of node misspayments_prev_6_months: ['limit_bal', 'default']\n"
          ]
        }
      ]
    },
    {
      "cell_type": "markdown",
      "source": [
        "Let's see how the three characterising types of a Bayesian Network (common parent, cascade and V-structure) impact indipendencies within the networks."
      ],
      "metadata": {
        "id": "qf6fenWv7J1d"
      }
    },
    {
      "cell_type": "markdown",
      "source": [
        "__Common parent__:\n",
        "\n",
        "In TREE SEARCH,we have that _marriage_ <- _age_ -> _education_. Hence we say that _age_ is a common parent to _marriage_ and _education_. Let's visualise the independencies that it generates:"
      ],
      "metadata": {
        "id": "jc-nUt967liL"
      }
    },
    {
      "cell_type": "code",
      "source": [
        "print(tree_search_model.local_independencies(['age', 'marriage', 'education']))"
      ],
      "metadata": {
        "colab": {
          "base_uri": "https://localhost:8080/"
        },
        "id": "3yA1u1j17oys",
        "outputId": "c60f4a19-437c-424b-9248-b511e903b367"
      },
      "execution_count": 25,
      "outputs": [
        {
          "output_type": "stream",
          "name": "stdout",
          "text": [
            "(marriage ⟂ sex, limit_bal, default, misspayments_prev_6_months, education | age)\n",
            "(education ⟂ marriage | age)\n"
          ]
        }
      ]
    },
    {
      "cell_type": "markdown",
      "source": [
        "This shows how education and marriage are indipendent given age, which is indeed a result given by their structure in the network. Moreover, we can see that since _age_ is the only node in the Markov Blanket of _marriage_, the latter is indeed indipendent to the rest of the network given _age_."
      ],
      "metadata": {
        "id": "bgMisfZGAgDW"
      }
    },
    {
      "cell_type": "markdown",
      "source": [
        "__Cascade__:"
      ],
      "metadata": {
        "id": "MdxW3uEpCx2D"
      }
    },
    {
      "cell_type": "markdown",
      "source": [
        "In TREE SEARCH, we have that _age_ -> _education_ -> _limit-bal_ is a cascade. Let's visualise the independencies that it generates:"
      ],
      "metadata": {
        "id": "pIQV4JF4C93M"
      }
    },
    {
      "cell_type": "code",
      "source": [
        "print(tree_search_model.local_independencies(['age', 'education', 'limit_bal']))"
      ],
      "metadata": {
        "colab": {
          "base_uri": "https://localhost:8080/"
        },
        "id": "AYxWV4IZC9Fi",
        "outputId": "9ccc33f0-b73e-4a93-8147-d1706349344d"
      },
      "execution_count": 26,
      "outputs": [
        {
          "output_type": "stream",
          "name": "stdout",
          "text": [
            "(education ⟂ marriage | age)\n",
            "(limit_bal ⟂ marriage, age | education)\n"
          ]
        }
      ]
    },
    {
      "cell_type": "markdown",
      "source": [
        "This shows that given _education_, _age_ and _limit-bal_ are independent, which is again a given in a cascade structure. "
      ],
      "metadata": {
        "id": "Hz342GL_DiaL"
      }
    },
    {
      "cell_type": "markdown",
      "source": [
        "__V-structure__:\n",
        "\n",
        "In EASY, we can see that _limit-bal_ -> _default_ <- _misspayment-prev-6-months_. We call this a V-structure. Let's visualise once again the independencies generated: "
      ],
      "metadata": {
        "id": "qthbGrQzEbe5"
      }
    },
    {
      "cell_type": "code",
      "source": [
        "print(model_easy.local_independencies(['limit_bal', 'default', 'misspayments_prev_6_months']))"
      ],
      "metadata": {
        "colab": {
          "base_uri": "https://localhost:8080/"
        },
        "id": "qpwpIT2KE95l",
        "outputId": "c026def1-822a-4edc-ac73-246eba400647"
      },
      "execution_count": 27,
      "outputs": [
        {
          "output_type": "stream",
          "name": "stdout",
          "text": [
            "(limit_bal ⟂ misspayments_prev_6_months | age, sex, marriage, education)\n",
            "(default ⟂ age, sex, marriage, education | misspayments_prev_6_months, limit_bal)\n",
            "(misspayments_prev_6_months ⟂ marriage, limit_bal, age, sex, education)\n"
          ]
        }
      ]
    },
    {
      "cell_type": "markdown",
      "source": [
        "We can see already that _limit-bal_ is independent to _misspayment-prev-6-months_ when default is not observed. Let's now formalise this a little by proving the below independence relationship:\n",
        "\n",
        "* P(_limit-bal_ AND _misspayments-prev-6-months_) = P(_limit-bal_) * P(_misspayments_prev_6_months_)\n",
        "\n",
        "* P(_limit-bal_ AND _misspayments-prev-6-months_ | _default_) != P(_limit-bal_ | _default_) * P(_misspayments-prev-6-months_ | _default_)\n"
      ],
      "metadata": {
        "id": "-FOT_pZcKrT6"
      }
    },
    {
      "cell_type": "code",
      "source": [
        "print(\"P(limit-bal AND misspayments-prev-6-months) = P(limit-bal) * P(misspayments_prev_6_months) is \" + \\\n",
        "      str(VariableElimination(model_easy).query([\"misspayments_prev_6_months\", \"limit_bal\"]) == \\\n",
        "      VariableElimination(model_easy).query([\"limit_bal\"]) * VariableElimination(model_easy).query([\"misspayments_prev_6_months\"])))\n",
        "\n",
        "print(\"P(limit-bal AND misspayments-prev-6-months | default) = P(limit-bal | default) * P(misspayments_prev_6_months | default) is \" + \\\n",
        "      str(VariableElimination(model_easy).query([\"misspayments_prev_6_months\", \"limit_bal\"], {\"default\":0}) == \\\n",
        "      VariableElimination(model_easy).query([\"limit_bal\"], {\"default\":0}) * VariableElimination(model_easy).query([\"misspayments_prev_6_months\"], {\"default\":0})))"
      ],
      "metadata": {
        "colab": {
          "base_uri": "https://localhost:8080/"
        },
        "id": "9knaHbYJIBCh",
        "outputId": "1254f1a2-32d0-4051-f66f-1a6dc0967a30"
      },
      "execution_count": 28,
      "outputs": [
        {
          "output_type": "stream",
          "name": "stdout",
          "text": [
            "P(limit-bal AND misspayments-prev-6-months) = P(limit-bal) * P(misspayments_prev_6_months) is True\n",
            "P(limit-bal AND misspayments-prev-6-months | default) = P(limit-bal | default) * P(misspayments_prev_6_months | default) is False\n"
          ]
        }
      ]
    },
    {
      "cell_type": "markdown",
      "source": [
        "Indeed we have that limit_bal is independent to misspayments_prev_6_months when default is not observed, while limit_bal is conditionally dependent to misspayments_prev_6_months when default is observed."
      ],
      "metadata": {
        "id": "B4Pg1SXkKTRL"
      }
    },
    {
      "cell_type": "markdown",
      "source": [
        "__Compactness__\n",
        "\n",
        "Which model is more compact?"
      ],
      "metadata": {
        "id": "hl-E0KbBNcgT"
      }
    },
    {
      "cell_type": "markdown",
      "source": [
        "_EASY_: Number of parameters required to describe CPDs = 1 + 1 + 3 + 2 + 144 + 6 + 28 = 185\n",
        "\n",
        "_MEDIUM_: Number of parameters required to describe CPDs > 185\n",
        "\n",
        "_HARD_: Number of parameters required to describe CPDs > 185\n",
        "\n",
        "_TREE SEARCH_: Number of parameters required to describe CPDs = 2 + 3 + 9 + 12 + \n",
        "4 + 24 + 7 = 61\n",
        "\n",
        "_HILL CLIMB_: Number of parameters required to describe CPDs > 61\n",
        "\n",
        "_CONSTRAINED HILL CLIMB_: Number of parameters required to describe CPDs > 61\n",
        "\n",
        "So we have that the Tree Search is the most compact network. "
      ],
      "metadata": {
        "id": "FKEU-ZIOOwuG"
      }
    },
    {
      "cell_type": "markdown",
      "source": [],
      "metadata": {
        "id": "_wlhSikHjANu"
      }
    },
    {
      "cell_type": "markdown",
      "source": [
        "# Queries\n",
        "* P(Default | age) \n",
        "* P(Default | age, marriage)\n",
        "* P(Default | age, marriage, education)\n",
        "* P(Education = graduate | default)\n",
        "* P(Default | Education = graduate, Misspayment = 5)\n",
        "* P(Default | Education = High school, Misspayment = 5)"
      ],
      "metadata": {
        "id": "xxgEaysEeF1P"
      }
    },
    {
      "cell_type": "markdown",
      "source": [
        "*TBC: Explain why we're using variable elimination (Optional, construct algorigthm instead of using class)*"
      ],
      "metadata": {
        "id": "GMicQTs6Zrge"
      }
    },
    {
      "cell_type": "code",
      "source": [
        "data_infer_easy = VariableElimination(model_easy)\n",
        "data_infer_medium = VariableElimination(model_medium)\n",
        "data_infer_hard = VariableElimination(model_hard)\n",
        "data_infer_tree_search = VariableElimination(tree_search_model)\n",
        "data_infer_hill_climb = VariableElimination(hill_climb_base_model)\n",
        "data_infer_constr_hill_climb = VariableElimination(constr_hill_climb_model)\n",
        "\n",
        "def display_inference_results(query_desc: str, query: list, evidence: dict):\n",
        "  print_bold(query_desc)\n",
        "  print_bold('EASY')\n",
        "  print(data_infer_easy.query(query, evidence))\n",
        "  print_bold('MEDIUM')\n",
        "  print(data_infer_medium.query(query, evidence))\n",
        "  print_bold('HARD')\n",
        "  print(data_infer_hard.query(query, evidence))\n",
        "  print_bold('TREE SEARCH')\n",
        "  print(data_infer_tree_search.query(query, evidence))\n",
        "  print_bold('HILL CLIMB')\n",
        "  print(data_infer_hill_climb.query(query, evidence))\n",
        "  print_bold('CONSTRAINED HILL CLIMB')\n",
        "  print(data_infer_constr_hill_climb.query(query, evidence))"
      ],
      "metadata": {
        "id": "sdTXt6N65YzN"
      },
      "execution_count": 97,
      "outputs": []
    },
    {
      "cell_type": "code",
      "source": [
        "query, evidence = [\"default\"], {\"age\": \"young\"}\n",
        "display_inference_results('Probability of default being young', query, evidence)"
      ],
      "metadata": {
        "colab": {
          "base_uri": "https://localhost:8080/"
        },
        "id": "BLa10v-HZfh1",
        "outputId": "a22d65ca-0884-4a20-8333-b8890d6bdb13"
      },
      "execution_count": 98,
      "outputs": [
        {
          "output_type": "stream",
          "name": "stdout",
          "text": [
            "\u001b[1mProbability of default being young\u001b[0m\n",
            "\u001b[1mEASY\u001b[0m\n",
            "+------------+----------------+\n",
            "| default    |   phi(default) |\n",
            "+============+================+\n",
            "| default(0) |         0.7757 |\n",
            "+------------+----------------+\n",
            "| default(1) |         0.2243 |\n",
            "+------------+----------------+\n",
            "\u001b[1mMEDIUM\u001b[0m\n",
            "+------------+----------------+\n",
            "| default    |   phi(default) |\n",
            "+============+================+\n",
            "| default(0) |         0.7898 |\n",
            "+------------+----------------+\n",
            "| default(1) |         0.2102 |\n",
            "+------------+----------------+\n",
            "\u001b[1mHARD\u001b[0m\n",
            "+------------+----------------+\n",
            "| default    |   phi(default) |\n",
            "+============+================+\n",
            "| default(0) |         0.7894 |\n",
            "+------------+----------------+\n",
            "| default(1) |         0.2106 |\n",
            "+------------+----------------+\n",
            "\u001b[1mTREE SEARCH\u001b[0m\n",
            "+------------+----------------+\n",
            "| default    |   phi(default) |\n",
            "+============+================+\n",
            "| default(0) |         0.7804 |\n",
            "+------------+----------------+\n",
            "| default(1) |         0.2196 |\n",
            "+------------+----------------+\n",
            "\u001b[1mHILL CLIMB\u001b[0m\n",
            "+------------+----------------+\n",
            "| default    |   phi(default) |\n",
            "+============+================+\n",
            "| default(0) |         0.7721 |\n",
            "+------------+----------------+\n",
            "| default(1) |         0.2279 |\n",
            "+------------+----------------+\n",
            "\u001b[1mCONSTRAINED HILL CLIMB\u001b[0m\n",
            "+------------+----------------+\n",
            "| default    |   phi(default) |\n",
            "+============+================+\n",
            "| default(0) |         0.7711 |\n",
            "+------------+----------------+\n",
            "| default(1) |         0.2289 |\n",
            "+------------+----------------+\n"
          ]
        }
      ]
    },
    {
      "cell_type": "code",
      "source": [
        "query, evidence = [\"default\"], {\"age\": \"mid_aged\"}\n",
        "display_inference_results('Probability of default being mid aged', query, evidence)"
      ],
      "metadata": {
        "colab": {
          "base_uri": "https://localhost:8080/"
        },
        "id": "mxh2n8QbZdnf",
        "outputId": "ef3a2fad-81b6-4d80-e3be-ef5aac6b5a14"
      },
      "execution_count": 99,
      "outputs": [
        {
          "output_type": "stream",
          "name": "stdout",
          "text": [
            "\u001b[1mProbability of default being mid aged\u001b[0m\n",
            "\u001b[1mEASY\u001b[0m\n",
            "+------------+----------------+\n",
            "| default    |   phi(default) |\n",
            "+============+================+\n",
            "| default(0) |         0.7818 |\n",
            "+------------+----------------+\n",
            "| default(1) |         0.2182 |\n",
            "+------------+----------------+\n",
            "\u001b[1mMEDIUM\u001b[0m\n",
            "+------------+----------------+\n",
            "| default    |   phi(default) |\n",
            "+============+================+\n",
            "| default(0) |         0.7650 |\n",
            "+------------+----------------+\n",
            "| default(1) |         0.2350 |\n",
            "+------------+----------------+\n",
            "\u001b[1mHARD\u001b[0m\n",
            "+------------+----------------+\n",
            "| default    |   phi(default) |\n",
            "+============+================+\n",
            "| default(0) |         0.7665 |\n",
            "+------------+----------------+\n",
            "| default(1) |         0.2335 |\n",
            "+------------+----------------+\n",
            "\u001b[1mTREE SEARCH\u001b[0m\n",
            "+------------+----------------+\n",
            "| default    |   phi(default) |\n",
            "+============+================+\n",
            "| default(0) |         0.7770 |\n",
            "+------------+----------------+\n",
            "| default(1) |         0.2230 |\n",
            "+------------+----------------+\n",
            "\u001b[1mHILL CLIMB\u001b[0m\n",
            "+------------+----------------+\n",
            "| default    |   phi(default) |\n",
            "+============+================+\n",
            "| default(0) |         0.7862 |\n",
            "+------------+----------------+\n",
            "| default(1) |         0.2138 |\n",
            "+------------+----------------+\n",
            "\u001b[1mCONSTRAINED HILL CLIMB\u001b[0m\n",
            "+------------+----------------+\n",
            "| default    |   phi(default) |\n",
            "+============+================+\n",
            "| default(0) |         0.7872 |\n",
            "+------------+----------------+\n",
            "| default(1) |         0.2128 |\n",
            "+------------+----------------+\n"
          ]
        }
      ]
    },
    {
      "cell_type": "code",
      "source": [
        "query, evidence = [\"default\"], {\"age\": \"senior\"}\n",
        "display_inference_results('Probability of default being mid senior', query, evidence)"
      ],
      "metadata": {
        "colab": {
          "base_uri": "https://localhost:8080/"
        },
        "id": "u2JqHMtJZb6N",
        "outputId": "009bd720-6ef9-447e-fe06-3187c8728280"
      },
      "execution_count": 100,
      "outputs": [
        {
          "output_type": "stream",
          "name": "stdout",
          "text": [
            "\u001b[1mProbability of default being mid senior\u001b[0m\n",
            "\u001b[1mEASY\u001b[0m\n",
            "+------------+----------------+\n",
            "| default    |   phi(default) |\n",
            "+============+================+\n",
            "| default(0) |         0.7810 |\n",
            "+------------+----------------+\n",
            "| default(1) |         0.2190 |\n",
            "+------------+----------------+\n",
            "\u001b[1mMEDIUM\u001b[0m\n",
            "+------------+----------------+\n",
            "| default    |   phi(default) |\n",
            "+============+================+\n",
            "| default(0) |         0.7512 |\n",
            "+------------+----------------+\n",
            "| default(1) |         0.2488 |\n",
            "+------------+----------------+\n",
            "\u001b[1mHARD\u001b[0m\n",
            "+------------+----------------+\n",
            "| default    |   phi(default) |\n",
            "+============+================+\n",
            "| default(0) |         0.7370 |\n",
            "+------------+----------------+\n",
            "| default(1) |         0.2630 |\n",
            "+------------+----------------+\n",
            "\u001b[1mTREE SEARCH\u001b[0m\n",
            "+------------+----------------+\n",
            "| default    |   phi(default) |\n",
            "+============+================+\n",
            "| default(0) |         0.7750 |\n",
            "+------------+----------------+\n",
            "| default(1) |         0.2250 |\n",
            "+------------+----------------+\n",
            "\u001b[1mHILL CLIMB\u001b[0m\n",
            "+------------+----------------+\n",
            "| default    |   phi(default) |\n",
            "+============+================+\n",
            "| default(0) |         0.7847 |\n",
            "+------------+----------------+\n",
            "| default(1) |         0.2153 |\n",
            "+------------+----------------+\n",
            "\u001b[1mCONSTRAINED HILL CLIMB\u001b[0m\n",
            "+------------+----------------+\n",
            "| default    |   phi(default) |\n",
            "+============+================+\n",
            "| default(0) |         0.7886 |\n",
            "+------------+----------------+\n",
            "| default(1) |         0.2114 |\n",
            "+------------+----------------+\n"
          ]
        }
      ]
    },
    {
      "cell_type": "code",
      "source": [
        "query, evidence = [\"default\"], {\"age\": \"mid_aged\", \"marriage\": \"not_married\"}\n",
        "display_inference_results('Probability of default being mid aged and married', query, evidence)"
      ],
      "metadata": {
        "colab": {
          "base_uri": "https://localhost:8080/"
        },
        "id": "OTYZxd1EZaTo",
        "outputId": "dabb3bc1-f15b-40c2-d527-cc1197fc8adf"
      },
      "execution_count": 101,
      "outputs": [
        {
          "output_type": "stream",
          "name": "stdout",
          "text": [
            "\u001b[1mProbability of default being mid aged and married\u001b[0m\n",
            "\u001b[1mEASY\u001b[0m\n",
            "+------------+----------------+\n",
            "| default    |   phi(default) |\n",
            "+============+================+\n",
            "| default(0) |         0.7796 |\n",
            "+------------+----------------+\n",
            "| default(1) |         0.2204 |\n",
            "+------------+----------------+\n",
            "\u001b[1mMEDIUM\u001b[0m\n",
            "+------------+----------------+\n",
            "| default    |   phi(default) |\n",
            "+============+================+\n",
            "| default(0) |         0.7579 |\n",
            "+------------+----------------+\n",
            "| default(1) |         0.2421 |\n",
            "+------------+----------------+\n",
            "\u001b[1mHARD\u001b[0m\n",
            "+------------+----------------+\n",
            "| default    |   phi(default) |\n",
            "+============+================+\n",
            "| default(0) |         0.7680 |\n",
            "+------------+----------------+\n",
            "| default(1) |         0.2320 |\n",
            "+------------+----------------+\n",
            "\u001b[1mTREE SEARCH\u001b[0m\n",
            "+------------+----------------+\n",
            "| default    |   phi(default) |\n",
            "+============+================+\n",
            "| default(0) |         0.7770 |\n",
            "+------------+----------------+\n",
            "| default(1) |         0.2230 |\n",
            "+------------+----------------+\n",
            "\u001b[1mHILL CLIMB\u001b[0m\n",
            "+------------+----------------+\n",
            "| default    |   phi(default) |\n",
            "+============+================+\n",
            "| default(0) |         0.7780 |\n",
            "+------------+----------------+\n",
            "| default(1) |         0.2220 |\n",
            "+------------+----------------+\n",
            "\u001b[1mCONSTRAINED HILL CLIMB\u001b[0m\n",
            "+------------+----------------+\n",
            "| default    |   phi(default) |\n",
            "+============+================+\n",
            "| default(0) |         0.7792 |\n",
            "+------------+----------------+\n",
            "| default(1) |         0.2208 |\n",
            "+------------+----------------+\n"
          ]
        }
      ]
    },
    {
      "cell_type": "code",
      "source": [
        "query, evidence = [\"default\"], {\"age\": \"mid_aged\", \"marriage\": \"married\", \"education\": \"graduate\"}\n",
        "display_inference_results('Probability of default being mid aged and married and holding a graduate degree', query, evidence)"
      ],
      "metadata": {
        "colab": {
          "base_uri": "https://localhost:8080/"
        },
        "id": "qEaQVqlNZXzu",
        "outputId": "f9b76718-ad82-4927-8a3b-42a4b78b4ce4"
      },
      "execution_count": 102,
      "outputs": [
        {
          "output_type": "stream",
          "name": "stdout",
          "text": [
            "\u001b[1mProbability of default being mid aged and married and holding a graduate degree\u001b[0m\n",
            "\u001b[1mEASY\u001b[0m\n",
            "+------------+----------------+\n",
            "| default    |   phi(default) |\n",
            "+============+================+\n",
            "| default(0) |         0.7970 |\n",
            "+------------+----------------+\n",
            "| default(1) |         0.2030 |\n",
            "+------------+----------------+\n",
            "\u001b[1mMEDIUM\u001b[0m\n",
            "+------------+----------------+\n",
            "| default    |   phi(default) |\n",
            "+============+================+\n",
            "| default(0) |         0.7847 |\n",
            "+------------+----------------+\n",
            "| default(1) |         0.2153 |\n",
            "+------------+----------------+\n",
            "\u001b[1mHARD\u001b[0m\n",
            "+------------+----------------+\n",
            "| default    |   phi(default) |\n",
            "+============+================+\n",
            "| default(0) |         0.7794 |\n",
            "+------------+----------------+\n",
            "| default(1) |         0.2206 |\n",
            "+------------+----------------+\n",
            "\u001b[1mTREE SEARCH\u001b[0m\n",
            "+------------+----------------+\n",
            "| default    |   phi(default) |\n",
            "+============+================+\n",
            "| default(0) |         0.7948 |\n",
            "+------------+----------------+\n",
            "| default(1) |         0.2052 |\n",
            "+------------+----------------+\n",
            "\u001b[1mHILL CLIMB\u001b[0m\n",
            "+------------+----------------+\n",
            "| default    |   phi(default) |\n",
            "+============+================+\n",
            "| default(0) |         0.8254 |\n",
            "+------------+----------------+\n",
            "| default(1) |         0.1746 |\n",
            "+------------+----------------+\n",
            "\u001b[1mCONSTRAINED HILL CLIMB\u001b[0m\n",
            "+------------+----------------+\n",
            "| default    |   phi(default) |\n",
            "+============+================+\n",
            "| default(0) |         0.8265 |\n",
            "+------------+----------------+\n",
            "| default(1) |         0.1735 |\n",
            "+------------+----------------+\n"
          ]
        }
      ]
    },
    {
      "cell_type": "code",
      "source": [
        "query, evidence = [\"education\"], {\"default\": 1}\n",
        "display_inference_results('Probabilities of holding education titles having had the default', query, evidence)"
      ],
      "metadata": {
        "colab": {
          "base_uri": "https://localhost:8080/"
        },
        "id": "FYPGZ5IkZXK5",
        "outputId": "20b55c1a-6b17-4349-8294-d02b8bc4dfa4"
      },
      "execution_count": 103,
      "outputs": [
        {
          "output_type": "stream",
          "name": "stdout",
          "text": [
            "\u001b[1mProbabilities of holding education titles having had the default\u001b[0m\n",
            "\u001b[1mEASY\u001b[0m\n",
            "+------------------------+------------------+\n",
            "| education              |   phi(education) |\n",
            "+========================+==================+\n",
            "| education(graduate)    |           0.3334 |\n",
            "+------------------------+------------------+\n",
            "| education(high_school) |           0.1712 |\n",
            "+------------------------+------------------+\n",
            "| education(others)      |           0.0158 |\n",
            "+------------------------+------------------+\n",
            "| education(university)  |           0.4796 |\n",
            "+------------------------+------------------+\n",
            "\u001b[1mMEDIUM\u001b[0m\n",
            "+------------------------+------------------+\n",
            "| education              |   phi(education) |\n",
            "+========================+==================+\n",
            "| education(graduate)    |           0.3308 |\n",
            "+------------------------+------------------+\n",
            "| education(high_school) |           0.1745 |\n",
            "+------------------------+------------------+\n",
            "| education(others)      |           0.0158 |\n",
            "+------------------------+------------------+\n",
            "| education(university)  |           0.4789 |\n",
            "+------------------------+------------------+\n",
            "\u001b[1mHARD\u001b[0m\n",
            "+------------------------+------------------+\n",
            "| education              |   phi(education) |\n",
            "+========================+==================+\n",
            "| education(graduate)    |           0.3339 |\n",
            "+------------------------+------------------+\n",
            "| education(high_school) |           0.1659 |\n",
            "+------------------------+------------------+\n",
            "| education(others)      |           0.0104 |\n",
            "+------------------------+------------------+\n",
            "| education(university)  |           0.4898 |\n",
            "+------------------------+------------------+\n",
            "\u001b[1mTREE SEARCH\u001b[0m\n",
            "+------------------------+------------------+\n",
            "| education              |   phi(education) |\n",
            "+========================+==================+\n",
            "| education(graduate)    |           0.3267 |\n",
            "+------------------------+------------------+\n",
            "| education(high_school) |           0.1743 |\n",
            "+------------------------+------------------+\n",
            "| education(others)      |           0.0155 |\n",
            "+------------------------+------------------+\n",
            "| education(university)  |           0.4835 |\n",
            "+------------------------+------------------+\n",
            "\u001b[1mHILL CLIMB\u001b[0m\n",
            "+------------------------+------------------+\n",
            "| education              |   phi(education) |\n",
            "+========================+==================+\n",
            "| education(graduate)    |           0.3122 |\n",
            "+------------------------+------------------+\n",
            "| education(high_school) |           0.1812 |\n",
            "+------------------------+------------------+\n",
            "| education(others)      |           0.0152 |\n",
            "+------------------------+------------------+\n",
            "| education(university)  |           0.4915 |\n",
            "+------------------------+------------------+\n",
            "\u001b[1mCONSTRAINED HILL CLIMB\u001b[0m\n",
            "+------------------------+------------------+\n",
            "| education              |   phi(education) |\n",
            "+========================+==================+\n",
            "| education(graduate)    |           0.3122 |\n",
            "+------------------------+------------------+\n",
            "| education(high_school) |           0.1809 |\n",
            "+------------------------+------------------+\n",
            "| education(others)      |           0.0152 |\n",
            "+------------------------+------------------+\n",
            "| education(university)  |           0.4917 |\n",
            "+------------------------+------------------+\n"
          ]
        }
      ]
    },
    {
      "cell_type": "code",
      "source": [
        "query, evidence = [\"default\"], {\"education\": \"graduate\", \"misspayments_prev_6_months\": 5}\n",
        "display_inference_results('Probability of default holding a graduate degree and having 5 misspayments in the previous 6 months', query, evidence)"
      ],
      "metadata": {
        "colab": {
          "base_uri": "https://localhost:8080/"
        },
        "id": "pAZCw-W-ZTOd",
        "outputId": "d0ef1324-216f-49ef-9b7b-f4ea9933532e"
      },
      "execution_count": 104,
      "outputs": [
        {
          "output_type": "stream",
          "name": "stdout",
          "text": [
            "\u001b[1mProbability of default holding a graduate degree and having 5 misspayments in the previous 6 months\u001b[0m\n",
            "\u001b[1mEASY\u001b[0m\n",
            "+------------+----------------+\n",
            "| default    |   phi(default) |\n",
            "+============+================+\n",
            "| default(0) |         0.4177 |\n",
            "+------------+----------------+\n",
            "| default(1) |         0.5823 |\n",
            "+------------+----------------+\n",
            "\u001b[1mMEDIUM\u001b[0m\n",
            "+------------+----------------+\n",
            "| default    |   phi(default) |\n",
            "+============+================+\n",
            "| default(0) |         0.4228 |\n",
            "+------------+----------------+\n",
            "| default(1) |         0.5772 |\n",
            "+------------+----------------+\n",
            "\u001b[1mHARD\u001b[0m\n",
            "+------------+----------------+\n",
            "| default    |   phi(default) |\n",
            "+============+================+\n",
            "| default(0) |         0.5804 |\n",
            "+------------+----------------+\n",
            "| default(1) |         0.4196 |\n",
            "+------------+----------------+\n",
            "\u001b[1mTREE SEARCH\u001b[0m\n",
            "+------------+----------------+\n",
            "| default    |   phi(default) |\n",
            "+============+================+\n",
            "| default(0) |         0.4011 |\n",
            "+------------+----------------+\n",
            "| default(1) |         0.5989 |\n",
            "+------------+----------------+\n",
            "\u001b[1mHILL CLIMB\u001b[0m\n",
            "+------------+----------------+\n",
            "| default    |   phi(default) |\n",
            "+============+================+\n",
            "| default(0) |         0.4024 |\n",
            "+------------+----------------+\n",
            "| default(1) |         0.5976 |\n",
            "+------------+----------------+\n",
            "\u001b[1mCONSTRAINED HILL CLIMB\u001b[0m\n",
            "+------------+----------------+\n",
            "| default    |   phi(default) |\n",
            "+============+================+\n",
            "| default(0) |         0.4025 |\n",
            "+------------+----------------+\n",
            "| default(1) |         0.5975 |\n",
            "+------------+----------------+\n"
          ]
        }
      ]
    },
    {
      "cell_type": "code",
      "source": [
        "query, evidence = [\"default\"], {\"education\": \"high_school\", \"misspayments_prev_6_months\": 5}\n",
        "display_inference_results('Probability of default holding an high school diploma, and having 5 misspayments in the previous 6 months', query, evidence)"
      ],
      "metadata": {
        "colab": {
          "base_uri": "https://localhost:8080/"
        },
        "id": "p-Zd_t8rZQis",
        "outputId": "cc3b13fb-5484-4f6b-d4e2-433e94c1edd1"
      },
      "execution_count": 105,
      "outputs": [
        {
          "output_type": "stream",
          "name": "stdout",
          "text": [
            "\u001b[1mProbability of default holding an high school diploma, and having 5 misspayments in the previous 6 months\u001b[0m\n",
            "\u001b[1mEASY\u001b[0m\n",
            "+------------+----------------+\n",
            "| default    |   phi(default) |\n",
            "+============+================+\n",
            "| default(0) |         0.4002 |\n",
            "+------------+----------------+\n",
            "| default(1) |         0.5998 |\n",
            "+------------+----------------+\n",
            "\u001b[1mMEDIUM\u001b[0m\n",
            "+------------+----------------+\n",
            "| default    |   phi(default) |\n",
            "+============+================+\n",
            "| default(0) |         0.4093 |\n",
            "+------------+----------------+\n",
            "| default(1) |         0.5907 |\n",
            "+------------+----------------+\n",
            "\u001b[1mHARD\u001b[0m\n",
            "+------------+----------------+\n",
            "| default    |   phi(default) |\n",
            "+============+================+\n",
            "| default(0) |         0.3997 |\n",
            "+------------+----------------+\n",
            "| default(1) |         0.6003 |\n",
            "+------------+----------------+\n",
            "\u001b[1mTREE SEARCH\u001b[0m\n",
            "+------------+----------------+\n",
            "| default    |   phi(default) |\n",
            "+============+================+\n",
            "| default(0) |         0.4011 |\n",
            "+------------+----------------+\n",
            "| default(1) |         0.5989 |\n",
            "+------------+----------------+\n",
            "\u001b[1mHILL CLIMB\u001b[0m\n",
            "+------------+----------------+\n",
            "| default    |   phi(default) |\n",
            "+============+================+\n",
            "| default(0) |         0.4001 |\n",
            "+------------+----------------+\n",
            "| default(1) |         0.5999 |\n",
            "+------------+----------------+\n",
            "\u001b[1mCONSTRAINED HILL CLIMB\u001b[0m\n",
            "+------------+----------------+\n",
            "| default    |   phi(default) |\n",
            "+============+================+\n",
            "| default(0) |         0.4005 |\n",
            "+------------+----------------+\n",
            "| default(1) |         0.5995 |\n",
            "+------------+----------------+\n"
          ]
        }
      ]
    },
    {
      "cell_type": "code",
      "source": [
        "query, evidence = [\"default\"], {\"limit_bal\": \"medium_high\", \"misspayments_prev_6_months\": 5}\n",
        "display_inference_results('Probability of default having a medium-high balance limit, and having 5 misspayments in the previous 6 months', query, evidence)"
      ],
      "metadata": {
        "colab": {
          "base_uri": "https://localhost:8080/"
        },
        "id": "bk8jD_ILZOcT",
        "outputId": "34dae720-8955-40ce-9b49-94d01d701b3c"
      },
      "execution_count": 106,
      "outputs": [
        {
          "output_type": "stream",
          "name": "stdout",
          "text": [
            "\u001b[1mProbability of default having a medium-high balance limit, and having 5 misspayments in the previous 6 months\u001b[0m\n",
            "\u001b[1mEASY\u001b[0m\n",
            "+------------+----------------+\n",
            "| default    |   phi(default) |\n",
            "+============+================+\n",
            "| default(0) |         0.3690 |\n",
            "+------------+----------------+\n",
            "| default(1) |         0.6310 |\n",
            "+------------+----------------+\n",
            "\u001b[1mMEDIUM\u001b[0m\n",
            "+------------+----------------+\n",
            "| default    |   phi(default) |\n",
            "+============+================+\n",
            "| default(0) |         0.3812 |\n",
            "+------------+----------------+\n",
            "| default(1) |         0.6188 |\n",
            "+------------+----------------+\n",
            "\u001b[1mHARD\u001b[0m\n",
            "+------------+----------------+\n",
            "| default    |   phi(default) |\n",
            "+============+================+\n",
            "| default(0) |         0.4165 |\n",
            "+------------+----------------+\n",
            "| default(1) |         0.5835 |\n",
            "+------------+----------------+\n",
            "\u001b[1mTREE SEARCH\u001b[0m\n",
            "+------------+----------------+\n",
            "| default    |   phi(default) |\n",
            "+============+================+\n",
            "| default(0) |         0.4011 |\n",
            "+------------+----------------+\n",
            "| default(1) |         0.5989 |\n",
            "+------------+----------------+\n",
            "\u001b[1mHILL CLIMB\u001b[0m\n",
            "+------------+----------------+\n",
            "| default    |   phi(default) |\n",
            "+============+================+\n",
            "| default(0) |         0.3690 |\n",
            "+------------+----------------+\n",
            "| default(1) |         0.6310 |\n",
            "+------------+----------------+\n",
            "\u001b[1mCONSTRAINED HILL CLIMB\u001b[0m\n",
            "+------------+----------------+\n",
            "| default    |   phi(default) |\n",
            "+============+================+\n",
            "| default(0) |         0.3690 |\n",
            "+------------+----------------+\n",
            "| default(1) |         0.6310 |\n",
            "+------------+----------------+\n"
          ]
        }
      ]
    },
    {
      "cell_type": "code",
      "source": [
        "query, evidence = [\"default\"], {\"sex\": \"male\"}\n",
        "display_inference_results('Probability of default given sex', query, evidence)"
      ],
      "metadata": {
        "colab": {
          "base_uri": "https://localhost:8080/"
        },
        "id": "i0S6VMIqhZNl",
        "outputId": "251e0e02-e130-443d-9253-9e1b92508b57"
      },
      "execution_count": 107,
      "outputs": [
        {
          "output_type": "stream",
          "name": "stdout",
          "text": [
            "\u001b[1mProbability of default given sex\u001b[0m\n",
            "\u001b[1mEASY\u001b[0m\n",
            "+------------+----------------+\n",
            "| default    |   phi(default) |\n",
            "+============+================+\n",
            "| default(0) |         0.7754 |\n",
            "+------------+----------------+\n",
            "| default(1) |         0.2246 |\n",
            "+------------+----------------+\n",
            "\u001b[1mMEDIUM\u001b[0m\n",
            "+------------+----------------+\n",
            "| default    |   phi(default) |\n",
            "+============+================+\n",
            "| default(0) |         0.7752 |\n",
            "+------------+----------------+\n",
            "| default(1) |         0.2248 |\n",
            "+------------+----------------+\n",
            "\u001b[1mHARD\u001b[0m\n",
            "+------------+----------------+\n",
            "| default    |   phi(default) |\n",
            "+============+================+\n",
            "| default(0) |         0.7754 |\n",
            "+------------+----------------+\n",
            "| default(1) |         0.2246 |\n",
            "+------------+----------------+\n",
            "\u001b[1mTREE SEARCH\u001b[0m\n",
            "+------------+----------------+\n",
            "| default    |   phi(default) |\n",
            "+============+================+\n",
            "| default(0) |         0.7751 |\n",
            "+------------+----------------+\n",
            "| default(1) |         0.2249 |\n",
            "+------------+----------------+\n",
            "\u001b[1mHILL CLIMB\u001b[0m\n",
            "+------------+----------------+\n",
            "| default    |   phi(default) |\n",
            "+============+================+\n",
            "| default(0) |         0.7562 |\n",
            "+------------+----------------+\n",
            "| default(1) |         0.2438 |\n",
            "+------------+----------------+\n",
            "\u001b[1mCONSTRAINED HILL CLIMB\u001b[0m\n",
            "+------------+----------------+\n",
            "| default    |   phi(default) |\n",
            "+============+================+\n",
            "| default(0) |         0.7793 |\n",
            "+------------+----------------+\n",
            "| default(1) |         0.2207 |\n",
            "+------------+----------------+\n"
          ]
        }
      ]
    },
    {
      "cell_type": "code",
      "source": [
        "query, evidence = [\"default\"], {\"education\": \"high_school\", \"misspayments_prev_6_months\": 6, 'age': 'young', 'sex': 'female', \\\n",
        "                                'marriage': 'not_married', 'limit_bal': 'low'}\n",
        "display_inference_results('Probability of default given everything else', query, evidence)"
      ],
      "metadata": {
        "colab": {
          "base_uri": "https://localhost:8080/"
        },
        "id": "TTH4jvOSjoI9",
        "outputId": "ecf76953-fb86-43db-dece-a0d733a3eed1"
      },
      "execution_count": 108,
      "outputs": [
        {
          "output_type": "stream",
          "name": "stdout",
          "text": [
            "\u001b[1mProbability of default given everything else\u001b[0m\n",
            "\u001b[1mEASY\u001b[0m\n",
            "+------------+----------------+\n",
            "| default    |   phi(default) |\n",
            "+============+================+\n",
            "| default(0) |         0.3154 |\n",
            "+------------+----------------+\n",
            "| default(1) |         0.6846 |\n",
            "+------------+----------------+\n",
            "\u001b[1mMEDIUM\u001b[0m\n",
            "+------------+----------------+\n",
            "| default    |   phi(default) |\n",
            "+============+================+\n",
            "| default(0) |         0.3719 |\n",
            "+------------+----------------+\n",
            "| default(1) |         0.6281 |\n",
            "+------------+----------------+\n",
            "\u001b[1mHARD\u001b[0m\n",
            "+------------+----------------+\n",
            "| default    |   phi(default) |\n",
            "+============+================+\n",
            "| default(0) |         0.3182 |\n",
            "+------------+----------------+\n",
            "| default(1) |         0.6818 |\n",
            "+------------+----------------+\n",
            "\u001b[1mTREE SEARCH\u001b[0m\n",
            "+------------+----------------+\n",
            "| default    |   phi(default) |\n",
            "+============+================+\n",
            "| default(0) |         0.3030 |\n",
            "+------------+----------------+\n",
            "| default(1) |         0.6970 |\n",
            "+------------+----------------+\n",
            "\u001b[1mHILL CLIMB\u001b[0m\n",
            "+------------+----------------+\n",
            "| default    |   phi(default) |\n",
            "+============+================+\n",
            "| default(0) |         0.3224 |\n",
            "+------------+----------------+\n",
            "| default(1) |         0.6776 |\n",
            "+------------+----------------+\n",
            "\u001b[1mCONSTRAINED HILL CLIMB\u001b[0m\n",
            "+------------+----------------+\n",
            "| default    |   phi(default) |\n",
            "+============+================+\n",
            "| default(0) |         0.3154 |\n",
            "+------------+----------------+\n",
            "| default(1) |         0.6846 |\n",
            "+------------+----------------+\n"
          ]
        }
      ]
    },
    {
      "cell_type": "markdown",
      "source": [
        "# Questions"
      ],
      "metadata": {
        "id": "_806ays3fD_9"
      }
    },
    {
      "cell_type": "markdown",
      "source": [
        "Let's analyse how the different models infer two queries. In particular, let's look at the below conditional probabilities:\n",
        "\n",
        "\n",
        "\n",
        "*   Probability of sex given marriage.\n",
        "*   Probability of default given sex.\n",
        "\n",
        "\n",
        "\n"
      ],
      "metadata": {
        "id": "ZSI2NIOQQCxL"
      }
    },
    {
      "cell_type": "code",
      "source": [
        "data_infer_easy = VariableElimination(model_easy)\n",
        "data_infer_medium = VariableElimination(model_medium)\n",
        "data_infer_hard = VariableElimination(model_hard)\n",
        "data_infer_tree_search = VariableElimination(tree_search_model)\n",
        "data_infer_hill_climb = VariableElimination(hill_climb_base_model)\n",
        "data_infer_constr_hill_climb = VariableElimination(constr_hill_climb_model)\n",
        "\n",
        "def dependecies_calculator(query_desc: str, query: list, evidence: list):\n",
        "  evidence_values = dataset[evidence[0]].unique()\n",
        "  data_infer_model = [[model_easy, 'model_easy'], [model_medium, 'model_medium'], [model_hard, 'model_hard'], [tree_search_model, 'tree_search_model'], [hill_climb_base_model, 'hill_climb_base_model'], [constr_hill_climb_model, 'constr_hill_climb_model']]\n",
        "  impact_on_model = {'Description': query_desc, 'Query: ': query[0], \"Evidence: \": evidence[0]}\n",
        "  for model in data_infer_model:\n",
        "    result = []\n",
        "    data_infer = VariableElimination(model[0])\n",
        "    for value in evidence_values:\n",
        "      result.append(data_infer.query(query, {evidence[0]: value}).values[0])\n",
        "    impact_on_model[\"Difference of inference for {} is: \".format(model[1])] = (max(result) - min(result))/((max(result) + min(result)) / 2) * 100\n",
        "  return impact_on_model\n",
        "\n",
        "  \n",
        "  #data_infer_easy.query(query, evidence)\n",
        "  \n",
        "\n",
        "\n",
        "\n",
        "#query, evidence = [\"default\"], {\"education\": \"high_school\"}\n",
        "#display_inference_results('Probability of default given education', query, evidence)\n",
        "\n"
      ],
      "metadata": {
        "id": "zZGDOedDQEKq"
      },
      "execution_count": 109,
      "outputs": []
    },
    {
      "cell_type": "markdown",
      "source": [
        "Let's now perform the same queries across the different networks and comment the results."
      ],
      "metadata": {
        "id": "upRC8vmz1hYc"
      }
    },
    {
      "cell_type": "code",
      "source": [
        "pd.DataFrame.from_dict(dependecies_calculator('How much is sex impacted by marriage?', [\"sex\"], ['marriage']), orient='index')\n",
        "\n",
        "#Why are hard modelled networks 0? For learned model we hafve active trail etc.."
      ],
      "metadata": {
        "colab": {
          "base_uri": "https://localhost:8080/",
          "height": 331
        },
        "id": "1oYrORrDZllp",
        "outputId": "57ddb092-3a41-4da7-818a-9913e6ea1419"
      },
      "execution_count": 112,
      "outputs": [
        {
          "output_type": "execute_result",
          "data": {
            "text/plain": [
              "                                                                                        0\n",
              "Description                                         How much is sex impacted by marriage?\n",
              "Query:                                                                                sex\n",
              "Evidence:                                                                        marriage\n",
              "Difference of inference for model_easy is:                                            0.0\n",
              "Difference of inference for model_medium is:                                          0.0\n",
              "Difference of inference for model_hard is:                                            0.0\n",
              "Difference of inference for tree_search_model is:                                0.128101\n",
              "Difference of inference for hill_climb_base_mod...                               4.189507\n",
              "Difference of inference for constr_hill_climb_m...                               3.932078"
            ],
            "text/html": [
              "\n",
              "  <div id=\"df-6306eb01-412f-455c-b506-5c7608d9210b\">\n",
              "    <div class=\"colab-df-container\">\n",
              "      <div>\n",
              "<style scoped>\n",
              "    .dataframe tbody tr th:only-of-type {\n",
              "        vertical-align: middle;\n",
              "    }\n",
              "\n",
              "    .dataframe tbody tr th {\n",
              "        vertical-align: top;\n",
              "    }\n",
              "\n",
              "    .dataframe thead th {\n",
              "        text-align: right;\n",
              "    }\n",
              "</style>\n",
              "<table border=\"1\" class=\"dataframe\">\n",
              "  <thead>\n",
              "    <tr style=\"text-align: right;\">\n",
              "      <th></th>\n",
              "      <th>0</th>\n",
              "    </tr>\n",
              "  </thead>\n",
              "  <tbody>\n",
              "    <tr>\n",
              "      <th>Description</th>\n",
              "      <td>How much is sex impacted by marriage?</td>\n",
              "    </tr>\n",
              "    <tr>\n",
              "      <th>Query:</th>\n",
              "      <td>sex</td>\n",
              "    </tr>\n",
              "    <tr>\n",
              "      <th>Evidence:</th>\n",
              "      <td>marriage</td>\n",
              "    </tr>\n",
              "    <tr>\n",
              "      <th>Difference of inference for model_easy is:</th>\n",
              "      <td>0.0</td>\n",
              "    </tr>\n",
              "    <tr>\n",
              "      <th>Difference of inference for model_medium is:</th>\n",
              "      <td>0.0</td>\n",
              "    </tr>\n",
              "    <tr>\n",
              "      <th>Difference of inference for model_hard is:</th>\n",
              "      <td>0.0</td>\n",
              "    </tr>\n",
              "    <tr>\n",
              "      <th>Difference of inference for tree_search_model is:</th>\n",
              "      <td>0.128101</td>\n",
              "    </tr>\n",
              "    <tr>\n",
              "      <th>Difference of inference for hill_climb_base_model is:</th>\n",
              "      <td>4.189507</td>\n",
              "    </tr>\n",
              "    <tr>\n",
              "      <th>Difference of inference for constr_hill_climb_model is:</th>\n",
              "      <td>3.932078</td>\n",
              "    </tr>\n",
              "  </tbody>\n",
              "</table>\n",
              "</div>\n",
              "      <button class=\"colab-df-convert\" onclick=\"convertToInteractive('df-6306eb01-412f-455c-b506-5c7608d9210b')\"\n",
              "              title=\"Convert this dataframe to an interactive table.\"\n",
              "              style=\"display:none;\">\n",
              "        \n",
              "  <svg xmlns=\"http://www.w3.org/2000/svg\" height=\"24px\"viewBox=\"0 0 24 24\"\n",
              "       width=\"24px\">\n",
              "    <path d=\"M0 0h24v24H0V0z\" fill=\"none\"/>\n",
              "    <path d=\"M18.56 5.44l.94 2.06.94-2.06 2.06-.94-2.06-.94-.94-2.06-.94 2.06-2.06.94zm-11 1L8.5 8.5l.94-2.06 2.06-.94-2.06-.94L8.5 2.5l-.94 2.06-2.06.94zm10 10l.94 2.06.94-2.06 2.06-.94-2.06-.94-.94-2.06-.94 2.06-2.06.94z\"/><path d=\"M17.41 7.96l-1.37-1.37c-.4-.4-.92-.59-1.43-.59-.52 0-1.04.2-1.43.59L10.3 9.45l-7.72 7.72c-.78.78-.78 2.05 0 2.83L4 21.41c.39.39.9.59 1.41.59.51 0 1.02-.2 1.41-.59l7.78-7.78 2.81-2.81c.8-.78.8-2.07 0-2.86zM5.41 20L4 18.59l7.72-7.72 1.47 1.35L5.41 20z\"/>\n",
              "  </svg>\n",
              "      </button>\n",
              "      \n",
              "  <style>\n",
              "    .colab-df-container {\n",
              "      display:flex;\n",
              "      flex-wrap:wrap;\n",
              "      gap: 12px;\n",
              "    }\n",
              "\n",
              "    .colab-df-convert {\n",
              "      background-color: #E8F0FE;\n",
              "      border: none;\n",
              "      border-radius: 50%;\n",
              "      cursor: pointer;\n",
              "      display: none;\n",
              "      fill: #1967D2;\n",
              "      height: 32px;\n",
              "      padding: 0 0 0 0;\n",
              "      width: 32px;\n",
              "    }\n",
              "\n",
              "    .colab-df-convert:hover {\n",
              "      background-color: #E2EBFA;\n",
              "      box-shadow: 0px 1px 2px rgba(60, 64, 67, 0.3), 0px 1px 3px 1px rgba(60, 64, 67, 0.15);\n",
              "      fill: #174EA6;\n",
              "    }\n",
              "\n",
              "    [theme=dark] .colab-df-convert {\n",
              "      background-color: #3B4455;\n",
              "      fill: #D2E3FC;\n",
              "    }\n",
              "\n",
              "    [theme=dark] .colab-df-convert:hover {\n",
              "      background-color: #434B5C;\n",
              "      box-shadow: 0px 1px 3px 1px rgba(0, 0, 0, 0.15);\n",
              "      filter: drop-shadow(0px 1px 2px rgba(0, 0, 0, 0.3));\n",
              "      fill: #FFFFFF;\n",
              "    }\n",
              "  </style>\n",
              "\n",
              "      <script>\n",
              "        const buttonEl =\n",
              "          document.querySelector('#df-6306eb01-412f-455c-b506-5c7608d9210b button.colab-df-convert');\n",
              "        buttonEl.style.display =\n",
              "          google.colab.kernel.accessAllowed ? 'block' : 'none';\n",
              "\n",
              "        async function convertToInteractive(key) {\n",
              "          const element = document.querySelector('#df-6306eb01-412f-455c-b506-5c7608d9210b');\n",
              "          const dataTable =\n",
              "            await google.colab.kernel.invokeFunction('convertToInteractive',\n",
              "                                                     [key], {});\n",
              "          if (!dataTable) return;\n",
              "\n",
              "          const docLinkHtml = 'Like what you see? Visit the ' +\n",
              "            '<a target=\"_blank\" href=https://colab.research.google.com/notebooks/data_table.ipynb>data table notebook</a>'\n",
              "            + ' to learn more about interactive tables.';\n",
              "          element.innerHTML = '';\n",
              "          dataTable['output_type'] = 'display_data';\n",
              "          await google.colab.output.renderOutput(dataTable, element);\n",
              "          const docLink = document.createElement('div');\n",
              "          docLink.innerHTML = docLinkHtml;\n",
              "          element.appendChild(docLink);\n",
              "        }\n",
              "      </script>\n",
              "    </div>\n",
              "  </div>\n",
              "  "
            ]
          },
          "metadata": {},
          "execution_count": 112
        }
      ]
    },
    {
      "cell_type": "code",
      "source": [
        "#The below shows how the v-structure that marriage/sex/limit_bal have in the hard-coded networks is activated or not based on whether we have limit_bal as evidence. \n",
        "\n",
        "print(data_infer_easy.query(['sex'], {'marriage': 'married'}))\n",
        "print(data_infer_easy.query(['sex'], {'marriage': 'not_married'}))\n",
        "\n",
        "print(data_infer_easy.query(['sex'], {'marriage': 'not_married', 'limit_bal': 'low'}))\n",
        "print(data_infer_easy.query(['sex'], {'marriage': 'married', 'limit_bal': 'low'}))\n",
        "\n",
        "print(data_infer_easy.query(['sex'], {'marriage': 'married'}).values[0] - data_infer_easy.query(['sex'], {'marriage': 'not_married'}).values[0])\n",
        "\n",
        "print(data_infer_easy.query(['sex'], {'marriage': 'not_married', 'limit_bal': 'low'}).values[0] - data_infer_easy.query(['sex'], {'marriage': 'married', 'limit_bal': 'low'}).values[0])"
      ],
      "metadata": {
        "colab": {
          "base_uri": "https://localhost:8080/"
        },
        "id": "azfAaREtoW5c",
        "outputId": "55b84a83-e239-4cc5-9e54-fa3b9040015d"
      },
      "execution_count": 123,
      "outputs": [
        {
          "output_type": "stream",
          "name": "stdout",
          "text": [
            "+-------------+------------+\n",
            "| sex         |   phi(sex) |\n",
            "+=============+============+\n",
            "| sex(female) |     0.6047 |\n",
            "+-------------+------------+\n",
            "| sex(male)   |     0.3953 |\n",
            "+-------------+------------+\n",
            "+-------------+------------+\n",
            "| sex         |   phi(sex) |\n",
            "+=============+============+\n",
            "| sex(female) |     0.6047 |\n",
            "+-------------+------------+\n",
            "| sex(male)   |     0.3953 |\n",
            "+-------------+------------+\n",
            "+-------------+------------+\n",
            "| sex         |   phi(sex) |\n",
            "+=============+============+\n",
            "| sex(female) |     0.4685 |\n",
            "+-------------+------------+\n",
            "| sex(male)   |     0.5315 |\n",
            "+-------------+------------+\n",
            "+-------------+------------+\n",
            "| sex         |   phi(sex) |\n",
            "+=============+============+\n",
            "| sex(female) |     0.5454 |\n",
            "+-------------+------------+\n",
            "| sex(male)   |     0.4546 |\n",
            "+-------------+------------+\n",
            "0.0\n",
            "-0.07689149422079772\n"
          ]
        }
      ]
    },
    {
      "cell_type": "code",
      "source": [
        "pd.DataFrame.from_dict(dependecies_calculator('How much is default impacted by sex?', [\"default\"], ['sex']), orient='index')\n",
        "\n",
        "#This reiterates that it's important to add constraits to a network learned by data as it obviously doesn't take in cosideration the context of the data itself. \n",
        "#The constraint_hill_climb model is the model that has the least bias towards sex, as sex has the lowest impact on"
      ],
      "metadata": {
        "colab": {
          "base_uri": "https://localhost:8080/",
          "height": 331
        },
        "id": "IkHznoyVaejG",
        "outputId": "f0ea37b3-7c2a-430e-abe0-e6186c51ad14"
      },
      "execution_count": 115,
      "outputs": [
        {
          "output_type": "execute_result",
          "data": {
            "text/plain": [
              "                                                                                       0\n",
              "Description                                         How much is default impacted by sex?\n",
              "Query:                                                                           default\n",
              "Evidence:                                                                            sex\n",
              "Difference of inference for model_easy is:                                      0.687753\n",
              "Difference of inference for model_medium is:                                    0.580077\n",
              "Difference of inference for model_hard is:                                      0.611876\n",
              "Difference of inference for tree_search_model is:                               0.777766\n",
              "Difference of inference for hill_climb_base_mod...                              4.808047\n",
              "Difference of inference for constr_hill_climb_m...                              0.133711"
            ],
            "text/html": [
              "\n",
              "  <div id=\"df-facf6b61-b885-4937-89fb-debda7fe92f3\">\n",
              "    <div class=\"colab-df-container\">\n",
              "      <div>\n",
              "<style scoped>\n",
              "    .dataframe tbody tr th:only-of-type {\n",
              "        vertical-align: middle;\n",
              "    }\n",
              "\n",
              "    .dataframe tbody tr th {\n",
              "        vertical-align: top;\n",
              "    }\n",
              "\n",
              "    .dataframe thead th {\n",
              "        text-align: right;\n",
              "    }\n",
              "</style>\n",
              "<table border=\"1\" class=\"dataframe\">\n",
              "  <thead>\n",
              "    <tr style=\"text-align: right;\">\n",
              "      <th></th>\n",
              "      <th>0</th>\n",
              "    </tr>\n",
              "  </thead>\n",
              "  <tbody>\n",
              "    <tr>\n",
              "      <th>Description</th>\n",
              "      <td>How much is default impacted by sex?</td>\n",
              "    </tr>\n",
              "    <tr>\n",
              "      <th>Query:</th>\n",
              "      <td>default</td>\n",
              "    </tr>\n",
              "    <tr>\n",
              "      <th>Evidence:</th>\n",
              "      <td>sex</td>\n",
              "    </tr>\n",
              "    <tr>\n",
              "      <th>Difference of inference for model_easy is:</th>\n",
              "      <td>0.687753</td>\n",
              "    </tr>\n",
              "    <tr>\n",
              "      <th>Difference of inference for model_medium is:</th>\n",
              "      <td>0.580077</td>\n",
              "    </tr>\n",
              "    <tr>\n",
              "      <th>Difference of inference for model_hard is:</th>\n",
              "      <td>0.611876</td>\n",
              "    </tr>\n",
              "    <tr>\n",
              "      <th>Difference of inference for tree_search_model is:</th>\n",
              "      <td>0.777766</td>\n",
              "    </tr>\n",
              "    <tr>\n",
              "      <th>Difference of inference for hill_climb_base_model is:</th>\n",
              "      <td>4.808047</td>\n",
              "    </tr>\n",
              "    <tr>\n",
              "      <th>Difference of inference for constr_hill_climb_model is:</th>\n",
              "      <td>0.133711</td>\n",
              "    </tr>\n",
              "  </tbody>\n",
              "</table>\n",
              "</div>\n",
              "      <button class=\"colab-df-convert\" onclick=\"convertToInteractive('df-facf6b61-b885-4937-89fb-debda7fe92f3')\"\n",
              "              title=\"Convert this dataframe to an interactive table.\"\n",
              "              style=\"display:none;\">\n",
              "        \n",
              "  <svg xmlns=\"http://www.w3.org/2000/svg\" height=\"24px\"viewBox=\"0 0 24 24\"\n",
              "       width=\"24px\">\n",
              "    <path d=\"M0 0h24v24H0V0z\" fill=\"none\"/>\n",
              "    <path d=\"M18.56 5.44l.94 2.06.94-2.06 2.06-.94-2.06-.94-.94-2.06-.94 2.06-2.06.94zm-11 1L8.5 8.5l.94-2.06 2.06-.94-2.06-.94L8.5 2.5l-.94 2.06-2.06.94zm10 10l.94 2.06.94-2.06 2.06-.94-2.06-.94-.94-2.06-.94 2.06-2.06.94z\"/><path d=\"M17.41 7.96l-1.37-1.37c-.4-.4-.92-.59-1.43-.59-.52 0-1.04.2-1.43.59L10.3 9.45l-7.72 7.72c-.78.78-.78 2.05 0 2.83L4 21.41c.39.39.9.59 1.41.59.51 0 1.02-.2 1.41-.59l7.78-7.78 2.81-2.81c.8-.78.8-2.07 0-2.86zM5.41 20L4 18.59l7.72-7.72 1.47 1.35L5.41 20z\"/>\n",
              "  </svg>\n",
              "      </button>\n",
              "      \n",
              "  <style>\n",
              "    .colab-df-container {\n",
              "      display:flex;\n",
              "      flex-wrap:wrap;\n",
              "      gap: 12px;\n",
              "    }\n",
              "\n",
              "    .colab-df-convert {\n",
              "      background-color: #E8F0FE;\n",
              "      border: none;\n",
              "      border-radius: 50%;\n",
              "      cursor: pointer;\n",
              "      display: none;\n",
              "      fill: #1967D2;\n",
              "      height: 32px;\n",
              "      padding: 0 0 0 0;\n",
              "      width: 32px;\n",
              "    }\n",
              "\n",
              "    .colab-df-convert:hover {\n",
              "      background-color: #E2EBFA;\n",
              "      box-shadow: 0px 1px 2px rgba(60, 64, 67, 0.3), 0px 1px 3px 1px rgba(60, 64, 67, 0.15);\n",
              "      fill: #174EA6;\n",
              "    }\n",
              "\n",
              "    [theme=dark] .colab-df-convert {\n",
              "      background-color: #3B4455;\n",
              "      fill: #D2E3FC;\n",
              "    }\n",
              "\n",
              "    [theme=dark] .colab-df-convert:hover {\n",
              "      background-color: #434B5C;\n",
              "      box-shadow: 0px 1px 3px 1px rgba(0, 0, 0, 0.15);\n",
              "      filter: drop-shadow(0px 1px 2px rgba(0, 0, 0, 0.3));\n",
              "      fill: #FFFFFF;\n",
              "    }\n",
              "  </style>\n",
              "\n",
              "      <script>\n",
              "        const buttonEl =\n",
              "          document.querySelector('#df-facf6b61-b885-4937-89fb-debda7fe92f3 button.colab-df-convert');\n",
              "        buttonEl.style.display =\n",
              "          google.colab.kernel.accessAllowed ? 'block' : 'none';\n",
              "\n",
              "        async function convertToInteractive(key) {\n",
              "          const element = document.querySelector('#df-facf6b61-b885-4937-89fb-debda7fe92f3');\n",
              "          const dataTable =\n",
              "            await google.colab.kernel.invokeFunction('convertToInteractive',\n",
              "                                                     [key], {});\n",
              "          if (!dataTable) return;\n",
              "\n",
              "          const docLinkHtml = 'Like what you see? Visit the ' +\n",
              "            '<a target=\"_blank\" href=https://colab.research.google.com/notebooks/data_table.ipynb>data table notebook</a>'\n",
              "            + ' to learn more about interactive tables.';\n",
              "          element.innerHTML = '';\n",
              "          dataTable['output_type'] = 'display_data';\n",
              "          await google.colab.output.renderOutput(dataTable, element);\n",
              "          const docLink = document.createElement('div');\n",
              "          docLink.innerHTML = docLinkHtml;\n",
              "          element.appendChild(docLink);\n",
              "        }\n",
              "      </script>\n",
              "    </div>\n",
              "  </div>\n",
              "  "
            ]
          },
          "metadata": {},
          "execution_count": 115
        }
      ]
    },
    {
      "cell_type": "code",
      "source": [
        "pd.DataFrame.from_dict(dependecies_calculator('How much is sex impacted by marriage?', [\"sex\"], ['marriage']), orient='index')"
      ],
      "metadata": {
        "id": "LsxpLAwWaJo6"
      },
      "execution_count": null,
      "outputs": []
    },
    {
      "cell_type": "code",
      "source": [
        "query, evidence = [\"default\"], {\"education\": \"high_school\", \"misspayments_prev_6_months\": 6, 'age': 'young', 'sex': 'female', \\\n",
        "                                'marriage': 'not_married', 'limit_bal': 'low'}\n",
        "display_inference_results('Probability of default given everything else', query, evidence)"
      ],
      "metadata": {
        "id": "jGAm4r2ye5FP",
        "colab": {
          "base_uri": "https://localhost:8080/"
        },
        "outputId": "262f380d-5cce-499e-d5c0-dd810a3b34f4"
      },
      "execution_count": null,
      "outputs": [
        {
          "output_type": "stream",
          "name": "stdout",
          "text": [
            "\u001b[1mProbability of default given everything else\u001b[0m\n",
            "\u001b[1mEASY\u001b[0m\n",
            "+------------+----------------+\n",
            "| default    |   phi(default) |\n",
            "+============+================+\n",
            "| default(0) |         0.3154 |\n",
            "+------------+----------------+\n",
            "| default(1) |         0.6846 |\n",
            "+------------+----------------+\n",
            "\u001b[1mMEDIUM\u001b[0m\n",
            "+------------+----------------+\n",
            "| default    |   phi(default) |\n",
            "+============+================+\n",
            "| default(0) |         0.3719 |\n",
            "+------------+----------------+\n",
            "| default(1) |         0.6281 |\n",
            "+------------+----------------+\n",
            "\u001b[1mHARD\u001b[0m\n",
            "+------------+----------------+\n",
            "| default    |   phi(default) |\n",
            "+============+================+\n",
            "| default(0) |         0.3182 |\n",
            "+------------+----------------+\n",
            "| default(1) |         0.6818 |\n",
            "+------------+----------------+\n",
            "\u001b[1mTREE SEARCH\u001b[0m\n",
            "+------------+----------------+\n",
            "| default    |   phi(default) |\n",
            "+============+================+\n",
            "| default(0) |         0.3030 |\n",
            "+------------+----------------+\n",
            "| default(1) |         0.6970 |\n",
            "+------------+----------------+\n",
            "\u001b[1mHILL CLIMB\u001b[0m\n",
            "+------------+----------------+\n",
            "| default    |   phi(default) |\n",
            "+============+================+\n",
            "| default(0) |         0.3379 |\n",
            "+------------+----------------+\n",
            "| default(1) |         0.6621 |\n",
            "+------------+----------------+\n",
            "\u001b[1mCONSTRAINED HILL CLIMB\u001b[0m\n",
            "+------------+----------------+\n",
            "| default    |   phi(default) |\n",
            "+============+================+\n",
            "| default(0) |         0.3154 |\n",
            "+------------+----------------+\n",
            "| default(1) |         0.6846 |\n",
            "+------------+----------------+\n"
          ]
        }
      ]
    },
    {
      "cell_type": "markdown",
      "source": [
        "# Quantitative model evalution\n",
        "So far, the models have been evaluated only in a qualitative manner. In particular a domain-expert can ragionevolemnte tell if the results are good enough. \n",
        "The next step is to evaluate the model quantitatively. Since the dataset was created for the classification task, we have leveraged the test set to obtain accuracy, F1/F2, precision, and recall metrics."
      ],
      "metadata": {
        "id": "6Lk2WwkKkf9n"
      }
    },
    {
      "cell_type": "code",
      "source": [
        "def predict(data_point: dict, inference_object: VariableElimination, query: str) -> tuple[float, float]:\n",
        "  result = inference_object.query(variables=['default'], evidence=dict(data_point))\n",
        "  values = result.state_names[query]\n",
        "  default = np.argmax(result.values)\n",
        "  return default, result.values # outcome, classes probs\n",
        "\n",
        "def predict_batch(batch: pd.DataFrame, inference_object: VariableElimination, query: str) -> list[int]:\n",
        "  return [predict(data_point[1], inference_object, query)[0] for data_point in batch.iterrows()]"
      ],
      "metadata": {
        "id": "kFAqxfoKkerY"
      },
      "execution_count": null,
      "outputs": []
    },
    {
      "cell_type": "code",
      "source": [
        "preds = predict_batch(X_test, data_infer_easy, query = 'default')\n",
        "print_bold('EASY')\n",
        "print(f'Accuracy {accuracy_score(y_test, preds):.2%}')\n",
        "print(f'Recall: {recall_score(y_test, preds):.2%}')\n",
        "print(f'F1-Score {f1_score(y_test, preds):.2%}')\n",
        "\n",
        "preds = predict_batch(X_test, data_infer_medium, query = 'default')\n",
        "print_bold('MEDIUM')\n",
        "print(f'Accuracy: {accuracy_score(y_test, preds):.2%}')\n",
        "print(f'Recall: {recall_score(y_test, preds):.2%}')\n",
        "print(f'F1-Score {f1_score(y_test, preds):.2%}')\n",
        "\n",
        "preds = predict_batch(X_test, data_infer_hard, query = 'default')\n",
        "print_bold('HARD')\n",
        "print(f'Accuracy: {accuracy_score(y_test, preds):.2%}')\n",
        "print(f'Recall: {recall_score(y_test, preds):.2%}')\n",
        "print(f'F1-Score {f1_score(y_test, preds):.2%}')\n",
        "\n",
        "preds = predict_batch(X_test, data_infer_tree_search, query = 'default')\n",
        "print_bold('TREE SEARCH')\n",
        "print(f'Accuracy: {accuracy_score(y_test, preds):.2%}')\n",
        "print(f'Recall: {recall_score(y_test, preds):.2%}')\n",
        "print(f'F1-Score {f1_score(y_test, preds):.2%}')\n",
        "\n",
        "preds = predict_batch(X_test, data_infer_hill_climb, query = 'default')\n",
        "print_bold('HILL CLIMB')\n",
        "print(f'Accuracy: {accuracy_score(y_test, preds):.2%}')\n",
        "print(f'Recall: {recall_score(y_test, preds):.2%}')\n",
        "print(f'F1-Score {f1_score(y_test, preds):.2%}')\n",
        "\n",
        "preds = predict_batch(X_test, data_infer_constr_hill_climb, query = 'default')\n",
        "print_bold('CONSTRAINED HILL CLIMB')\n",
        "print(f'Accuracy: {accuracy_score(y_test, preds):.2%}')\n",
        "print(f'Recall: {recall_score(y_test, preds):.2%}')\n",
        "print(f'F1-Score {f1_score(y_test, preds):.2%}')"
      ],
      "metadata": {
        "colab": {
          "base_uri": "https://localhost:8080/"
        },
        "id": "gUhFwJG-v0x5",
        "outputId": "fc3bb2ac-4752-490b-a49e-229af5b31df8"
      },
      "execution_count": null,
      "outputs": [
        {
          "output_type": "stream",
          "name": "stdout",
          "text": [
            "\u001b[1mEASY\u001b[0m\n",
            "Accuracy 80.23%\n",
            "Recall: 28.26%\n",
            "F1-Score 38.74%\n",
            "\u001b[1mMEDIUM\u001b[0m\n",
            "Accuracy: 80.20%\n",
            "Recall: 29.84%\n",
            "F1-Score 40.00%\n",
            "\u001b[1mHARD\u001b[0m\n",
            "Accuracy: 79.82%\n",
            "Recall: 27.05%\n",
            "F1-Score 37.22%\n",
            "\u001b[1mTREE SEARCH\u001b[0m\n",
            "Accuracy: 80.45%\n",
            "Recall: 33.84%\n",
            "F1-Score 43.36%\n",
            "\u001b[1mHILL CLIMB\u001b[0m\n",
            "Accuracy: 80.52%\n",
            "Recall: 30.14%\n",
            "F1-Score 40.63%\n",
            "\u001b[1mCONSTRAINED HILL CLIMB\u001b[0m\n",
            "Accuracy: 80.23%\n",
            "Recall: 28.26%\n",
            "F1-Score 38.74%\n"
          ]
        }
      ]
    }
  ]
}