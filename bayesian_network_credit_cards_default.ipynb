{
  "nbformat": 4,
  "nbformat_minor": 0,
  "metadata": {
    "colab": {
      "provenance": [],
      "collapsed_sections": [],
      "authorship_tag": "ABX9TyOvVEN3mDhd/jzkzzWQdh1f",
      "include_colab_link": true
    },
    "kernelspec": {
      "name": "python3",
      "display_name": "Python 3"
    },
    "language_info": {
      "name": "python"
    }
  },
  "cells": [
    {
      "cell_type": "markdown",
      "metadata": {
        "id": "view-in-github",
        "colab_type": "text"
      },
      "source": [
        "<a href=\"https://colab.research.google.com/github/lorenzobalzani/bayesian-network-credit-cards/blob/master/bayesian_network_credit_cards_default.ipynb\" target=\"_parent\"><img src=\"https://colab.research.google.com/assets/colab-badge.svg\" alt=\"Open In Colab\"/></a>"
      ]
    },
    {
      "cell_type": "markdown",
      "source": [
        "# Title: Bayesian Networks for measuring credit cards' default probabilities\n",
        "## Course: Fundamentals of AI and KR % 3\n",
        "### Authors: [**Lorenzo Balzani**](mailto:lorenzo.balzani@studio.unibo.it) and [**Thomas Guizzetti**](mailto:thomas.guizzetti@studio.unibo.it)\n",
        "\n",
        "# Abstract\n",
        "TODO"
      ],
      "metadata": {
        "id": "wutYO5JzDEID"
      }
    },
    {
      "cell_type": "markdown",
      "source": [
        "# Setup"
      ],
      "metadata": {
        "id": "DiZNkPEHDbXz"
      }
    },
    {
      "cell_type": "markdown",
      "source": [
        "## Requirements"
      ],
      "metadata": {
        "id": "b6PmZJjzS4kN"
      }
    },
    {
      "cell_type": "code",
      "source": [
        "!pip install -q pandas numpy pgmpy"
      ],
      "metadata": {
        "colab": {
          "base_uri": "https://localhost:8080/"
        },
        "id": "csUwu-Tt3M4g",
        "outputId": "1571b90c-fa8d-402f-f720-e7e4bb27da5a"
      },
      "execution_count": 1,
      "outputs": [
        {
          "output_type": "stream",
          "name": "stdout",
          "text": [
            "\u001b[?25l\r\u001b[K     |▏                               | 10 kB 22.6 MB/s eta 0:00:01\r\u001b[K     |▍                               | 20 kB 6.1 MB/s eta 0:00:01\r\u001b[K     |▌                               | 30 kB 8.5 MB/s eta 0:00:01\r\u001b[K     |▊                               | 40 kB 3.8 MB/s eta 0:00:01\r\u001b[K     |▉                               | 51 kB 4.1 MB/s eta 0:00:01\r\u001b[K     |█                               | 61 kB 4.8 MB/s eta 0:00:01\r\u001b[K     |█▏                              | 71 kB 4.7 MB/s eta 0:00:01\r\u001b[K     |█▍                              | 81 kB 5.2 MB/s eta 0:00:01\r\u001b[K     |█▌                              | 92 kB 5.1 MB/s eta 0:00:01\r\u001b[K     |█▊                              | 102 kB 4.7 MB/s eta 0:00:01\r\u001b[K     |█▉                              | 112 kB 4.7 MB/s eta 0:00:01\r\u001b[K     |██                              | 122 kB 4.7 MB/s eta 0:00:01\r\u001b[K     |██▏                             | 133 kB 4.7 MB/s eta 0:00:01\r\u001b[K     |██▍                             | 143 kB 4.7 MB/s eta 0:00:01\r\u001b[K     |██▌                             | 153 kB 4.7 MB/s eta 0:00:01\r\u001b[K     |██▊                             | 163 kB 4.7 MB/s eta 0:00:01\r\u001b[K     |███                             | 174 kB 4.7 MB/s eta 0:00:01\r\u001b[K     |███                             | 184 kB 4.7 MB/s eta 0:00:01\r\u001b[K     |███▎                            | 194 kB 4.7 MB/s eta 0:00:01\r\u001b[K     |███▍                            | 204 kB 4.7 MB/s eta 0:00:01\r\u001b[K     |███▋                            | 215 kB 4.7 MB/s eta 0:00:01\r\u001b[K     |███▊                            | 225 kB 4.7 MB/s eta 0:00:01\r\u001b[K     |████                            | 235 kB 4.7 MB/s eta 0:00:01\r\u001b[K     |████                            | 245 kB 4.7 MB/s eta 0:00:01\r\u001b[K     |████▎                           | 256 kB 4.7 MB/s eta 0:00:01\r\u001b[K     |████▍                           | 266 kB 4.7 MB/s eta 0:00:01\r\u001b[K     |████▋                           | 276 kB 4.7 MB/s eta 0:00:01\r\u001b[K     |████▊                           | 286 kB 4.7 MB/s eta 0:00:01\r\u001b[K     |█████                           | 296 kB 4.7 MB/s eta 0:00:01\r\u001b[K     |█████                           | 307 kB 4.7 MB/s eta 0:00:01\r\u001b[K     |█████▎                          | 317 kB 4.7 MB/s eta 0:00:01\r\u001b[K     |█████▌                          | 327 kB 4.7 MB/s eta 0:00:01\r\u001b[K     |█████▋                          | 337 kB 4.7 MB/s eta 0:00:01\r\u001b[K     |█████▉                          | 348 kB 4.7 MB/s eta 0:00:01\r\u001b[K     |██████                          | 358 kB 4.7 MB/s eta 0:00:01\r\u001b[K     |██████▏                         | 368 kB 4.7 MB/s eta 0:00:01\r\u001b[K     |██████▎                         | 378 kB 4.7 MB/s eta 0:00:01\r\u001b[K     |██████▌                         | 389 kB 4.7 MB/s eta 0:00:01\r\u001b[K     |██████▋                         | 399 kB 4.7 MB/s eta 0:00:01\r\u001b[K     |██████▉                         | 409 kB 4.7 MB/s eta 0:00:01\r\u001b[K     |███████                         | 419 kB 4.7 MB/s eta 0:00:01\r\u001b[K     |███████▏                        | 430 kB 4.7 MB/s eta 0:00:01\r\u001b[K     |███████▎                        | 440 kB 4.7 MB/s eta 0:00:01\r\u001b[K     |███████▌                        | 450 kB 4.7 MB/s eta 0:00:01\r\u001b[K     |███████▋                        | 460 kB 4.7 MB/s eta 0:00:01\r\u001b[K     |███████▉                        | 471 kB 4.7 MB/s eta 0:00:01\r\u001b[K     |████████                        | 481 kB 4.7 MB/s eta 0:00:01\r\u001b[K     |████████▏                       | 491 kB 4.7 MB/s eta 0:00:01\r\u001b[K     |████████▍                       | 501 kB 4.7 MB/s eta 0:00:01\r\u001b[K     |████████▌                       | 512 kB 4.7 MB/s eta 0:00:01\r\u001b[K     |████████▊                       | 522 kB 4.7 MB/s eta 0:00:01\r\u001b[K     |████████▉                       | 532 kB 4.7 MB/s eta 0:00:01\r\u001b[K     |█████████                       | 542 kB 4.7 MB/s eta 0:00:01\r\u001b[K     |█████████▏                      | 552 kB 4.7 MB/s eta 0:00:01\r\u001b[K     |█████████▍                      | 563 kB 4.7 MB/s eta 0:00:01\r\u001b[K     |█████████▌                      | 573 kB 4.7 MB/s eta 0:00:01\r\u001b[K     |█████████▊                      | 583 kB 4.7 MB/s eta 0:00:01\r\u001b[K     |█████████▉                      | 593 kB 4.7 MB/s eta 0:00:01\r\u001b[K     |██████████                      | 604 kB 4.7 MB/s eta 0:00:01\r\u001b[K     |██████████▏                     | 614 kB 4.7 MB/s eta 0:00:01\r\u001b[K     |██████████▍                     | 624 kB 4.7 MB/s eta 0:00:01\r\u001b[K     |██████████▋                     | 634 kB 4.7 MB/s eta 0:00:01\r\u001b[K     |██████████▊                     | 645 kB 4.7 MB/s eta 0:00:01\r\u001b[K     |███████████                     | 655 kB 4.7 MB/s eta 0:00:01\r\u001b[K     |███████████                     | 665 kB 4.7 MB/s eta 0:00:01\r\u001b[K     |███████████▎                    | 675 kB 4.7 MB/s eta 0:00:01\r\u001b[K     |███████████▍                    | 686 kB 4.7 MB/s eta 0:00:01\r\u001b[K     |███████████▋                    | 696 kB 4.7 MB/s eta 0:00:01\r\u001b[K     |███████████▊                    | 706 kB 4.7 MB/s eta 0:00:01\r\u001b[K     |████████████                    | 716 kB 4.7 MB/s eta 0:00:01\r\u001b[K     |████████████                    | 727 kB 4.7 MB/s eta 0:00:01\r\u001b[K     |████████████▎                   | 737 kB 4.7 MB/s eta 0:00:01\r\u001b[K     |████████████▍                   | 747 kB 4.7 MB/s eta 0:00:01\r\u001b[K     |████████████▋                   | 757 kB 4.7 MB/s eta 0:00:01\r\u001b[K     |████████████▊                   | 768 kB 4.7 MB/s eta 0:00:01\r\u001b[K     |█████████████                   | 778 kB 4.7 MB/s eta 0:00:01\r\u001b[K     |█████████████▏                  | 788 kB 4.7 MB/s eta 0:00:01\r\u001b[K     |█████████████▎                  | 798 kB 4.7 MB/s eta 0:00:01\r\u001b[K     |█████████████▌                  | 808 kB 4.7 MB/s eta 0:00:01\r\u001b[K     |█████████████▋                  | 819 kB 4.7 MB/s eta 0:00:01\r\u001b[K     |█████████████▉                  | 829 kB 4.7 MB/s eta 0:00:01\r\u001b[K     |██████████████                  | 839 kB 4.7 MB/s eta 0:00:01\r\u001b[K     |██████████████▏                 | 849 kB 4.7 MB/s eta 0:00:01\r\u001b[K     |██████████████▎                 | 860 kB 4.7 MB/s eta 0:00:01\r\u001b[K     |██████████████▌                 | 870 kB 4.7 MB/s eta 0:00:01\r\u001b[K     |██████████████▋                 | 880 kB 4.7 MB/s eta 0:00:01\r\u001b[K     |██████████████▉                 | 890 kB 4.7 MB/s eta 0:00:01\r\u001b[K     |███████████████                 | 901 kB 4.7 MB/s eta 0:00:01\r\u001b[K     |███████████████▏                | 911 kB 4.7 MB/s eta 0:00:01\r\u001b[K     |███████████████▎                | 921 kB 4.7 MB/s eta 0:00:01\r\u001b[K     |███████████████▌                | 931 kB 4.7 MB/s eta 0:00:01\r\u001b[K     |███████████████▊                | 942 kB 4.7 MB/s eta 0:00:01\r\u001b[K     |███████████████▉                | 952 kB 4.7 MB/s eta 0:00:01\r\u001b[K     |████████████████                | 962 kB 4.7 MB/s eta 0:00:01\r\u001b[K     |████████████████▏               | 972 kB 4.7 MB/s eta 0:00:01\r\u001b[K     |████████████████▍               | 983 kB 4.7 MB/s eta 0:00:01\r\u001b[K     |████████████████▌               | 993 kB 4.7 MB/s eta 0:00:01\r\u001b[K     |████████████████▊               | 1.0 MB 4.7 MB/s eta 0:00:01\r\u001b[K     |████████████████▉               | 1.0 MB 4.7 MB/s eta 0:00:01\r\u001b[K     |█████████████████               | 1.0 MB 4.7 MB/s eta 0:00:01\r\u001b[K     |█████████████████▏              | 1.0 MB 4.7 MB/s eta 0:00:01\r\u001b[K     |█████████████████▍              | 1.0 MB 4.7 MB/s eta 0:00:01\r\u001b[K     |█████████████████▌              | 1.1 MB 4.7 MB/s eta 0:00:01\r\u001b[K     |█████████████████▊              | 1.1 MB 4.7 MB/s eta 0:00:01\r\u001b[K     |█████████████████▉              | 1.1 MB 4.7 MB/s eta 0:00:01\r\u001b[K     |██████████████████              | 1.1 MB 4.7 MB/s eta 0:00:01\r\u001b[K     |██████████████████▎             | 1.1 MB 4.7 MB/s eta 0:00:01\r\u001b[K     |██████████████████▍             | 1.1 MB 4.7 MB/s eta 0:00:01\r\u001b[K     |██████████████████▋             | 1.1 MB 4.7 MB/s eta 0:00:01\r\u001b[K     |██████████████████▊             | 1.1 MB 4.7 MB/s eta 0:00:01\r\u001b[K     |███████████████████             | 1.1 MB 4.7 MB/s eta 0:00:01\r\u001b[K     |███████████████████             | 1.1 MB 4.7 MB/s eta 0:00:01\r\u001b[K     |███████████████████▎            | 1.2 MB 4.7 MB/s eta 0:00:01\r\u001b[K     |███████████████████▍            | 1.2 MB 4.7 MB/s eta 0:00:01\r\u001b[K     |███████████████████▋            | 1.2 MB 4.7 MB/s eta 0:00:01\r\u001b[K     |███████████████████▊            | 1.2 MB 4.7 MB/s eta 0:00:01\r\u001b[K     |████████████████████            | 1.2 MB 4.7 MB/s eta 0:00:01\r\u001b[K     |████████████████████            | 1.2 MB 4.7 MB/s eta 0:00:01\r\u001b[K     |████████████████████▎           | 1.2 MB 4.7 MB/s eta 0:00:01\r\u001b[K     |████████████████████▍           | 1.2 MB 4.7 MB/s eta 0:00:01\r\u001b[K     |████████████████████▋           | 1.2 MB 4.7 MB/s eta 0:00:01\r\u001b[K     |████████████████████▉           | 1.2 MB 4.7 MB/s eta 0:00:01\r\u001b[K     |█████████████████████           | 1.3 MB 4.7 MB/s eta 0:00:01\r\u001b[K     |█████████████████████▏          | 1.3 MB 4.7 MB/s eta 0:00:01\r\u001b[K     |█████████████████████▎          | 1.3 MB 4.7 MB/s eta 0:00:01\r\u001b[K     |█████████████████████▌          | 1.3 MB 4.7 MB/s eta 0:00:01\r\u001b[K     |█████████████████████▋          | 1.3 MB 4.7 MB/s eta 0:00:01\r\u001b[K     |█████████████████████▉          | 1.3 MB 4.7 MB/s eta 0:00:01\r\u001b[K     |██████████████████████          | 1.3 MB 4.7 MB/s eta 0:00:01\r\u001b[K     |██████████████████████▏         | 1.3 MB 4.7 MB/s eta 0:00:01\r\u001b[K     |██████████████████████▎         | 1.3 MB 4.7 MB/s eta 0:00:01\r\u001b[K     |██████████████████████▌         | 1.4 MB 4.7 MB/s eta 0:00:01\r\u001b[K     |██████████████████████▋         | 1.4 MB 4.7 MB/s eta 0:00:01\r\u001b[K     |██████████████████████▉         | 1.4 MB 4.7 MB/s eta 0:00:01\r\u001b[K     |███████████████████████         | 1.4 MB 4.7 MB/s eta 0:00:01\r\u001b[K     |███████████████████████▏        | 1.4 MB 4.7 MB/s eta 0:00:01\r\u001b[K     |███████████████████████▎        | 1.4 MB 4.7 MB/s eta 0:00:01\r\u001b[K     |███████████████████████▌        | 1.4 MB 4.7 MB/s eta 0:00:01\r\u001b[K     |███████████████████████▊        | 1.4 MB 4.7 MB/s eta 0:00:01\r\u001b[K     |███████████████████████▉        | 1.4 MB 4.7 MB/s eta 0:00:01\r\u001b[K     |████████████████████████        | 1.4 MB 4.7 MB/s eta 0:00:01\r\u001b[K     |████████████████████████▏       | 1.5 MB 4.7 MB/s eta 0:00:01\r\u001b[K     |████████████████████████▍       | 1.5 MB 4.7 MB/s eta 0:00:01\r\u001b[K     |████████████████████████▌       | 1.5 MB 4.7 MB/s eta 0:00:01\r\u001b[K     |████████████████████████▊       | 1.5 MB 4.7 MB/s eta 0:00:01\r\u001b[K     |████████████████████████▉       | 1.5 MB 4.7 MB/s eta 0:00:01\r\u001b[K     |█████████████████████████       | 1.5 MB 4.7 MB/s eta 0:00:01\r\u001b[K     |█████████████████████████▏      | 1.5 MB 4.7 MB/s eta 0:00:01\r\u001b[K     |█████████████████████████▍      | 1.5 MB 4.7 MB/s eta 0:00:01\r\u001b[K     |█████████████████████████▌      | 1.5 MB 4.7 MB/s eta 0:00:01\r\u001b[K     |█████████████████████████▊      | 1.5 MB 4.7 MB/s eta 0:00:01\r\u001b[K     |█████████████████████████▉      | 1.6 MB 4.7 MB/s eta 0:00:01\r\u001b[K     |██████████████████████████      | 1.6 MB 4.7 MB/s eta 0:00:01\r\u001b[K     |██████████████████████████▎     | 1.6 MB 4.7 MB/s eta 0:00:01\r\u001b[K     |██████████████████████████▍     | 1.6 MB 4.7 MB/s eta 0:00:01\r\u001b[K     |██████████████████████████▋     | 1.6 MB 4.7 MB/s eta 0:00:01\r\u001b[K     |██████████████████████████▊     | 1.6 MB 4.7 MB/s eta 0:00:01\r\u001b[K     |███████████████████████████     | 1.6 MB 4.7 MB/s eta 0:00:01\r\u001b[K     |███████████████████████████     | 1.6 MB 4.7 MB/s eta 0:00:01\r\u001b[K     |███████████████████████████▎    | 1.6 MB 4.7 MB/s eta 0:00:01\r\u001b[K     |███████████████████████████▍    | 1.6 MB 4.7 MB/s eta 0:00:01\r\u001b[K     |███████████████████████████▋    | 1.7 MB 4.7 MB/s eta 0:00:01\r\u001b[K     |███████████████████████████▊    | 1.7 MB 4.7 MB/s eta 0:00:01\r\u001b[K     |████████████████████████████    | 1.7 MB 4.7 MB/s eta 0:00:01\r\u001b[K     |████████████████████████████    | 1.7 MB 4.7 MB/s eta 0:00:01\r\u001b[K     |████████████████████████████▎   | 1.7 MB 4.7 MB/s eta 0:00:01\r\u001b[K     |████████████████████████████▍   | 1.7 MB 4.7 MB/s eta 0:00:01\r\u001b[K     |████████████████████████████▋   | 1.7 MB 4.7 MB/s eta 0:00:01\r\u001b[K     |████████████████████████████▉   | 1.7 MB 4.7 MB/s eta 0:00:01\r\u001b[K     |█████████████████████████████   | 1.7 MB 4.7 MB/s eta 0:00:01\r\u001b[K     |█████████████████████████████▏  | 1.8 MB 4.7 MB/s eta 0:00:01\r\u001b[K     |█████████████████████████████▎  | 1.8 MB 4.7 MB/s eta 0:00:01\r\u001b[K     |█████████████████████████████▌  | 1.8 MB 4.7 MB/s eta 0:00:01\r\u001b[K     |█████████████████████████████▋  | 1.8 MB 4.7 MB/s eta 0:00:01\r\u001b[K     |█████████████████████████████▉  | 1.8 MB 4.7 MB/s eta 0:00:01\r\u001b[K     |██████████████████████████████  | 1.8 MB 4.7 MB/s eta 0:00:01\r\u001b[K     |██████████████████████████████▏ | 1.8 MB 4.7 MB/s eta 0:00:01\r\u001b[K     |██████████████████████████████▎ | 1.8 MB 4.7 MB/s eta 0:00:01\r\u001b[K     |██████████████████████████████▌ | 1.8 MB 4.7 MB/s eta 0:00:01\r\u001b[K     |██████████████████████████████▋ | 1.8 MB 4.7 MB/s eta 0:00:01\r\u001b[K     |██████████████████████████████▉ | 1.9 MB 4.7 MB/s eta 0:00:01\r\u001b[K     |███████████████████████████████ | 1.9 MB 4.7 MB/s eta 0:00:01\r\u001b[K     |███████████████████████████████▏| 1.9 MB 4.7 MB/s eta 0:00:01\r\u001b[K     |███████████████████████████████▍| 1.9 MB 4.7 MB/s eta 0:00:01\r\u001b[K     |███████████████████████████████▌| 1.9 MB 4.7 MB/s eta 0:00:01\r\u001b[K     |███████████████████████████████▊| 1.9 MB 4.7 MB/s eta 0:00:01\r\u001b[K     |███████████████████████████████▉| 1.9 MB 4.7 MB/s eta 0:00:01\r\u001b[K     |████████████████████████████████| 1.9 MB 4.7 MB/s \n",
            "\u001b[?25h"
          ]
        }
      ]
    },
    {
      "cell_type": "markdown",
      "source": [
        "## Imports"
      ],
      "metadata": {
        "id": "usLiB0OMS6Ou"
      }
    },
    {
      "cell_type": "code",
      "source": [
        "import os, logging\n",
        "import pandas as pd\n",
        "import numpy as np"
      ],
      "metadata": {
        "id": "CYV8-E163KzW"
      },
      "execution_count": 2,
      "outputs": []
    },
    {
      "cell_type": "markdown",
      "source": [
        "## Declarations"
      ],
      "metadata": {
        "id": "HJqvuPrNS9o7"
      }
    },
    {
      "cell_type": "code",
      "source": [
        "logger = logging.getLogger()\n",
        "dataset_url = 'https://raw.githubusercontent.com/lorenzobalzani/bayesian-network-credit-cards/master/dataset.csv'"
      ],
      "metadata": {
        "id": "76Fyk7MjOyzo"
      },
      "execution_count": 3,
      "outputs": []
    },
    {
      "cell_type": "markdown",
      "source": [
        "# Dataset"
      ],
      "metadata": {
        "id": "j7NoIN1QDk1q"
      }
    },
    {
      "cell_type": "code",
      "source": [
        "def read_dataset(url: str) -> pd.DataFrame:\n",
        "  dataset = pd.read_csv(url, delimiter=';').set_index('ID') \\\n",
        "            .rename(columns={'default payment next month': 'default'})\n",
        "  return dataset.drop(columns=[column for column in dataset.columns if 'AMT' in column]) \\\n",
        "         .rename(columns={column: column.lower() for column in dataset.columns})\n",
        "\n",
        "dataset = read_dataset(dataset_url)"
      ],
      "metadata": {
        "id": "3cp03GKsFVFL"
      },
      "execution_count": 4,
      "outputs": []
    },
    {
      "cell_type": "markdown",
      "source": [
        "## Distribution of `limit_bal` \n",
        "First, we print out the histogram related to the distribution of `limit_bal`, which is the only continuous variable used."
      ],
      "metadata": {
        "id": "rfxyLfwJD4NF"
      }
    },
    {
      "cell_type": "code",
      "source": [
        "ax = dataset['limit_bal'].plot.hist(bins=5, alpha=0.5)"
      ],
      "metadata": {
        "colab": {
          "base_uri": "https://localhost:8080/",
          "height": 278
        },
        "id": "tPOZ_CEpCuIr",
        "outputId": "26a52afb-53df-4370-d944-e083d8a1d71f"
      },
      "execution_count": 5,
      "outputs": [
        {
          "output_type": "display_data",
          "data": {
            "text/plain": [
              "<Figure size 432x288 with 1 Axes>"
            ],
            "image/png": "[encoded data removed]"
          },
          "metadata": {
            "needs_background": "light"
          }
        }
      ]
    },
    {
      "cell_type": "markdown",
      "source": [
        "Next, we describe the distribution. To discretize it, we would like to create four beams (i.e., corresponding to the four percentiles)."
      ],
      "metadata": {
        "id": "RLT0UNoOEfsD"
      }
    },
    {
      "cell_type": "code",
      "source": [
        "dataset['limit_bal'].describe()"
      ],
      "metadata": {
        "colab": {
          "base_uri": "https://localhost:8080/"
        },
        "id": "H9Ok3wXWCSHz",
        "outputId": "fee92fe1-397b-4242-e8de-d6bb2f21348e"
      },
      "execution_count": 6,
      "outputs": [
        {
          "output_type": "execute_result",
          "data": {
            "text/plain": [
              "count      30000.000000\n",
              "mean      167484.322667\n",
              "std       129747.661567\n",
              "min        10000.000000\n",
              "25%        50000.000000\n",
              "50%       140000.000000\n",
              "75%       240000.000000\n",
              "max      1000000.000000\n",
              "Name: limit_bal, dtype: float64"
            ]
          },
          "metadata": {},
          "execution_count": 6
        }
      ]
    },
    {
      "cell_type": "markdown",
      "source": [
        "## Manipulation\n",
        "The *artificial column* `misspayments_prev_6_months` can hold either positive, negative numbers or 0. In particular, this means: \n",
        "1. $ n = -2 $ corresponds to there was no credit to pay;\n",
        "2. $ n = -1 $ corresponds to payed successfully;\n",
        "3. $ n = 0 $ corresponds to a payment that was made on time but not totally to clear the balance (i.e., the minimum payment was met);\n",
        "4. $ n > 0 $ corresponds to the number of delayed months.\n",
        "\n",
        "All computations - but `misspayments_prev_6_months` - are performed in a vectorized fashion using NumPy. The less efficient alternative would have used the `apply` method over Pandas DataFrame, which internally leverages a for loop."
      ],
      "metadata": {
        "id": "u_NZMq0IFLLN"
      }
    },
    {
      "cell_type": "code",
      "source": [
        "%%time\n",
        "\n",
        "def manipulate_dataset(df: pd.DataFrame) -> pd.DataFrame:\n",
        "  compute_misspayments = lambda payments_status: sum([payment_status > 0 for payment_status in payments_status])\n",
        "  df['sex'] = np.where(df['sex'] == 1, 'male', 'female')\n",
        "  df['marriage'] = np.where(df['marriage'] == 1, 'married', 'not_married')\n",
        "  df['age'] = np.select([\n",
        "              (df['age'] < 35), \n",
        "              (df['age'] >= 35) & (df['age'] < 60)],\n",
        "              ['young', 'mid_aged'], default = 'senior')\n",
        "  df['limit_bal'] = np.select([\n",
        "                    (df['limit_bal'] < 50_000), \n",
        "                    (df['limit_bal'] >= 50_000) & (df['limit_bal'] < 140_000),\n",
        "                    (df['limit_bal'] >= 140_000) & (df['limit_bal'] < 240_000)],\n",
        "                    ['low', 'medium', 'medium_high'], default = 'high')\n",
        "  df['education'] = np.select([\n",
        "                    (df['education'] == 1), \n",
        "                    (df['education'] == 2), \n",
        "                    (df['education'] == 3)], \n",
        "                    ['graduate', 'university', 'high_school'], default = 'others') \n",
        "  df['misspayments_prev_6_months'] = df.apply(lambda row: \\\n",
        "                                              compute_misspayments([row[column] for column in df.columns if 'pay_' in column]), \n",
        "                                              axis=1) #axis = 1 means row by row\n",
        "  return df.drop(columns=[column for column in df.columns if 'pay_' in column])\n",
        "\n",
        "dataset = manipulate_dataset(read_dataset(dataset_url))"
      ],
      "metadata": {
        "colab": {
          "base_uri": "https://localhost:8080/"
        },
        "id": "EZm6-KOqYe6r",
        "outputId": "f271c68a-596d-46be-c8de-118b103d4d29"
      },
      "execution_count": 7,
      "outputs": [
        {
          "output_type": "stream",
          "name": "stdout",
          "text": [
            "CPU times: user 1.23 s, sys: 29.9 ms, total: 1.26 s\n",
            "Wall time: 1.37 s\n"
          ]
        }
      ]
    },
    {
      "cell_type": "markdown",
      "source": [
        "## Final dataset"
      ],
      "metadata": {
        "id": "9Xco0hW4FzcM"
      }
    },
    {
      "cell_type": "code",
      "source": [
        "dataset.head()"
      ],
      "metadata": {
        "colab": {
          "base_uri": "https://localhost:8080/",
          "height": 238
        },
        "id": "XKClX88UF2IA",
        "outputId": "210fa3ec-29f6-4de3-e656-1f1c7b6d423b"
      },
      "execution_count": 8,
      "outputs": [
        {
          "output_type": "execute_result",
          "data": {
            "text/plain": [
              "   limit_bal     sex   education     marriage       age  default  \\\n",
              "ID                                                                 \n",
              "1        low  female  university      married     young        1   \n",
              "2     medium  female  university  not_married     young        1   \n",
              "3     medium  female  university  not_married     young        0   \n",
              "4     medium  female  university      married  mid_aged        0   \n",
              "5     medium    male  university      married  mid_aged        0   \n",
              "\n",
              "    misspayments_prev_6_months  \n",
              "ID                              \n",
              "1                            2  \n",
              "2                            2  \n",
              "3                            0  \n",
              "4                            0  \n",
              "5                            0  "
            ],
            "text/html": [
              "\n",
              "  <div id=\"df-30bffc0a-576a-4be3-9cd3-891ee9d2602b\">\n",
              "    <div class=\"colab-df-container\">\n",
              "      <div>\n",
              "<style scoped>\n",
              "    .dataframe tbody tr th:only-of-type {\n",
              "        vertical-align: middle;\n",
              "    }\n",
              "\n",
              "    .dataframe tbody tr th {\n",
              "        vertical-align: top;\n",
              "    }\n",
              "\n",
              "    .dataframe thead th {\n",
              "        text-align: right;\n",
              "    }\n",
              "</style>\n",
              "<table border=\"1\" class=\"dataframe\">\n",
              "  <thead>\n",
              "    <tr style=\"text-align: right;\">\n",
              "      <th></th>\n",
              "      <th>limit_bal</th>\n",
              "      <th>sex</th>\n",
              "      <th>education</th>\n",
              "      <th>marriage</th>\n",
              "      <th>age</th>\n",
              "      <th>default</th>\n",
              "      <th>misspayments_prev_6_months</th>\n",
              "    </tr>\n",
              "    <tr>\n",
              "      <th>ID</th>\n",
              "      <th></th>\n",
              "      <th></th>\n",
              "      <th></th>\n",
              "      <th></th>\n",
              "      <th></th>\n",
              "      <th></th>\n",
              "      <th></th>\n",
              "    </tr>\n",
              "  </thead>\n",
              "  <tbody>\n",
              "    <tr>\n",
              "      <th>1</th>\n",
              "      <td>low</td>\n",
              "      <td>female</td>\n",
              "      <td>university</td>\n",
              "      <td>married</td>\n",
              "      <td>young</td>\n",
              "      <td>1</td>\n",
              "      <td>2</td>\n",
              "    </tr>\n",
              "    <tr>\n",
              "      <th>2</th>\n",
              "      <td>medium</td>\n",
              "      <td>female</td>\n",
              "      <td>university</td>\n",
              "      <td>not_married</td>\n",
              "      <td>young</td>\n",
              "      <td>1</td>\n",
              "      <td>2</td>\n",
              "    </tr>\n",
              "    <tr>\n",
              "      <th>3</th>\n",
              "      <td>medium</td>\n",
              "      <td>female</td>\n",
              "      <td>university</td>\n",
              "      <td>not_married</td>\n",
              "      <td>young</td>\n",
              "      <td>0</td>\n",
              "      <td>0</td>\n",
              "    </tr>\n",
              "    <tr>\n",
              "      <th>4</th>\n",
              "      <td>medium</td>\n",
              "      <td>female</td>\n",
              "      <td>university</td>\n",
              "      <td>married</td>\n",
              "      <td>mid_aged</td>\n",
              "      <td>0</td>\n",
              "      <td>0</td>\n",
              "    </tr>\n",
              "    <tr>\n",
              "      <th>5</th>\n",
              "      <td>medium</td>\n",
              "      <td>male</td>\n",
              "      <td>university</td>\n",
              "      <td>married</td>\n",
              "      <td>mid_aged</td>\n",
              "      <td>0</td>\n",
              "      <td>0</td>\n",
              "    </tr>\n",
              "  </tbody>\n",
              "</table>\n",
              "</div>\n",
              "      <button class=\"colab-df-convert\" onclick=\"convertToInteractive('df-30bffc0a-576a-4be3-9cd3-891ee9d2602b')\"\n",
              "              title=\"Convert this dataframe to an interactive table.\"\n",
              "              style=\"display:none;\">\n",
              "        \n",
              "  <svg xmlns=\"http://www.w3.org/2000/svg\" height=\"24px\"viewBox=\"0 0 24 24\"\n",
              "       width=\"24px\">\n",
              "    <path d=\"M0 0h24v24H0V0z\" fill=\"none\"/>\n",
              "    <path d=\"M18.56 5.44l.94 2.06.94-2.06 2.06-.94-2.06-.94-.94-2.06-.94 2.06-2.06.94zm-11 1L8.5 8.5l.94-2.06 2.06-.94-2.06-.94L8.5 2.5l-.94 2.06-2.06.94zm10 10l.94 2.06.94-2.06 2.06-.94-2.06-.94-.94-2.06-.94 2.06-2.06.94z\"/><path d=\"M17.41 7.96l-1.37-1.37c-.4-.4-.92-.59-1.43-.59-.52 0-1.04.2-1.43.59L10.3 9.45l-7.72 7.72c-.78.78-.78 2.05 0 2.83L4 21.41c.39.39.9.59 1.41.59.51 0 1.02-.2 1.41-.59l7.78-7.78 2.81-2.81c.8-.78.8-2.07 0-2.86zM5.41 20L4 18.59l7.72-7.72 1.47 1.35L5.41 20z\"/>\n",
              "  </svg>\n",
              "      </button>\n",
              "      \n",
              "  <style>\n",
              "    .colab-df-container {\n",
              "      display:flex;\n",
              "      flex-wrap:wrap;\n",
              "      gap: 12px;\n",
              "    }\n",
              "\n",
              "    .colab-df-convert {\n",
              "      background-color: #E8F0FE;\n",
              "      border: none;\n",
              "      border-radius: 50%;\n",
              "      cursor: pointer;\n",
              "      display: none;\n",
              "      fill: #1967D2;\n",
              "      height: 32px;\n",
              "      padding: 0 0 0 0;\n",
              "      width: 32px;\n",
              "    }\n",
              "\n",
              "    .colab-df-convert:hover {\n",
              "      background-color: #E2EBFA;\n",
              "      box-shadow: 0px 1px 2px rgba(60, 64, 67, 0.3), 0px 1px 3px 1px rgba(60, 64, 67, 0.15);\n",
              "      fill: #174EA6;\n",
              "    }\n",
              "\n",
              "    [theme=dark] .colab-df-convert {\n",
              "      background-color: #3B4455;\n",
              "      fill: #D2E3FC;\n",
              "    }\n",
              "\n",
              "    [theme=dark] .colab-df-convert:hover {\n",
              "      background-color: #434B5C;\n",
              "      box-shadow: 0px 1px 3px 1px rgba(0, 0, 0, 0.15);\n",
              "      filter: drop-shadow(0px 1px 2px rgba(0, 0, 0, 0.3));\n",
              "      fill: #FFFFFF;\n",
              "    }\n",
              "  </style>\n",
              "\n",
              "      <script>\n",
              "        const buttonEl =\n",
              "          document.querySelector('#df-30bffc0a-576a-4be3-9cd3-891ee9d2602b button.colab-df-convert');\n",
              "        buttonEl.style.display =\n",
              "          google.colab.kernel.accessAllowed ? 'block' : 'none';\n",
              "\n",
              "        async function convertToInteractive(key) {\n",
              "          const element = document.querySelector('#df-30bffc0a-576a-4be3-9cd3-891ee9d2602b');\n",
              "          const dataTable =\n",
              "            await google.colab.kernel.invokeFunction('convertToInteractive',\n",
              "                                                     [key], {});\n",
              "          if (!dataTable) return;\n",
              "\n",
              "          const docLinkHtml = 'Like what you see? Visit the ' +\n",
              "            '<a target=\"_blank\" href=https://colab.research.google.com/notebooks/data_table.ipynb>data table notebook</a>'\n",
              "            + ' to learn more about interactive tables.';\n",
              "          element.innerHTML = '';\n",
              "          dataTable['output_type'] = 'display_data';\n",
              "          await google.colab.output.renderOutput(dataTable, element);\n",
              "          const docLink = document.createElement('div');\n",
              "          docLink.innerHTML = docLinkHtml;\n",
              "          element.appendChild(docLink);\n",
              "        }\n",
              "      </script>\n",
              "    </div>\n",
              "  </div>\n",
              "  "
            ]
          },
          "metadata": {},
          "execution_count": 8
        }
      ]
    }
  ]
}