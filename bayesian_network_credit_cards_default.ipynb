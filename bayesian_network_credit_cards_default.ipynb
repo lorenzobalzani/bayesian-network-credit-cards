{
  "nbformat": 4,
  "nbformat_minor": 0,
  "metadata": {
    "colab": {
      "provenance": [],
      "collapsed_sections": [
        "b6PmZJjzS4kN",
        "usLiB0OMS6Ou",
        "HJqvuPrNS9o7",
        "j7NoIN1QDk1q",
        "iu2JrRDkmSly",
        "rfxyLfwJD4NF",
        "u_NZMq0IFLLN",
        "VKu1kz41iFsJ",
        "UCWtVvwGiCWU",
        "X7VuShgwTPKn",
        "9TLoUVx9Tf11",
        "N85YmhGiUbUW",
        "F1L7aZiXatnj",
        "_LZV7liEaxIA",
        "o0-eOFTwvzH-",
        "xxgEaysEeF1P"
      ],
      "toc_visible": true,
      "include_colab_link": true
    },
    "kernelspec": {
      "name": "python3",
      "display_name": "Python 3"
    },
    "language_info": {
      "name": "python"
    },
    "widgets": {
      "application/vnd.jupyter.widget-state+json": {
        "2449ba4112924f828825e173d5dec5d2": {
          "model_module": "@jupyter-widgets/controls",
          "model_name": "HBoxModel",
          "model_module_version": "1.5.0",
          "state": {
            "_dom_classes": [],
            "_model_module": "@jupyter-widgets/controls",
            "_model_module_version": "1.5.0",
            "_model_name": "HBoxModel",
            "_view_count": null,
            "_view_module": "@jupyter-widgets/controls",
            "_view_module_version": "1.5.0",
            "_view_name": "HBoxView",
            "box_style": "",
            "children": [
              "IPY_MODEL_ca79b3cc3d504846a01eed4b5e3497f0",
              "IPY_MODEL_e171153f918f45cf8223c6722fe76c85",
              "IPY_MODEL_321db4e2ab674f2a91b6e395a284c970"
            ],
            "layout": "IPY_MODEL_2242f606f5594633934bada5e4975d03"
          }
        },
        "ca79b3cc3d504846a01eed4b5e3497f0": {
          "model_module": "@jupyter-widgets/controls",
          "model_name": "HTMLModel",
          "model_module_version": "1.5.0",
          "state": {
            "_dom_classes": [],
            "_model_module": "@jupyter-widgets/controls",
            "_model_module_version": "1.5.0",
            "_model_name": "HTMLModel",
            "_view_count": null,
            "_view_module": "@jupyter-widgets/controls",
            "_view_module_version": "1.5.0",
            "_view_name": "HTMLView",
            "description": "",
            "description_tooltip": null,
            "layout": "IPY_MODEL_c16f132e00da4206a82c611418538a7d",
            "placeholder": "​",
            "style": "IPY_MODEL_f30fe6f6537e42259c000540a3b1a667",
            "value": "Building tree: 100%"
          }
        },
        "e171153f918f45cf8223c6722fe76c85": {
          "model_module": "@jupyter-widgets/controls",
          "model_name": "FloatProgressModel",
          "model_module_version": "1.5.0",
          "state": {
            "_dom_classes": [],
            "_model_module": "@jupyter-widgets/controls",
            "_model_module_version": "1.5.0",
            "_model_name": "FloatProgressModel",
            "_view_count": null,
            "_view_module": "@jupyter-widgets/controls",
            "_view_module_version": "1.5.0",
            "_view_name": "ProgressView",
            "bar_style": "success",
            "description": "",
            "description_tooltip": null,
            "layout": "IPY_MODEL_9d4de96bc3de4d5c99775f81dcc9d699",
            "max": 21,
            "min": 0,
            "orientation": "horizontal",
            "style": "IPY_MODEL_3d33a880d4334ad193c13037b08415a2",
            "value": 21
          }
        },
        "321db4e2ab674f2a91b6e395a284c970": {
          "model_module": "@jupyter-widgets/controls",
          "model_name": "HTMLModel",
          "model_module_version": "1.5.0",
          "state": {
            "_dom_classes": [],
            "_model_module": "@jupyter-widgets/controls",
            "_model_module_version": "1.5.0",
            "_model_name": "HTMLModel",
            "_view_count": null,
            "_view_module": "@jupyter-widgets/controls",
            "_view_module_version": "1.5.0",
            "_view_name": "HTMLView",
            "description": "",
            "description_tooltip": null,
            "layout": "IPY_MODEL_639e5e703ab94718bfc32c3532aa3025",
            "placeholder": "​",
            "style": "IPY_MODEL_f678758ebaf24bf2ada2c076a2a53b97",
            "value": " 21/21.0 [00:01&lt;00:00, 12.53it/s]"
          }
        },
        "2242f606f5594633934bada5e4975d03": {
          "model_module": "@jupyter-widgets/base",
          "model_name": "LayoutModel",
          "model_module_version": "1.2.0",
          "state": {
            "_model_module": "@jupyter-widgets/base",
            "_model_module_version": "1.2.0",
            "_model_name": "LayoutModel",
            "_view_count": null,
            "_view_module": "@jupyter-widgets/base",
            "_view_module_version": "1.2.0",
            "_view_name": "LayoutView",
            "align_content": null,
            "align_items": null,
            "align_self": null,
            "border": null,
            "bottom": null,
            "display": null,
            "flex": null,
            "flex_flow": null,
            "grid_area": null,
            "grid_auto_columns": null,
            "grid_auto_flow": null,
            "grid_auto_rows": null,
            "grid_column": null,
            "grid_gap": null,
            "grid_row": null,
            "grid_template_areas": null,
            "grid_template_columns": null,
            "grid_template_rows": null,
            "height": null,
            "justify_content": null,
            "justify_items": null,
            "left": null,
            "margin": null,
            "max_height": null,
            "max_width": null,
            "min_height": null,
            "min_width": null,
            "object_fit": null,
            "object_position": null,
            "order": null,
            "overflow": null,
            "overflow_x": null,
            "overflow_y": null,
            "padding": null,
            "right": null,
            "top": null,
            "visibility": null,
            "width": null
          }
        },
        "c16f132e00da4206a82c611418538a7d": {
          "model_module": "@jupyter-widgets/base",
          "model_name": "LayoutModel",
          "model_module_version": "1.2.0",
          "state": {
            "_model_module": "@jupyter-widgets/base",
            "_model_module_version": "1.2.0",
            "_model_name": "LayoutModel",
            "_view_count": null,
            "_view_module": "@jupyter-widgets/base",
            "_view_module_version": "1.2.0",
            "_view_name": "LayoutView",
            "align_content": null,
            "align_items": null,
            "align_self": null,
            "border": null,
            "bottom": null,
            "display": null,
            "flex": null,
            "flex_flow": null,
            "grid_area": null,
            "grid_auto_columns": null,
            "grid_auto_flow": null,
            "grid_auto_rows": null,
            "grid_column": null,
            "grid_gap": null,
            "grid_row": null,
            "grid_template_areas": null,
            "grid_template_columns": null,
            "grid_template_rows": null,
            "height": null,
            "justify_content": null,
            "justify_items": null,
            "left": null,
            "margin": null,
            "max_height": null,
            "max_width": null,
            "min_height": null,
            "min_width": null,
            "object_fit": null,
            "object_position": null,
            "order": null,
            "overflow": null,
            "overflow_x": null,
            "overflow_y": null,
            "padding": null,
            "right": null,
            "top": null,
            "visibility": null,
            "width": null
          }
        },
        "f30fe6f6537e42259c000540a3b1a667": {
          "model_module": "@jupyter-widgets/controls",
          "model_name": "DescriptionStyleModel",
          "model_module_version": "1.5.0",
          "state": {
            "_model_module": "@jupyter-widgets/controls",
            "_model_module_version": "1.5.0",
            "_model_name": "DescriptionStyleModel",
            "_view_count": null,
            "_view_module": "@jupyter-widgets/base",
            "_view_module_version": "1.2.0",
            "_view_name": "StyleView",
            "description_width": ""
          }
        },
        "9d4de96bc3de4d5c99775f81dcc9d699": {
          "model_module": "@jupyter-widgets/base",
          "model_name": "LayoutModel",
          "model_module_version": "1.2.0",
          "state": {
            "_model_module": "@jupyter-widgets/base",
            "_model_module_version": "1.2.0",
            "_model_name": "LayoutModel",
            "_view_count": null,
            "_view_module": "@jupyter-widgets/base",
            "_view_module_version": "1.2.0",
            "_view_name": "LayoutView",
            "align_content": null,
            "align_items": null,
            "align_self": null,
            "border": null,
            "bottom": null,
            "display": null,
            "flex": null,
            "flex_flow": null,
            "grid_area": null,
            "grid_auto_columns": null,
            "grid_auto_flow": null,
            "grid_auto_rows": null,
            "grid_column": null,
            "grid_gap": null,
            "grid_row": null,
            "grid_template_areas": null,
            "grid_template_columns": null,
            "grid_template_rows": null,
            "height": null,
            "justify_content": null,
            "justify_items": null,
            "left": null,
            "margin": null,
            "max_height": null,
            "max_width": null,
            "min_height": null,
            "min_width": null,
            "object_fit": null,
            "object_position": null,
            "order": null,
            "overflow": null,
            "overflow_x": null,
            "overflow_y": null,
            "padding": null,
            "right": null,
            "top": null,
            "visibility": null,
            "width": null
          }
        },
        "3d33a880d4334ad193c13037b08415a2": {
          "model_module": "@jupyter-widgets/controls",
          "model_name": "ProgressStyleModel",
          "model_module_version": "1.5.0",
          "state": {
            "_model_module": "@jupyter-widgets/controls",
            "_model_module_version": "1.5.0",
            "_model_name": "ProgressStyleModel",
            "_view_count": null,
            "_view_module": "@jupyter-widgets/base",
            "_view_module_version": "1.2.0",
            "_view_name": "StyleView",
            "bar_color": null,
            "description_width": ""
          }
        },
        "639e5e703ab94718bfc32c3532aa3025": {
          "model_module": "@jupyter-widgets/base",
          "model_name": "LayoutModel",
          "model_module_version": "1.2.0",
          "state": {
            "_model_module": "@jupyter-widgets/base",
            "_model_module_version": "1.2.0",
            "_model_name": "LayoutModel",
            "_view_count": null,
            "_view_module": "@jupyter-widgets/base",
            "_view_module_version": "1.2.0",
            "_view_name": "LayoutView",
            "align_content": null,
            "align_items": null,
            "align_self": null,
            "border": null,
            "bottom": null,
            "display": null,
            "flex": null,
            "flex_flow": null,
            "grid_area": null,
            "grid_auto_columns": null,
            "grid_auto_flow": null,
            "grid_auto_rows": null,
            "grid_column": null,
            "grid_gap": null,
            "grid_row": null,
            "grid_template_areas": null,
            "grid_template_columns": null,
            "grid_template_rows": null,
            "height": null,
            "justify_content": null,
            "justify_items": null,
            "left": null,
            "margin": null,
            "max_height": null,
            "max_width": null,
            "min_height": null,
            "min_width": null,
            "object_fit": null,
            "object_position": null,
            "order": null,
            "overflow": null,
            "overflow_x": null,
            "overflow_y": null,
            "padding": null,
            "right": null,
            "top": null,
            "visibility": null,
            "width": null
          }
        },
        "f678758ebaf24bf2ada2c076a2a53b97": {
          "model_module": "@jupyter-widgets/controls",
          "model_name": "DescriptionStyleModel",
          "model_module_version": "1.5.0",
          "state": {
            "_model_module": "@jupyter-widgets/controls",
            "_model_module_version": "1.5.0",
            "_model_name": "DescriptionStyleModel",
            "_view_count": null,
            "_view_module": "@jupyter-widgets/base",
            "_view_module_version": "1.2.0",
            "_view_name": "StyleView",
            "description_width": ""
          }
        },
        "5524e0d6e48a4305a18279fba22be25a": {
          "model_module": "@jupyter-widgets/controls",
          "model_name": "HBoxModel",
          "model_module_version": "1.5.0",
          "state": {
            "_dom_classes": [],
            "_model_module": "@jupyter-widgets/controls",
            "_model_module_version": "1.5.0",
            "_model_name": "HBoxModel",
            "_view_count": null,
            "_view_module": "@jupyter-widgets/controls",
            "_view_module_version": "1.5.0",
            "_view_name": "HBoxView",
            "box_style": "",
            "children": [
              "IPY_MODEL_3f9aeaa2071a461faf403f626a680bbd",
              "IPY_MODEL_e5b1c3e909b04239a60f4c75a89dcf82",
              "IPY_MODEL_cca3f016cf0144718a208ade08b4a17c"
            ],
            "layout": "IPY_MODEL_8957775477ce411bbac227c9cc95f258"
          }
        },
        "3f9aeaa2071a461faf403f626a680bbd": {
          "model_module": "@jupyter-widgets/controls",
          "model_name": "HTMLModel",
          "model_module_version": "1.5.0",
          "state": {
            "_dom_classes": [],
            "_model_module": "@jupyter-widgets/controls",
            "_model_module_version": "1.5.0",
            "_model_name": "HTMLModel",
            "_view_count": null,
            "_view_module": "@jupyter-widgets/controls",
            "_view_module_version": "1.5.0",
            "_view_name": "HTMLView",
            "description": "",
            "description_tooltip": null,
            "layout": "IPY_MODEL_e0254d18e2f4410388d1cec03d6a88ab",
            "placeholder": "​",
            "style": "IPY_MODEL_4a65c12489d64fc3917828a7b14366e4",
            "value": "  0%"
          }
        },
        "e5b1c3e909b04239a60f4c75a89dcf82": {
          "model_module": "@jupyter-widgets/controls",
          "model_name": "FloatProgressModel",
          "model_module_version": "1.5.0",
          "state": {
            "_dom_classes": [],
            "_model_module": "@jupyter-widgets/controls",
            "_model_module_version": "1.5.0",
            "_model_name": "FloatProgressModel",
            "_view_count": null,
            "_view_module": "@jupyter-widgets/controls",
            "_view_module_version": "1.5.0",
            "_view_name": "ProgressView",
            "bar_style": "danger",
            "description": "",
            "description_tooltip": null,
            "layout": "IPY_MODEL_36d848ee1680457bbf7a928fa50df893",
            "max": 1000000,
            "min": 0,
            "orientation": "horizontal",
            "style": "IPY_MODEL_c49b5d18cae7403298442b872e96e994",
            "value": 13
          }
        },
        "cca3f016cf0144718a208ade08b4a17c": {
          "model_module": "@jupyter-widgets/controls",
          "model_name": "HTMLModel",
          "model_module_version": "1.5.0",
          "state": {
            "_dom_classes": [],
            "_model_module": "@jupyter-widgets/controls",
            "_model_module_version": "1.5.0",
            "_model_name": "HTMLModel",
            "_view_count": null,
            "_view_module": "@jupyter-widgets/controls",
            "_view_module_version": "1.5.0",
            "_view_name": "HTMLView",
            "description": "",
            "description_tooltip": null,
            "layout": "IPY_MODEL_b4d330d1596e4244abbbe7cd5fd96c84",
            "placeholder": "​",
            "style": "IPY_MODEL_183652b5edaf4d259ab084ef147e85ee",
            "value": " 13/1000000 [00:03&lt;46:32:37,  5.97it/s]"
          }
        },
        "8957775477ce411bbac227c9cc95f258": {
          "model_module": "@jupyter-widgets/base",
          "model_name": "LayoutModel",
          "model_module_version": "1.2.0",
          "state": {
            "_model_module": "@jupyter-widgets/base",
            "_model_module_version": "1.2.0",
            "_model_name": "LayoutModel",
            "_view_count": null,
            "_view_module": "@jupyter-widgets/base",
            "_view_module_version": "1.2.0",
            "_view_name": "LayoutView",
            "align_content": null,
            "align_items": null,
            "align_self": null,
            "border": null,
            "bottom": null,
            "display": null,
            "flex": null,
            "flex_flow": null,
            "grid_area": null,
            "grid_auto_columns": null,
            "grid_auto_flow": null,
            "grid_auto_rows": null,
            "grid_column": null,
            "grid_gap": null,
            "grid_row": null,
            "grid_template_areas": null,
            "grid_template_columns": null,
            "grid_template_rows": null,
            "height": null,
            "justify_content": null,
            "justify_items": null,
            "left": null,
            "margin": null,
            "max_height": null,
            "max_width": null,
            "min_height": null,
            "min_width": null,
            "object_fit": null,
            "object_position": null,
            "order": null,
            "overflow": null,
            "overflow_x": null,
            "overflow_y": null,
            "padding": null,
            "right": null,
            "top": null,
            "visibility": null,
            "width": null
          }
        },
        "e0254d18e2f4410388d1cec03d6a88ab": {
          "model_module": "@jupyter-widgets/base",
          "model_name": "LayoutModel",
          "model_module_version": "1.2.0",
          "state": {
            "_model_module": "@jupyter-widgets/base",
            "_model_module_version": "1.2.0",
            "_model_name": "LayoutModel",
            "_view_count": null,
            "_view_module": "@jupyter-widgets/base",
            "_view_module_version": "1.2.0",
            "_view_name": "LayoutView",
            "align_content": null,
            "align_items": null,
            "align_self": null,
            "border": null,
            "bottom": null,
            "display": null,
            "flex": null,
            "flex_flow": null,
            "grid_area": null,
            "grid_auto_columns": null,
            "grid_auto_flow": null,
            "grid_auto_rows": null,
            "grid_column": null,
            "grid_gap": null,
            "grid_row": null,
            "grid_template_areas": null,
            "grid_template_columns": null,
            "grid_template_rows": null,
            "height": null,
            "justify_content": null,
            "justify_items": null,
            "left": null,
            "margin": null,
            "max_height": null,
            "max_width": null,
            "min_height": null,
            "min_width": null,
            "object_fit": null,
            "object_position": null,
            "order": null,
            "overflow": null,
            "overflow_x": null,
            "overflow_y": null,
            "padding": null,
            "right": null,
            "top": null,
            "visibility": null,
            "width": null
          }
        },
        "4a65c12489d64fc3917828a7b14366e4": {
          "model_module": "@jupyter-widgets/controls",
          "model_name": "DescriptionStyleModel",
          "model_module_version": "1.5.0",
          "state": {
            "_model_module": "@jupyter-widgets/controls",
            "_model_module_version": "1.5.0",
            "_model_name": "DescriptionStyleModel",
            "_view_count": null,
            "_view_module": "@jupyter-widgets/base",
            "_view_module_version": "1.2.0",
            "_view_name": "StyleView",
            "description_width": ""
          }
        },
        "36d848ee1680457bbf7a928fa50df893": {
          "model_module": "@jupyter-widgets/base",
          "model_name": "LayoutModel",
          "model_module_version": "1.2.0",
          "state": {
            "_model_module": "@jupyter-widgets/base",
            "_model_module_version": "1.2.0",
            "_model_name": "LayoutModel",
            "_view_count": null,
            "_view_module": "@jupyter-widgets/base",
            "_view_module_version": "1.2.0",
            "_view_name": "LayoutView",
            "align_content": null,
            "align_items": null,
            "align_self": null,
            "border": null,
            "bottom": null,
            "display": null,
            "flex": null,
            "flex_flow": null,
            "grid_area": null,
            "grid_auto_columns": null,
            "grid_auto_flow": null,
            "grid_auto_rows": null,
            "grid_column": null,
            "grid_gap": null,
            "grid_row": null,
            "grid_template_areas": null,
            "grid_template_columns": null,
            "grid_template_rows": null,
            "height": null,
            "justify_content": null,
            "justify_items": null,
            "left": null,
            "margin": null,
            "max_height": null,
            "max_width": null,
            "min_height": null,
            "min_width": null,
            "object_fit": null,
            "object_position": null,
            "order": null,
            "overflow": null,
            "overflow_x": null,
            "overflow_y": null,
            "padding": null,
            "right": null,
            "top": null,
            "visibility": null,
            "width": null
          }
        },
        "c49b5d18cae7403298442b872e96e994": {
          "model_module": "@jupyter-widgets/controls",
          "model_name": "ProgressStyleModel",
          "model_module_version": "1.5.0",
          "state": {
            "_model_module": "@jupyter-widgets/controls",
            "_model_module_version": "1.5.0",
            "_model_name": "ProgressStyleModel",
            "_view_count": null,
            "_view_module": "@jupyter-widgets/base",
            "_view_module_version": "1.2.0",
            "_view_name": "StyleView",
            "bar_color": null,
            "description_width": ""
          }
        },
        "b4d330d1596e4244abbbe7cd5fd96c84": {
          "model_module": "@jupyter-widgets/base",
          "model_name": "LayoutModel",
          "model_module_version": "1.2.0",
          "state": {
            "_model_module": "@jupyter-widgets/base",
            "_model_module_version": "1.2.0",
            "_model_name": "LayoutModel",
            "_view_count": null,
            "_view_module": "@jupyter-widgets/base",
            "_view_module_version": "1.2.0",
            "_view_name": "LayoutView",
            "align_content": null,
            "align_items": null,
            "align_self": null,
            "border": null,
            "bottom": null,
            "display": null,
            "flex": null,
            "flex_flow": null,
            "grid_area": null,
            "grid_auto_columns": null,
            "grid_auto_flow": null,
            "grid_auto_rows": null,
            "grid_column": null,
            "grid_gap": null,
            "grid_row": null,
            "grid_template_areas": null,
            "grid_template_columns": null,
            "grid_template_rows": null,
            "height": null,
            "justify_content": null,
            "justify_items": null,
            "left": null,
            "margin": null,
            "max_height": null,
            "max_width": null,
            "min_height": null,
            "min_width": null,
            "object_fit": null,
            "object_position": null,
            "order": null,
            "overflow": null,
            "overflow_x": null,
            "overflow_y": null,
            "padding": null,
            "right": null,
            "top": null,
            "visibility": null,
            "width": null
          }
        },
        "183652b5edaf4d259ab084ef147e85ee": {
          "model_module": "@jupyter-widgets/controls",
          "model_name": "DescriptionStyleModel",
          "model_module_version": "1.5.0",
          "state": {
            "_model_module": "@jupyter-widgets/controls",
            "_model_module_version": "1.5.0",
            "_model_name": "DescriptionStyleModel",
            "_view_count": null,
            "_view_module": "@jupyter-widgets/base",
            "_view_module_version": "1.2.0",
            "_view_name": "StyleView",
            "description_width": ""
          }
        },
        "6e14b5db820445dea2900b7315980638": {
          "model_module": "@jupyter-widgets/controls",
          "model_name": "HBoxModel",
          "model_module_version": "1.5.0",
          "state": {
            "_dom_classes": [],
            "_model_module": "@jupyter-widgets/controls",
            "_model_module_version": "1.5.0",
            "_model_name": "HBoxModel",
            "_view_count": null,
            "_view_module": "@jupyter-widgets/controls",
            "_view_module_version": "1.5.0",
            "_view_name": "HBoxView",
            "box_style": "",
            "children": [
              "IPY_MODEL_9fbb81261ce745d18ef9e463241482ff",
              "IPY_MODEL_b0f99622aa7c437c9b2eb2e03decc6b4",
              "IPY_MODEL_f46bf737c4604016a94112e21039fc0e"
            ],
            "layout": "IPY_MODEL_0e19f716b9b64fd89bb53989c485e9de"
          }
        },
        "9fbb81261ce745d18ef9e463241482ff": {
          "model_module": "@jupyter-widgets/controls",
          "model_name": "HTMLModel",
          "model_module_version": "1.5.0",
          "state": {
            "_dom_classes": [],
            "_model_module": "@jupyter-widgets/controls",
            "_model_module_version": "1.5.0",
            "_model_name": "HTMLModel",
            "_view_count": null,
            "_view_module": "@jupyter-widgets/controls",
            "_view_module_version": "1.5.0",
            "_view_name": "HTMLView",
            "description": "",
            "description_tooltip": null,
            "layout": "IPY_MODEL_397561c8e2454141ac78253badb6c3c8",
            "placeholder": "​",
            "style": "IPY_MODEL_c12a61a37b4948d3ae5c009e1170134e",
            "value": "  0%"
          }
        },
        "b0f99622aa7c437c9b2eb2e03decc6b4": {
          "model_module": "@jupyter-widgets/controls",
          "model_name": "FloatProgressModel",
          "model_module_version": "1.5.0",
          "state": {
            "_dom_classes": [],
            "_model_module": "@jupyter-widgets/controls",
            "_model_module_version": "1.5.0",
            "_model_name": "FloatProgressModel",
            "_view_count": null,
            "_view_module": "@jupyter-widgets/controls",
            "_view_module_version": "1.5.0",
            "_view_name": "ProgressView",
            "bar_style": "danger",
            "description": "",
            "description_tooltip": null,
            "layout": "IPY_MODEL_a427b6e657eb45b2b5958a631c0bb116",
            "max": 1000000,
            "min": 0,
            "orientation": "horizontal",
            "style": "IPY_MODEL_616088970ded47008b65df3af207dd49",
            "value": 9
          }
        },
        "f46bf737c4604016a94112e21039fc0e": {
          "model_module": "@jupyter-widgets/controls",
          "model_name": "HTMLModel",
          "model_module_version": "1.5.0",
          "state": {
            "_dom_classes": [],
            "_model_module": "@jupyter-widgets/controls",
            "_model_module_version": "1.5.0",
            "_model_name": "HTMLModel",
            "_view_count": null,
            "_view_module": "@jupyter-widgets/controls",
            "_view_module_version": "1.5.0",
            "_view_name": "HTMLView",
            "description": "",
            "description_tooltip": null,
            "layout": "IPY_MODEL_16d851b708f645b8a070bc9aacda01d3",
            "placeholder": "​",
            "style": "IPY_MODEL_a3da6449913b405cb97996681331709c",
            "value": " 9/1000000 [00:02&lt;42:56:48,  6.47it/s]"
          }
        },
        "0e19f716b9b64fd89bb53989c485e9de": {
          "model_module": "@jupyter-widgets/base",
          "model_name": "LayoutModel",
          "model_module_version": "1.2.0",
          "state": {
            "_model_module": "@jupyter-widgets/base",
            "_model_module_version": "1.2.0",
            "_model_name": "LayoutModel",
            "_view_count": null,
            "_view_module": "@jupyter-widgets/base",
            "_view_module_version": "1.2.0",
            "_view_name": "LayoutView",
            "align_content": null,
            "align_items": null,
            "align_self": null,
            "border": null,
            "bottom": null,
            "display": null,
            "flex": null,
            "flex_flow": null,
            "grid_area": null,
            "grid_auto_columns": null,
            "grid_auto_flow": null,
            "grid_auto_rows": null,
            "grid_column": null,
            "grid_gap": null,
            "grid_row": null,
            "grid_template_areas": null,
            "grid_template_columns": null,
            "grid_template_rows": null,
            "height": null,
            "justify_content": null,
            "justify_items": null,
            "left": null,
            "margin": null,
            "max_height": null,
            "max_width": null,
            "min_height": null,
            "min_width": null,
            "object_fit": null,
            "object_position": null,
            "order": null,
            "overflow": null,
            "overflow_x": null,
            "overflow_y": null,
            "padding": null,
            "right": null,
            "top": null,
            "visibility": null,
            "width": null
          }
        },
        "397561c8e2454141ac78253badb6c3c8": {
          "model_module": "@jupyter-widgets/base",
          "model_name": "LayoutModel",
          "model_module_version": "1.2.0",
          "state": {
            "_model_module": "@jupyter-widgets/base",
            "_model_module_version": "1.2.0",
            "_model_name": "LayoutModel",
            "_view_count": null,
            "_view_module": "@jupyter-widgets/base",
            "_view_module_version": "1.2.0",
            "_view_name": "LayoutView",
            "align_content": null,
            "align_items": null,
            "align_self": null,
            "border": null,
            "bottom": null,
            "display": null,
            "flex": null,
            "flex_flow": null,
            "grid_area": null,
            "grid_auto_columns": null,
            "grid_auto_flow": null,
            "grid_auto_rows": null,
            "grid_column": null,
            "grid_gap": null,
            "grid_row": null,
            "grid_template_areas": null,
            "grid_template_columns": null,
            "grid_template_rows": null,
            "height": null,
            "justify_content": null,
            "justify_items": null,
            "left": null,
            "margin": null,
            "max_height": null,
            "max_width": null,
            "min_height": null,
            "min_width": null,
            "object_fit": null,
            "object_position": null,
            "order": null,
            "overflow": null,
            "overflow_x": null,
            "overflow_y": null,
            "padding": null,
            "right": null,
            "top": null,
            "visibility": null,
            "width": null
          }
        },
        "c12a61a37b4948d3ae5c009e1170134e": {
          "model_module": "@jupyter-widgets/controls",
          "model_name": "DescriptionStyleModel",
          "model_module_version": "1.5.0",
          "state": {
            "_model_module": "@jupyter-widgets/controls",
            "_model_module_version": "1.5.0",
            "_model_name": "DescriptionStyleModel",
            "_view_count": null,
            "_view_module": "@jupyter-widgets/base",
            "_view_module_version": "1.2.0",
            "_view_name": "StyleView",
            "description_width": ""
          }
        },
        "a427b6e657eb45b2b5958a631c0bb116": {
          "model_module": "@jupyter-widgets/base",
          "model_name": "LayoutModel",
          "model_module_version": "1.2.0",
          "state": {
            "_model_module": "@jupyter-widgets/base",
            "_model_module_version": "1.2.0",
            "_model_name": "LayoutModel",
            "_view_count": null,
            "_view_module": "@jupyter-widgets/base",
            "_view_module_version": "1.2.0",
            "_view_name": "LayoutView",
            "align_content": null,
            "align_items": null,
            "align_self": null,
            "border": null,
            "bottom": null,
            "display": null,
            "flex": null,
            "flex_flow": null,
            "grid_area": null,
            "grid_auto_columns": null,
            "grid_auto_flow": null,
            "grid_auto_rows": null,
            "grid_column": null,
            "grid_gap": null,
            "grid_row": null,
            "grid_template_areas": null,
            "grid_template_columns": null,
            "grid_template_rows": null,
            "height": null,
            "justify_content": null,
            "justify_items": null,
            "left": null,
            "margin": null,
            "max_height": null,
            "max_width": null,
            "min_height": null,
            "min_width": null,
            "object_fit": null,
            "object_position": null,
            "order": null,
            "overflow": null,
            "overflow_x": null,
            "overflow_y": null,
            "padding": null,
            "right": null,
            "top": null,
            "visibility": null,
            "width": null
          }
        },
        "616088970ded47008b65df3af207dd49": {
          "model_module": "@jupyter-widgets/controls",
          "model_name": "ProgressStyleModel",
          "model_module_version": "1.5.0",
          "state": {
            "_model_module": "@jupyter-widgets/controls",
            "_model_module_version": "1.5.0",
            "_model_name": "ProgressStyleModel",
            "_view_count": null,
            "_view_module": "@jupyter-widgets/base",
            "_view_module_version": "1.2.0",
            "_view_name": "StyleView",
            "bar_color": null,
            "description_width": ""
          }
        },
        "16d851b708f645b8a070bc9aacda01d3": {
          "model_module": "@jupyter-widgets/base",
          "model_name": "LayoutModel",
          "model_module_version": "1.2.0",
          "state": {
            "_model_module": "@jupyter-widgets/base",
            "_model_module_version": "1.2.0",
            "_model_name": "LayoutModel",
            "_view_count": null,
            "_view_module": "@jupyter-widgets/base",
            "_view_module_version": "1.2.0",
            "_view_name": "LayoutView",
            "align_content": null,
            "align_items": null,
            "align_self": null,
            "border": null,
            "bottom": null,
            "display": null,
            "flex": null,
            "flex_flow": null,
            "grid_area": null,
            "grid_auto_columns": null,
            "grid_auto_flow": null,
            "grid_auto_rows": null,
            "grid_column": null,
            "grid_gap": null,
            "grid_row": null,
            "grid_template_areas": null,
            "grid_template_columns": null,
            "grid_template_rows": null,
            "height": null,
            "justify_content": null,
            "justify_items": null,
            "left": null,
            "margin": null,
            "max_height": null,
            "max_width": null,
            "min_height": null,
            "min_width": null,
            "object_fit": null,
            "object_position": null,
            "order": null,
            "overflow": null,
            "overflow_x": null,
            "overflow_y": null,
            "padding": null,
            "right": null,
            "top": null,
            "visibility": null,
            "width": null
          }
        },
        "a3da6449913b405cb97996681331709c": {
          "model_module": "@jupyter-widgets/controls",
          "model_name": "DescriptionStyleModel",
          "model_module_version": "1.5.0",
          "state": {
            "_model_module": "@jupyter-widgets/controls",
            "_model_module_version": "1.5.0",
            "_model_name": "DescriptionStyleModel",
            "_view_count": null,
            "_view_module": "@jupyter-widgets/base",
            "_view_module_version": "1.2.0",
            "_view_name": "StyleView",
            "description_width": ""
          }
        }
      }
    }
  },
  "cells": [
    {
      "cell_type": "markdown",
      "metadata": {
        "id": "view-in-github",
        "colab_type": "text"
      },
      "source": [
        "<a href=\"https://colab.research.google.com/github/lorenzobalzani/bayesian-network-credit-cards/blob/master/bayesian_network_credit_cards_default.ipynb\" target=\"_parent\"><img src=\"https://colab.research.google.com/assets/colab-badge.svg\" alt=\"Open In Colab\"/></a>"
      ]
    },
    {
      "cell_type": "markdown",
      "source": [
        "# Bayesian Networks for probabilistic reasoning over credit cards' default\n",
        "## Project report for the Fundamentals of AI and KR course - module 3\n",
        "### Authors: [**Lorenzo Balzani**](mailto:lorenzo.balzani@studio.unibo.it) and [**Thomas Guizzetti**](mailto:thomas.guizzetti@studio.unibo.it)\n",
        "\n",
        "# Abstract\n",
        "TODO"
      ],
      "metadata": {
        "id": "wutYO5JzDEID"
      }
    },
    {
      "cell_type": "markdown",
      "source": [
        "# Setup"
      ],
      "metadata": {
        "id": "DiZNkPEHDbXz"
      }
    },
    {
      "cell_type": "markdown",
      "source": [
        "## Requirements"
      ],
      "metadata": {
        "id": "b6PmZJjzS4kN"
      }
    },
    {
      "cell_type": "code",
      "source": [
        "!pip install -q pandas numpy pgmpy"
      ],
      "metadata": {
        "id": "csUwu-Tt3M4g",
        "colab": {
          "base_uri": "https://localhost:8080/"
        },
        "outputId": "95772c03-525f-4e15-b0f3-de87356e5cc5"
      },
      "execution_count": 1,
      "outputs": [
        {
          "output_type": "stream",
          "name": "stdout",
          "text": [
            "\u001b[?25l\r\u001b[K     |▏                               | 10 kB 18.7 MB/s eta 0:00:01\r\u001b[K     |▍                               | 20 kB 7.8 MB/s eta 0:00:01\r\u001b[K     |▌                               | 30 kB 10.8 MB/s eta 0:00:01\r\u001b[K     |▊                               | 40 kB 4.2 MB/s eta 0:00:01\r\u001b[K     |▉                               | 51 kB 4.5 MB/s eta 0:00:01\r\u001b[K     |█                               | 61 kB 5.3 MB/s eta 0:00:01\r\u001b[K     |█▏                              | 71 kB 5.8 MB/s eta 0:00:01\r\u001b[K     |█▍                              | 81 kB 5.6 MB/s eta 0:00:01\r\u001b[K     |█▌                              | 92 kB 6.2 MB/s eta 0:00:01\r\u001b[K     |█▊                              | 102 kB 4.9 MB/s eta 0:00:01\r\u001b[K     |█▉                              | 112 kB 4.9 MB/s eta 0:00:01\r\u001b[K     |██                              | 122 kB 4.9 MB/s eta 0:00:01\r\u001b[K     |██▏                             | 133 kB 4.9 MB/s eta 0:00:01\r\u001b[K     |██▍                             | 143 kB 4.9 MB/s eta 0:00:01\r\u001b[K     |██▌                             | 153 kB 4.9 MB/s eta 0:00:01\r\u001b[K     |██▊                             | 163 kB 4.9 MB/s eta 0:00:01\r\u001b[K     |███                             | 174 kB 4.9 MB/s eta 0:00:01\r\u001b[K     |███                             | 184 kB 4.9 MB/s eta 0:00:01\r\u001b[K     |███▎                            | 194 kB 4.9 MB/s eta 0:00:01\r\u001b[K     |███▍                            | 204 kB 4.9 MB/s eta 0:00:01\r\u001b[K     |███▋                            | 215 kB 4.9 MB/s eta 0:00:01\r\u001b[K     |███▊                            | 225 kB 4.9 MB/s eta 0:00:01\r\u001b[K     |████                            | 235 kB 4.9 MB/s eta 0:00:01\r\u001b[K     |████                            | 245 kB 4.9 MB/s eta 0:00:01\r\u001b[K     |████▎                           | 256 kB 4.9 MB/s eta 0:00:01\r\u001b[K     |████▍                           | 266 kB 4.9 MB/s eta 0:00:01\r\u001b[K     |████▋                           | 276 kB 4.9 MB/s eta 0:00:01\r\u001b[K     |████▊                           | 286 kB 4.9 MB/s eta 0:00:01\r\u001b[K     |█████                           | 296 kB 4.9 MB/s eta 0:00:01\r\u001b[K     |█████                           | 307 kB 4.9 MB/s eta 0:00:01\r\u001b[K     |█████▎                          | 317 kB 4.9 MB/s eta 0:00:01\r\u001b[K     |█████▌                          | 327 kB 4.9 MB/s eta 0:00:01\r\u001b[K     |█████▋                          | 337 kB 4.9 MB/s eta 0:00:01\r\u001b[K     |█████▉                          | 348 kB 4.9 MB/s eta 0:00:01\r\u001b[K     |██████                          | 358 kB 4.9 MB/s eta 0:00:01\r\u001b[K     |██████▏                         | 368 kB 4.9 MB/s eta 0:00:01\r\u001b[K     |██████▎                         | 378 kB 4.9 MB/s eta 0:00:01\r\u001b[K     |██████▌                         | 389 kB 4.9 MB/s eta 0:00:01\r\u001b[K     |██████▋                         | 399 kB 4.9 MB/s eta 0:00:01\r\u001b[K     |██████▉                         | 409 kB 4.9 MB/s eta 0:00:01\r\u001b[K     |███████                         | 419 kB 4.9 MB/s eta 0:00:01\r\u001b[K     |███████▏                        | 430 kB 4.9 MB/s eta 0:00:01\r\u001b[K     |███████▎                        | 440 kB 4.9 MB/s eta 0:00:01\r\u001b[K     |███████▌                        | 450 kB 4.9 MB/s eta 0:00:01\r\u001b[K     |███████▋                        | 460 kB 4.9 MB/s eta 0:00:01\r\u001b[K     |███████▉                        | 471 kB 4.9 MB/s eta 0:00:01\r\u001b[K     |████████                        | 481 kB 4.9 MB/s eta 0:00:01\r\u001b[K     |████████▏                       | 491 kB 4.9 MB/s eta 0:00:01\r\u001b[K     |████████▍                       | 501 kB 4.9 MB/s eta 0:00:01\r\u001b[K     |████████▌                       | 512 kB 4.9 MB/s eta 0:00:01\r\u001b[K     |████████▊                       | 522 kB 4.9 MB/s eta 0:00:01\r\u001b[K     |████████▉                       | 532 kB 4.9 MB/s eta 0:00:01\r\u001b[K     |█████████                       | 542 kB 4.9 MB/s eta 0:00:01\r\u001b[K     |█████████▏                      | 552 kB 4.9 MB/s eta 0:00:01\r\u001b[K     |█████████▍                      | 563 kB 4.9 MB/s eta 0:00:01\r\u001b[K     |█████████▌                      | 573 kB 4.9 MB/s eta 0:00:01\r\u001b[K     |█████████▊                      | 583 kB 4.9 MB/s eta 0:00:01\r\u001b[K     |█████████▉                      | 593 kB 4.9 MB/s eta 0:00:01\r\u001b[K     |██████████                      | 604 kB 4.9 MB/s eta 0:00:01\r\u001b[K     |██████████▏                     | 614 kB 4.9 MB/s eta 0:00:01\r\u001b[K     |██████████▍                     | 624 kB 4.9 MB/s eta 0:00:01\r\u001b[K     |██████████▋                     | 634 kB 4.9 MB/s eta 0:00:01\r\u001b[K     |██████████▊                     | 645 kB 4.9 MB/s eta 0:00:01\r\u001b[K     |███████████                     | 655 kB 4.9 MB/s eta 0:00:01\r\u001b[K     |███████████                     | 665 kB 4.9 MB/s eta 0:00:01\r\u001b[K     |███████████▎                    | 675 kB 4.9 MB/s eta 0:00:01\r\u001b[K     |███████████▍                    | 686 kB 4.9 MB/s eta 0:00:01\r\u001b[K     |███████████▋                    | 696 kB 4.9 MB/s eta 0:00:01\r\u001b[K     |███████████▊                    | 706 kB 4.9 MB/s eta 0:00:01\r\u001b[K     |████████████                    | 716 kB 4.9 MB/s eta 0:00:01\r\u001b[K     |████████████                    | 727 kB 4.9 MB/s eta 0:00:01\r\u001b[K     |████████████▎                   | 737 kB 4.9 MB/s eta 0:00:01\r\u001b[K     |████████████▍                   | 747 kB 4.9 MB/s eta 0:00:01\r\u001b[K     |████████████▋                   | 757 kB 4.9 MB/s eta 0:00:01\r\u001b[K     |████████████▊                   | 768 kB 4.9 MB/s eta 0:00:01\r\u001b[K     |█████████████                   | 778 kB 4.9 MB/s eta 0:00:01\r\u001b[K     |█████████████▏                  | 788 kB 4.9 MB/s eta 0:00:01\r\u001b[K     |█████████████▎                  | 798 kB 4.9 MB/s eta 0:00:01\r\u001b[K     |█████████████▌                  | 808 kB 4.9 MB/s eta 0:00:01\r\u001b[K     |█████████████▋                  | 819 kB 4.9 MB/s eta 0:00:01\r\u001b[K     |█████████████▉                  | 829 kB 4.9 MB/s eta 0:00:01\r\u001b[K     |██████████████                  | 839 kB 4.9 MB/s eta 0:00:01\r\u001b[K     |██████████████▏                 | 849 kB 4.9 MB/s eta 0:00:01\r\u001b[K     |██████████████▎                 | 860 kB 4.9 MB/s eta 0:00:01\r\u001b[K     |██████████████▌                 | 870 kB 4.9 MB/s eta 0:00:01\r\u001b[K     |██████████████▋                 | 880 kB 4.9 MB/s eta 0:00:01\r\u001b[K     |██████████████▉                 | 890 kB 4.9 MB/s eta 0:00:01\r\u001b[K     |███████████████                 | 901 kB 4.9 MB/s eta 0:00:01\r\u001b[K     |███████████████▏                | 911 kB 4.9 MB/s eta 0:00:01\r\u001b[K     |███████████████▎                | 921 kB 4.9 MB/s eta 0:00:01\r\u001b[K     |███████████████▌                | 931 kB 4.9 MB/s eta 0:00:01\r\u001b[K     |███████████████▊                | 942 kB 4.9 MB/s eta 0:00:01\r\u001b[K     |███████████████▉                | 952 kB 4.9 MB/s eta 0:00:01\r\u001b[K     |████████████████                | 962 kB 4.9 MB/s eta 0:00:01\r\u001b[K     |████████████████▏               | 972 kB 4.9 MB/s eta 0:00:01\r\u001b[K     |████████████████▍               | 983 kB 4.9 MB/s eta 0:00:01\r\u001b[K     |████████████████▌               | 993 kB 4.9 MB/s eta 0:00:01\r\u001b[K     |████████████████▊               | 1.0 MB 4.9 MB/s eta 0:00:01\r\u001b[K     |████████████████▉               | 1.0 MB 4.9 MB/s eta 0:00:01\r\u001b[K     |█████████████████               | 1.0 MB 4.9 MB/s eta 0:00:01\r\u001b[K     |█████████████████▏              | 1.0 MB 4.9 MB/s eta 0:00:01\r\u001b[K     |█████████████████▍              | 1.0 MB 4.9 MB/s eta 0:00:01\r\u001b[K     |█████████████████▌              | 1.1 MB 4.9 MB/s eta 0:00:01\r\u001b[K     |█████████████████▊              | 1.1 MB 4.9 MB/s eta 0:00:01\r\u001b[K     |█████████████████▉              | 1.1 MB 4.9 MB/s eta 0:00:01\r\u001b[K     |██████████████████              | 1.1 MB 4.9 MB/s eta 0:00:01\r\u001b[K     |██████████████████▎             | 1.1 MB 4.9 MB/s eta 0:00:01\r\u001b[K     |██████████████████▍             | 1.1 MB 4.9 MB/s eta 0:00:01\r\u001b[K     |██████████████████▋             | 1.1 MB 4.9 MB/s eta 0:00:01\r\u001b[K     |██████████████████▊             | 1.1 MB 4.9 MB/s eta 0:00:01\r\u001b[K     |███████████████████             | 1.1 MB 4.9 MB/s eta 0:00:01\r\u001b[K     |███████████████████             | 1.1 MB 4.9 MB/s eta 0:00:01\r\u001b[K     |███████████████████▎            | 1.2 MB 4.9 MB/s eta 0:00:01\r\u001b[K     |███████████████████▍            | 1.2 MB 4.9 MB/s eta 0:00:01\r\u001b[K     |███████████████████▋            | 1.2 MB 4.9 MB/s eta 0:00:01\r\u001b[K     |███████████████████▊            | 1.2 MB 4.9 MB/s eta 0:00:01\r\u001b[K     |████████████████████            | 1.2 MB 4.9 MB/s eta 0:00:01\r\u001b[K     |████████████████████            | 1.2 MB 4.9 MB/s eta 0:00:01\r\u001b[K     |████████████████████▎           | 1.2 MB 4.9 MB/s eta 0:00:01\r\u001b[K     |████████████████████▍           | 1.2 MB 4.9 MB/s eta 0:00:01\r\u001b[K     |████████████████████▋           | 1.2 MB 4.9 MB/s eta 0:00:01\r\u001b[K     |████████████████████▉           | 1.2 MB 4.9 MB/s eta 0:00:01\r\u001b[K     |█████████████████████           | 1.3 MB 4.9 MB/s eta 0:00:01\r\u001b[K     |█████████████████████▏          | 1.3 MB 4.9 MB/s eta 0:00:01\r\u001b[K     |█████████████████████▎          | 1.3 MB 4.9 MB/s eta 0:00:01\r\u001b[K     |█████████████████████▌          | 1.3 MB 4.9 MB/s eta 0:00:01\r\u001b[K     |█████████████████████▋          | 1.3 MB 4.9 MB/s eta 0:00:01\r\u001b[K     |█████████████████████▉          | 1.3 MB 4.9 MB/s eta 0:00:01\r\u001b[K     |██████████████████████          | 1.3 MB 4.9 MB/s eta 0:00:01\r\u001b[K     |██████████████████████▏         | 1.3 MB 4.9 MB/s eta 0:00:01\r\u001b[K     |██████████████████████▎         | 1.3 MB 4.9 MB/s eta 0:00:01\r\u001b[K     |██████████████████████▌         | 1.4 MB 4.9 MB/s eta 0:00:01\r\u001b[K     |██████████████████████▋         | 1.4 MB 4.9 MB/s eta 0:00:01\r\u001b[K     |██████████████████████▉         | 1.4 MB 4.9 MB/s eta 0:00:01\r\u001b[K     |███████████████████████         | 1.4 MB 4.9 MB/s eta 0:00:01\r\u001b[K     |███████████████████████▏        | 1.4 MB 4.9 MB/s eta 0:00:01\r\u001b[K     |███████████████████████▎        | 1.4 MB 4.9 MB/s eta 0:00:01\r\u001b[K     |███████████████████████▌        | 1.4 MB 4.9 MB/s eta 0:00:01\r\u001b[K     |███████████████████████▊        | 1.4 MB 4.9 MB/s eta 0:00:01\r\u001b[K     |███████████████████████▉        | 1.4 MB 4.9 MB/s eta 0:00:01\r\u001b[K     |████████████████████████        | 1.4 MB 4.9 MB/s eta 0:00:01\r\u001b[K     |████████████████████████▏       | 1.5 MB 4.9 MB/s eta 0:00:01\r\u001b[K     |████████████████████████▍       | 1.5 MB 4.9 MB/s eta 0:00:01\r\u001b[K     |████████████████████████▌       | 1.5 MB 4.9 MB/s eta 0:00:01\r\u001b[K     |████████████████████████▊       | 1.5 MB 4.9 MB/s eta 0:00:01\r\u001b[K     |████████████████████████▉       | 1.5 MB 4.9 MB/s eta 0:00:01\r\u001b[K     |█████████████████████████       | 1.5 MB 4.9 MB/s eta 0:00:01\r\u001b[K     |█████████████████████████▏      | 1.5 MB 4.9 MB/s eta 0:00:01\r\u001b[K     |█████████████████████████▍      | 1.5 MB 4.9 MB/s eta 0:00:01\r\u001b[K     |█████████████████████████▌      | 1.5 MB 4.9 MB/s eta 0:00:01\r\u001b[K     |█████████████████████████▊      | 1.5 MB 4.9 MB/s eta 0:00:01\r\u001b[K     |█████████████████████████▉      | 1.6 MB 4.9 MB/s eta 0:00:01\r\u001b[K     |██████████████████████████      | 1.6 MB 4.9 MB/s eta 0:00:01\r\u001b[K     |██████████████████████████▎     | 1.6 MB 4.9 MB/s eta 0:00:01\r\u001b[K     |██████████████████████████▍     | 1.6 MB 4.9 MB/s eta 0:00:01\r\u001b[K     |██████████████████████████▋     | 1.6 MB 4.9 MB/s eta 0:00:01\r\u001b[K     |██████████████████████████▊     | 1.6 MB 4.9 MB/s eta 0:00:01\r\u001b[K     |███████████████████████████     | 1.6 MB 4.9 MB/s eta 0:00:01\r\u001b[K     |███████████████████████████     | 1.6 MB 4.9 MB/s eta 0:00:01\r\u001b[K     |███████████████████████████▎    | 1.6 MB 4.9 MB/s eta 0:00:01\r\u001b[K     |███████████████████████████▍    | 1.6 MB 4.9 MB/s eta 0:00:01\r\u001b[K     |███████████████████████████▋    | 1.7 MB 4.9 MB/s eta 0:00:01\r\u001b[K     |███████████████████████████▊    | 1.7 MB 4.9 MB/s eta 0:00:01\r\u001b[K     |████████████████████████████    | 1.7 MB 4.9 MB/s eta 0:00:01\r\u001b[K     |████████████████████████████    | 1.7 MB 4.9 MB/s eta 0:00:01\r\u001b[K     |████████████████████████████▎   | 1.7 MB 4.9 MB/s eta 0:00:01\r\u001b[K     |████████████████████████████▍   | 1.7 MB 4.9 MB/s eta 0:00:01\r\u001b[K     |████████████████████████████▋   | 1.7 MB 4.9 MB/s eta 0:00:01\r\u001b[K     |████████████████████████████▉   | 1.7 MB 4.9 MB/s eta 0:00:01\r\u001b[K     |█████████████████████████████   | 1.7 MB 4.9 MB/s eta 0:00:01\r\u001b[K     |█████████████████████████████▏  | 1.8 MB 4.9 MB/s eta 0:00:01\r\u001b[K     |█████████████████████████████▎  | 1.8 MB 4.9 MB/s eta 0:00:01\r\u001b[K     |█████████████████████████████▌  | 1.8 MB 4.9 MB/s eta 0:00:01\r\u001b[K     |█████████████████████████████▋  | 1.8 MB 4.9 MB/s eta 0:00:01\r\u001b[K     |█████████████████████████████▉  | 1.8 MB 4.9 MB/s eta 0:00:01\r\u001b[K     |██████████████████████████████  | 1.8 MB 4.9 MB/s eta 0:00:01\r\u001b[K     |██████████████████████████████▏ | 1.8 MB 4.9 MB/s eta 0:00:01\r\u001b[K     |██████████████████████████████▎ | 1.8 MB 4.9 MB/s eta 0:00:01\r\u001b[K     |██████████████████████████████▌ | 1.8 MB 4.9 MB/s eta 0:00:01\r\u001b[K     |██████████████████████████████▋ | 1.8 MB 4.9 MB/s eta 0:00:01\r\u001b[K     |██████████████████████████████▉ | 1.9 MB 4.9 MB/s eta 0:00:01\r\u001b[K     |███████████████████████████████ | 1.9 MB 4.9 MB/s eta 0:00:01\r\u001b[K     |███████████████████████████████▏| 1.9 MB 4.9 MB/s eta 0:00:01\r\u001b[K     |███████████████████████████████▍| 1.9 MB 4.9 MB/s eta 0:00:01\r\u001b[K     |███████████████████████████████▌| 1.9 MB 4.9 MB/s eta 0:00:01\r\u001b[K     |███████████████████████████████▊| 1.9 MB 4.9 MB/s eta 0:00:01\r\u001b[K     |███████████████████████████████▉| 1.9 MB 4.9 MB/s eta 0:00:01\r\u001b[K     |████████████████████████████████| 1.9 MB 4.9 MB/s \n",
            "\u001b[?25h"
          ]
        }
      ]
    },
    {
      "cell_type": "markdown",
      "source": [
        "## Imports"
      ],
      "metadata": {
        "id": "usLiB0OMS6Ou"
      }
    },
    {
      "cell_type": "code",
      "source": [
        "from __future__ import annotations # for type annotations\n",
        "import os, logging\n",
        "import pandas as pd\n",
        "import numpy as np\n",
        "from pgmpy.base import DAG\n",
        "from pgmpy.models import BayesianNetwork, NaiveBayes\n",
        "from pgmpy.factors.discrete.CPD import TabularCPD\n",
        "from pgmpy.inference import VariableElimination\n",
        "from pgmpy.estimators import ParameterEstimator, MaximumLikelihoodEstimator, BayesianEstimator, ExhaustiveSearch, TreeSearch, HillClimbSearch, MmhcEstimator, BDeuScore, BicScore\n",
        "from sklearn.model_selection import train_test_split\n",
        "from sklearn.metrics import recall_score, f1_score, accuracy_score\n",
        "\n",
        "# Viz\n",
        "import matplotlib.pyplot as plt\n",
        "import networkx as nx\n",
        "import seaborn as sns"
      ],
      "metadata": {
        "id": "CYV8-E163KzW"
      },
      "execution_count": 2,
      "outputs": []
    },
    {
      "cell_type": "markdown",
      "source": [
        "## Declarations"
      ],
      "metadata": {
        "id": "HJqvuPrNS9o7"
      }
    },
    {
      "cell_type": "code",
      "source": [
        "logger = logging.getLogger()\n",
        "dataset_url = 'https://raw.githubusercontent.com/lorenzobalzani/bayesian-network-credit-cards/master/dataset.csv'\n",
        "test_ratio = 0.2\n",
        "random_seed = 42\n",
        "print_bold = lambda string: print('\\033[1m' + string + '\\033[0m')"
      ],
      "metadata": {
        "id": "76Fyk7MjOyzo"
      },
      "execution_count": 68,
      "outputs": []
    },
    {
      "cell_type": "markdown",
      "source": [
        "# Dataset"
      ],
      "metadata": {
        "id": "j7NoIN1QDk1q"
      }
    },
    {
      "cell_type": "code",
      "source": [
        "def read_dataset(url: str) -> pd.DataFrame:\n",
        "  dataset = pd.read_csv(url, delimiter=';').set_index('ID') \\\n",
        "            .rename(columns={'default payment next month': 'default'})\n",
        "  return dataset.drop(columns=[column for column in dataset.columns if 'AMT' in column]) \\\n",
        "         .rename(columns={column: column.lower() for column in dataset.columns})\n",
        "\n",
        "dataset = read_dataset(dataset_url)"
      ],
      "metadata": {
        "id": "3cp03GKsFVFL"
      },
      "execution_count": 4,
      "outputs": []
    },
    {
      "cell_type": "markdown",
      "source": [
        "## Check for missing values\n",
        "No drops are needed here because the dataset is complete."
      ],
      "metadata": {
        "id": "iu2JrRDkmSly"
      }
    },
    {
      "cell_type": "code",
      "source": [
        "np.sum(pd.isnull(dataset), axis=0) # sum over the columns"
      ],
      "metadata": {
        "colab": {
          "base_uri": "https://localhost:8080/"
        },
        "id": "SnRC3h6FmRHW",
        "outputId": "86e3bcf5-894e-4e55-db88-1691ea8fe018"
      },
      "execution_count": 5,
      "outputs": [
        {
          "output_type": "execute_result",
          "data": {
            "text/plain": [
              "limit_bal    0\n",
              "sex          0\n",
              "education    0\n",
              "marriage     0\n",
              "age          0\n",
              "pay_1        0\n",
              "pay_2        0\n",
              "pay_3        0\n",
              "pay_4        0\n",
              "pay_5        0\n",
              "pay_6        0\n",
              "default      0\n",
              "dtype: int64"
            ]
          },
          "metadata": {},
          "execution_count": 5
        }
      ]
    },
    {
      "cell_type": "markdown",
      "source": [
        "## Distribution of `limit_bal` \n",
        "First, we print out the histogram related to the distribution of `limit_bal`, which is the only continuous variable used."
      ],
      "metadata": {
        "id": "rfxyLfwJD4NF"
      }
    },
    {
      "cell_type": "code",
      "source": [
        "ax = dataset['limit_bal'].plot.hist(bins=5, alpha=0.5)"
      ],
      "metadata": {
        "colab": {
          "base_uri": "https://localhost:8080/",
          "height": 0
        },
        "id": "tPOZ_CEpCuIr",
        "outputId": "05f8fd40-dfd6-45bc-a1c2-c3e59bb70d99"
      },
      "execution_count": 6,
      "outputs": [
        {
          "output_type": "display_data",
          "data": {
            "text/plain": [
              "<Figure size 432x288 with 1 Axes>"
            ],
            "image/png": "[encoded data removed]"
          },
          "metadata": {
            "needs_background": "light"
          }
        }
      ]
    },
    {
      "cell_type": "markdown",
      "source": [
        "Next, we describe the distribution. To discretize it, we would like to create four beams (i.e., corresponding to the four percentiles)."
      ],
      "metadata": {
        "id": "RLT0UNoOEfsD"
      }
    },
    {
      "cell_type": "code",
      "source": [
        "dataset['limit_bal'].describe()"
      ],
      "metadata": {
        "colab": {
          "base_uri": "https://localhost:8080/"
        },
        "id": "H9Ok3wXWCSHz",
        "outputId": "54965376-6fed-4740-c1eb-0650c23f93fd"
      },
      "execution_count": 7,
      "outputs": [
        {
          "output_type": "execute_result",
          "data": {
            "text/plain": [
              "count      30000.000000\n",
              "mean      167484.322667\n",
              "std       129747.661567\n",
              "min        10000.000000\n",
              "25%        50000.000000\n",
              "50%       140000.000000\n",
              "75%       240000.000000\n",
              "max      1000000.000000\n",
              "Name: limit_bal, dtype: float64"
            ]
          },
          "metadata": {},
          "execution_count": 7
        }
      ]
    },
    {
      "cell_type": "markdown",
      "source": [
        "## Manipulation\n",
        "The *artificial column* `misspayments_prev_6_months` can hold either positive, negative numbers or 0. In particular, this means: \n",
        "1. $ n = -2 $ corresponds to there was no credit to pay;\n",
        "2. $ n = -1 $ corresponds to payed successfully;\n",
        "3. $ n = 0 $ corresponds to a payment that was made on time but not totally to clear the balance (i.e., the minimum payment was met);\n",
        "4. $ n > 0 $ corresponds to the number of delayed months.\n",
        "\n",
        "All computations - but `misspayments_prev_6_months` - are performed in a vectorized fashion using NumPy. The less efficient alternative would have used the `apply` method over Pandas DataFrame, which internally leverages a for loop."
      ],
      "metadata": {
        "id": "u_NZMq0IFLLN"
      }
    },
    {
      "cell_type": "code",
      "source": [
        "%%time\n",
        "\n",
        "def manipulate_dataset(df: pd.DataFrame) -> pd.DataFrame:\n",
        "  compute_misspayments = lambda payments_status: sum([payment_status > 0 for payment_status in payments_status])\n",
        "  df['sex'] = np.where(df['sex'] == 1, 'male', 'female')\n",
        "  df['marriage'] = np.where(df['marriage'] == 1, 'married', 'not_married')\n",
        "  df['age'] = np.select([\n",
        "              (df['age'] < 35), \n",
        "              (df['age'] >= 35) & (df['age'] < 60)],\n",
        "              ['young', 'mid_aged'], default = 'senior')\n",
        "  df['limit_bal'] = np.select([\n",
        "                    (df['limit_bal'] < 50_000), \n",
        "                    (df['limit_bal'] >= 50_000) & (df['limit_bal'] < 140_000),\n",
        "                    (df['limit_bal'] >= 140_000) & (df['limit_bal'] < 240_000)],\n",
        "                    ['low', 'medium', 'medium_high'], default = 'high')\n",
        "  df['education'] = np.select([\n",
        "                    (df['education'] == 1), \n",
        "                    (df['education'] == 2), \n",
        "                    (df['education'] == 3)], \n",
        "                    ['graduate', 'university', 'high_school'], default = 'others') \n",
        "  df['misspayments_prev_6_months'] = df.apply(lambda row: \\\n",
        "                                              compute_misspayments([row[column] for column in df.columns if 'pay_' in column]), \n",
        "                                              axis=1) #axis = 1 means row by row\n",
        "  return df.drop(columns=[column for column in df.columns if 'pay_' in column])\n",
        "\n",
        "dataset = manipulate_dataset(read_dataset(dataset_url))"
      ],
      "metadata": {
        "colab": {
          "base_uri": "https://localhost:8080/"
        },
        "id": "EZm6-KOqYe6r",
        "outputId": "56b78779-cab2-440a-bfa3-ce12714cdf4e"
      },
      "execution_count": 8,
      "outputs": [
        {
          "output_type": "stream",
          "name": "stdout",
          "text": [
            "CPU times: user 1.25 s, sys: 27.1 ms, total: 1.27 s\n",
            "Wall time: 1.4 s\n"
          ]
        }
      ]
    },
    {
      "cell_type": "code",
      "source": [
        "print(f'The dataset contains {dataset.shape[0]} rows, {dataset.shape[1]} columns and it weighs {(dataset.memory_usage(index=True, deep=True).sum() / 10**6):.2f}MB')\n",
        "dataset.head()"
      ],
      "metadata": {
        "colab": {
          "base_uri": "https://localhost:8080/",
          "height": 0
        },
        "id": "XKClX88UF2IA",
        "outputId": "bc720070-d341-4eca-d689-c758c0eeced0"
      },
      "execution_count": 9,
      "outputs": [
        {
          "output_type": "stream",
          "name": "stdout",
          "text": [
            "The dataset contains 30000 rows, 7 columns and it weighs 10.37MB\n"
          ]
        },
        {
          "output_type": "execute_result",
          "data": {
            "text/plain": [
              "   limit_bal     sex   education     marriage       age  default  \\\n",
              "ID                                                                 \n",
              "1        low  female  university      married     young        1   \n",
              "2     medium  female  university  not_married     young        1   \n",
              "3     medium  female  university  not_married     young        0   \n",
              "4     medium  female  university      married  mid_aged        0   \n",
              "5     medium    male  university      married  mid_aged        0   \n",
              "\n",
              "    misspayments_prev_6_months  \n",
              "ID                              \n",
              "1                            2  \n",
              "2                            2  \n",
              "3                            0  \n",
              "4                            0  \n",
              "5                            0  "
            ],
            "text/html": [
              "\n",
              "  <div id=\"df-acce90c6-e3c4-454d-91e9-c84f58bf3e7a\">\n",
              "    <div class=\"colab-df-container\">\n",
              "      <div>\n",
              "<style scoped>\n",
              "    .dataframe tbody tr th:only-of-type {\n",
              "        vertical-align: middle;\n",
              "    }\n",
              "\n",
              "    .dataframe tbody tr th {\n",
              "        vertical-align: top;\n",
              "    }\n",
              "\n",
              "    .dataframe thead th {\n",
              "        text-align: right;\n",
              "    }\n",
              "</style>\n",
              "<table border=\"1\" class=\"dataframe\">\n",
              "  <thead>\n",
              "    <tr style=\"text-align: right;\">\n",
              "      <th></th>\n",
              "      <th>limit_bal</th>\n",
              "      <th>sex</th>\n",
              "      <th>education</th>\n",
              "      <th>marriage</th>\n",
              "      <th>age</th>\n",
              "      <th>default</th>\n",
              "      <th>misspayments_prev_6_months</th>\n",
              "    </tr>\n",
              "    <tr>\n",
              "      <th>ID</th>\n",
              "      <th></th>\n",
              "      <th></th>\n",
              "      <th></th>\n",
              "      <th></th>\n",
              "      <th></th>\n",
              "      <th></th>\n",
              "      <th></th>\n",
              "    </tr>\n",
              "  </thead>\n",
              "  <tbody>\n",
              "    <tr>\n",
              "      <th>1</th>\n",
              "      <td>low</td>\n",
              "      <td>female</td>\n",
              "      <td>university</td>\n",
              "      <td>married</td>\n",
              "      <td>young</td>\n",
              "      <td>1</td>\n",
              "      <td>2</td>\n",
              "    </tr>\n",
              "    <tr>\n",
              "      <th>2</th>\n",
              "      <td>medium</td>\n",
              "      <td>female</td>\n",
              "      <td>university</td>\n",
              "      <td>not_married</td>\n",
              "      <td>young</td>\n",
              "      <td>1</td>\n",
              "      <td>2</td>\n",
              "    </tr>\n",
              "    <tr>\n",
              "      <th>3</th>\n",
              "      <td>medium</td>\n",
              "      <td>female</td>\n",
              "      <td>university</td>\n",
              "      <td>not_married</td>\n",
              "      <td>young</td>\n",
              "      <td>0</td>\n",
              "      <td>0</td>\n",
              "    </tr>\n",
              "    <tr>\n",
              "      <th>4</th>\n",
              "      <td>medium</td>\n",
              "      <td>female</td>\n",
              "      <td>university</td>\n",
              "      <td>married</td>\n",
              "      <td>mid_aged</td>\n",
              "      <td>0</td>\n",
              "      <td>0</td>\n",
              "    </tr>\n",
              "    <tr>\n",
              "      <th>5</th>\n",
              "      <td>medium</td>\n",
              "      <td>male</td>\n",
              "      <td>university</td>\n",
              "      <td>married</td>\n",
              "      <td>mid_aged</td>\n",
              "      <td>0</td>\n",
              "      <td>0</td>\n",
              "    </tr>\n",
              "  </tbody>\n",
              "</table>\n",
              "</div>\n",
              "      <button class=\"colab-df-convert\" onclick=\"convertToInteractive('df-acce90c6-e3c4-454d-91e9-c84f58bf3e7a')\"\n",
              "              title=\"Convert this dataframe to an interactive table.\"\n",
              "              style=\"display:none;\">\n",
              "        \n",
              "  <svg xmlns=\"http://www.w3.org/2000/svg\" height=\"24px\"viewBox=\"0 0 24 24\"\n",
              "       width=\"24px\">\n",
              "    <path d=\"M0 0h24v24H0V0z\" fill=\"none\"/>\n",
              "    <path d=\"M18.56 5.44l.94 2.06.94-2.06 2.06-.94-2.06-.94-.94-2.06-.94 2.06-2.06.94zm-11 1L8.5 8.5l.94-2.06 2.06-.94-2.06-.94L8.5 2.5l-.94 2.06-2.06.94zm10 10l.94 2.06.94-2.06 2.06-.94-2.06-.94-.94-2.06-.94 2.06-2.06.94z\"/><path d=\"M17.41 7.96l-1.37-1.37c-.4-.4-.92-.59-1.43-.59-.52 0-1.04.2-1.43.59L10.3 9.45l-7.72 7.72c-.78.78-.78 2.05 0 2.83L4 21.41c.39.39.9.59 1.41.59.51 0 1.02-.2 1.41-.59l7.78-7.78 2.81-2.81c.8-.78.8-2.07 0-2.86zM5.41 20L4 18.59l7.72-7.72 1.47 1.35L5.41 20z\"/>\n",
              "  </svg>\n",
              "      </button>\n",
              "      \n",
              "  <style>\n",
              "    .colab-df-container {\n",
              "      display:flex;\n",
              "      flex-wrap:wrap;\n",
              "      gap: 12px;\n",
              "    }\n",
              "\n",
              "    .colab-df-convert {\n",
              "      background-color: #E8F0FE;\n",
              "      border: none;\n",
              "      border-radius: 50%;\n",
              "      cursor: pointer;\n",
              "      display: none;\n",
              "      fill: #1967D2;\n",
              "      height: 32px;\n",
              "      padding: 0 0 0 0;\n",
              "      width: 32px;\n",
              "    }\n",
              "\n",
              "    .colab-df-convert:hover {\n",
              "      background-color: #E2EBFA;\n",
              "      box-shadow: 0px 1px 2px rgba(60, 64, 67, 0.3), 0px 1px 3px 1px rgba(60, 64, 67, 0.15);\n",
              "      fill: #174EA6;\n",
              "    }\n",
              "\n",
              "    [theme=dark] .colab-df-convert {\n",
              "      background-color: #3B4455;\n",
              "      fill: #D2E3FC;\n",
              "    }\n",
              "\n",
              "    [theme=dark] .colab-df-convert:hover {\n",
              "      background-color: #434B5C;\n",
              "      box-shadow: 0px 1px 3px 1px rgba(0, 0, 0, 0.15);\n",
              "      filter: drop-shadow(0px 1px 2px rgba(0, 0, 0, 0.3));\n",
              "      fill: #FFFFFF;\n",
              "    }\n",
              "  </style>\n",
              "\n",
              "      <script>\n",
              "        const buttonEl =\n",
              "          document.querySelector('#df-acce90c6-e3c4-454d-91e9-c84f58bf3e7a button.colab-df-convert');\n",
              "        buttonEl.style.display =\n",
              "          google.colab.kernel.accessAllowed ? 'block' : 'none';\n",
              "\n",
              "        async function convertToInteractive(key) {\n",
              "          const element = document.querySelector('#df-acce90c6-e3c4-454d-91e9-c84f58bf3e7a');\n",
              "          const dataTable =\n",
              "            await google.colab.kernel.invokeFunction('convertToInteractive',\n",
              "                                                     [key], {});\n",
              "          if (!dataTable) return;\n",
              "\n",
              "          const docLinkHtml = 'Like what you see? Visit the ' +\n",
              "            '<a target=\"_blank\" href=https://colab.research.google.com/notebooks/data_table.ipynb>data table notebook</a>'\n",
              "            + ' to learn more about interactive tables.';\n",
              "          element.innerHTML = '';\n",
              "          dataTable['output_type'] = 'display_data';\n",
              "          await google.colab.output.renderOutput(dataTable, element);\n",
              "          const docLink = document.createElement('div');\n",
              "          docLink.innerHTML = docLinkHtml;\n",
              "          element.appendChild(docLink);\n",
              "        }\n",
              "      </script>\n",
              "    </div>\n",
              "  </div>\n",
              "  "
            ]
          },
          "metadata": {},
          "execution_count": 9
        }
      ]
    },
    {
      "cell_type": "markdown",
      "source": [
        "## States\n",
        "TBC: Description of final dataset and its values\n",
        "List - for each variable - the associated states, i.e. every possibile unique value in the domain $D$ of a random variable."
      ],
      "metadata": {
        "id": "Z3u2NRfk8mhE"
      }
    },
    {
      "cell_type": "code",
      "source": [
        "{col_name: column.unique() for col_name, column in dataset.iteritems()}"
      ],
      "metadata": {
        "colab": {
          "base_uri": "https://localhost:8080/"
        },
        "id": "O5WkHilneu26",
        "outputId": "5bd4100f-8c06-41cf-a5c3-ad0cf54f5279"
      },
      "execution_count": 10,
      "outputs": [
        {
          "output_type": "execute_result",
          "data": {
            "text/plain": [
              "{'limit_bal': array(['low', 'medium', 'high', 'medium_high'], dtype=object),\n",
              " 'sex': array(['female', 'male'], dtype=object),\n",
              " 'education': array(['university', 'graduate', 'high_school', 'others'], dtype=object),\n",
              " 'marriage': array(['married', 'not_married'], dtype=object),\n",
              " 'age': array(['young', 'mid_aged', 'senior'], dtype=object),\n",
              " 'default': array([1, 0]),\n",
              " 'misspayments_prev_6_months': array([2, 0, 1, 4, 5, 6, 3])}"
            ]
          },
          "metadata": {},
          "execution_count": 10
        }
      ]
    },
    {
      "cell_type": "markdown",
      "source": [
        "## Train/test splitting"
      ],
      "metadata": {
        "id": "lEC3R1T65J99"
      }
    },
    {
      "cell_type": "code",
      "source": [
        "X_train, X_test, y_train, y_test = train_test_split(dataset.drop('default', axis=1), dataset['default'], \\\n",
        "                                                    test_size=test_ratio, random_state=random_seed, \\\n",
        "                                                    stratify=dataset['default'])\n",
        "train = pd.concat([X_train, y_train], axis=1)\n",
        "test = pd.concat([X_test, y_test], axis=1)\n",
        "print(\"Training set size: \" + str(train.shape[0]))\n",
        "print(\"Test set size: \" + str(test.shape[0]))\n",
        "print(\"Total size: \" + str(train.shape[0] + test.shape[0]))"
      ],
      "metadata": {
        "colab": {
          "base_uri": "https://localhost:8080/"
        },
        "id": "ovyfpjEzsGl9",
        "outputId": "bbc3bf4e-a68f-431b-a9e8-8e83fdc96f23"
      },
      "execution_count": 11,
      "outputs": [
        {
          "output_type": "stream",
          "name": "stdout",
          "text": [
            "Training set size: 24000\n",
            "Test set size: 6000\n",
            "Total size: 30000\n"
          ]
        }
      ]
    },
    {
      "cell_type": "markdown",
      "source": [
        "# Utility functions"
      ],
      "metadata": {
        "id": "MnSOLJKphvyI"
      }
    },
    {
      "cell_type": "markdown",
      "source": [
        "## Plotting networks"
      ],
      "metadata": {
        "id": "VKu1kz41iFsJ"
      }
    },
    {
      "cell_type": "code",
      "source": [
        "def plot_network(network: 'DAG', name: str = 'Network', save_image: bool = False):\n",
        "  fig, ax = plt.subplots(1, 1, figsize=(12, 12))\n",
        "  nx.draw_networkx(network, pos=nx.drawing.layout.circular_layout(network), ax=ax, node_size=5000)\n",
        "  ax.set_title(name)\n",
        "  if save_image:\n",
        "    fig.savefig(name)"
      ],
      "metadata": {
        "id": "R2ufY3e2TlqM"
      },
      "execution_count": 12,
      "outputs": []
    },
    {
      "cell_type": "markdown",
      "source": [
        "## Parameter learning (CDPs)\n",
        "Parameter are estimated given an already-defined $DAG = \\{V, E\\}$. The estimation is related to every random variable's *CPT*."
      ],
      "metadata": {
        "id": "UCWtVvwGiCWU"
      }
    },
    {
      "cell_type": "code",
      "source": [
        "def fit_bayesian_network(bayesian_network: BayesianNetwork, prior_type: str = 'BDeu', print_cpd: bool = False) -> tuple[BayesianNetwork, list]:\n",
        "  bayesian_network.fit(train, estimator=BayesianEstimator, prior_type = prior_type)\n",
        "  print('The CPDs contain', 'no' if bayesian_network.check_model() else 'some', 'errors.')\n",
        "  bn_cpds = bayesian_network.get_cpds()\n",
        "  if print_cpd:\n",
        "    TabularCPD._truncate_strtable = lambda self, x: x\n",
        "    for cpd in bn_cpds:\n",
        "      print(cpd)\n",
        "  return bayesian_network, bn_cpds"
      ],
      "metadata": {
        "id": "waaEVmpBcPVZ"
      },
      "execution_count": 13,
      "outputs": []
    },
    {
      "cell_type": "markdown",
      "source": [
        "# Hard-coded networks"
      ],
      "metadata": {
        "id": "vwiKvcYamCqs"
      }
    },
    {
      "cell_type": "markdown",
      "source": [
        "## Easy"
      ],
      "metadata": {
        "id": "X7VuShgwTPKn"
      }
    },
    {
      "cell_type": "code",
      "source": [
        "model_easy = BayesianNetwork([('education', 'limit_bal'), ('age', 'limit_bal'), \\\n",
        "                       ('marriage', 'limit_bal'), ('sex', 'limit_bal'), \\\n",
        "                       ('limit_bal', 'default'), ('misspayments_prev_6_months', 'default')])\n",
        "plot_network(model_easy, 'Easy model')\n",
        "model_easy, model_easy_cpds = fit_bayesian_network(model_easy, prior_type = 'BDeu', print_cpd = False)"
      ],
      "metadata": {
        "id": "7AUSDFAp6byr",
        "colab": {
          "base_uri": "https://localhost:8080/",
          "height": 0
        },
        "outputId": "0452b3f0-7581-440a-8308-da477c9876f1"
      },
      "execution_count": 14,
      "outputs": [
        {
          "output_type": "stream",
          "name": "stdout",
          "text": [
            "The CPDs contain no errors.\n"
          ]
        },
        {
          "output_type": "display_data",
          "data": {
            "text/plain": [
              "<Figure size 864x864 with 1 Axes>"
            ],
            "image/png": "[encoded data removed]"
          },
          "metadata": {}
        }
      ]
    },
    {
      "cell_type": "markdown",
      "source": [
        "## Medium"
      ],
      "metadata": {
        "id": "9TLoUVx9Tf11"
      }
    },
    {
      "cell_type": "code",
      "source": [
        "model_medium = BayesianNetwork([(\"age\", \"marriage\"), (\"age\", \"education\"), \\\n",
        "                       (\"age\", \"education\"),(\"age\", \"default\"), \\\n",
        "                       (\"education\", \"limit_bal\"), (\"marriage\", \"limit_bal\"), \\\n",
        "                       (\"limit_bal\", \"default\"), (\"sex\", \"limit_bal\"), \\\n",
        "                       (\"misspayments_prev_6_months\", \"default\")])\n",
        "plot_network(model_medium, 'Medium model')\n",
        "model_medium, model_medium_cpds = fit_bayesian_network(model_medium, prior_type = 'BDeu', print_cpd = False)"
      ],
      "metadata": {
        "colab": {
          "base_uri": "https://localhost:8080/",
          "height": 0
        },
        "id": "3Wd8lrnRThli",
        "outputId": "2373c936-1aec-4569-95df-9f57c1863f02"
      },
      "execution_count": 15,
      "outputs": [
        {
          "output_type": "stream",
          "name": "stdout",
          "text": [
            "The CPDs contain no errors.\n"
          ]
        },
        {
          "output_type": "display_data",
          "data": {
            "text/plain": [
              "<Figure size 864x864 with 1 Axes>"
            ],
            "image/png": "[encoded data removed]"
          },
          "metadata": {}
        }
      ]
    },
    {
      "cell_type": "markdown",
      "source": [
        "## Hard"
      ],
      "metadata": {
        "id": "N85YmhGiUbUW"
      }
    },
    {
      "cell_type": "code",
      "source": [
        "model_hard = BayesianNetwork([(\"age\", \"marriage\"), (\"age\", \"education\"), \\\n",
        "                       (\"age\", \"education\"),(\"age\", \"default\"), \\\n",
        "                       (\"education\", \"limit_bal\"), (\"marriage\", \"limit_bal\"), \\\n",
        "                       (\"limit_bal\", \"default\"), (\"sex\", \"limit_bal\"), \\\n",
        "                       (\"misspayments_prev_6_months\", \"default\"), (\"education\", \"default\"), \\\n",
        "                       (\"marriage\", \"default\")])\n",
        "plot_network(model_hard, 'Hard model')\n",
        "model_hard, model_hard_cpds = fit_bayesian_network(model_hard, prior_type = 'BDeu', print_cpd = False)"
      ],
      "metadata": {
        "colab": {
          "base_uri": "https://localhost:8080/",
          "height": 717
        },
        "id": "oGUDmuoUUc4p",
        "outputId": "ace81d36-78a3-4e5c-9d74-35d4700f67c4"
      },
      "execution_count": 16,
      "outputs": [
        {
          "output_type": "stream",
          "name": "stdout",
          "text": [
            "The CPDs contain no errors.\n"
          ]
        },
        {
          "output_type": "display_data",
          "data": {
            "text/plain": [
              "<Figure size 864x864 with 1 Axes>"
            ],
            "image/png": "[encoded data removed]"
          },
          "metadata": {}
        }
      ]
    },
    {
      "cell_type": "markdown",
      "source": [
        "# Structural-learned models\n",
        "Since query results are poor when comparing the three different models, there is likely no difference betwee the three represetations and thus, we should seek a different model structure."
      ],
      "metadata": {
        "id": "Fft2zheucHit"
      }
    },
    {
      "cell_type": "markdown",
      "source": [
        "## Exhaustive Search\n",
        "Since the ES algorithm cost is super-exponential, it's suited only for small BN, i.e. for networks having less than 5 nodes. In our case, this method is computationally inadequate so will not be included in the networks. "
      ],
      "metadata": {
        "id": "_q7e4jWeiGck"
      }
    },
    {
      "cell_type": "code",
      "source": [
        "ex_search = ExhaustiveSearch(data=train, scoring_method=BicScore(data=train))\n",
        "#ex_search_model = ex_search.estimate()\n",
        "#plot_network(ex_search_model, 'Structural Learning - Exhaustive search')\n",
        "#ex_search_model = BayesianNetwork(ex_search_model.edges())\n",
        "#ex_search_model, ex_search_model_cpds = fit_bayesian_network(ex_search_model, prior_type = 'BDeu', print_cpd = False)"
      ],
      "metadata": {
        "id": "S0OW-sDSiMNH"
      },
      "execution_count": 18,
      "outputs": []
    },
    {
      "cell_type": "markdown",
      "source": [
        "## Tree Search"
      ],
      "metadata": {
        "id": "F1L7aZiXatnj"
      }
    },
    {
      "cell_type": "code",
      "source": [
        "ts = TreeSearch(data=train, root_node='age')\n",
        "tree_search_model = ts.estimate(show_progress=True)\n",
        "plot_network(tree_search_model, 'Structural Learning - Tree Search')\n",
        "tree_search_model = BayesianNetwork(tree_search_model.edges())\n",
        "tree_search_model, tree_search_cpds = fit_bayesian_network(tree_search_model, prior_type = 'BDeu', print_cpd = False)"
      ],
      "metadata": {
        "colab": {
          "base_uri": "https://localhost:8080/",
          "height": 0,
          "referenced_widgets": [
            "2449ba4112924f828825e173d5dec5d2",
            "ca79b3cc3d504846a01eed4b5e3497f0",
            "e171153f918f45cf8223c6722fe76c85",
            "321db4e2ab674f2a91b6e395a284c970",
            "2242f606f5594633934bada5e4975d03",
            "c16f132e00da4206a82c611418538a7d",
            "f30fe6f6537e42259c000540a3b1a667",
            "9d4de96bc3de4d5c99775f81dcc9d699",
            "3d33a880d4334ad193c13037b08415a2",
            "639e5e703ab94718bfc32c3532aa3025",
            "f678758ebaf24bf2ada2c076a2a53b97"
          ]
        },
        "id": "SbOibh7fckkw",
        "outputId": "29547b68-5aae-4da0-98ed-341c3847311d"
      },
      "execution_count": 20,
      "outputs": [
        {
          "output_type": "display_data",
          "data": {
            "text/plain": [
              "Building tree:   0%|          | 0/21.0 [00:00<?, ?it/s]"
            ],
            "application/vnd.jupyter.widget-view+json": {
              "version_major": 2,
              "version_minor": 0,
              "model_id": "2449ba4112924f828825e173d5dec5d2"
            }
          },
          "metadata": {}
        },
        {
          "output_type": "stream",
          "name": "stdout",
          "text": [
            "The CPDs contain no errors.\n"
          ]
        },
        {
          "output_type": "display_data",
          "data": {
            "text/plain": [
              "<Figure size 864x864 with 1 Axes>"
            ],
            "image/png": "[encoded data removed]"
          },
          "metadata": {}
        }
      ]
    },
    {
      "cell_type": "markdown",
      "source": [
        "## Hill Climb"
      ],
      "metadata": {
        "id": "_LZV7liEaxIA"
      }
    },
    {
      "cell_type": "code",
      "source": [
        "hill_climb = HillClimbSearch(data=train)\n",
        "hill_climb_base_model = hill_climb.estimate(scoring_method=BDeuScore(data=train), show_progress=True)\n",
        "plot_network(hill_climb_base_model, 'Structural Learning - Hill Climb')\n",
        "hill_climb_base_model = BayesianNetwork(hill_climb_base_model.edges())\n",
        "hill_climb_base_model, hill_climb_base_cpds = fit_bayesian_network(hill_climb_base_model, prior_type = 'BDeu', print_cpd = False)"
      ],
      "metadata": {
        "id": "4yn0JlThnbbO",
        "colab": {
          "base_uri": "https://localhost:8080/",
          "height": 0,
          "referenced_widgets": [
            "5524e0d6e48a4305a18279fba22be25a",
            "3f9aeaa2071a461faf403f626a680bbd",
            "e5b1c3e909b04239a60f4c75a89dcf82",
            "cca3f016cf0144718a208ade08b4a17c",
            "8957775477ce411bbac227c9cc95f258",
            "e0254d18e2f4410388d1cec03d6a88ab",
            "4a65c12489d64fc3917828a7b14366e4",
            "36d848ee1680457bbf7a928fa50df893",
            "c49b5d18cae7403298442b872e96e994",
            "b4d330d1596e4244abbbe7cd5fd96c84",
            "183652b5edaf4d259ab084ef147e85ee"
          ]
        },
        "outputId": "a5b20e54-2ba7-4106-d488-8d663c4c9346"
      },
      "execution_count": 19,
      "outputs": [
        {
          "output_type": "display_data",
          "data": {
            "text/plain": [
              "  0%|          | 0/1000000 [00:00<?, ?it/s]"
            ],
            "application/vnd.jupyter.widget-view+json": {
              "version_major": 2,
              "version_minor": 0,
              "model_id": "5524e0d6e48a4305a18279fba22be25a"
            }
          },
          "metadata": {}
        },
        {
          "output_type": "stream",
          "name": "stdout",
          "text": [
            "The CPDs contain no errors.\n"
          ]
        },
        {
          "output_type": "display_data",
          "data": {
            "text/plain": [
              "<Figure size 864x864 with 1 Axes>"
            ],
            "image/png": "[encoded data removed]"
          },
          "metadata": {}
        }
      ]
    },
    {
      "cell_type": "markdown",
      "source": [
        "## Constrained Hill Climb"
      ],
      "metadata": {
        "id": "o0-eOFTwvzH-"
      }
    },
    {
      "cell_type": "code",
      "source": [
        "edges_white_list = [('misspayments_prev_6_months', 'default'), ('age','limit_bal')]\n",
        "edges_black_list = [('limit_bal', 'sex'), ('education', 'sex'), ('age', 'sex')]\n",
        "\n",
        "hill_climb = HillClimbSearch(data=train)\n",
        "constr_hill_climb_model = hill_climb.estimate(scoring_method=BDeuScore(data=train), fixed_edges=edges_white_list, \\\n",
        "                                              black_list=edges_black_list, show_progress=True)\n",
        "constr_hill_climb_model = BayesianNetwork(constr_hill_climb_model.edges())\n",
        "plot_network(constr_hill_climb_model, 'Structural Learning - Constrained Hill Climb')\n",
        "constr_hill_climb_model, hill_climb_constr_cpds = fit_bayesian_network(constr_hill_climb_model, prior_type = 'BDeu', print_cpd = False)"
      ],
      "metadata": {
        "colab": {
          "base_uri": "https://localhost:8080/",
          "height": 0,
          "referenced_widgets": [
            "6e14b5db820445dea2900b7315980638",
            "9fbb81261ce745d18ef9e463241482ff",
            "b0f99622aa7c437c9b2eb2e03decc6b4",
            "f46bf737c4604016a94112e21039fc0e",
            "0e19f716b9b64fd89bb53989c485e9de",
            "397561c8e2454141ac78253badb6c3c8",
            "c12a61a37b4948d3ae5c009e1170134e",
            "a427b6e657eb45b2b5958a631c0bb116",
            "616088970ded47008b65df3af207dd49",
            "16d851b708f645b8a070bc9aacda01d3",
            "a3da6449913b405cb97996681331709c"
          ]
        },
        "id": "-YNRZhCeoOjZ",
        "outputId": "f1c50ce9-a79d-4d1e-c484-95ee3f99ee7e"
      },
      "execution_count": 21,
      "outputs": [
        {
          "output_type": "display_data",
          "data": {
            "text/plain": [
              "  0%|          | 0/1000000 [00:00<?, ?it/s]"
            ],
            "application/vnd.jupyter.widget-view+json": {
              "version_major": 2,
              "version_minor": 0,
              "model_id": "6e14b5db820445dea2900b7315980638"
            }
          },
          "metadata": {}
        },
        {
          "output_type": "stream",
          "name": "stdout",
          "text": [
            "The CPDs contain no errors.\n"
          ]
        },
        {
          "output_type": "display_data",
          "data": {
            "text/plain": [
              "<Figure size 864x864 with 1 Axes>"
            ],
            "image/png": "[encoded data removed]"
          },
          "metadata": {}
        }
      ]
    },
    {
      "cell_type": "markdown",
      "source": [
        "# Network analysis"
      ],
      "metadata": {
        "id": "Dd3Yk8IoaYvj"
      }
    },
    {
      "cell_type": "markdown",
      "source": [
        "We now have six differently designed Bayesian Networks with CPDs. Let's use the Pgmpy library to explore the local semantics or the networks and their Markov Blankets."
      ],
      "metadata": {
        "id": "L9Nh6xbIuovx"
      }
    },
    {
      "cell_type": "code",
      "source": [
        "models = [(\"EASY\", model_easy), (\"MEDIUM\", model_medium), (\"HARD\", model_hard) \\\n",
        "          ,(\"TREE SEARCH\", tree_search_model), (\"HILL CLIMB\", hill_climb_base_model), (\"CONSTRAINED HILL CLIMB\", constr_hill_climb_model)]\n",
        "nodes = [col_name for col_name, column in dataset.iteritems()]\n",
        "\n",
        "for model in models:\n",
        "  print_bold(os.linesep + model[0] + os.linesep)\n",
        "  print_bold('Local semantics:')\n",
        "  print(model[1].local_independencies(nodes))\n",
        "  print_bold('Markov Blankets:')\n",
        "  for node in nodes:\n",
        "    print(f'Markov blanket of node {node}:', str(model[1].get_markov_blanket(node)))"
      ],
      "metadata": {
        "id": "Q2npc9fWabXu",
        "colab": {
          "base_uri": "https://localhost:8080/"
        },
        "outputId": "1877a4b8-b670-4f04-8762-a232f2e65f33"
      },
      "execution_count": 69,
      "outputs": [
        {
          "output_type": "stream",
          "name": "stdout",
          "text": [
            "\u001b[1m\n",
            "EASY\n",
            "\u001b[0m\n",
            "\u001b[1mLocal semantics:\u001b[0m\n",
            "(limit_bal ⟂ misspayments_prev_6_months | education, age, marriage, sex)\n",
            "(sex ⟂ education, marriage, misspayments_prev_6_months, age)\n",
            "(education ⟂ marriage, age, misspayments_prev_6_months, sex)\n",
            "(marriage ⟂ education, age, misspayments_prev_6_months, sex)\n",
            "(age ⟂ education, marriage, misspayments_prev_6_months, sex)\n",
            "(default ⟂ education, age, marriage, sex | misspayments_prev_6_months, limit_bal)\n",
            "(misspayments_prev_6_months ⟂ education, limit_bal, marriage, age, sex)\n",
            "\u001b[1mMarkov Blankets:\u001b[0m\n",
            "Markov blanket of node limit_bal: ['education', 'misspayments_prev_6_months', 'marriage', 'age', 'sex', 'default']\n",
            "Markov blanket of node sex: ['education', 'limit_bal', 'marriage', 'age']\n",
            "Markov blanket of node education: ['limit_bal', 'marriage', 'age', 'sex']\n",
            "Markov blanket of node marriage: ['education', 'limit_bal', 'age', 'sex']\n",
            "Markov blanket of node age: ['education', 'limit_bal', 'marriage', 'sex']\n",
            "Markov blanket of node default: ['misspayments_prev_6_months', 'limit_bal']\n",
            "Markov blanket of node misspayments_prev_6_months: ['limit_bal', 'default']\n",
            "\u001b[1m\n",
            "MEDIUM\n",
            "\u001b[0m\n",
            "\u001b[1mLocal semantics:\u001b[0m\n",
            "(limit_bal ⟂ age, misspayments_prev_6_months | education, marriage, sex)\n",
            "(sex ⟂ education, marriage, misspayments_prev_6_months, age)\n",
            "(education ⟂ marriage, misspayments_prev_6_months, sex | age)\n",
            "(marriage ⟂ education, misspayments_prev_6_months, sex | age)\n",
            "(age ⟂ misspayments_prev_6_months, sex)\n",
            "(default ⟂ education, marriage, sex | age, misspayments_prev_6_months, limit_bal)\n",
            "(misspayments_prev_6_months ⟂ education, limit_bal, marriage, age, sex)\n",
            "\u001b[1mMarkov Blankets:\u001b[0m\n",
            "Markov blanket of node limit_bal: ['education', 'misspayments_prev_6_months', 'marriage', 'age', 'sex', 'default']\n",
            "Markov blanket of node sex: ['education', 'marriage', 'limit_bal']\n",
            "Markov blanket of node education: ['limit_bal', 'marriage', 'age', 'sex']\n",
            "Markov blanket of node marriage: ['education', 'limit_bal', 'age', 'sex']\n",
            "Markov blanket of node age: ['education', 'misspayments_prev_6_months', 'limit_bal', 'marriage', 'default']\n",
            "Markov blanket of node default: ['age', 'misspayments_prev_6_months', 'limit_bal']\n",
            "Markov blanket of node misspayments_prev_6_months: ['limit_bal', 'age', 'default']\n",
            "\u001b[1m\n",
            "HARD\n",
            "\u001b[0m\n",
            "\u001b[1mLocal semantics:\u001b[0m\n",
            "(limit_bal ⟂ age, misspayments_prev_6_months | education, marriage, sex)\n",
            "(sex ⟂ education, marriage, misspayments_prev_6_months, age)\n",
            "(education ⟂ marriage, misspayments_prev_6_months, sex | age)\n",
            "(marriage ⟂ education, misspayments_prev_6_months, sex | age)\n",
            "(age ⟂ misspayments_prev_6_months, sex)\n",
            "(default ⟂ sex | education, misspayments_prev_6_months, limit_bal, marriage, age)\n",
            "(misspayments_prev_6_months ⟂ education, limit_bal, marriage, age, sex)\n",
            "\u001b[1mMarkov Blankets:\u001b[0m\n",
            "Markov blanket of node limit_bal: ['education', 'misspayments_prev_6_months', 'marriage', 'age', 'sex', 'default']\n",
            "Markov blanket of node sex: ['education', 'marriage', 'limit_bal']\n",
            "Markov blanket of node education: ['misspayments_prev_6_months', 'limit_bal', 'marriage', 'age', 'sex', 'default']\n",
            "Markov blanket of node marriage: ['education', 'misspayments_prev_6_months', 'limit_bal', 'age', 'sex', 'default']\n",
            "Markov blanket of node age: ['education', 'misspayments_prev_6_months', 'limit_bal', 'marriage', 'default']\n",
            "Markov blanket of node default: ['education', 'misspayments_prev_6_months', 'limit_bal', 'marriage', 'age']\n",
            "Markov blanket of node misspayments_prev_6_months: ['education', 'limit_bal', 'marriage', 'age', 'default']\n",
            "\u001b[1m\n",
            "TREE SEARCH\n",
            "\u001b[0m\n",
            "\u001b[1mLocal semantics:\u001b[0m\n",
            "(limit_bal ⟂ marriage, age | education)\n",
            "(sex ⟂ education, misspayments_prev_6_months, default, marriage, age | limit_bal)\n",
            "(education ⟂ marriage | age)\n",
            "(marriage ⟂ education, misspayments_prev_6_months, limit_bal, default, sex | age)\n",
            "(default ⟂ education, limit_bal, marriage, age, sex | misspayments_prev_6_months)\n",
            "(misspayments_prev_6_months ⟂ education, age, marriage, sex | limit_bal)\n",
            "\u001b[1mMarkov Blankets:\u001b[0m\n",
            "Markov blanket of node limit_bal: ['education', 'misspayments_prev_6_months', 'sex']\n",
            "Markov blanket of node sex: ['limit_bal']\n",
            "Markov blanket of node education: ['age', 'limit_bal']\n",
            "Markov blanket of node marriage: ['age']\n",
            "Markov blanket of node age: ['marriage', 'education']\n",
            "Markov blanket of node default: ['misspayments_prev_6_months']\n",
            "Markov blanket of node misspayments_prev_6_months: ['limit_bal', 'default']\n",
            "\u001b[1m\n",
            "HILL CLIMB\n",
            "\u001b[0m\n",
            "\u001b[1mLocal semantics:\u001b[0m\n",
            "(sex ⟂ misspayments_prev_6_months, default | marriage, limit_bal)\n",
            "(education ⟂ misspayments_prev_6_months, sex, default | marriage, age, limit_bal)\n",
            "(marriage ⟂ misspayments_prev_6_months | limit_bal, default)\n",
            "(age ⟂ misspayments_prev_6_months, default | marriage, sex, limit_bal)\n",
            "\u001b[1mMarkov Blankets:\u001b[0m\n",
            "Markov blanket of node limit_bal: ['education', 'misspayments_prev_6_months', 'marriage', 'age', 'sex', 'default']\n",
            "Markov blanket of node sex: ['marriage', 'age', 'limit_bal']\n",
            "Markov blanket of node education: ['marriage', 'age', 'limit_bal']\n",
            "Markov blanket of node marriage: ['education', 'limit_bal', 'age', 'sex', 'default']\n",
            "Markov blanket of node age: ['education', 'limit_bal', 'marriage', 'sex']\n",
            "Markov blanket of node default: ['marriage', 'misspayments_prev_6_months', 'limit_bal']\n",
            "Markov blanket of node misspayments_prev_6_months: ['limit_bal', 'default']\n",
            "\u001b[1m\n",
            "CONSTRAINED HILL CLIMB\n",
            "\u001b[0m\n",
            "\u001b[1mLocal semantics:\u001b[0m\n",
            "(limit_bal ⟂ sex | education, age, marriage)\n",
            "(education ⟂ sex | marriage, age)\n",
            "(default ⟂ education, age, marriage, sex | misspayments_prev_6_months, limit_bal)\n",
            "(misspayments_prev_6_months ⟂ education, age, marriage, sex | limit_bal)\n",
            "\u001b[1mMarkov Blankets:\u001b[0m\n",
            "Markov blanket of node limit_bal: ['education', 'misspayments_prev_6_months', 'marriage', 'age', 'default']\n",
            "Markov blanket of node sex: ['marriage', 'age']\n",
            "Markov blanket of node education: ['marriage', 'age', 'limit_bal']\n",
            "Markov blanket of node marriage: ['education', 'limit_bal', 'age', 'sex']\n",
            "Markov blanket of node age: ['education', 'limit_bal', 'marriage', 'sex']\n",
            "Markov blanket of node default: ['misspayments_prev_6_months', 'limit_bal']\n",
            "Markov blanket of node misspayments_prev_6_months: ['limit_bal', 'default']\n"
          ]
        }
      ]
    },
    {
      "cell_type": "markdown",
      "source": [
        "Let's see how the three characterising types of a Bayesian Network (common parent, cascade and V-structure) impact indipendencies within the networks."
      ],
      "metadata": {
        "id": "qf6fenWv7J1d"
      }
    },
    {
      "cell_type": "markdown",
      "source": [
        "__Common parent__:\n",
        "\n",
        "In TREE SEARCH,we have that _marriage_ <- _age_ -> _education_. Hence we say that _age_ is a common parent to _marriage_ and _education_. Let's visualise the independencies that it generates:"
      ],
      "metadata": {
        "id": "jc-nUt967liL"
      }
    },
    {
      "cell_type": "code",
      "source": [
        "print(tree_search_model.local_independencies(['age', 'marriage', 'education']))"
      ],
      "metadata": {
        "colab": {
          "base_uri": "https://localhost:8080/"
        },
        "id": "3yA1u1j17oys",
        "outputId": "ed686413-e6da-4007-9fec-39814ce35741"
      },
      "execution_count": null,
      "outputs": [
        {
          "output_type": "stream",
          "name": "stdout",
          "text": [
            "(marriage ⟂ sex, education, misspayments_prev_6_months, default, limit_bal | age)\n",
            "(education ⟂ marriage | age)\n"
          ]
        }
      ]
    },
    {
      "cell_type": "markdown",
      "source": [
        "This shows how education and marriage are indipendent given age, which is indeed a result given by their structure in the network. Moreover, we can see that since _age_ is the only node in the Markov Blanket of _marriage_, the latter is indeed indipendent to the rest of the network given _age_."
      ],
      "metadata": {
        "id": "bgMisfZGAgDW"
      }
    },
    {
      "cell_type": "markdown",
      "source": [
        "__Cascade__:"
      ],
      "metadata": {
        "id": "MdxW3uEpCx2D"
      }
    },
    {
      "cell_type": "markdown",
      "source": [
        "In TREE SEARCH, we have that _age_ -> _education_ -> _limit-bal_ is a cascade. Let's visualise the independencies that it generates:"
      ],
      "metadata": {
        "id": "pIQV4JF4C93M"
      }
    },
    {
      "cell_type": "code",
      "source": [
        "print(tree_search_model.local_independencies(['age', 'education', 'limit_bal']))"
      ],
      "metadata": {
        "colab": {
          "base_uri": "https://localhost:8080/"
        },
        "id": "AYxWV4IZC9Fi",
        "outputId": "961119e5-605c-4ecd-c610-ff02ab6f4714"
      },
      "execution_count": null,
      "outputs": [
        {
          "output_type": "stream",
          "name": "stdout",
          "text": [
            "(education ⟂ marriage | age)\n",
            "(limit_bal ⟂ marriage, age | education)\n"
          ]
        }
      ]
    },
    {
      "cell_type": "markdown",
      "source": [
        "This shows that given _education_, _age_ and _limit-bal_ are independent, which is again a given in a cascade structure. "
      ],
      "metadata": {
        "id": "Hz342GL_DiaL"
      }
    },
    {
      "cell_type": "markdown",
      "source": [
        "__V-structure__:\n",
        "\n",
        "In EASY, we can see that _limit-bal_ -> _default_ <- _misspayment-prev-6-months_. We call this a V-structure. Let's visualise once again the independencies generated: "
      ],
      "metadata": {
        "id": "qthbGrQzEbe5"
      }
    },
    {
      "cell_type": "code",
      "source": [
        "print(model_easy.local_independencies(['limit_bal', 'default', 'misspayments_prev_6_months']))"
      ],
      "metadata": {
        "colab": {
          "base_uri": "https://localhost:8080/"
        },
        "id": "qpwpIT2KE95l",
        "outputId": "2e5abf14-b90e-453e-952b-b3f2c68e5254"
      },
      "execution_count": null,
      "outputs": [
        {
          "output_type": "stream",
          "name": "stdout",
          "text": [
            "(limit_bal ⟂ misspayments_prev_6_months | marriage, sex, age, education)\n",
            "(default ⟂ education, marriage, age, sex | limit_bal, misspayments_prev_6_months)\n",
            "(misspayments_prev_6_months ⟂ sex, age, education, limit_bal, marriage)\n"
          ]
        }
      ]
    },
    {
      "cell_type": "markdown",
      "source": [
        "We can see already that _limit-bal_ is independent to _misspayment-prev-6-months_ when default is not observed. Let's now formalise this a little by proving the below independence relationship:\n",
        "\n",
        "* P(_limit-bal_ AND _misspayments-prev-6-months_) = P(_limit-bal_) * P(_misspayments_prev_6_months_)\n",
        "\n",
        "* P(_limit-bal_ AND _misspayments-prev-6-months_ | _default_) != P(_limit-bal_ | _default_) * P(_misspayments-prev-6-months_ | _default_)\n"
      ],
      "metadata": {
        "id": "-FOT_pZcKrT6"
      }
    },
    {
      "cell_type": "code",
      "source": [
        "print(\"P(limit-bal AND misspayments-prev-6-months) = P(limit-bal) * P(misspayments_prev_6_months) is \" + \\\n",
        "      str(VariableElimination(model_easy).query([\"misspayments_prev_6_months\", \"limit_bal\"]) == \\\n",
        "      VariableElimination(model_easy).query([\"limit_bal\"]) * VariableElimination(model_easy).query([\"misspayments_prev_6_months\"])))\n",
        "\n",
        "print(\"P(limit-bal AND misspayments-prev-6-months | default) = P(limit-bal | default) * P(misspayments_prev_6_months | default) is \" + \\\n",
        "      str(VariableElimination(model_easy).query([\"misspayments_prev_6_months\", \"limit_bal\"], {\"default\":0}) == \\\n",
        "      VariableElimination(model_easy).query([\"limit_bal\"], {\"default\":0}) * VariableElimination(model_easy).query([\"misspayments_prev_6_months\"], {\"default\":0})))"
      ],
      "metadata": {
        "colab": {
          "base_uri": "https://localhost:8080/"
        },
        "id": "9knaHbYJIBCh",
        "outputId": "8b6f90b1-80c1-4871-8393-057e163628ca"
      },
      "execution_count": null,
      "outputs": [
        {
          "output_type": "stream",
          "name": "stdout",
          "text": [
            "P(limit-bal AND misspayments-prev-6-months) = P(limit-bal) * P(misspayments_prev_6_months) is True\n",
            "P(limit-bal AND misspayments-prev-6-months | default) = P(limit-bal | default) * P(misspayments_prev_6_months | default) is False\n"
          ]
        }
      ]
    },
    {
      "cell_type": "markdown",
      "source": [
        "Indeed we have that limit_bal is independent to misspayments_prev_6_months when default is not observed, while limit_bal is conditionally dependent to misspayments_prev_6_months when default is observed."
      ],
      "metadata": {
        "id": "B4Pg1SXkKTRL"
      }
    },
    {
      "cell_type": "markdown",
      "source": [
        "__Compactness__\n",
        "\n",
        "Which model is more compact?"
      ],
      "metadata": {
        "id": "hl-E0KbBNcgT"
      }
    },
    {
      "cell_type": "markdown",
      "source": [
        "_EASY_: Number of parameters required to describe CPDs = 1 + 1 + 3 + 2 + 144 + 6 + 28 = 185\n",
        "\n",
        "_MEDIUM_: Number of parameters required to describe CPDs > 185\n",
        "\n",
        "_HARD_: Number of parameters required to describe CPDs > 185\n",
        "\n",
        "_TREE SEARCH_: Number of parameters required to describe CPDs = 2 + 3 + 9 + 12 + \n",
        "4 + 24 + 7 = 61\n",
        "\n",
        "_HILL CLIMB_: Number of parameters required to describe CPDs > 61\n",
        "\n",
        "_CONSTRAINED HILL CLIMB_: Number of parameters required to describe CPDs > 61\n",
        "\n",
        "So we have that the Tree Search is the most compact network. "
      ],
      "metadata": {
        "id": "FKEU-ZIOOwuG"
      }
    },
    {
      "cell_type": "markdown",
      "source": [
        "# Queries\n",
        "* P(Default | age) \n",
        "* P(Default | age, marriage)\n",
        "* P(Default | age, marriage, education)\n",
        "* P(Education = graduate | default)\n",
        "* P(Default | Education = graduate, Misspayment = 5)\n",
        "* P(Default | Education = High school, Misspayment = 5)"
      ],
      "metadata": {
        "id": "xxgEaysEeF1P"
      }
    },
    {
      "cell_type": "markdown",
      "source": [
        "*TBC: Explain why we're using variable elimination (Optional, construct algorigthm instead of using class)*"
      ],
      "metadata": {
        "id": "GMicQTs6Zrge"
      }
    },
    {
      "cell_type": "code",
      "source": [
        "data_infer_easy = VariableElimination(model_easy)\n",
        "data_infer_medium = VariableElimination(model_medium)\n",
        "data_infer_hard = VariableElimination(model_hard)\n",
        "data_infer_tree_search = VariableElimination(tree_search_model)\n",
        "data_infer_hill_climb = VariableElimination(hill_climb_base_model)\n",
        "data_infer_constr_hill_climb = VariableElimination(constr_hill_climb_model)\n",
        "\n",
        "def display_inference_results(query_desc: str, query: list, evidence: dict):\n",
        "  print_bold(query_desc)\n",
        "  print_bold('EASY')\n",
        "  print(data_infer_easy.query(query, evidence))\n",
        "  print_bold('MEDIUM')\n",
        "  print(data_infer_medium.query(query, evidence))\n",
        "  print_bold('HARD')\n",
        "  print(data_infer_hard.query(query, evidence))\n",
        "  print_bold('TREE SEARCH')\n",
        "  print(data_infer_tree_search.query(query, evidence))\n",
        "  print_bold('HILL CLIMB')\n",
        "  print(data_infer_hill_climb.query(query, evidence))\n",
        "  print_bold('CONSTRAINED HILL CLIMB')\n",
        "  print(data_infer_constr_hill_climb.query(query, evidence))"
      ],
      "metadata": {
        "id": "sdTXt6N65YzN"
      },
      "execution_count": 28,
      "outputs": []
    },
    {
      "cell_type": "code",
      "source": [
        "query, evidence = [\"default\"], {\"age\": \"young\"}\n",
        "display_inference_results('Probability of default being young', query, evidence)"
      ],
      "metadata": {
        "colab": {
          "base_uri": "https://localhost:8080/"
        },
        "id": "BLa10v-HZfh1",
        "outputId": "60c09ed8-59d3-426d-d1e5-f8a9e2ee5b6a"
      },
      "execution_count": 29,
      "outputs": [
        {
          "output_type": "stream",
          "name": "stdout",
          "text": [
            "\u001b[1mProbability of default being young\u001b[0m\n",
            "\u001b[1mEASY\u001b[0m\n",
            "+------------+----------------+\n",
            "| default    |   phi(default) |\n",
            "+============+================+\n",
            "| default(0) |         0.7757 |\n",
            "+------------+----------------+\n",
            "| default(1) |         0.2243 |\n",
            "+------------+----------------+\n",
            "\u001b[1mMEDIUM\u001b[0m\n",
            "+------------+----------------+\n",
            "| default    |   phi(default) |\n",
            "+============+================+\n",
            "| default(0) |         0.7898 |\n",
            "+------------+----------------+\n",
            "| default(1) |         0.2102 |\n",
            "+------------+----------------+\n",
            "\u001b[1mHARD\u001b[0m\n",
            "+------------+----------------+\n",
            "| default    |   phi(default) |\n",
            "+============+================+\n",
            "| default(0) |         0.7894 |\n",
            "+------------+----------------+\n",
            "| default(1) |         0.2106 |\n",
            "+------------+----------------+\n",
            "\u001b[1mTREE SEARCH\u001b[0m\n",
            "+------------+----------------+\n",
            "| default    |   phi(default) |\n",
            "+============+================+\n",
            "| default(0) |         0.7804 |\n",
            "+------------+----------------+\n",
            "| default(1) |         0.2196 |\n",
            "+------------+----------------+\n",
            "\u001b[1mHILL CLIMB\u001b[0m\n",
            "+------------+----------------+\n",
            "| default    |   phi(default) |\n",
            "+============+================+\n",
            "| default(0) |         0.7788 |\n",
            "+------------+----------------+\n",
            "| default(1) |         0.2212 |\n",
            "+------------+----------------+\n",
            "\u001b[1mCONSTRAINED HILL CLIMB\u001b[0m\n",
            "+------------+----------------+\n",
            "| default    |   phi(default) |\n",
            "+============+================+\n",
            "| default(0) |         0.7711 |\n",
            "+------------+----------------+\n",
            "| default(1) |         0.2289 |\n",
            "+------------+----------------+\n"
          ]
        }
      ]
    },
    {
      "cell_type": "code",
      "source": [
        "query, evidence = [\"default\"], {\"age\": \"mid_aged\"}\n",
        "display_inference_results('Probability of default being mid aged', query, evidence)"
      ],
      "metadata": {
        "colab": {
          "base_uri": "https://localhost:8080/"
        },
        "id": "mxh2n8QbZdnf",
        "outputId": "2e273c96-208e-4450-f29a-65ec152232ed"
      },
      "execution_count": 30,
      "outputs": [
        {
          "output_type": "stream",
          "name": "stdout",
          "text": [
            "\u001b[1mProbability of default being mid aged\u001b[0m\n",
            "\u001b[1mEASY\u001b[0m\n",
            "+------------+----------------+\n",
            "| default    |   phi(default) |\n",
            "+============+================+\n",
            "| default(0) |         0.7818 |\n",
            "+------------+----------------+\n",
            "| default(1) |         0.2182 |\n",
            "+------------+----------------+\n",
            "\u001b[1mMEDIUM\u001b[0m\n",
            "+------------+----------------+\n",
            "| default    |   phi(default) |\n",
            "+============+================+\n",
            "| default(0) |         0.7650 |\n",
            "+------------+----------------+\n",
            "| default(1) |         0.2350 |\n",
            "+------------+----------------+\n",
            "\u001b[1mHARD\u001b[0m\n",
            "+------------+----------------+\n",
            "| default    |   phi(default) |\n",
            "+============+================+\n",
            "| default(0) |         0.7665 |\n",
            "+------------+----------------+\n",
            "| default(1) |         0.2335 |\n",
            "+------------+----------------+\n",
            "\u001b[1mTREE SEARCH\u001b[0m\n",
            "+------------+----------------+\n",
            "| default    |   phi(default) |\n",
            "+============+================+\n",
            "| default(0) |         0.7770 |\n",
            "+------------+----------------+\n",
            "| default(1) |         0.2230 |\n",
            "+------------+----------------+\n",
            "\u001b[1mHILL CLIMB\u001b[0m\n",
            "+------------+----------------+\n",
            "| default    |   phi(default) |\n",
            "+============+================+\n",
            "| default(0) |         0.7787 |\n",
            "+------------+----------------+\n",
            "| default(1) |         0.2213 |\n",
            "+------------+----------------+\n",
            "\u001b[1mCONSTRAINED HILL CLIMB\u001b[0m\n",
            "+------------+----------------+\n",
            "| default    |   phi(default) |\n",
            "+============+================+\n",
            "| default(0) |         0.7872 |\n",
            "+------------+----------------+\n",
            "| default(1) |         0.2128 |\n",
            "+------------+----------------+\n"
          ]
        }
      ]
    },
    {
      "cell_type": "code",
      "source": [
        "query, evidence = [\"default\"], {\"age\": \"senior\"}\n",
        "display_inference_results('Probability of default being mid senior', query, evidence)"
      ],
      "metadata": {
        "colab": {
          "base_uri": "https://localhost:8080/"
        },
        "id": "u2JqHMtJZb6N",
        "outputId": "4eddd865-3317-4564-ff8c-cbea8c259d6f"
      },
      "execution_count": 31,
      "outputs": [
        {
          "output_type": "stream",
          "name": "stdout",
          "text": [
            "\u001b[1mProbability of default being mid senior\u001b[0m\n",
            "\u001b[1mEASY\u001b[0m\n",
            "+------------+----------------+\n",
            "| default    |   phi(default) |\n",
            "+============+================+\n",
            "| default(0) |         0.7810 |\n",
            "+------------+----------------+\n",
            "| default(1) |         0.2190 |\n",
            "+------------+----------------+\n",
            "\u001b[1mMEDIUM\u001b[0m\n",
            "+------------+----------------+\n",
            "| default    |   phi(default) |\n",
            "+============+================+\n",
            "| default(0) |         0.7512 |\n",
            "+------------+----------------+\n",
            "| default(1) |         0.2488 |\n",
            "+------------+----------------+\n",
            "\u001b[1mHARD\u001b[0m\n",
            "+------------+----------------+\n",
            "| default    |   phi(default) |\n",
            "+============+================+\n",
            "| default(0) |         0.7370 |\n",
            "+------------+----------------+\n",
            "| default(1) |         0.2630 |\n",
            "+------------+----------------+\n",
            "\u001b[1mTREE SEARCH\u001b[0m\n",
            "+------------+----------------+\n",
            "| default    |   phi(default) |\n",
            "+============+================+\n",
            "| default(0) |         0.7750 |\n",
            "+------------+----------------+\n",
            "| default(1) |         0.2250 |\n",
            "+------------+----------------+\n",
            "\u001b[1mHILL CLIMB\u001b[0m\n",
            "+------------+----------------+\n",
            "| default    |   phi(default) |\n",
            "+============+================+\n",
            "| default(0) |         0.7749 |\n",
            "+------------+----------------+\n",
            "| default(1) |         0.2251 |\n",
            "+------------+----------------+\n",
            "\u001b[1mCONSTRAINED HILL CLIMB\u001b[0m\n",
            "+------------+----------------+\n",
            "| default    |   phi(default) |\n",
            "+============+================+\n",
            "| default(0) |         0.7887 |\n",
            "+------------+----------------+\n",
            "| default(1) |         0.2113 |\n",
            "+------------+----------------+\n"
          ]
        }
      ]
    },
    {
      "cell_type": "code",
      "source": [
        "query, evidence = [\"default\"], {\"age\": \"mid_aged\", \"marriage\": \"not_married\"}\n",
        "display_inference_results('Probability of default being mid aged and married', query, evidence)"
      ],
      "metadata": {
        "colab": {
          "base_uri": "https://localhost:8080/"
        },
        "id": "OTYZxd1EZaTo",
        "outputId": "661afba7-4576-4afd-96d1-fc37f2db69e8"
      },
      "execution_count": 32,
      "outputs": [
        {
          "output_type": "stream",
          "name": "stdout",
          "text": [
            "\u001b[1mProbability of default being mid aged and married\u001b[0m\n",
            "\u001b[1mEASY\u001b[0m\n",
            "+------------+----------------+\n",
            "| default    |   phi(default) |\n",
            "+============+================+\n",
            "| default(0) |         0.7796 |\n",
            "+------------+----------------+\n",
            "| default(1) |         0.2204 |\n",
            "+------------+----------------+\n",
            "\u001b[1mMEDIUM\u001b[0m\n",
            "+------------+----------------+\n",
            "| default    |   phi(default) |\n",
            "+============+================+\n",
            "| default(0) |         0.7579 |\n",
            "+------------+----------------+\n",
            "| default(1) |         0.2421 |\n",
            "+------------+----------------+\n",
            "\u001b[1mHARD\u001b[0m\n",
            "+------------+----------------+\n",
            "| default    |   phi(default) |\n",
            "+============+================+\n",
            "| default(0) |         0.7680 |\n",
            "+------------+----------------+\n",
            "| default(1) |         0.2320 |\n",
            "+------------+----------------+\n",
            "\u001b[1mTREE SEARCH\u001b[0m\n",
            "+------------+----------------+\n",
            "| default    |   phi(default) |\n",
            "+============+================+\n",
            "| default(0) |         0.7770 |\n",
            "+------------+----------------+\n",
            "| default(1) |         0.2230 |\n",
            "+------------+----------------+\n",
            "\u001b[1mHILL CLIMB\u001b[0m\n",
            "+------------+----------------+\n",
            "| default    |   phi(default) |\n",
            "+============+================+\n",
            "| default(0) |         0.7962 |\n",
            "+------------+----------------+\n",
            "| default(1) |         0.2038 |\n",
            "+------------+----------------+\n",
            "\u001b[1mCONSTRAINED HILL CLIMB\u001b[0m\n",
            "+------------+----------------+\n",
            "| default    |   phi(default) |\n",
            "+============+================+\n",
            "| default(0) |         0.7793 |\n",
            "+------------+----------------+\n",
            "| default(1) |         0.2207 |\n",
            "+------------+----------------+\n"
          ]
        }
      ]
    },
    {
      "cell_type": "code",
      "source": [
        "query, evidence = [\"default\"], {\"age\": \"mid_aged\", \"marriage\": \"married\", \"education\": \"graduate\"}\n",
        "display_inference_results('Probability of default being mid aged and married and holding a graduate degree', query, evidence)"
      ],
      "metadata": {
        "colab": {
          "base_uri": "https://localhost:8080/"
        },
        "id": "qEaQVqlNZXzu",
        "outputId": "03e1ebdc-a09c-484b-c098-3456f77e0c25"
      },
      "execution_count": 33,
      "outputs": [
        {
          "output_type": "stream",
          "name": "stdout",
          "text": [
            "\u001b[1mProbability of default being mid aged and married and holding a graduate degree\u001b[0m\n",
            "\u001b[1mEASY\u001b[0m\n",
            "+------------+----------------+\n",
            "| default    |   phi(default) |\n",
            "+============+================+\n",
            "| default(0) |         0.7970 |\n",
            "+------------+----------------+\n",
            "| default(1) |         0.2030 |\n",
            "+------------+----------------+\n",
            "\u001b[1mMEDIUM\u001b[0m\n",
            "+------------+----------------+\n",
            "| default    |   phi(default) |\n",
            "+============+================+\n",
            "| default(0) |         0.7847 |\n",
            "+------------+----------------+\n",
            "| default(1) |         0.2153 |\n",
            "+------------+----------------+\n",
            "\u001b[1mHARD\u001b[0m\n",
            "+------------+----------------+\n",
            "| default    |   phi(default) |\n",
            "+============+================+\n",
            "| default(0) |         0.7794 |\n",
            "+------------+----------------+\n",
            "| default(1) |         0.2206 |\n",
            "+------------+----------------+\n",
            "\u001b[1mTREE SEARCH\u001b[0m\n",
            "+------------+----------------+\n",
            "| default    |   phi(default) |\n",
            "+============+================+\n",
            "| default(0) |         0.7948 |\n",
            "+------------+----------------+\n",
            "| default(1) |         0.2052 |\n",
            "+------------+----------------+\n",
            "\u001b[1mHILL CLIMB\u001b[0m\n",
            "+------------+----------------+\n",
            "| default    |   phi(default) |\n",
            "+============+================+\n",
            "| default(0) |         0.8095 |\n",
            "+------------+----------------+\n",
            "| default(1) |         0.1905 |\n",
            "+------------+----------------+\n",
            "\u001b[1mCONSTRAINED HILL CLIMB\u001b[0m\n",
            "+------------+----------------+\n",
            "| default    |   phi(default) |\n",
            "+============+================+\n",
            "| default(0) |         0.8265 |\n",
            "+------------+----------------+\n",
            "| default(1) |         0.1735 |\n",
            "+------------+----------------+\n"
          ]
        }
      ]
    },
    {
      "cell_type": "code",
      "source": [
        "query, evidence = [\"education\"], {\"default\": 1}\n",
        "display_inference_results('Probabilities of holding education titles having had the default', query, evidence)"
      ],
      "metadata": {
        "colab": {
          "base_uri": "https://localhost:8080/"
        },
        "id": "FYPGZ5IkZXK5",
        "outputId": "968e9c4f-3eca-4207-b40e-a7ea586f55ad"
      },
      "execution_count": 34,
      "outputs": [
        {
          "output_type": "stream",
          "name": "stdout",
          "text": [
            "\u001b[1mProbabilities of holding education titles having had the default\u001b[0m\n",
            "\u001b[1mEASY\u001b[0m\n",
            "+------------------------+------------------+\n",
            "| education              |   phi(education) |\n",
            "+========================+==================+\n",
            "| education(graduate)    |           0.3334 |\n",
            "+------------------------+------------------+\n",
            "| education(high_school) |           0.1712 |\n",
            "+------------------------+------------------+\n",
            "| education(others)      |           0.0158 |\n",
            "+------------------------+------------------+\n",
            "| education(university)  |           0.4796 |\n",
            "+------------------------+------------------+\n",
            "\u001b[1mMEDIUM\u001b[0m\n",
            "+------------------------+------------------+\n",
            "| education              |   phi(education) |\n",
            "+========================+==================+\n",
            "| education(graduate)    |           0.3308 |\n",
            "+------------------------+------------------+\n",
            "| education(high_school) |           0.1745 |\n",
            "+------------------------+------------------+\n",
            "| education(others)      |           0.0158 |\n",
            "+------------------------+------------------+\n",
            "| education(university)  |           0.4789 |\n",
            "+------------------------+------------------+\n",
            "\u001b[1mHARD\u001b[0m\n",
            "+------------------------+------------------+\n",
            "| education              |   phi(education) |\n",
            "+========================+==================+\n",
            "| education(graduate)    |           0.3339 |\n",
            "+------------------------+------------------+\n",
            "| education(high_school) |           0.1659 |\n",
            "+------------------------+------------------+\n",
            "| education(others)      |           0.0104 |\n",
            "+------------------------+------------------+\n",
            "| education(university)  |           0.4898 |\n",
            "+------------------------+------------------+\n",
            "\u001b[1mTREE SEARCH\u001b[0m\n",
            "+------------------------+------------------+\n",
            "| education              |   phi(education) |\n",
            "+========================+==================+\n",
            "| education(graduate)    |           0.3267 |\n",
            "+------------------------+------------------+\n",
            "| education(high_school) |           0.1743 |\n",
            "+------------------------+------------------+\n",
            "| education(others)      |           0.0155 |\n",
            "+------------------------+------------------+\n",
            "| education(university)  |           0.4835 |\n",
            "+------------------------+------------------+\n",
            "\u001b[1mHILL CLIMB\u001b[0m\n",
            "+------------------------+------------------+\n",
            "| education              |   phi(education) |\n",
            "+========================+==================+\n",
            "| education(graduate)    |           0.3045 |\n",
            "+------------------------+------------------+\n",
            "| education(high_school) |           0.1853 |\n",
            "+------------------------+------------------+\n",
            "| education(others)      |           0.0152 |\n",
            "+------------------------+------------------+\n",
            "| education(university)  |           0.4950 |\n",
            "+------------------------+------------------+\n",
            "\u001b[1mCONSTRAINED HILL CLIMB\u001b[0m\n",
            "+------------------------+------------------+\n",
            "| education              |   phi(education) |\n",
            "+========================+==================+\n",
            "| education(graduate)    |           0.3121 |\n",
            "+------------------------+------------------+\n",
            "| education(high_school) |           0.1809 |\n",
            "+------------------------+------------------+\n",
            "| education(others)      |           0.0152 |\n",
            "+------------------------+------------------+\n",
            "| education(university)  |           0.4917 |\n",
            "+------------------------+------------------+\n"
          ]
        }
      ]
    },
    {
      "cell_type": "code",
      "source": [
        "query, evidence = [\"default\"], {\"education\": \"graduate\", \"misspayments_prev_6_months\": 5}\n",
        "display_inference_results('Probability of default holding a graduate degree and having 5 misspayments in the previous 6 months', query, evidence)"
      ],
      "metadata": {
        "colab": {
          "base_uri": "https://localhost:8080/"
        },
        "id": "pAZCw-W-ZTOd",
        "outputId": "ee3040e6-61bc-47c4-c950-880bfe3a9d5b"
      },
      "execution_count": 35,
      "outputs": [
        {
          "output_type": "stream",
          "name": "stdout",
          "text": [
            "\u001b[1mProbability of default holding a graduate degree and having 5 misspayments in the previous 6 months\u001b[0m\n",
            "\u001b[1mEASY\u001b[0m\n",
            "+------------+----------------+\n",
            "| default    |   phi(default) |\n",
            "+============+================+\n",
            "| default(0) |         0.4177 |\n",
            "+------------+----------------+\n",
            "| default(1) |         0.5823 |\n",
            "+------------+----------------+\n",
            "\u001b[1mMEDIUM\u001b[0m\n",
            "+------------+----------------+\n",
            "| default    |   phi(default) |\n",
            "+============+================+\n",
            "| default(0) |         0.4228 |\n",
            "+------------+----------------+\n",
            "| default(1) |         0.5772 |\n",
            "+------------+----------------+\n",
            "\u001b[1mHARD\u001b[0m\n",
            "+------------+----------------+\n",
            "| default    |   phi(default) |\n",
            "+============+================+\n",
            "| default(0) |         0.5804 |\n",
            "+------------+----------------+\n",
            "| default(1) |         0.4196 |\n",
            "+------------+----------------+\n",
            "\u001b[1mTREE SEARCH\u001b[0m\n",
            "+------------+----------------+\n",
            "| default    |   phi(default) |\n",
            "+============+================+\n",
            "| default(0) |         0.4011 |\n",
            "+------------+----------------+\n",
            "| default(1) |         0.5989 |\n",
            "+------------+----------------+\n",
            "\u001b[1mHILL CLIMB\u001b[0m\n",
            "+------------+----------------+\n",
            "| default    |   phi(default) |\n",
            "+============+================+\n",
            "| default(0) |         0.4116 |\n",
            "+------------+----------------+\n",
            "| default(1) |         0.5884 |\n",
            "+------------+----------------+\n",
            "\u001b[1mCONSTRAINED HILL CLIMB\u001b[0m\n",
            "+------------+----------------+\n",
            "| default    |   phi(default) |\n",
            "+============+================+\n",
            "| default(0) |         0.4025 |\n",
            "+------------+----------------+\n",
            "| default(1) |         0.5975 |\n",
            "+------------+----------------+\n"
          ]
        }
      ]
    },
    {
      "cell_type": "code",
      "source": [
        "query, evidence = [\"default\"], {\"education\": \"high_school\", \"misspayments_prev_6_months\": 5}\n",
        "display_inference_results('Probability of default holding an high school diploma, and having 5 misspayments in the previous 6 months', query, evidence)"
      ],
      "metadata": {
        "colab": {
          "base_uri": "https://localhost:8080/"
        },
        "id": "p-Zd_t8rZQis",
        "outputId": "72f4cfa1-72a3-4578-f804-80da86c29208"
      },
      "execution_count": 36,
      "outputs": [
        {
          "output_type": "stream",
          "name": "stdout",
          "text": [
            "\u001b[1mProbability of default holding an high school diploma, and having 5 misspayments in the previous 6 months\u001b[0m\n",
            "\u001b[1mEASY\u001b[0m\n",
            "+------------+----------------+\n",
            "| default    |   phi(default) |\n",
            "+============+================+\n",
            "| default(0) |         0.4002 |\n",
            "+------------+----------------+\n",
            "| default(1) |         0.5998 |\n",
            "+------------+----------------+\n",
            "\u001b[1mMEDIUM\u001b[0m\n",
            "+------------+----------------+\n",
            "| default    |   phi(default) |\n",
            "+============+================+\n",
            "| default(0) |         0.4093 |\n",
            "+------------+----------------+\n",
            "| default(1) |         0.5907 |\n",
            "+------------+----------------+\n",
            "\u001b[1mHARD\u001b[0m\n",
            "+------------+----------------+\n",
            "| default    |   phi(default) |\n",
            "+============+================+\n",
            "| default(0) |         0.3997 |\n",
            "+------------+----------------+\n",
            "| default(1) |         0.6003 |\n",
            "+------------+----------------+\n",
            "\u001b[1mTREE SEARCH\u001b[0m\n",
            "+------------+----------------+\n",
            "| default    |   phi(default) |\n",
            "+============+================+\n",
            "| default(0) |         0.4011 |\n",
            "+------------+----------------+\n",
            "| default(1) |         0.5989 |\n",
            "+------------+----------------+\n",
            "\u001b[1mHILL CLIMB\u001b[0m\n",
            "+------------+----------------+\n",
            "| default    |   phi(default) |\n",
            "+============+================+\n",
            "| default(0) |         0.3925 |\n",
            "+------------+----------------+\n",
            "| default(1) |         0.6075 |\n",
            "+------------+----------------+\n",
            "\u001b[1mCONSTRAINED HILL CLIMB\u001b[0m\n",
            "+------------+----------------+\n",
            "| default    |   phi(default) |\n",
            "+============+================+\n",
            "| default(0) |         0.4005 |\n",
            "+------------+----------------+\n",
            "| default(1) |         0.5995 |\n",
            "+------------+----------------+\n"
          ]
        }
      ]
    },
    {
      "cell_type": "code",
      "source": [
        "query, evidence = [\"default\"], {\"limit_bal\": \"medium_high\", \"misspayments_prev_6_months\": 5}\n",
        "display_inference_results('Probability of default having a medium-high balance limit, and having 5 misspayments in the previous 6 months', query, evidence)"
      ],
      "metadata": {
        "colab": {
          "base_uri": "https://localhost:8080/"
        },
        "id": "bk8jD_ILZOcT",
        "outputId": "89d36016-0e42-4086-9c2d-cbcb1a709a31"
      },
      "execution_count": 37,
      "outputs": [
        {
          "output_type": "stream",
          "name": "stdout",
          "text": [
            "\u001b[1mProbability of default having a medium-high balance limit, and having 5 misspayments in the previous 6 months\u001b[0m\n",
            "\u001b[1mEASY\u001b[0m\n",
            "+------------+----------------+\n",
            "| default    |   phi(default) |\n",
            "+============+================+\n",
            "| default(0) |         0.3690 |\n",
            "+------------+----------------+\n",
            "| default(1) |         0.6310 |\n",
            "+------------+----------------+\n",
            "\u001b[1mMEDIUM\u001b[0m\n",
            "+------------+----------------+\n",
            "| default    |   phi(default) |\n",
            "+============+================+\n",
            "| default(0) |         0.3812 |\n",
            "+------------+----------------+\n",
            "| default(1) |         0.6188 |\n",
            "+------------+----------------+\n",
            "\u001b[1mHARD\u001b[0m\n",
            "+------------+----------------+\n",
            "| default    |   phi(default) |\n",
            "+============+================+\n",
            "| default(0) |         0.4165 |\n",
            "+------------+----------------+\n",
            "| default(1) |         0.5835 |\n",
            "+------------+----------------+\n",
            "\u001b[1mTREE SEARCH\u001b[0m\n",
            "+------------+----------------+\n",
            "| default    |   phi(default) |\n",
            "+============+================+\n",
            "| default(0) |         0.4011 |\n",
            "+------------+----------------+\n",
            "| default(1) |         0.5989 |\n",
            "+------------+----------------+\n",
            "\u001b[1mHILL CLIMB\u001b[0m\n",
            "+------------+----------------+\n",
            "| default    |   phi(default) |\n",
            "+============+================+\n",
            "| default(0) |         0.3690 |\n",
            "+------------+----------------+\n",
            "| default(1) |         0.6310 |\n",
            "+------------+----------------+\n",
            "\u001b[1mCONSTRAINED HILL CLIMB\u001b[0m\n",
            "+------------+----------------+\n",
            "| default    |   phi(default) |\n",
            "+============+================+\n",
            "| default(0) |         0.3690 |\n",
            "+------------+----------------+\n",
            "| default(1) |         0.6310 |\n",
            "+------------+----------------+\n"
          ]
        }
      ]
    },
    {
      "cell_type": "code",
      "source": [
        "query, evidence = [\"default\"], {\"sex\": \"male\"}\n",
        "display_inference_results('Probability of default given sex', query, evidence)"
      ],
      "metadata": {
        "colab": {
          "base_uri": "https://localhost:8080/"
        },
        "id": "i0S6VMIqhZNl",
        "outputId": "055beb07-d589-4507-a0d6-991042b6643a"
      },
      "execution_count": 38,
      "outputs": [
        {
          "output_type": "stream",
          "name": "stdout",
          "text": [
            "\u001b[1mProbability of default given sex\u001b[0m\n",
            "\u001b[1mEASY\u001b[0m\n",
            "+------------+----------------+\n",
            "| default    |   phi(default) |\n",
            "+============+================+\n",
            "| default(0) |         0.7754 |\n",
            "+------------+----------------+\n",
            "| default(1) |         0.2246 |\n",
            "+------------+----------------+\n",
            "\u001b[1mMEDIUM\u001b[0m\n",
            "+------------+----------------+\n",
            "| default    |   phi(default) |\n",
            "+============+================+\n",
            "| default(0) |         0.7752 |\n",
            "+------------+----------------+\n",
            "| default(1) |         0.2248 |\n",
            "+------------+----------------+\n",
            "\u001b[1mHARD\u001b[0m\n",
            "+------------+----------------+\n",
            "| default    |   phi(default) |\n",
            "+============+================+\n",
            "| default(0) |         0.7754 |\n",
            "+------------+----------------+\n",
            "| default(1) |         0.2246 |\n",
            "+------------+----------------+\n",
            "\u001b[1mTREE SEARCH\u001b[0m\n",
            "+------------+----------------+\n",
            "| default    |   phi(default) |\n",
            "+============+================+\n",
            "| default(0) |         0.7751 |\n",
            "+------------+----------------+\n",
            "| default(1) |         0.2249 |\n",
            "+------------+----------------+\n",
            "\u001b[1mHILL CLIMB\u001b[0m\n",
            "+------------+----------------+\n",
            "| default    |   phi(default) |\n",
            "+============+================+\n",
            "| default(0) |         0.7738 |\n",
            "+------------+----------------+\n",
            "| default(1) |         0.2262 |\n",
            "+------------+----------------+\n",
            "\u001b[1mCONSTRAINED HILL CLIMB\u001b[0m\n",
            "+------------+----------------+\n",
            "| default    |   phi(default) |\n",
            "+============+================+\n",
            "| default(0) |         0.7791 |\n",
            "+------------+----------------+\n",
            "| default(1) |         0.2209 |\n",
            "+------------+----------------+\n"
          ]
        }
      ]
    },
    {
      "cell_type": "code",
      "source": [
        "query, evidence = [\"default\"], {\"education\": \"high_school\", \"misspayments_prev_6_months\": 6, 'age': 'young', 'sex': 'female', \\\n",
        "                                'marriage': 'not_married', 'limit_bal': 'low'}\n",
        "display_inference_results('Probability of default given everything else', query, evidence)"
      ],
      "metadata": {
        "colab": {
          "base_uri": "https://localhost:8080/"
        },
        "id": "TTH4jvOSjoI9",
        "outputId": "573d4ff3-dae3-42b9-9eb8-772989b14cae"
      },
      "execution_count": 39,
      "outputs": [
        {
          "output_type": "stream",
          "name": "stdout",
          "text": [
            "\u001b[1mProbability of default given everything else\u001b[0m\n",
            "\u001b[1mEASY\u001b[0m\n",
            "+------------+----------------+\n",
            "| default    |   phi(default) |\n",
            "+============+================+\n",
            "| default(0) |         0.3154 |\n",
            "+------------+----------------+\n",
            "| default(1) |         0.6846 |\n",
            "+------------+----------------+\n",
            "\u001b[1mMEDIUM\u001b[0m\n",
            "+------------+----------------+\n",
            "| default    |   phi(default) |\n",
            "+============+================+\n",
            "| default(0) |         0.3719 |\n",
            "+------------+----------------+\n",
            "| default(1) |         0.6281 |\n",
            "+------------+----------------+\n",
            "\u001b[1mHARD\u001b[0m\n",
            "+------------+----------------+\n",
            "| default    |   phi(default) |\n",
            "+============+================+\n",
            "| default(0) |         0.3182 |\n",
            "+------------+----------------+\n",
            "| default(1) |         0.6818 |\n",
            "+------------+----------------+\n",
            "\u001b[1mTREE SEARCH\u001b[0m\n",
            "+------------+----------------+\n",
            "| default    |   phi(default) |\n",
            "+============+================+\n",
            "| default(0) |         0.3030 |\n",
            "+------------+----------------+\n",
            "| default(1) |         0.6970 |\n",
            "+------------+----------------+\n",
            "\u001b[1mHILL CLIMB\u001b[0m\n",
            "+------------+----------------+\n",
            "| default    |   phi(default) |\n",
            "+============+================+\n",
            "| default(0) |         0.3379 |\n",
            "+------------+----------------+\n",
            "| default(1) |         0.6621 |\n",
            "+------------+----------------+\n",
            "\u001b[1mCONSTRAINED HILL CLIMB\u001b[0m\n",
            "+------------+----------------+\n",
            "| default    |   phi(default) |\n",
            "+============+================+\n",
            "| default(0) |         0.3154 |\n",
            "+------------+----------------+\n",
            "| default(1) |         0.6846 |\n",
            "+------------+----------------+\n"
          ]
        }
      ]
    },
    {
      "cell_type": "markdown",
      "source": [
        "# Questions"
      ],
      "metadata": {
        "id": "_806ays3fD_9"
      }
    },
    {
      "cell_type": "markdown",
      "source": [
        "Let's now perform the same queries across the different networks and comment the results."
      ],
      "metadata": {
        "id": "upRC8vmz1hYc"
      }
    },
    {
      "cell_type": "code",
      "source": [
        "query, evidence = [\"default\"], {\"education\": \"high_school\", \"misspayments_prev_6_months\": 6, 'age': 'young', 'sex': 'female', \\\n",
        "                                'marriage': 'not_married', 'limit_bal': 'low'}\n",
        "display_inference_results('Probability of default given everything else', query, evidence)"
      ],
      "metadata": {
        "id": "jGAm4r2ye5FP",
        "colab": {
          "base_uri": "https://localhost:8080/"
        },
        "outputId": "262f380d-5cce-499e-d5c0-dd810a3b34f4"
      },
      "execution_count": 40,
      "outputs": [
        {
          "output_type": "stream",
          "name": "stdout",
          "text": [
            "\u001b[1mProbability of default given everything else\u001b[0m\n",
            "\u001b[1mEASY\u001b[0m\n",
            "+------------+----------------+\n",
            "| default    |   phi(default) |\n",
            "+============+================+\n",
            "| default(0) |         0.3154 |\n",
            "+------------+----------------+\n",
            "| default(1) |         0.6846 |\n",
            "+------------+----------------+\n",
            "\u001b[1mMEDIUM\u001b[0m\n",
            "+------------+----------------+\n",
            "| default    |   phi(default) |\n",
            "+============+================+\n",
            "| default(0) |         0.3719 |\n",
            "+------------+----------------+\n",
            "| default(1) |         0.6281 |\n",
            "+------------+----------------+\n",
            "\u001b[1mHARD\u001b[0m\n",
            "+------------+----------------+\n",
            "| default    |   phi(default) |\n",
            "+============+================+\n",
            "| default(0) |         0.3182 |\n",
            "+------------+----------------+\n",
            "| default(1) |         0.6818 |\n",
            "+------------+----------------+\n",
            "\u001b[1mTREE SEARCH\u001b[0m\n",
            "+------------+----------------+\n",
            "| default    |   phi(default) |\n",
            "+============+================+\n",
            "| default(0) |         0.3030 |\n",
            "+------------+----------------+\n",
            "| default(1) |         0.6970 |\n",
            "+------------+----------------+\n",
            "\u001b[1mHILL CLIMB\u001b[0m\n",
            "+------------+----------------+\n",
            "| default    |   phi(default) |\n",
            "+============+================+\n",
            "| default(0) |         0.3379 |\n",
            "+------------+----------------+\n",
            "| default(1) |         0.6621 |\n",
            "+------------+----------------+\n",
            "\u001b[1mCONSTRAINED HILL CLIMB\u001b[0m\n",
            "+------------+----------------+\n",
            "| default    |   phi(default) |\n",
            "+============+================+\n",
            "| default(0) |         0.3154 |\n",
            "+------------+----------------+\n",
            "| default(1) |         0.6846 |\n",
            "+------------+----------------+\n"
          ]
        }
      ]
    },
    {
      "cell_type": "markdown",
      "source": [
        "# Quantitative model evalution\n",
        "So far, the models have been evaluated only in a qualitative manner. In particular a domain-expert can ragionevolemnte tell if the results are good enough. \n",
        "The next step is to evaluate the model quantitatively. Since the dataset was created for the classification task, we have leveraged the test set to obtain accuracy, F1/F2, precision, and recall metrics."
      ],
      "metadata": {
        "id": "6Lk2WwkKkf9n"
      }
    },
    {
      "cell_type": "code",
      "source": [
        "def predict(data_point: dict, inference_object: VariableElimination, query: str) -> tuple[float, float]:\n",
        "  result = inference_object.query(variables=['default'], evidence=dict(data_point))\n",
        "  values = result.state_names[query]\n",
        "  default = np.argmax(result.values)\n",
        "  return default, result.values # outcome, classes probs\n",
        "\n",
        "def predict_batch(batch: pd.DataFrame, inference_object: VariableElimination, query: str) -> list[int]:\n",
        "  return [predict(data_point[1], inference_object, query)[0] for data_point in batch.iterrows()]"
      ],
      "metadata": {
        "id": "kFAqxfoKkerY"
      },
      "execution_count": 43,
      "outputs": []
    },
    {
      "cell_type": "code",
      "source": [
        "preds = predict_batch(X_test, data_infer_easy, query = 'default')\n",
        "print_bold('EASY')\n",
        "print(f'Accuracy {accuracy_score(y_test, preds):.2%}')\n",
        "print(f'Recall: {recall_score(y_test, preds):.2%}')\n",
        "print(f'F1-Score {f1_score(y_test, preds):.2%}')\n",
        "\n",
        "preds = predict_batch(X_test, data_infer_medium, query = 'default')\n",
        "print_bold('MEDIUM')\n",
        "print(f'Accuracy: {accuracy_score(y_test, preds):.2%}')\n",
        "print(f'Recall: {recall_score(y_test, preds):.2%}')\n",
        "print(f'F1-Score {f1_score(y_test, preds):.2%}')\n",
        "\n",
        "preds = predict_batch(X_test, data_infer_hard, query = 'default')\n",
        "print_bold('HARD')\n",
        "print(f'Accuracy: {accuracy_score(y_test, preds):.2%}')\n",
        "print(f'Recall: {recall_score(y_test, preds):.2%}')\n",
        "print(f'F1-Score {f1_score(y_test, preds):.2%}')\n",
        "\n",
        "preds = predict_batch(X_test, data_infer_tree_search, query = 'default')\n",
        "print_bold('TREE SEARCH')\n",
        "print(f'Accuracy: {accuracy_score(y_test, preds):.2%}')\n",
        "print(f'Recall: {recall_score(y_test, preds):.2%}')\n",
        "print(f'F1-Score {f1_score(y_test, preds):.2%}')\n",
        "\n",
        "preds = predict_batch(X_test, data_infer_hill_climb, query = 'default')\n",
        "print_bold('HILL CLIMB')\n",
        "print(f'Accuracy: {accuracy_score(y_test, preds):.2%}')\n",
        "print(f'Recall: {recall_score(y_test, preds):.2%}')\n",
        "print(f'F1-Score {f1_score(y_test, preds):.2%}')\n",
        "\n",
        "preds = predict_batch(X_test, data_infer_constr_hill_climb, query = 'default')\n",
        "print_bold('CONSTRAINED HILL CLIMB')\n",
        "print(f'Accuracy: {accuracy_score(y_test, preds):.2%}')\n",
        "print(f'Recall: {recall_score(y_test, preds):.2%}')\n",
        "print(f'F1-Score {f1_score(y_test, preds):.2%}')"
      ],
      "metadata": {
        "colab": {
          "base_uri": "https://localhost:8080/"
        },
        "id": "gUhFwJG-v0x5",
        "outputId": "fc3bb2ac-4752-490b-a49e-229af5b31df8"
      },
      "execution_count": 44,
      "outputs": [
        {
          "output_type": "stream",
          "name": "stdout",
          "text": [
            "\u001b[1mEASY\u001b[0m\n",
            "Accuracy 80.23%\n",
            "Recall: 28.26%\n",
            "F1-Score 38.74%\n",
            "\u001b[1mMEDIUM\u001b[0m\n",
            "Accuracy: 80.20%\n",
            "Recall: 29.84%\n",
            "F1-Score 40.00%\n",
            "\u001b[1mHARD\u001b[0m\n",
            "Accuracy: 79.82%\n",
            "Recall: 27.05%\n",
            "F1-Score 37.22%\n",
            "\u001b[1mTREE SEARCH\u001b[0m\n",
            "Accuracy: 80.45%\n",
            "Recall: 33.84%\n",
            "F1-Score 43.36%\n",
            "\u001b[1mHILL CLIMB\u001b[0m\n",
            "Accuracy: 80.52%\n",
            "Recall: 30.14%\n",
            "F1-Score 40.63%\n",
            "\u001b[1mCONSTRAINED HILL CLIMB\u001b[0m\n",
            "Accuracy: 80.23%\n",
            "Recall: 28.26%\n",
            "F1-Score 38.74%\n"
          ]
        }
      ]
    }
  ]
}